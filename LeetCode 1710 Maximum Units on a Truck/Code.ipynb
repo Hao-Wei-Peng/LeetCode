{
  "nbformat": 4,
  "nbformat_minor": 0,
  "metadata": {
    "colab": {
      "provenance": [],
      "collapsed_sections": []
    },
    "kernelspec": {
      "name": "python3",
      "display_name": "Python 3"
    },
    "language_info": {
      "name": "python"
    }
  },
  "cells": [
    {
      "cell_type": "code",
      "execution_count": null,
      "metadata": {
        "id": "mMOA-ZhSJFOB"
      },
      "outputs": [],
      "source": [
        "class Solution:\n",
        "    def maximumUnits(self, boxTypes: List[List[int]], truckSize: int) -> int:\n",
        "\n",
        "        BoxType = sorted(boxTypes, key = lambda x : x[1], reverse = True)\n",
        "        max_units = 0\n",
        "\n",
        "        for box in BoxType:\n",
        "            if truckSize > box[0]:\n",
        "                max_units = max_units + box[0] * box[1]\n",
        "                truckSize = truckSize - box[0]\n",
        "            \n",
        "            else:\n",
        "                max_units = max_units + truckSize * box[1]\n",
        "                break\n",
        "        \n",
        "        return max_units\n",
        "\n",
        "\n",
        "\n",
        "# result = Solution()\n",
        "# boxTypes = [[1,3],[2,2],[3,1]]\n",
        "# truckSize = 4\n",
        "# ans = result.maximumUnits(boxTypes, truckSize)\n",
        "# print(ans)"
      ]
    }
  ]
}