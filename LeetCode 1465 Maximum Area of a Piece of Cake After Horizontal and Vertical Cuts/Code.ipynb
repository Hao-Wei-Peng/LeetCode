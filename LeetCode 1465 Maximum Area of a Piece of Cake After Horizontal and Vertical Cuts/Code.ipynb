{
  "nbformat": 4,
  "nbformat_minor": 0,
  "metadata": {
    "colab": {
      "provenance": []
    },
    "kernelspec": {
      "name": "python3",
      "display_name": "Python 3"
    },
    "language_info": {
      "name": "python"
    }
  },
  "cells": [
    {
      "cell_type": "code",
      "execution_count": null,
      "metadata": {
        "id": "mMOA-ZhSJFOB"
      },
      "outputs": [],
      "source": [
        "class Solution:\n",
        "    def maxArea(self, h: int, w: int, horizontalCuts: List[int], verticalCuts: List[int]) -> int:\n",
        "\n",
        "        # Time Complexity will be O(nlogn)\n",
        "        # Space Complexity will be O(n)\n",
        "        # use Greedy conception to deal with this problem\n",
        "        Horizontal = [0] + sorted(horizontalCuts) + [h]\n",
        "        Vertical = [0] + sorted(verticalCuts) + [w]\n",
        "        modulo = 10**9 + 7\n",
        "        Max_H, Max_V = 0, 0\n",
        "\n",
        "        for i in range(1, len(Horizontal)):\n",
        "            Max_H = max(Max_H, Horizontal[i] - Horizontal[i - 1])\n",
        "        \n",
        "        for i in range(1, len(Vertical)):\n",
        "            Max_V = max(Max_V, Vertical[i] - Vertical[i - 1])\n",
        "        \n",
        "        return (Max_H * Max_V) % modulo"
      ]
    }
  ]
}