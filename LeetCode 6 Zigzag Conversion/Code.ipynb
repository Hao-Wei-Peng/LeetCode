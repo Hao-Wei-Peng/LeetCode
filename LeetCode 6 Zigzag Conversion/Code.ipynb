{
  "nbformat": 4,
  "nbformat_minor": 0,
  "metadata": {
    "colab": {
      "provenance": []
    },
    "kernelspec": {
      "name": "python3",
      "display_name": "Python 3"
    },
    "language_info": {
      "name": "python"
    }
  },
  "cells": [
    {
      "cell_type": "code",
      "execution_count": null,
      "metadata": {
        "id": "mMOA-ZhSJFOB"
      },
      "outputs": [],
      "source": [
        "class Solution:\n",
        "    def convert(self, s: str, numRows: int) -> str:\n",
        "\n",
        "        # base case\n",
        "        if numRows < 2:\n",
        "            return s\n",
        "        \n",
        "        # Time Complexity will be O(n)\n",
        "        # Space Complexity will be O(n)\n",
        "        curRow = [\"\" for _ in range(0, numRows)]\n",
        "        ptr, Flag = 0, -1 # use flag to control elbow point\n",
        "\n",
        "        for char in s:\n",
        "            curRow[ptr] += char # current row\n",
        "            \n",
        "            # elbow point\n",
        "            if ptr == 0 or ptr == numRows - 1:\n",
        "                Flag = -Flag\n",
        "\n",
        "            ptr += Flag \n",
        "        \n",
        "        return \"\".join(curRow)"
      ]
    }
  ]
}