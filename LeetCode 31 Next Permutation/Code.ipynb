{
  "nbformat": 4,
  "nbformat_minor": 0,
  "metadata": {
    "colab": {
      "provenance": []
    },
    "kernelspec": {
      "name": "python3",
      "display_name": "Python 3"
    },
    "language_info": {
      "name": "python"
    }
  },
  "cells": [
    {
      "cell_type": "code",
      "execution_count": null,
      "metadata": {
        "id": "mMOA-ZhSJFOB"
      },
      "outputs": [],
      "source": [
        "class Solution:\n",
        "    def nextPermutation(self, nums: List[int]) -> None:\n",
        "        \"\"\"\n",
        "        Do not return anything, modify nums in-place instead.\n",
        "        \"\"\"\n",
        "\n",
        "        # 1234 | 875\n",
        "        # 1235 | 874\n",
        "        # 1235 | 478\n",
        "        n = len(nums)\n",
        "        i = n - 1\n",
        "\n",
        "        # i = 4, nums[i] = 8\n",
        "        while i - 1 >= 0 and nums[i - 1] >= nums[i]:\n",
        "            i -= 1\n",
        "        \n",
        "        # i - 1 will be a position that we want to change\n",
        "        # decrease order\n",
        "        if i == 0: \n",
        "            nums.reverse()\n",
        "\n",
        "        else:\n",
        "            j = i \n",
        "\n",
        "            while j < n and nums[i - 1] < nums[j]:\n",
        "                j += 1\n",
        "            \n",
        "            j -= 1\n",
        "\n",
        "            nums[i - 1], nums[j] = nums[j], nums[i - 1]\n",
        "            nums[i : ] = reversed(nums[i : ])"
      ]
    }
  ]
}