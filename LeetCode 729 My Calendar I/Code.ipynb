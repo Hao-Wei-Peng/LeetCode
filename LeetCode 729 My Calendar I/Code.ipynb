{
  "nbformat": 4,
  "nbformat_minor": 0,
  "metadata": {
    "colab": {
      "provenance": [],
      "collapsed_sections": []
    },
    "kernelspec": {
      "name": "python3",
      "display_name": "Python 3"
    },
    "language_info": {
      "name": "python"
    }
  },
  "cells": [
    {
      "cell_type": "code",
      "execution_count": null,
      "metadata": {
        "id": "mMOA-ZhSJFOB"
      },
      "outputs": [],
      "source": [
        "class MyCalendar:\n",
        "\n",
        "    def __init__(self):\n",
        "        self.Order = []\n",
        "\n",
        "    def book(self, start: int, end: int) -> bool:\n",
        "        \n",
        "        # we can use binary search to deal with this problem\n",
        "        # List should follow order\n",
        "        # Time Complexity will be O(nlogn)\n",
        "        LenO = len(self.Order)\n",
        "        L, R = 0, LenO - 1\n",
        "\n",
        "        while L <= R:\n",
        "            M = L + (R - L) // 2\n",
        "            s, e = self.Order[M]\n",
        "\n",
        "            if end <= s:\n",
        "                R = M - 1\n",
        "            \n",
        "            elif start >= e:\n",
        "                L = M + 1\n",
        "            \n",
        "            elif s < end and e > start:\n",
        "                return False\n",
        "        \n",
        "        self.Order.insert(L, (start, end))\n",
        "        return True\n",
        "\n",
        "\n",
        "# Your MyCalendar object will be instantiated and called as such:\n",
        "# obj = MyCalendar()\n",
        "# param_1 = obj.book(start,end)"
      ]
    }
  ]
}