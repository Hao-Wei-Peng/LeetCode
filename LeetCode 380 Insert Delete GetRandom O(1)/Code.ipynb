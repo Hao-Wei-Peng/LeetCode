{
  "nbformat": 4,
  "nbformat_minor": 0,
  "metadata": {
    "colab": {
      "provenance": []
    },
    "kernelspec": {
      "name": "python3",
      "display_name": "Python 3"
    },
    "language_info": {
      "name": "python"
    }
  },
  "cells": [
    {
      "cell_type": "code",
      "execution_count": null,
      "metadata": {
        "id": "mMOA-ZhSJFOB"
      },
      "outputs": [],
      "source": [
        "class RandomizedSet:\n",
        "\n",
        "    def __init__(self):\n",
        "        self.IdxMap = {}\n",
        "        self.nums = []\n",
        "\n",
        "    def insert(self, val: int) -> bool:\n",
        "\n",
        "        # if the item was not present: True\n",
        "        if val not in self.IdxMap:\n",
        "            self.nums.append(val)\n",
        "            self.IdxMap[val] = len(self.nums) - 1\n",
        "            return True\n",
        "        return False\n",
        "\n",
        "    def remove(self, val: int) -> bool:\n",
        "\n",
        "        # if the item was present: True\n",
        "        if val in self.IdxMap:\n",
        "            \n",
        "            # Map: [1, 0], [2, 1]\n",
        "            # nums: [1, 2]\n",
        "            # target: \n",
        "            # Map: [2, 0]\n",
        "            # nums: [2]\n",
        "\n",
        "            # Time Complexity will be O(1)\n",
        "            idx = self.IdxMap[val]\n",
        "            lastElement = self.nums[-1]\n",
        "            self.IdxMap[lastElement], self.nums[idx] = idx, lastElement\n",
        "            self.nums.pop(-1)\n",
        "            del self.IdxMap[val]\n",
        "            return True\n",
        "\n",
        "        return False\n",
        "\n",
        "    def getRandom(self) -> int:\n",
        "\n",
        "        return random.choice(self.nums)\n",
        "\n",
        "# Your RandomizedSet object will be instantiated and called as such:\n",
        "# obj = RandomizedSet()\n",
        "# param_1 = obj.insert(val)\n",
        "# param_2 = obj.remove(val)\n",
        "# param_3 = obj.getRandom()"
      ]
    }
  ]
}