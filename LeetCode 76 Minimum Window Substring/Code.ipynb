{
  "nbformat": 4,
  "nbformat_minor": 0,
  "metadata": {
    "colab": {
      "provenance": [],
      "collapsed_sections": []
    },
    "kernelspec": {
      "name": "python3",
      "display_name": "Python 3"
    },
    "language_info": {
      "name": "python"
    }
  },
  "cells": [
    {
      "cell_type": "code",
      "execution_count": null,
      "metadata": {
        "id": "mMOA-ZhSJFOB"
      },
      "outputs": [],
      "source": [
        "class Solution:\n",
        "    def minWindow(self, s: str, t: str) -> str:\n",
        "\n",
        "        m, n = len(s), len(t)\n",
        "\n",
        "        # base case\n",
        "        if m < n:\n",
        "            return \"\"\n",
        "        \n",
        "        count = collections.defaultdict(int)\n",
        "        need = n\n",
        "\n",
        "        for char in t:\n",
        "            count[char] += 1\n",
        "\n",
        "        start, end = 0, -1\n",
        "        MinLen = float(\"inf\")\n",
        "        left, right = 0, 0\n",
        "\n",
        "        for right in range(0, m):\n",
        "\n",
        "            cur_ch = s[right]\n",
        "\n",
        "            # move right pointer\n",
        "            if cur_ch in count:\n",
        "                if count[cur_ch] > 0:\n",
        "                    need -= 1\n",
        "                count[cur_ch] -= 1\n",
        "            \n",
        "            # achieve conditions, move left pointer\n",
        "            while need == 0:\n",
        "                \n",
        "                if right - left + 1 < MinLen:\n",
        "                    MinLen = right - left + 1\n",
        "                    start, end = left, right\n",
        "                \n",
        "                pre_ch = s[left]\n",
        "\n",
        "                if pre_ch in count:\n",
        "                    if count[pre_ch] == 0:\n",
        "                        need += 1\n",
        "                    count[pre_ch] += 1\n",
        "                \n",
        "                left = left + 1\n",
        "            \n",
        "        return s[start : end + 1]"
      ]
    }
  ]
}