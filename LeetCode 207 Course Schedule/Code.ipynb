{
  "nbformat": 4,
  "nbformat_minor": 0,
  "metadata": {
    "colab": {
      "provenance": [],
      "collapsed_sections": []
    },
    "kernelspec": {
      "name": "python3",
      "display_name": "Python 3"
    },
    "language_info": {
      "name": "python"
    }
  },
  "cells": [
    {
      "cell_type": "code",
      "execution_count": null,
      "metadata": {
        "id": "mMOA-ZhSJFOB"
      },
      "outputs": [],
      "source": [
        "class Solution:\n",
        "    def canFinish(self, numCourses: int, prerequisites: List[List[int]]) -> bool:\n",
        "\n",
        "        # we can use bfs method to deal with this problem\n",
        "        # prerequisites[i] = [ai, bi], if we must take course bi first if we want to take course ai\n",
        "        CourseList = collections.defaultdict(list)\n",
        "        # if current course do not have pre-course, indegree == 0\n",
        "        InDegree = [0] * numCourses\n",
        "\n",
        "        for course, pre in prerequisites:\n",
        "            CourseList[pre].append(course)\n",
        "            InDegree[course] += 1\n",
        "        \n",
        "        # initialization, only append course which not have prerequisite course\n",
        "        queue = collections.deque([d for d in range(numCourses) if InDegree[d] == 0])\n",
        "        visited = 0\n",
        "\n",
        "        while queue:\n",
        "            \n",
        "            cur_course = queue.popleft()\n",
        "            visited += 1\n",
        "\n",
        "            for next_course in CourseList[cur_course]:\n",
        "                InDegree[next_course] -= 1\n",
        "\n",
        "                if InDegree[next_course] == 0:\n",
        "                    queue.append(next_course)\n",
        "\n",
        "        return numCourses == visited "
      ]
    }
  ]
}