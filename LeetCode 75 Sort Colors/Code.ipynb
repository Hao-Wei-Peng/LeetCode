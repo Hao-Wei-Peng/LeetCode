{
  "nbformat": 4,
  "nbformat_minor": 0,
  "metadata": {
    "colab": {
      "provenance": []
    },
    "kernelspec": {
      "name": "python3",
      "display_name": "Python 3"
    },
    "language_info": {
      "name": "python"
    }
  },
  "cells": [
    {
      "cell_type": "code",
      "execution_count": null,
      "metadata": {
        "id": "mMOA-ZhSJFOB"
      },
      "outputs": [],
      "source": [
        "class Solution:\n",
        "    def sortColors(self, nums: List[int]) -> None:\n",
        "        \"\"\"\n",
        "        Do not return anything, modify nums in-place instead.\n",
        "        \"\"\"\n",
        "\n",
        "        n = len(nums)\n",
        "        p0, p2 = 0, n - 1\n",
        "        ptr = 0\n",
        "\n",
        "        # Time Complexity will be O(n)\n",
        "        # Space Complexity will be O(1)\n",
        "        while ptr <= p2:\n",
        "            while ptr <= p2 and nums[ptr] == 2:\n",
        "                nums[ptr], nums[p2] = nums[p2], nums[ptr]\n",
        "                p2 -= 1\n",
        "            \n",
        "            if nums[ptr] == 0:\n",
        "                nums[ptr], nums[p0] = nums[p0], nums[ptr]\n",
        "                p0 += 1\n",
        "            \n",
        "            ptr += 1"
      ]
    }
  ]
}