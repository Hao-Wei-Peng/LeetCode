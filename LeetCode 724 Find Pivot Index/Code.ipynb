{
  "nbformat": 4,
  "nbformat_minor": 0,
  "metadata": {
    "colab": {
      "provenance": []
    },
    "kernelspec": {
      "name": "python3",
      "display_name": "Python 3"
    },
    "language_info": {
      "name": "python"
    }
  },
  "cells": [
    {
      "cell_type": "code",
      "execution_count": null,
      "metadata": {
        "id": "mMOA-ZhSJFOB"
      },
      "outputs": [],
      "source": [
        "class Solution:\n",
        "    def pivotIndex(self, nums: List[int]) -> int:\n",
        "\n",
        "        # base case\n",
        "        if not nums:\n",
        "            return -1\n",
        "        \n",
        "        n = len(nums)\n",
        "        total = sum(nums) # 28\n",
        "        Left = 0\n",
        "\n",
        "        for idx in range(0, n):\n",
        "            curnum = nums[idx]\n",
        "\n",
        "            # Left: current, Right: total - Left - curnum\n",
        "            if Left == total - Left - curnum:\n",
        "                return idx\n",
        "\n",
        "            Left += curnum\n",
        "\n",
        "        return -1"
      ]
    }
  ]
}