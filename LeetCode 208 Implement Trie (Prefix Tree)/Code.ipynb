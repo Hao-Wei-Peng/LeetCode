{
  "nbformat": 4,
  "nbformat_minor": 0,
  "metadata": {
    "colab": {
      "provenance": [],
      "collapsed_sections": []
    },
    "kernelspec": {
      "name": "python3",
      "display_name": "Python 3"
    },
    "language_info": {
      "name": "python"
    }
  },
  "cells": [
    {
      "cell_type": "code",
      "execution_count": null,
      "metadata": {
        "id": "mMOA-ZhSJFOB"
      },
      "outputs": [],
      "source": [
        "class TrieNode:\n",
        "    def __init__(self):\n",
        "        self.children = {}\n",
        "        self.endOfWord = False\n",
        "\n",
        "class Trie:\n",
        "\n",
        "    def __init__(self):\n",
        "        self.root = TrieNode()\n",
        "\n",
        "    def insert(self, word: str) -> None:\n",
        "\n",
        "        cur = self.root\n",
        "\n",
        "        for c in word:\n",
        "            if c not in cur.children:\n",
        "                cur.children[c] = TrieNode()\n",
        "            \n",
        "            cur = cur.children[c]\n",
        "        \n",
        "        # last character\n",
        "        cur.endOfWord = True\n",
        "\n",
        "    def search(self, word: str) -> bool:\n",
        "\n",
        "        cur = self.root\n",
        "\n",
        "        for c in word:\n",
        "            if c not in cur.children:\n",
        "                return False\n",
        "\n",
        "            cur = cur.children[c]\n",
        "        \n",
        "        return cur.endOfWord\n",
        "\n",
        "\n",
        "    def startsWith(self, prefix: str) -> bool:\n",
        "\n",
        "        cur = self.root\n",
        "\n",
        "        for c in prefix:\n",
        "            if c not in cur.children:\n",
        "                return False\n",
        "            \n",
        "            cur = cur.children[c]\n",
        "        \n",
        "        return True\n",
        "\n",
        "\n",
        "# Your Trie object will be instantiated and called as such:\n",
        "# obj = Trie()\n",
        "# obj.insert(word)\n",
        "# param_2 = obj.search(word)\n",
        "# param_3 = obj.startsWith(prefix)"
      ]
    }
  ]
}