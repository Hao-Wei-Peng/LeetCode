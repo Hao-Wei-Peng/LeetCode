{
  "nbformat": 4,
  "nbformat_minor": 0,
  "metadata": {
    "colab": {
      "provenance": []
    },
    "kernelspec": {
      "name": "python3",
      "display_name": "Python 3"
    },
    "language_info": {
      "name": "python"
    }
  },
  "cells": [
    {
      "cell_type": "code",
      "execution_count": null,
      "metadata": {
        "id": "mMOA-ZhSJFOB"
      },
      "outputs": [],
      "source": [
        "# Definition for a binary tree node.\n",
        "# class TreeNode:\n",
        "#     def __init__(self, val=0, left=None, right=None):\n",
        "#         self.val = val\n",
        "#         self.left = left\n",
        "#         self.right = right\n",
        "class Solution:\n",
        "    def isUnivalTree(self, root: Optional[TreeNode]) -> bool:\n",
        "\n",
        "        # base case\n",
        "        if not root:\n",
        "            return True\n",
        "        \n",
        "        Queue = collections.deque([root])\n",
        "        # initialization\n",
        "        univalued = root.val\n",
        "\n",
        "        # Time Complexity will be O(n)\n",
        "        # Space Complexity will be O(n)\n",
        "        while Queue:\n",
        "            node = Queue.popleft()\n",
        "\n",
        "            if node.val != univalued:\n",
        "                return False\n",
        "            \n",
        "            univalued = node.val\n",
        "\n",
        "            if node.left:\n",
        "                Queue.append(node.left)\n",
        "            \n",
        "            if node.right:\n",
        "                Queue.append(node.right)\n",
        "\n",
        "        return True"
      ]
    }
  ]
}