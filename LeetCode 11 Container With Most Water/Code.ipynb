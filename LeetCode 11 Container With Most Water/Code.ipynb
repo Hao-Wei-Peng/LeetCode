{
  "nbformat": 4,
  "nbformat_minor": 0,
  "metadata": {
    "colab": {
      "provenance": [],
      "collapsed_sections": []
    },
    "kernelspec": {
      "name": "python3",
      "display_name": "Python 3"
    },
    "language_info": {
      "name": "python"
    }
  },
  "cells": [
    {
      "cell_type": "code",
      "execution_count": null,
      "metadata": {
        "id": "hFD3gFKqbvee"
      },
      "outputs": [],
      "source": [
        "class Solution:\n",
        "    def maxArea(self, height: List[int]) -> int:\n",
        "\n",
        "        size = len(height)\n",
        "        ans = 0\n",
        "        # we can use two pointers to deal with this problem\n",
        "        # Time Complexity will be O(n)\n",
        "        # Space Complexity will be O(1)\n",
        "        left, right = 0, size - 1\n",
        "\n",
        "        while left < right:\n",
        "\n",
        "            if height[left] <= height[right]:\n",
        "                HIGH = height[left]\n",
        "                area = (right - left) * HIGH\n",
        "                left = left + 1\n",
        "            \n",
        "            else:\n",
        "                HIGH = height[right]\n",
        "                area = (right - left) * HIGH\n",
        "                right = right - 1\n",
        "\n",
        "            ans = max(ans, area)\n",
        "\n",
        "        return ans"
      ]
    }
  ]
}