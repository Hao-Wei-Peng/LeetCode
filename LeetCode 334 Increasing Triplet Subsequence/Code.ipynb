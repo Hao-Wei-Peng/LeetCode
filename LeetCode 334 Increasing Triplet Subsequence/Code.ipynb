{
  "nbformat": 4,
  "nbformat_minor": 0,
  "metadata": {
    "colab": {
      "provenance": [],
      "collapsed_sections": []
    },
    "kernelspec": {
      "name": "python3",
      "display_name": "Python 3"
    },
    "language_info": {
      "name": "python"
    }
  },
  "cells": [
    {
      "cell_type": "code",
      "execution_count": null,
      "metadata": {
        "id": "hFD3gFKqbvee"
      },
      "outputs": [],
      "source": [
        "class Solution:\n",
        "    def increasingTriplet(self, nums: List[int]) -> bool:\n",
        "\n",
        "        # we can use dynamic programming to deal with this problem\n",
        "        # dp[i] = length of increasing subsequence at position i\n",
        "        n = len(nums)\n",
        "\n",
        "        # edge case\n",
        "        if n < 3:\n",
        "            return False\n",
        "\n",
        "        # Time Complexity will be O(n)\n",
        "        # Space Complexity will be O(n)\n",
        "\n",
        "        LeftMin = [0] * n\n",
        "        LeftMin[0] = nums[0]\n",
        "\n",
        "        # find minimum value in nums array\n",
        "        for i in range(1, n):\n",
        "            LeftMin[i] = min(LeftMin[i - 1], nums[i])\n",
        "\n",
        "        RightMax = [0] * n\n",
        "        RightMax[n - 1] = nums[n - 1]\n",
        "\n",
        "        # find maximum value in nums array\n",
        "        for i in range(n - 2, -1, -1):\n",
        "            RightMax[i] = max(RightMax[i + 1], nums[i])\n",
        "        \n",
        "        \n",
        "        # check results\n",
        "        for i in range(1, n - 1):\n",
        "            if LeftMin[i - 1] < nums[i] < RightMax[i + 1]:\n",
        "                return True\n",
        "        \n",
        "        return False"
      ]
    }
  ]
}