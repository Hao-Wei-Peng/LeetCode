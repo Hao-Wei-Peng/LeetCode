{
  "nbformat": 4,
  "nbformat_minor": 0,
  "metadata": {
    "colab": {
      "provenance": [],
      "collapsed_sections": []
    },
    "kernelspec": {
      "name": "python3",
      "display_name": "Python 3"
    },
    "language_info": {
      "name": "python"
    }
  },
  "cells": [
    {
      "cell_type": "code",
      "execution_count": null,
      "metadata": {
        "id": "mMOA-ZhSJFOB"
      },
      "outputs": [],
      "source": [
        "class Solution:\n",
        "    def subarraySum(self, nums: List[int], k: int) -> int:\n",
        "\n",
        "        n = len(nums)\n",
        "\n",
        "        # we can use prefix to deal with this problem\n",
        "        prefixSums = 0\n",
        "\n",
        "        # prefix = 0, count = 1\n",
        "        mp = collections.defaultdict(int)\n",
        "        mp[0] = 1\n",
        "        count = 0\n",
        "\n",
        "        # Time Complexity will be O(n)\n",
        "        # Space Complexity will be O(n)\n",
        "\n",
        "        for i in range(0, n):\n",
        "            prefixSums = prefixSums + nums[i]\n",
        "\n",
        "            if prefixSums - k in mp:\n",
        "                count = count + mp[prefixSums - k]\n",
        "\n",
        "            mp[prefixSums] = mp[prefixSums] + 1\n",
        "        \n",
        "        return count"
      ]
    }
  ]
}