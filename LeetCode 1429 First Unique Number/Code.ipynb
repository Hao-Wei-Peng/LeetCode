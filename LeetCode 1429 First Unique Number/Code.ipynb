{
  "nbformat": 4,
  "nbformat_minor": 0,
  "metadata": {
    "colab": {
      "provenance": []
    },
    "kernelspec": {
      "name": "python3",
      "display_name": "Python 3"
    },
    "language_info": {
      "name": "python"
    }
  },
  "cells": [
    {
      "cell_type": "code",
      "execution_count": null,
      "metadata": {
        "id": "mMOA-ZhSJFOB"
      },
      "outputs": [],
      "source": [
        "class FirstUnique:\n",
        "\n",
        "    def __init__(self, nums: List[int]):\n",
        "        self.count = collections.Counter(nums)\n",
        "        self.current = 0 # record current idx\n",
        "        self.nums = nums\n",
        "\n",
        "    def showFirstUnique(self) -> int:\n",
        "\n",
        "        # iterate each position\n",
        "        while self.current < len(self.nums):\n",
        "            if self.count[self.nums[self.current]] == 1:\n",
        "                return self.nums[self.current]\n",
        "            \n",
        "            self.current += 1 # find next possible position\n",
        "        \n",
        "        return -1\n",
        "\n",
        "    def add(self, value: int) -> None:\n",
        "\n",
        "        self.nums.append(value)\n",
        "\n",
        "        # if value not in nums, create a new key\n",
        "        if value not in self.count:\n",
        "            self.count[value] = 1\n",
        "        \n",
        "        else:\n",
        "            self.count[value] += 1\n",
        "\n",
        "\n",
        "# Your FirstUnique object will be instantiated and called as such:\n",
        "# obj = FirstUnique(nums)\n",
        "# param_1 = obj.showFirstUnique()\n",
        "# obj.add(value)"
      ]
    }
  ]
}