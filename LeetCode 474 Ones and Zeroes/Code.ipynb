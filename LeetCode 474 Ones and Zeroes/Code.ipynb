{
  "nbformat": 4,
  "nbformat_minor": 0,
  "metadata": {
    "colab": {
      "name": "Code.ipynb",
      "provenance": [],
      "collapsed_sections": []
    },
    "kernelspec": {
      "name": "python3",
      "display_name": "Python 3"
    },
    "language_info": {
      "name": "python"
    }
  },
  "cells": [
    {
      "cell_type": "code",
      "execution_count": null,
      "metadata": {
        "id": "hFD3gFKqbvee"
      },
      "outputs": [],
      "source": [
        "class Solution:\n",
        "    def findMaxForm(self, strs: List[str], m: int, n: int) -> int:\n",
        "        \n",
        "        # each element -> select or not select\n",
        "        LenS = len(strs)\n",
        "\n",
        "        # dp[i][j] -> at most i zeros, j ones combination\n",
        "        # Time Complexity will be O(m * n * Len(S))\n",
        "        # Space Complexity will be O(m * n)\n",
        "        dp = [[0] * (n + 1) for _ in range(0, m + 1)]\n",
        "        \n",
        "        for idx in range(0, LenS):\n",
        "            zeros = strs[idx].count(\"0\")\n",
        "            ones = strs[idx].count(\"1\")\n",
        "\n",
        "            # iterate m (0)\n",
        "            for i in range(m, zeros - 1, -1):\n",
        "                # iterate n (1)\n",
        "                for j in range(n, ones - 1, -1):\n",
        "                    # if current strs[idx] = \"0001\", 3 zeros, 1 ones\n",
        "                    # dp[5][3] = max(dp[5][3], dp[5 - 3][3 - 1] + 1)\n",
        "                    # we only can start from dp[2][2] to achieve dp[5][3]\n",
        "                    dp[i][j] = max(dp[i][j], dp[i - zeros][j - ones] + 1)\n",
        "\n",
        "        return dp[m][n]\n"
      ]
    }
  ]
}