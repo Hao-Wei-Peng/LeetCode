{
  "nbformat": 4,
  "nbformat_minor": 0,
  "metadata": {
    "colab": {
      "provenance": [],
      "collapsed_sections": []
    },
    "kernelspec": {
      "name": "python3",
      "display_name": "Python 3"
    },
    "language_info": {
      "name": "python"
    }
  },
  "cells": [
    {
      "cell_type": "code",
      "execution_count": null,
      "metadata": {
        "id": "mMOA-ZhSJFOB"
      },
      "outputs": [],
      "source": [
        "class Solution:\n",
        "    \n",
        "    def extraOneGain(self, p, t):\n",
        "        numerator = t - p\n",
        "        denominator = t * (t + 1)\n",
        "        return numerator / denominator\n",
        "    \n",
        "    def maxAverageRatio(self, classes: List[List[int]], extraStudents: int) -> float:\n",
        "        \n",
        "        # base case\n",
        "        if not classes:\n",
        "            return 0\n",
        "\n",
        "        # suppose we have t (total) students in class i\n",
        "        # we have p students can pass the exam -> pass ratio = p / t\n",
        "        # if we add an extra student at each time -> p + 1 / t + 1\n",
        "        # Gains (improve significant) -> (t - p) / [t * (t + 1)]\n",
        "        n = len(classes)\n",
        "        Gains = []\n",
        "\n",
        "        # Time Complexity will be O(nlogn)\n",
        "        # we use heap to sort the largest improvment of each class (maxheap)\n",
        "        for p, t in classes:\n",
        "            improve = self.extraOneGain(p, t)\n",
        "            heapq.heappush(Gains, [(-improve), p, t])\n",
        "\n",
        "        while extraStudents > 0:\n",
        "            _, p, t = heapq.heappop(Gains)\n",
        "            improve = self.extraOneGain(p + 1, t + 1)\n",
        "            heapq.heappush(Gains, [(-improve), p + 1, t + 1])\n",
        "            extraStudents -= 1\n",
        "        \n",
        "        pass_ratios = 0\n",
        "\n",
        "        for _, p, t in Gains:\n",
        "            each_ratio = (p / t)\n",
        "            pass_ratios += each_ratio\n",
        "        \n",
        "        return pass_ratios / n"
      ]
    }
  ]
}