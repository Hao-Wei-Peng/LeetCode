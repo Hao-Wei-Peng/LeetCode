{
  "nbformat": 4,
  "nbformat_minor": 0,
  "metadata": {
    "colab": {
      "name": "Code.ipynb",
      "provenance": [],
      "collapsed_sections": []
    },
    "kernelspec": {
      "name": "python3",
      "display_name": "Python 3"
    },
    "language_info": {
      "name": "python"
    }
  },
  "cells": [
    {
      "cell_type": "code",
      "execution_count": null,
      "metadata": {
        "id": "hFD3gFKqbvee"
      },
      "outputs": [],
      "source": [
        "class Solution:\n",
        "    def generateMatrix(self, n: int) -> List[List[int]]:\n",
        "        \n",
        "        # when we deal with this problem, we need to focus on regions that we define (rule)\n",
        "        matrix = [[0] * n for _ in range(0, n)]\n",
        "        Rows, Cols = len(matrix), len(matrix[0])\n",
        "\n",
        "        # we can use unbounded interval to classify problem into each sub-problem\n",
        "        x_pos, y_pos = 0, 0\n",
        "        # use loop variable to calculate how many spiral that we need to do\n",
        "        loop = n // 2\n",
        "        num = 1\n",
        "\n",
        "        # if n is odd, we need to fill middle point\n",
        "        mid = n // 2\n",
        "\n",
        "        for offset in range(1, loop + 1):\n",
        "            # 1. from left to right\n",
        "            for i in range(y_pos, n - offset):\n",
        "                matrix[x_pos][i] = num\n",
        "                num = num + 1\n",
        "\n",
        "            # 2. from top to bottom\n",
        "            for i in range(x_pos, n - offset):\n",
        "                matrix[i][n - offset] = num\n",
        "                num = num + 1\n",
        "\n",
        "            # 3. from right to left\n",
        "            for i in range(n - offset, y_pos, -1):\n",
        "                matrix[n - offset][i] = num\n",
        "                num = num + 1\n",
        "\n",
        "            # 4. from bottom to top\n",
        "            for i in range(n - offset, x_pos, -1):\n",
        "                matrix[i][y_pos] = num\n",
        "                num = num + 1\n",
        "\n",
        "            x_pos = x_pos + 1\n",
        "            y_pos = y_pos + 1\n",
        "        \n",
        "        if n % 2 == 1:\n",
        "            matrix[mid][mid] = num\n",
        "\n",
        "        return matrix\n",
        "\n"
      ]
    }
  ]
}