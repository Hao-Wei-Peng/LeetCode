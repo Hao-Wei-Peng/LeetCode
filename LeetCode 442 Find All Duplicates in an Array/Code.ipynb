{
  "nbformat": 4,
  "nbformat_minor": 0,
  "metadata": {
    "colab": {
      "provenance": [],
      "collapsed_sections": []
    },
    "kernelspec": {
      "name": "python3",
      "display_name": "Python 3"
    },
    "language_info": {
      "name": "python"
    }
  },
  "cells": [
    {
      "cell_type": "code",
      "execution_count": null,
      "metadata": {
        "id": "mMOA-ZhSJFOB"
      },
      "outputs": [],
      "source": [
        "class Solution:\n",
        "    def findDuplicates(self, nums: List[int]) -> List[int]:\n",
        "\n",
        "        # base case\n",
        "        if not nums:\n",
        "            return nums\n",
        "        \n",
        "        ans = []\n",
        "\n",
        "        # Time Complexity will be O(n)\n",
        "        # Space Complexity will be O(1)\n",
        "        # Key Point: use sign\n",
        "        n = len(nums)\n",
        "\n",
        "        for num in nums:\n",
        "            num = abs(num)\n",
        "\n",
        "            if nums[num - 1] > 0:\n",
        "                nums[num - 1] = -nums[num - 1]\n",
        "            else:\n",
        "                ans.append(num)\n",
        "        \n",
        "        return ans\n"
      ]
    }
  ]
}