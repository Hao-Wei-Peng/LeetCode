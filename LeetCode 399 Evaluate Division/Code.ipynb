{
  "nbformat": 4,
  "nbformat_minor": 0,
  "metadata": {
    "colab": {
      "provenance": []
    },
    "kernelspec": {
      "name": "python3",
      "display_name": "Python 3"
    },
    "language_info": {
      "name": "python"
    }
  },
  "cells": [
    {
      "cell_type": "code",
      "execution_count": null,
      "metadata": {
        "id": "mMOA-ZhSJFOB"
      },
      "outputs": [],
      "source": [
        "class Solution:\n",
        "    def calcEquation(self, equations: List[List[str]], values: List[float], queries: List[List[str]]) -> List[float]:\n",
        "\n",
        "        curnum = 0\n",
        "        CharToNum = {}\n",
        "\n",
        "        # convert character into a number\n",
        "        # a = 0, b = 1, c = 2\n",
        "        for c1, c2 in equations:\n",
        "            if c1 not in CharToNum:\n",
        "                CharToNum[c1] = curnum\n",
        "                curnum += 1\n",
        "            \n",
        "            if c2 not in CharToNum:\n",
        "                CharToNum[c2] = curnum\n",
        "                curnum += 1\n",
        "        \n",
        "        city = len(CharToNum)\n",
        "        Cost = [[float(\"inf\")] * city for _ in range(0, city)]\n",
        "\n",
        "        # initialization\n",
        "        for i in range(0, city): Cost[i][i] = 1\n",
        "\n",
        "        for value, (c1, c2) in zip(values, equations):\n",
        "            i, j = CharToNum[c1], CharToNum[c2]\n",
        "            Cost[i][j] = value\n",
        "            Cost[j][i] = 1 / value\n",
        "        \n",
        "        # Floyd Warshall Algorithm\n",
        "        for k in range(0, city):\n",
        "            for i in range(0, city):\n",
        "                for j in range(0, city):\n",
        "                    if Cost[i][j] == float(\"inf\") and Cost[i][k] * Cost[k][j] != float(\"inf\"):\n",
        "                        Cost[i][j] = Cost[i][k] * Cost[k][j]\n",
        "\n",
        "        \n",
        "        ans = []\n",
        "\n",
        "        for c1, c2 in queries:\n",
        "\n",
        "            if c1 not in CharToNum or c2 not in CharToNum:\n",
        "                ans.append(-1.0)\n",
        "            \n",
        "            else:\n",
        "                i, j = CharToNum[c1], CharToNum[c2]\n",
        "                value = -1.0 if Cost[i][j] == float(\"inf\") else Cost[i][j]\n",
        "                ans.append(value)\n",
        "                \n",
        "        return ans\n"
      ]
    }
  ]
}