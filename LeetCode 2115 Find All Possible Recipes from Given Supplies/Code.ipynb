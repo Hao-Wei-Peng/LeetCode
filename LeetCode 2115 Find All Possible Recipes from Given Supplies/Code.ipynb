{
  "nbformat": 4,
  "nbformat_minor": 0,
  "metadata": {
    "colab": {
      "provenance": []
    },
    "kernelspec": {
      "name": "python3",
      "display_name": "Python 3"
    },
    "language_info": {
      "name": "python"
    }
  },
  "cells": [
    {
      "cell_type": "code",
      "execution_count": null,
      "metadata": {
        "id": "mMOA-ZhSJFOB"
      },
      "outputs": [],
      "source": [
        "class Solution:\n",
        "    def findAllRecipes(self, recipes: List[str], ingredients: List[List[str]], supplies: List[str]) -> List[str]:\n",
        "\n",
        "        n = len(recipes)\n",
        "        Graph = collections.defaultdict(list)\n",
        "        InDegree = collections.defaultdict(int)\n",
        "\n",
        "        # we can use BFS (topological) to deal with this problem\n",
        "        for i in range(0, n):\n",
        "            for ingredient in ingredients[i]:\n",
        "                Graph[ingredient].append(recipes[i])\n",
        "\n",
        "            InDegree[recipes[i]] = len(ingredients[i])\n",
        "        \n",
        "        # add the supplies to the Queue data structure\n",
        "        ans = []\n",
        "        Queue = collections.deque(supplies)\n",
        "\n",
        "        while Queue:\n",
        "            cur_supplie = Queue.popleft()\n",
        "\n",
        "            if cur_supplie in Graph:\n",
        "\n",
        "                for recipe in Graph[cur_supplie]:\n",
        "                    InDegree[recipe] -= 1\n",
        "\n",
        "                    if InDegree[recipe] == 0:\n",
        "                        ans.append(recipe)\n",
        "                        Queue.append(recipe)\n",
        "\n",
        "        return ans\n",
        "        "
      ]
    }
  ]
}