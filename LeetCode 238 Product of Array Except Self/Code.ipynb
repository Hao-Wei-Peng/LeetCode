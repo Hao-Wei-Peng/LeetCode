{
  "nbformat": 4,
  "nbformat_minor": 0,
  "metadata": {
    "colab": {
      "provenance": [],
      "collapsed_sections": []
    },
    "kernelspec": {
      "name": "python3",
      "display_name": "Python 3"
    },
    "language_info": {
      "name": "python"
    }
  },
  "cells": [
    {
      "cell_type": "code",
      "execution_count": null,
      "metadata": {
        "id": "hFD3gFKqbvee"
      },
      "outputs": [],
      "source": [
        "class Solution:\n",
        "    def productExceptSelf(self, nums: List[int]) -> List[int]:\n",
        "\n",
        "        size = len(nums)\n",
        "\n",
        "        # we need to deal with this problem in Time Complexity O(n)\n",
        "        ans = [1] * size\n",
        "\n",
        "        prefix = 1\n",
        "\n",
        "        # [1, 1, 2, 6]\n",
        "        for i in range(0, size):\n",
        "            ans[i] = prefix \n",
        "            prefix = prefix * nums[i]\n",
        "        \n",
        "        postfix = 1\n",
        "\n",
        "        # [24, 12, 8, 6]\n",
        "        for i in range(size - 1, -1, -1):\n",
        "            ans[i] = ans[i] * postfix\n",
        "            postfix = postfix * nums[i]\n",
        "        \n",
        "        return ans\n",
        "       "
      ]
    }
  ]
}