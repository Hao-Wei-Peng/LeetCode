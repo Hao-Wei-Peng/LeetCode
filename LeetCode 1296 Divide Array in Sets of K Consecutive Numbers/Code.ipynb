{
  "nbformat": 4,
  "nbformat_minor": 0,
  "metadata": {
    "colab": {
      "provenance": [],
      "collapsed_sections": []
    },
    "kernelspec": {
      "name": "python3",
      "display_name": "Python 3"
    },
    "language_info": {
      "name": "python"
    }
  },
  "cells": [
    {
      "cell_type": "code",
      "execution_count": null,
      "metadata": {
        "id": "mMOA-ZhSJFOB"
      },
      "outputs": [],
      "source": [
        "class Solution:\n",
        "    def isPossibleDivide(self, nums: List[int], k: int) -> bool:\n",
        "\n",
        "        # base case\n",
        "        if not nums:\n",
        "            return False\n",
        "        \n",
        "        n = len(nums)\n",
        "\n",
        "        if n % k != 0:\n",
        "            return False\n",
        "        \n",
        "        Count = collections.defaultdict(int)\n",
        "\n",
        "        for num in nums:\n",
        "            Count[num] = 1 + Count.get(num, 0)\n",
        "\n",
        "        minHeap = list(Count.keys())\n",
        "        heapq.heapify(minHeap)\n",
        "\n",
        "        while minHeap:\n",
        "            first = minHeap[0]\n",
        "\n",
        "            for i in range(first, first + k):\n",
        "                if i not in Count:\n",
        "                    return False\n",
        "                \n",
        "                Count[i] -= 1\n",
        "\n",
        "                if Count[i] == 0:\n",
        "                    heapq.heappop(minHeap)\n",
        "\n",
        "        return True"
      ]
    }
  ]
}