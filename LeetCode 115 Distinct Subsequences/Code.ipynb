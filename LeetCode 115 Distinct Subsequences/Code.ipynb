{
  "nbformat": 4,
  "nbformat_minor": 0,
  "metadata": {
    "colab": {
      "provenance": [],
      "collapsed_sections": []
    },
    "kernelspec": {
      "name": "python3",
      "display_name": "Python 3"
    },
    "language_info": {
      "name": "python"
    }
  },
  "cells": [
    {
      "cell_type": "code",
      "execution_count": null,
      "metadata": {
        "id": "mMOA-ZhSJFOB"
      },
      "outputs": [],
      "source": [
        "class Solution:\n",
        "    def numDistinct(self, s: str, t: str) -> int:\n",
        "\n",
        "        m = len(s)\n",
        "        n = len(t)\n",
        "\n",
        "        # we can use dp to deal with this problem\n",
        "        # dp[i][j] = maximum distinct subsequences at index i, j\n",
        "        dp = [[0] * (n + 1) for _ in range(0, m + 1)]\n",
        "        \n",
        "        # initialization\n",
        "        for row in range(0, m + 1):\n",
        "            dp[row][0] = 1\n",
        "        \n",
        "        for i in range(1, m + 1):\n",
        "            for j in range(1, n + 1):\n",
        "                if s[i - 1] == t[j - 1]:\n",
        "                    dp[i][j] = dp[i - 1][j - 1] + dp[i - 1][j]\n",
        "                else:\n",
        "                    dp[i][j] = dp[i - 1][j]\n",
        "        \n",
        "        return dp[m][n]"
      ]
    }
  ]
}