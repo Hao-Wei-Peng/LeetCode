{
  "nbformat": 4,
  "nbformat_minor": 0,
  "metadata": {
    "colab": {
      "provenance": []
    },
    "kernelspec": {
      "name": "python3",
      "display_name": "Python 3"
    },
    "language_info": {
      "name": "python"
    }
  },
  "cells": [
    {
      "cell_type": "code",
      "execution_count": null,
      "metadata": {
        "id": "mMOA-ZhSJFOB"
      },
      "outputs": [],
      "source": [
        "class Solution:\n",
        "    def minSwaps(self, s: str) -> int:\n",
        "\n",
        "        # base case\n",
        "        if not s:\n",
        "            return 0\n",
        "        \n",
        "        cnt0, cnt1, v0, v1 = 0, 0, 0, 0\n",
        "\n",
        "        # 010...\n",
        "        # 101...\n",
        "        for idx, char in enumerate(s):\n",
        "            if char == \"0\":\n",
        "                cnt0 += 1\n",
        "            \n",
        "                if idx % 2 == 1:\n",
        "                    v0 += 1\n",
        "            \n",
        "            elif char == \"1\":\n",
        "                cnt1 += 1\n",
        "\n",
        "                if idx % 2 == 1:\n",
        "                    v1 += 1\n",
        "        \n",
        "        if abs(cnt0 - cnt1) > 1:\n",
        "            return -1\n",
        "        \n",
        "        if cnt0 > cnt1:\n",
        "            return v0\n",
        "        \n",
        "        if cnt0 < cnt1:\n",
        "            return v1\n",
        "        \n",
        "        return min(v0, v1)"
      ]
    }
  ]
}