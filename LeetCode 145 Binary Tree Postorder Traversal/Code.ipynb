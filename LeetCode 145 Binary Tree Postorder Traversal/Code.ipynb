{
  "nbformat": 4,
  "nbformat_minor": 0,
  "metadata": {
    "colab": {
      "name": "Code.ipynb",
      "provenance": [],
      "collapsed_sections": []
    },
    "kernelspec": {
      "name": "python3",
      "display_name": "Python 3"
    },
    "language_info": {
      "name": "python"
    }
  },
  "cells": [
    {
      "cell_type": "code",
      "execution_count": null,
      "metadata": {
        "id": "hFD3gFKqbvee"
      },
      "outputs": [],
      "source": [
        "# Definition for a binary tree node.\n",
        "# class TreeNode:\n",
        "#     def __init__(self, val=0, left=None, right=None):\n",
        "#         self.val = val\n",
        "#         self.left = left\n",
        "#         self.right = right\n",
        "class TreeNode:\n",
        "    def __init__(self, val = 0, left = None, right = None):\n",
        "        self.val = val\n",
        "        self.left = left\n",
        "        self.right = right\n",
        "\n",
        "class Solution:\n",
        "    def postorderTraversal(self, root: Optional[TreeNode]) -> List[int]:\n",
        "\n",
        "        ans = []\n",
        "\n",
        "        # Time Complexity will be O(n)\n",
        "        # Space Complexity will be O(n)\n",
        "        def postorder(root):\n",
        "            # todo\n",
        "            if not root:\n",
        "                return root\n",
        "            \n",
        "            # left\n",
        "            postorder(root.left)\n",
        "            # right\n",
        "            postorder(root.right)\n",
        "            # mid\n",
        "            ans.append(root.val)\n",
        "\n",
        "        postorder(root)\n",
        "\n",
        "        return ans"
      ]
    }
  ]
}