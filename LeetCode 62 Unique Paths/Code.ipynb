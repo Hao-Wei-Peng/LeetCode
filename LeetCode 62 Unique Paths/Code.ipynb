{
  "nbformat": 4,
  "nbformat_minor": 0,
  "metadata": {
    "colab": {
      "name": "Code.ipynb",
      "provenance": [],
      "collapsed_sections": []
    },
    "kernelspec": {
      "name": "python3",
      "display_name": "Python 3"
    },
    "language_info": {
      "name": "python"
    }
  },
  "cells": [
    {
      "cell_type": "code",
      "execution_count": null,
      "metadata": {
        "id": "hFD3gFKqbvee"
      },
      "outputs": [],
      "source": [
        "class Solution:\n",
        "    def uniquePaths(self, m: int, n: int) -> int:\n",
        "        \n",
        "        dp = [[0 for _ in range(0, n)] for _ in range(0, m)]\n",
        "        \n",
        "        # initialization\n",
        "        for i in range(0, n):\n",
        "            dp[0][i] = 1\n",
        "        \n",
        "        for i in range(0, m):\n",
        "            dp[i][0] = 1\n",
        "\n",
        "        # Time Complexity will be O(m * n)\n",
        "        # Space Complexity will be O(m * n)\n",
        "\n",
        "        # transition equation -> step will be right or down\n",
        "        # dp[i][j] = dp[i - 1][j] + dp[i][j - 1]\n",
        "\n",
        "        for i in range(1, m):\n",
        "            for j in range(1, n):\n",
        "                dp[i][j] = dp[i - 1][j] + dp[i][j - 1]\n",
        "        \n",
        "        return dp[m - 1][n - 1]\n"
      ]
    }
  ]
}