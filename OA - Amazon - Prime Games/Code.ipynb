{
  "nbformat": 4,
  "nbformat_minor": 0,
  "metadata": {
    "colab": {
      "provenance": [],
      "collapsed_sections": []
    },
    "kernelspec": {
      "name": "python3",
      "display_name": "Python 3"
    },
    "language_info": {
      "name": "python"
    }
  },
  "cells": [
    {
      "cell_type": "code",
      "execution_count": 2,
      "metadata": {
        "id": "mMOA-ZhSJFOB"
      },
      "outputs": [],
      "source": [
        "class Solution:\n",
        "    def findMinHealth(self, power, armour):\n",
        "\n",
        "      # base case\n",
        "      if not power:\n",
        "        return 0\n",
        "      \n",
        "      total = sum(power)\n",
        "      MaxPower = max(power)\n",
        "      n = len(power)\n",
        "      # we can use binary search to deal with this problem\n",
        "      left, right = MaxPower, total \n",
        "\n",
        "      while left <= right:\n",
        "\n",
        "        mid = left + (right - left) // 2\n",
        "\n",
        "        if self.Condition(mid, power, armour):\n",
        "          Health = mid\n",
        "          right = mid - 1\n",
        "        \n",
        "        else:\n",
        "          left = mid + 1\n",
        "\n",
        "      return Health\n",
        "\n",
        "    def Condition(self, health, power, armour):\n",
        "\n",
        "      n = len(power)\n",
        "      ptr = 0\n",
        "      health = health + armour\n",
        "\n",
        "      while ptr < n:\n",
        "        cost = power[ptr]\n",
        "        health -= cost\n",
        "\n",
        "        if health <= 0:\n",
        "          return False\n",
        "\n",
        "        ptr += 1\n",
        "      \n",
        "      return True\n"
      ]
    },
    {
      "cell_type": "code",
      "source": [
        "s = Solution()\n",
        "print(s.findMinHealth([1,2,6,7], 5))\n",
        "print(s.findMinHealth([1,5,2,3,6,8], 7))"
      ],
      "metadata": {
        "colab": {
          "base_uri": "https://localhost:8080/"
        },
        "id": "tLlE7Sqm3OFh",
        "outputId": "e6099cc1-ecbd-4d8e-947d-89f3fc9086e0"
      },
      "execution_count": 3,
      "outputs": [
        {
          "output_type": "stream",
          "name": "stdout",
          "text": [
            "12\n",
            "19\n"
          ]
        }
      ]
    }
  ]
}