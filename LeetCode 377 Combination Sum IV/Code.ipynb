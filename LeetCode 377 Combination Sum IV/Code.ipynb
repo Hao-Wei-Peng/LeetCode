{
  "nbformat": 4,
  "nbformat_minor": 0,
  "metadata": {
    "colab": {
      "name": "Code.ipynb",
      "provenance": [],
      "collapsed_sections": []
    },
    "kernelspec": {
      "name": "python3",
      "display_name": "Python 3"
    },
    "language_info": {
      "name": "python"
    }
  },
  "cells": [
    {
      "cell_type": "code",
      "execution_count": null,
      "metadata": {
        "id": "hFD3gFKqbvee"
      },
      "outputs": [],
      "source": [
        "class Solution:\n",
        "    def combinationSum4(self, nums: List[int], target: int) -> int:\n",
        "\n",
        "        # distinct integers in nums\n",
        "        # we can choose element repeatedly\n",
        "        # permutation problem (search backpack at first)\n",
        "\n",
        "        # Time Complexity will be O(len(nums) * target)\n",
        "        # Space Complexity will be O(target)\n",
        "        # dp[j] = how many combinations at value j \n",
        "        dp = [0] * (target + 1)\n",
        "\n",
        "        # initialization\n",
        "        dp[0] = 1\n",
        "\n",
        "        # iterate 0 ~ j value\n",
        "        for j in range(0, target + 1):\n",
        "            # iterate each element in nums\n",
        "            for num in nums:\n",
        "                if j - num >= 0:\n",
        "                    dp[j] = dp[j] + dp[j - num]\n",
        "        \n",
        "        return dp[target]"
      ]
    }
  ]
}