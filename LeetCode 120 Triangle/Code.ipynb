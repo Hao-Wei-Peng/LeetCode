{
  "nbformat": 4,
  "nbformat_minor": 0,
  "metadata": {
    "colab": {
      "provenance": []
    },
    "kernelspec": {
      "name": "python3",
      "display_name": "Python 3"
    },
    "language_info": {
      "name": "python"
    }
  },
  "cells": [
    {
      "cell_type": "code",
      "execution_count": null,
      "metadata": {
        "id": "mMOA-ZhSJFOB"
      },
      "outputs": [],
      "source": [
        "class Solution:\n",
        "    def minimumTotal(self, triangle: List[List[int]]) -> int:\n",
        "\n",
        "        # base case\n",
        "        if not triangle:\n",
        "            return 0\n",
        "        \n",
        "        rows = len(triangle)\n",
        "        dp = triangle[-1] # [4, 1, 8, 3]\n",
        "\n",
        "        # Time Complexity will be O(n**2)\n",
        "        # Space Complexity will be O(n)\n",
        "        for i in range(rows - 2, -1, -1):\n",
        "            cols = len(triangle[i])\n",
        "            for j in range(0, cols):\n",
        "                dp[j] = min(dp[j], dp[j + 1]) + triangle[i][j]\n",
        "        \n",
        "        return dp[0]\n"
      ]
    }
  ]
}