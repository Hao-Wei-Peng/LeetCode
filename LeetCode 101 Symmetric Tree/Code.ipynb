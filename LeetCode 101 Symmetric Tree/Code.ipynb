{
  "nbformat": 4,
  "nbformat_minor": 0,
  "metadata": {
    "colab": {
      "name": "Code.ipynb",
      "provenance": [],
      "collapsed_sections": []
    },
    "kernelspec": {
      "name": "python3",
      "display_name": "Python 3"
    },
    "language_info": {
      "name": "python"
    }
  },
  "cells": [
    {
      "cell_type": "code",
      "execution_count": null,
      "metadata": {
        "id": "hFD3gFKqbvee"
      },
      "outputs": [],
      "source": [
        "# Definition for a binary tree node.\n",
        "# class TreeNode:\n",
        "#     def __init__(self, val=0, left=None, right=None):\n",
        "#         self.val = val\n",
        "#         self.left = left\n",
        "#         self.right = right\n",
        "class Solution:\n",
        "    def isSymmetric(self, root: Optional[TreeNode]) -> bool:\n",
        "        \n",
        "        # edge case\n",
        "        if not root:\n",
        "            return True\n",
        "        \n",
        "        return self.compare(root.left, root.right)\n",
        "\n",
        "    def compare(self, left, right):\n",
        "        # Time Complexity will be O(n)\n",
        "        # Space Complexity will be O(n)\n",
        "        # n = tree nodes\n",
        "\n",
        "        # 1. only one node\n",
        "        if not left and not right:\n",
        "            return True\n",
        "        \n",
        "        # 2. we do not have left node\n",
        "        elif not left and right:\n",
        "            return False\n",
        "\n",
        "        # 3. we do not have right node\n",
        "        elif left and not right:\n",
        "            return False\n",
        "        \n",
        "        # 4. we have left and right node, however, their values are different\n",
        "        elif left.val != right.val:\n",
        "            return False\n",
        "        \n",
        "        # exclude above situatuions, we can do recursion step\n",
        "        outside = self.compare(left.left, right.right)\n",
        "        indside = self.compare(left.right, right.left)\n",
        "        isSame = outside and indside\n",
        "\n",
        "        return isSame\n"
      ]
    }
  ]
}