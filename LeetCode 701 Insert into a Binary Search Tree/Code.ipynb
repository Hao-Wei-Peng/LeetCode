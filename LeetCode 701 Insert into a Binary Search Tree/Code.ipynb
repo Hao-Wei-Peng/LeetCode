{
  "nbformat": 4,
  "nbformat_minor": 0,
  "metadata": {
    "colab": {
      "name": "Code.ipynb",
      "provenance": [],
      "collapsed_sections": []
    },
    "kernelspec": {
      "name": "python3",
      "display_name": "Python 3"
    },
    "language_info": {
      "name": "python"
    }
  },
  "cells": [
    {
      "cell_type": "code",
      "execution_count": null,
      "metadata": {
        "id": "hFD3gFKqbvee"
      },
      "outputs": [],
      "source": [
        "# Definition for a binary tree node.\n",
        "# class TreeNode:\n",
        "#     def __init__(self, val=0, left=None, right=None):\n",
        "#         self.val = val\n",
        "#         self.left = left\n",
        "#         self.right = right\n",
        "class Solution:\n",
        "    def insertIntoBST(self, root: Optional[TreeNode], val: int) -> Optional[TreeNode]:\n",
        "\n",
        "        # edge case\n",
        "        if not root:\n",
        "            return TreeNode(val)\n",
        "\n",
        "        # we can use dfs method to deal with this problem\n",
        "        # Time Complexity will be O(n)\n",
        "        # Space Complexity will be O(n)\n",
        "        # n = tree nodes\n",
        "        if val < root.val:\n",
        "            root.left = self.insertIntoBST(root.left, val)\n",
        "        \n",
        "        if val > root.val:\n",
        "            root.right = self.insertIntoBST(root.right, val)\n",
        "        \n",
        "\n",
        "        return root\n"
      ]
    }
  ]
}