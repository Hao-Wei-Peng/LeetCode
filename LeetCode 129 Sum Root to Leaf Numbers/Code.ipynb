{
  "nbformat": 4,
  "nbformat_minor": 0,
  "metadata": {
    "colab": {
      "name": "Code.ipynb",
      "provenance": [],
      "collapsed_sections": []
    },
    "kernelspec": {
      "name": "python3",
      "display_name": "Python 3"
    },
    "language_info": {
      "name": "python"
    }
  },
  "cells": [
    {
      "cell_type": "code",
      "execution_count": null,
      "metadata": {
        "id": "hFD3gFKqbvee"
      },
      "outputs": [],
      "source": [
        "# Definition for a binary tree node.\n",
        "# class TreeNode:\n",
        "#     def __init__(self, val=0, left=None, right=None):\n",
        "#         self.val = val\n",
        "#         self.left = left\n",
        "#         self.right = right\n",
        "class Solution:\n",
        "    def sumNumbers(self, root: TreeNode) -> int:\n",
        "\n",
        "        # Time Complexity will be O(n)\n",
        "        # Space Complexity will be O(n)\n",
        "        # n = tree nodes\n",
        "        queue = collections.deque([(root, root.val)])\n",
        "        SumRootLeafNumbers = 0\n",
        "\n",
        "        while queue:\n",
        "            LenQ = len(queue)\n",
        "\n",
        "            for i in range(0, LenQ):\n",
        "                \n",
        "                node, val = queue.popleft()\n",
        "\n",
        "                if not node.left and not node.right:\n",
        "                    SumRootLeafNumbers += val\n",
        "\n",
        "                if node.left:\n",
        "                    queue.append((node.left, val * 10 + node.left.val))\n",
        "\n",
        "                if node.right:\n",
        "                    queue.append((node.right, val * 10 + node.right.val))\n",
        "\n",
        "\n",
        "        return SumRootLeafNumbers"
      ]
    }
  ]
}