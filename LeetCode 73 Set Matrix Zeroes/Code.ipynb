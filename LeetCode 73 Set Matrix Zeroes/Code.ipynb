{
  "nbformat": 4,
  "nbformat_minor": 0,
  "metadata": {
    "colab": {
      "provenance": [],
      "collapsed_sections": []
    },
    "kernelspec": {
      "name": "python3",
      "display_name": "Python 3"
    },
    "language_info": {
      "name": "python"
    }
  },
  "cells": [
    {
      "cell_type": "code",
      "execution_count": null,
      "metadata": {
        "id": "mMOA-ZhSJFOB"
      },
      "outputs": [],
      "source": [
        "class Solution:\n",
        "    def setZeroes(self, matrix: List[List[int]]) -> None:\n",
        "        \"\"\"\n",
        "        Do not return anything, modify matrix in-place instead.\n",
        "        \"\"\"\n",
        "\n",
        "        # Time Complexity will be O(mn)\n",
        "        # Space Complexity will be O(m + n)\n",
        "        Rows, Cols = len(matrix), len(matrix[0])\n",
        "        row, col = [False] * Rows, [False] * Cols\n",
        "\n",
        "        for r in range(0, Rows):\n",
        "            for c in range(0, Cols):\n",
        "                if matrix[r][c] == 0:\n",
        "                    row[r] = col[c] = True\n",
        "        \n",
        "        for r in range(0, Rows):\n",
        "            for c in range(0, Cols):\n",
        "                if row[r] or col[c]:\n",
        "                    matrix[r][c] = 0"
      ]
    }
  ]
}