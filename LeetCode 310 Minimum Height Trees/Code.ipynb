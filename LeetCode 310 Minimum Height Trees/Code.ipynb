{
  "nbformat": 4,
  "nbformat_minor": 0,
  "metadata": {
    "colab": {
      "provenance": [],
      "collapsed_sections": []
    },
    "kernelspec": {
      "name": "python3",
      "display_name": "Python 3"
    },
    "language_info": {
      "name": "python"
    }
  },
  "cells": [
    {
      "cell_type": "code",
      "execution_count": null,
      "metadata": {
        "id": "mMOA-ZhSJFOB"
      },
      "outputs": [],
      "source": [
        "class Solution:\n",
        "    def findMinHeightTrees(self, n: int, edges: List[List[int]]) -> List[int]:\n",
        "        \n",
        "        # if n == 3, label = 0 ~ 2\n",
        "        # base case\n",
        "        if n == 1:\n",
        "            return [0]\n",
        "\n",
        "        if n == 2:\n",
        "            return [0, 1]\n",
        "        \n",
        "        ConnectedList = collections.defaultdict(list)\n",
        "\n",
        "        for a, b in edges:\n",
        "            ConnectedList[a].append(b)\n",
        "            ConnectedList[b].append(a)\n",
        "        \n",
        "        queue = collections.deque()\n",
        "\n",
        "        # we can put the node with size == 1 into the queue at first\n",
        "        # leaf node [0, 2, 3]\n",
        "        for label, val in ConnectedList.items():\n",
        "            if len(val) == 1:\n",
        "                queue.append(label)\n",
        "        \n",
        "        while n > 2:\n",
        "            \n",
        "            LenQ = len(queue)\n",
        "            n = n - LenQ\n",
        "            \n",
        "            for i in range(0, LenQ):\n",
        "                cur_node = queue.popleft()\n",
        "\n",
        "                for neighbor in ConnectedList[cur_node]:\n",
        "                    ConnectedList[neighbor].remove(cur_node)\n",
        "\n",
        "                    if len(ConnectedList[neighbor]) == 1:\n",
        "                        queue.append(neighbor)\n",
        "\n",
        "        return list(queue)"
      ]
    }
  ]
}