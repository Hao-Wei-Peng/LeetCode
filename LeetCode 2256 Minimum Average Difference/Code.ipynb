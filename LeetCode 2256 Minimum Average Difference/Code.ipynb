{
  "nbformat": 4,
  "nbformat_minor": 0,
  "metadata": {
    "colab": {
      "provenance": []
    },
    "kernelspec": {
      "name": "python3",
      "display_name": "Python 3"
    },
    "language_info": {
      "name": "python"
    }
  },
  "cells": [
    {
      "cell_type": "code",
      "execution_count": null,
      "metadata": {
        "id": "mMOA-ZhSJFOB"
      },
      "outputs": [],
      "source": [
        "class Solution:\n",
        "    def minimumAverageDifference(self, nums: List[int]) -> int:\n",
        "\n",
        "        # base case\n",
        "        if not nums: return 0\n",
        "\n",
        "        n = len(nums)\n",
        "        minimum = float(\"inf\") # record the minimum average difference\n",
        "        prefix, postfix = 0, sum(nums)\n",
        "        ans = 0\n",
        "        # Time Complexity will be O(n)\n",
        "        # Space Complexity will be O(1)\n",
        "        for idx, num in enumerate(nums):\n",
        "            # compute the prefix and postfix\n",
        "            prefix += num\n",
        "            postfix -= num\n",
        "\n",
        "            if idx < n - 1:\n",
        "                current = prefix // (idx + 1) - postfix // (n - idx - 1)\n",
        "            # whole list\n",
        "            else:\n",
        "                current = prefix // (idx + 1)\n",
        "            \n",
        "            # update the minimum value\n",
        "            if abs(current) < minimum:\n",
        "                minimum = abs(current)\n",
        "                ans = idx\n",
        "\n",
        "        return ans"
      ]
    }
  ]
}