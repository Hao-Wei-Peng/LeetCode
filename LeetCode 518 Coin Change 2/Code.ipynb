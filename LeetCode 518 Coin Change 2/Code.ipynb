{
  "nbformat": 4,
  "nbformat_minor": 0,
  "metadata": {
    "colab": {
      "name": "Code.ipynb",
      "provenance": [],
      "collapsed_sections": []
    },
    "kernelspec": {
      "name": "python3",
      "display_name": "Python 3"
    },
    "language_info": {
      "name": "python"
    }
  },
  "cells": [
    {
      "cell_type": "code",
      "execution_count": null,
      "metadata": {
        "id": "hFD3gFKqbvee"
      },
      "outputs": [],
      "source": [
        "class Solution:\n",
        "    def change(self, amount: int, coins: List[int]) -> int:\n",
        "\n",
        "        # denominations -> value\n",
        "        # our goal -> amount\n",
        "        # coins can use multiple times, need to achieve amount\n",
        "\n",
        "        # dp[j] = how many cominations of amount j\n",
        "        dp = [0] * (amount + 1)\n",
        "        dp[0] = 1\n",
        "\n",
        "        # Time Complexity will be O(amount * len(coins))\n",
        "        # Space Complexity will be O(amount)\n",
        "        for coin in coins:\n",
        "            for j in range(coin, amount + 1):\n",
        "                dp[j] = dp[j] + dp[j - coin]\n",
        "        \n",
        "        return dp[amount]\n",
        "        "
      ]
    }
  ]
}