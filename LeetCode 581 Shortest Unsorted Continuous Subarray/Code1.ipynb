{
  "nbformat": 4,
  "nbformat_minor": 0,
  "metadata": {
    "colab": {
      "provenance": []
    },
    "kernelspec": {
      "name": "python3",
      "display_name": "Python 3"
    },
    "language_info": {
      "name": "python"
    }
  },
  "cells": [
    {
      "cell_type": "code",
      "source": [
        "class Solution:\n",
        "    def findUnsortedSubarray(self, nums: List[int]) -> int:\n",
        "\n",
        "        # base case\n",
        "        if not nums:\n",
        "            return 0\n",
        "        \n",
        "        # Time Complexity will be O(n)\n",
        "        # Space Complexity will be O(n)\n",
        "        n = len(nums)\n",
        "        L, R = n - 1, 0\n",
        "        \n",
        "        stack = []\n",
        "\n",
        "        # find lower bound\n",
        "        for i in range(n):\n",
        "            while stack and nums[stack[-1]] > nums[i]:\n",
        "                index = stack.pop()\n",
        "                L = min(L, index)\n",
        "\n",
        "            stack.append(i)\n",
        "        \n",
        "        stack = []\n",
        "\n",
        "        # find upper bound\n",
        "        for i in range(n - 1, -1, -1):\n",
        "            while stack and nums[stack[-1]] < nums[i]:\n",
        "                index = stack.pop()\n",
        "                R = max(R, index)\n",
        "\n",
        "            stack.append(i)\n",
        "        \n",
        "        return 0 if L >= R else R - L + 1 "
      ],
      "metadata": {
        "id": "VQsRJ7yrQZxK"
      },
      "execution_count": null,
      "outputs": []
    }
  ]
}