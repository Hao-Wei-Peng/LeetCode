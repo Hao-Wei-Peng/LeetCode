{
  "nbformat": 4,
  "nbformat_minor": 0,
  "metadata": {
    "colab": {
      "provenance": []
    },
    "kernelspec": {
      "name": "python3",
      "display_name": "Python 3"
    },
    "language_info": {
      "name": "python"
    }
  },
  "cells": [
    {
      "cell_type": "code",
      "source": [
        "class Solution:\n",
        "    def findUnsortedSubarray(self, nums: List[int]) -> int:\n",
        "\n",
        "        # base case\n",
        "        if not nums:\n",
        "            return 0\n",
        "        \n",
        "        n = len(nums)\n",
        "        # Time Complexity will be O(nlogn)\n",
        "        # [2,4,6,8,9,10,15]\n",
        "        sort_nums = sorted(nums) # Space Complexity will be O(n), extra memory space\n",
        "        L, R = n - 1, 0\n",
        "\n",
        "        for i in range(0, n):\n",
        "            if nums[i] != sort_nums[i]:\n",
        "                L = min(L, i)\n",
        "                R = max(R, i)\n",
        "        \n",
        "        return 0 if L >= R else R - L + 1"
      ],
      "metadata": {
        "id": "VQsRJ7yrQZxK"
      },
      "execution_count": null,
      "outputs": []
    }
  ]
}