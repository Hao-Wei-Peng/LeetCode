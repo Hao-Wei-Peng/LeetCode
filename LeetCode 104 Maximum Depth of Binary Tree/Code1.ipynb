{
  "nbformat": 4,
  "nbformat_minor": 0,
  "metadata": {
    "colab": {
      "name": "Code.ipynb",
      "provenance": [],
      "collapsed_sections": []
    },
    "kernelspec": {
      "name": "python3",
      "display_name": "Python 3"
    },
    "language_info": {
      "name": "python"
    }
  },
  "cells": [
    {
      "cell_type": "code",
      "execution_count": null,
      "metadata": {
        "id": "hFD3gFKqbvee"
      },
      "outputs": [],
      "source": [
        "# Definition for a binary tree node.\n",
        "# class TreeNode:\n",
        "#     def __init__(self, val=0, left=None, right=None):\n",
        "#         self.val = val\n",
        "#         self.left = left\n",
        "#         self.right = right\n",
        "class Solution:\n",
        "    def maxDepth(self, root: Optional[TreeNode]) -> int:    \n",
        "        return self.MaxDepth(root)\n",
        "        \n",
        "    # Time Complexity will be O(n)\n",
        "    # Space Complexity will be O(n)\n",
        "    def MaxDepth(self, root):\n",
        "        \n",
        "        # edge case\n",
        "        if not root:\n",
        "            return 0\n",
        "        \n",
        "        LeftDepth = self.MaxDepth(root.left)\n",
        "        RightDepth = self.MaxDepth(root.right)\n",
        "        Current = 1\n",
        "\n",
        "        return Current + max(LeftDepth, RightDepth)"
      ]
    }
  ]
}