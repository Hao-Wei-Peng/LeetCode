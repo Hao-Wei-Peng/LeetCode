{
  "nbformat": 4,
  "nbformat_minor": 0,
  "metadata": {
    "colab": {
      "provenance": [],
      "collapsed_sections": []
    },
    "kernelspec": {
      "name": "python3",
      "display_name": "Python 3"
    },
    "language_info": {
      "name": "python"
    }
  },
  "cells": [
    {
      "cell_type": "code",
      "execution_count": null,
      "metadata": {
        "id": "mMOA-ZhSJFOB"
      },
      "outputs": [],
      "source": [
        "# Definition for singly-linked list.\n",
        "# class ListNode:\n",
        "#     def __init__(self, val=0, next=None):\n",
        "#         self.val = val\n",
        "#         self.next = next\n",
        "# Definition for a binary tree node.\n",
        "# class TreeNode:\n",
        "#     def __init__(self, val=0, left=None, right=None):\n",
        "#         self.val = val\n",
        "#         self.left = left\n",
        "#         self.right = right\n",
        "class Solution:\n",
        "    def sortedListToBST(self, head: Optional[ListNode]) -> Optional[TreeNode]:\n",
        "\n",
        "        # base case\n",
        "        if not head:\n",
        "            return head\n",
        "        \n",
        "        # Time Complexity will be O(n)\n",
        "        # Space Complexity will be O(logn)\n",
        "        slow, fast = head, head\n",
        "        pre = None\n",
        "        # find the median of the sorted list\n",
        "        while fast and fast.next:\n",
        "            pre = slow\n",
        "            slow = slow.next\n",
        "            fast = fast.next.next\n",
        "        \n",
        "        # we couldn't use median point again\n",
        "        if pre:\n",
        "            pre.next = None\n",
        "\n",
        "        second = slow.next\n",
        "        first = head\n",
        "\n",
        "        # first -> [-10, -3, 0], second -> [5, 9]\n",
        "        root = TreeNode(slow.val)\n",
        "\n",
        "        # if left pointer equal to right pointer\n",
        "        if slow == fast:\n",
        "            return root\n",
        "\n",
        "        root.left = self.sortedListToBST(first)\n",
        "        root.right = self.sortedListToBST(second)\n",
        "\n",
        "        return root"
      ]
    },
    {
      "cell_type": "code",
      "source": [
        "s = Solution()\n",
        "print(s.findMinHealth([1,2,6,7], 5))\n",
        "print(s.findMinHealth([1,5,2,3,6,8], 7))"
      ],
      "metadata": {
        "colab": {
          "base_uri": "https://localhost:8080/"
        },
        "id": "tLlE7Sqm3OFh",
        "outputId": "e6099cc1-ecbd-4d8e-947d-89f3fc9086e0"
      },
      "execution_count": null,
      "outputs": [
        {
          "output_type": "stream",
          "name": "stdout",
          "text": [
            "12\n",
            "19\n"
          ]
        }
      ]
    }
  ]
}