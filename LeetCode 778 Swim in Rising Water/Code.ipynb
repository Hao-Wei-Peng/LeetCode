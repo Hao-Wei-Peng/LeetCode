{
  "nbformat": 4,
  "nbformat_minor": 0,
  "metadata": {
    "colab": {
      "provenance": [],
      "collapsed_sections": []
    },
    "kernelspec": {
      "name": "python3",
      "display_name": "Python 3"
    },
    "language_info": {
      "name": "python"
    }
  },
  "cells": [
    {
      "cell_type": "code",
      "execution_count": null,
      "metadata": {
        "id": "mMOA-ZhSJFOB"
      },
      "outputs": [],
      "source": [
        "class Solution:\n",
        "    def swimInWater(self, grid: List[List[int]]) -> int:\n",
        "\n",
        "        # base casea\n",
        "        if not grid:\n",
        "            return 0\n",
        "        \n",
        "        # Dijkstra algorithm\n",
        "        # Time Complexity will be O(n^2logn)\n",
        "        N = len(grid)\n",
        "        visited = set()\n",
        "        minHeap = [[grid[0][0], 0, 0]] # time (max-height), r, c\n",
        "        visited.add((0, 0))\n",
        "        directions = [(0, 1), (0, -1), (1, 0), (-1, 0)]\n",
        "\n",
        "        while minHeap:\n",
        "            maxHeight, cur_x, cur_y = heapq.heappop(minHeap)\n",
        "\n",
        "            if cur_x == N - 1 and cur_y == N - 1:\n",
        "                return maxHeight\n",
        "            \n",
        "            for x, y in directions:\n",
        "                new_x = cur_x + x\n",
        "                new_y = cur_y + y\n",
        "\n",
        "                if 0 <= new_x < N and 0 <= new_y < N and (new_x, new_y) not in visited:\n",
        "                    visited.add((new_x, new_y))\n",
        "                    heapq.heappush(minHeap, [max(maxHeight, grid[new_x][new_y]), new_x, new_y])"
      ]
    }
  ]
}