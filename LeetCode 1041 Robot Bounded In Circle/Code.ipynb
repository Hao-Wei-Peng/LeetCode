{
  "nbformat": 4,
  "nbformat_minor": 0,
  "metadata": {
    "colab": {
      "provenance": [],
      "collapsed_sections": []
    },
    "kernelspec": {
      "name": "python3",
      "display_name": "Python 3"
    },
    "language_info": {
      "name": "python"
    }
  },
  "cells": [
    {
      "cell_type": "code",
      "execution_count": null,
      "metadata": {
        "id": "mMOA-ZhSJFOB"
      },
      "outputs": [],
      "source": [
        "class Solution:\n",
        "    def isRobotBounded(self, instructions: str) -> bool:\n",
        "\n",
        "        # three types:\n",
        "        # 1. G: go straight\n",
        "        # 2. L: turn 90 degrees to the left (anti-clockwise)\n",
        "        # 3. R: turn 90 degrees to the right (clockwise)\n",
        "        \n",
        "        # base case\n",
        "        if not instructions:\n",
        "            return False\n",
        "        \n",
        "        direction = (0, 1)\n",
        "        start = [0, 0]\n",
        "\n",
        "        # Time Complexity will be O(n)\n",
        "        # Space Complexity will be O(1)\n",
        "\n",
        "        # infinite plane\n",
        "        for char in instructions:\n",
        "            \n",
        "            if char == \"G\":\n",
        "                start[0] +=  direction[0]\n",
        "                start[1] += direction[1]\n",
        "\n",
        "            elif char == \"L\":\n",
        "                direction = (-direction[1], direction[0])\n",
        "\n",
        "            elif char == \"R\":    \n",
        "                direction = (direction[1], -direction[0])\n",
        "\n",
        "        # if current face is different, we can try many times to achieve original point\n",
        "        return start == [0, 0] or direction != (0, 1)"
      ]
    }
  ]
}