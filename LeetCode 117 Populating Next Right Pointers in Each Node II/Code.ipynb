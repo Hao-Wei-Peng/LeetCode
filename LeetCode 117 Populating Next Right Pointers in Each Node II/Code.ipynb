{
  "nbformat": 4,
  "nbformat_minor": 0,
  "metadata": {
    "colab": {
      "name": "Code.ipynb",
      "provenance": [],
      "collapsed_sections": []
    },
    "kernelspec": {
      "name": "python3",
      "display_name": "Python 3"
    },
    "language_info": {
      "name": "python"
    }
  },
  "cells": [
    {
      "cell_type": "code",
      "execution_count": null,
      "metadata": {
        "id": "hFD3gFKqbvee"
      },
      "outputs": [],
      "source": [
        "\"\"\"\n",
        "# Definition for a Node.\n",
        "class Node:\n",
        "    def __init__(self, val: int = 0, left: 'Node' = None, right: 'Node' = None, next: 'Node' = None):\n",
        "        self.val = val\n",
        "        self.left = left\n",
        "        self.right = right\n",
        "        self.next = next\n",
        "\"\"\"\n",
        "\n",
        "class Solution:\n",
        "    def connect(self, root: 'Node') -> 'Node':\n",
        "\n",
        "        # edge case\n",
        "        if not root:\n",
        "            return None\n",
        "        \n",
        "        # Time Complexity will be O(n)\n",
        "        # Space Complexity will be O(n)\n",
        "        # n = tree nodes\n",
        "        queue = collections.deque([root])\n",
        "        \n",
        "        while queue:\n",
        "            LenQ = len(queue)\n",
        "\n",
        "            for i in range(0, LenQ):\n",
        "                node = queue.popleft()\n",
        "\n",
        "                if node.left:\n",
        "                    queue.append(node.left)\n",
        "\n",
        "                if node.right:\n",
        "                    queue.append(node.right)\n",
        "                \n",
        "                if i == LenQ - 1:\n",
        "                    break\n",
        "                \n",
        "                node.next = queue[0]\n",
        "        \n",
        "        return root"
      ]
    }
  ]
}