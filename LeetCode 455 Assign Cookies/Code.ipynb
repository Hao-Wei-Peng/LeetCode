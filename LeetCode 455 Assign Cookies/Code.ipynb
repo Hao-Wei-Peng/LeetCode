{
  "nbformat": 4,
  "nbformat_minor": 0,
  "metadata": {
    "colab": {
      "name": "Code.ipynb",
      "provenance": [],
      "collapsed_sections": []
    },
    "kernelspec": {
      "name": "python3",
      "display_name": "Python 3"
    },
    "language_info": {
      "name": "python"
    }
  },
  "cells": [
    {
      "cell_type": "code",
      "execution_count": null,
      "metadata": {
        "id": "hFD3gFKqbvee"
      },
      "outputs": [],
      "source": [
        "class Solution:\n",
        "    def findContentChildren(self, g: List[int], s: List[int]) -> int:\n",
        "\n",
        "        # each child at most one cookie\n",
        "        # child i, g[i] = minimum size of a cookie that the child will be content with\n",
        "        # each cookie j, s[j] = cookie size\n",
        "        # key point: ensure current cookie can maximum satisfy child content s[j] >= g[i]\n",
        "\n",
        "        # we will sort list g and s\n",
        "        g = sorted(g)\n",
        "        s = sorted(s)\n",
        "\n",
        "        # child\n",
        "        LenG = len(g)\n",
        "        # cookie\n",
        "        LenS = len(s)\n",
        "\n",
        "        # edge case, no cookie\n",
        "        if LenS == 0:\n",
        "            return 0\n",
        "\n",
        "        ans = 0\n",
        "        s_idx = LenS - 1\n",
        "\n",
        "        # Time Complexity will be O(len(g))\n",
        "        # Space Complexity will be O(1)\n",
        "        # iterate child from largest content to smallest content\n",
        "        for idx in range(LenG - 1, -1, -1):\n",
        "            if s[s_idx] >= g[idx] and s_idx >= 0:\n",
        "                s_idx = s_idx - 1\n",
        "                ans = ans + 1\n",
        "\n",
        "        return ans"
      ]
    }
  ]
}