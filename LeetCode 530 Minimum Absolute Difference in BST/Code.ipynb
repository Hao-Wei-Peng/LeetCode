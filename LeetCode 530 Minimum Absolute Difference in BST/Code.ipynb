{
  "nbformat": 4,
  "nbformat_minor": 0,
  "metadata": {
    "colab": {
      "name": "Code.ipynb",
      "provenance": [],
      "collapsed_sections": []
    },
    "kernelspec": {
      "name": "python3",
      "display_name": "Python 3"
    },
    "language_info": {
      "name": "python"
    }
  },
  "cells": [
    {
      "cell_type": "code",
      "execution_count": null,
      "metadata": {
        "id": "hFD3gFKqbvee"
      },
      "outputs": [],
      "source": [
        "# Definition for a binary tree node.\n",
        "# class TreeNode:\n",
        "#     def __init__(self, val=0, left=None, right=None):\n",
        "#         self.val = val\n",
        "#         self.left = left\n",
        "#         self.right = right\n",
        "class Solution:\n",
        "    def getMinimumDifference(self, root: Optional[TreeNode]) -> int:\n",
        "\n",
        "        # we need to use features of Binary Search Tree (BST)\n",
        "        # if we use inorder traversal, we can obtain ascending \n",
        "        # order of node values in the results\n",
        "\n",
        "        # Time Complexity will be O(n)\n",
        "        # Space Complexity will be O(n)\n",
        "        # n = tree nodes\n",
        "        stack = []\n",
        "        cur = root\n",
        "        pre = None\n",
        "        MinDiff = float(\"inf\")\n",
        "\n",
        "        while cur or stack:\n",
        "            while cur:\n",
        "                stack.append(cur)\n",
        "                cur = cur.left\n",
        "            \n",
        "            cur = stack.pop()\n",
        "\n",
        "            if pre:\n",
        "                MinDiff = min(MinDiff, abs(cur.val - pre.val))\n",
        "            \n",
        "            pre = cur\n",
        "            cur = cur.right\n",
        "        \n",
        "        return MinDiff"
      ]
    }
  ]
}