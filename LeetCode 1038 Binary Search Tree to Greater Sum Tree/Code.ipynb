{
  "nbformat": 4,
  "nbformat_minor": 0,
  "metadata": {
    "colab": {
      "provenance": [],
      "collapsed_sections": []
    },
    "kernelspec": {
      "name": "python3",
      "display_name": "Python 3"
    },
    "language_info": {
      "name": "python"
    }
  },
  "cells": [
    {
      "cell_type": "code",
      "execution_count": null,
      "metadata": {
        "id": "mMOA-ZhSJFOB"
      },
      "outputs": [],
      "source": [
        "# Definition for a binary tree node.\n",
        "# class TreeNode:\n",
        "#     def __init__(self, val=0, left=None, right=None):\n",
        "#         self.val = val\n",
        "#         self.left = left\n",
        "#         self.right = right\n",
        "class Solution:\n",
        "    def __init__(self):\n",
        "        self.GstSumTree = 0\n",
        "\n",
        "    def bstToGst(self, root: TreeNode) -> TreeNode:\n",
        "        self.DFS(root)\n",
        "        return root\n",
        "    \n",
        "    def DFS(self, root):\n",
        "        \n",
        "        # end condition\n",
        "        if not root:\n",
        "            return \n",
        "        \n",
        "        # finish right tree at first, next finish left tree\n",
        "        self.DFS(root.right)\n",
        "        self.GstSumTree += root.val\n",
        "        root.val = self.GstSumTree\n",
        "        self.DFS(root.left)\n"
      ]
    }
  ]
}