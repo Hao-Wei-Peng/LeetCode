{
  "nbformat": 4,
  "nbformat_minor": 0,
  "metadata": {
    "colab": {
      "name": "Code.ipynb",
      "provenance": [],
      "collapsed_sections": []
    },
    "kernelspec": {
      "name": "python3",
      "display_name": "Python 3"
    },
    "language_info": {
      "name": "python"
    }
  },
  "cells": [
    {
      "cell_type": "code",
      "execution_count": null,
      "metadata": {
        "id": "hFD3gFKqbvee"
      },
      "outputs": [],
      "source": [
        "class Solution:\n",
        "    def permute(self, nums: List[int]) -> List[List[int]]:\n",
        "\n",
        "        path = []\n",
        "        ans = []\n",
        "        n = len(nums)\n",
        "        used = [False] * n\n",
        "\n",
        "        def backtrack(nums, used):\n",
        "\n",
        "            if len(nums) == len(path):\n",
        "                ans.append(path[:])\n",
        "                return\n",
        "\n",
        "            for idx in range(0, len(nums)):\n",
        "\n",
        "                if used[idx] == True:\n",
        "                    continue\n",
        "\n",
        "                used[idx] = True\n",
        "                element = nums[idx]\n",
        "                path.append(element)\n",
        "                backtrack(nums, used)\n",
        "                path.pop()\n",
        "                used[idx] = False\n",
        "\n",
        "        backtrack(nums, used)\n",
        "\n",
        "        return ans"
      ]
    }
  ]
}