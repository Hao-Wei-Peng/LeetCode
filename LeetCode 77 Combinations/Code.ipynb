{
  "nbformat": 4,
  "nbformat_minor": 0,
  "metadata": {
    "colab": {
      "name": "Code.ipynb",
      "provenance": [],
      "collapsed_sections": []
    },
    "kernelspec": {
      "name": "python3",
      "display_name": "Python 3"
    },
    "language_info": {
      "name": "python"
    }
  },
  "cells": [
    {
      "cell_type": "code",
      "execution_count": null,
      "metadata": {
        "id": "hFD3gFKqbvee"
      },
      "outputs": [],
      "source": [
        "class Solution:\n",
        "    def combine(self, n: int, k: int) -> List[List[int]]:\n",
        "\n",
        "        ans = []\n",
        "        path = []\n",
        "\n",
        "        def backtrack(n, k, start_idx):\n",
        "            \n",
        "            if len(path) == k:\n",
        "                ans.append(path[:])\n",
        "                return\n",
        "\n",
        "            # current size = x\n",
        "            # another size should be selected = k - x\n",
        "            # n - (k - x) + 1\n",
        "            # we can start from this position to improve performance of algorithm\n",
        "            for idx in range(start_idx, n - (k - len(path)) + 1 + 1):\n",
        "                path.append(idx)\n",
        "                backtrack(n, k, idx + 1)\n",
        "                path.pop()\n",
        "\n",
        "        backtrack(n, k, 1)\n",
        "        return ans"
      ]
    }
  ]
}