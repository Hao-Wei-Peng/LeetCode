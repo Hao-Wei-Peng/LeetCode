{
 "cells": [
  {
   "cell_type": "code",
   "execution_count": null,
   "metadata": {},
   "outputs": [],
   "source": [
    "class Solution:\n",
    "    def reverse(self, x: int) -> int: #sign integer range: [−2^31,  2^31 − 1]\n",
    "        #a[::-1] => a = '1234' change to a = '4321'\n",
    "        if x < 0:\n",
    "            reverse_value = -int(str(-x)[::-1])  #str(-x) => change to positive value and plus minus symble\n",
    "            if (-2**31 < reverse_value < 2**31 - 1):\n",
    "                return reverse_value\n",
    "            else:\n",
    "                return 0\n",
    "        else:\n",
    "            reverse_value = int(str(x)[::-1])\n",
    "            if (-2**31 < reverse_value < 2**31 - 1):\n",
    "                return reverse_value\n",
    "            else:\n",
    "                return 0"
   ]
  }
 ],
 "metadata": {
  "kernelspec": {
   "display_name": "Python 3",
   "language": "python",
   "name": "python3"
  },
  "language_info": {
   "codemirror_mode": {
    "name": "ipython",
    "version": 3
   },
   "file_extension": ".py",
   "mimetype": "text/x-python",
   "name": "python",
   "nbconvert_exporter": "python",
   "pygments_lexer": "ipython3",
   "version": "3.8.3"
  }
 },
 "nbformat": 4,
 "nbformat_minor": 4
}
