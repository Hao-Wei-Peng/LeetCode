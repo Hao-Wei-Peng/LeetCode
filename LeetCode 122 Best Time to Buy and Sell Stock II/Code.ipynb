{
  "nbformat": 4,
  "nbformat_minor": 0,
  "metadata": {
    "colab": {
      "provenance": [],
      "collapsed_sections": []
    },
    "kernelspec": {
      "name": "python3",
      "display_name": "Python 3"
    },
    "language_info": {
      "name": "python"
    }
  },
  "cells": [
    {
      "cell_type": "code",
      "execution_count": null,
      "metadata": {
        "id": "hFD3gFKqbvee"
      },
      "outputs": [],
      "source": [
        "class Solution:\n",
        "    def maxProfit(self, prices: List[int]) -> int:\n",
        "\n",
        "        n = len(prices)\n",
        "\n",
        "        # Time Complexity will be O(n)\n",
        "        # Space Complexity will be O(n)\n",
        "        if n == 1:\n",
        "            return 0\n",
        "        \n",
        "        # we can use dynamic programming to deal with this problem\n",
        "        # dp[i][0] = minimum invest money at position i\n",
        "        # dp[i][1] = maximum profit at position i\n",
        "        dp = [[0] * 2 for _ in range(n)]\n",
        "        \n",
        "        # initialization\n",
        "        dp[0][0] = -prices[0]\n",
        "        dp[0][1] = 0\n",
        "\n",
        "        for i in range(1, n):\n",
        "            # we can sell the stocks many times\n",
        "            # we need to consider previous profit -> dp[i - 1][1] - prices[i]\n",
        "            dp[i][0] = max(dp[i - 1][0], dp[i - 1][1] - prices[i])\n",
        "            dp[i][1] = max(dp[i - 1][1], dp[i][0] + prices[i])\n",
        "        \n",
        "        return dp[-1][1]"
      ]
    }
  ]
}