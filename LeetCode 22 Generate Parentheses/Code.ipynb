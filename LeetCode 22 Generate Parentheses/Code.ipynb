{
  "nbformat": 4,
  "nbformat_minor": 0,
  "metadata": {
    "colab": {
      "provenance": [],
      "collapsed_sections": []
    },
    "kernelspec": {
      "name": "python3",
      "display_name": "Python 3"
    },
    "language_info": {
      "name": "python"
    }
  },
  "cells": [
    {
      "cell_type": "code",
      "execution_count": null,
      "metadata": {
        "id": "mMOA-ZhSJFOB"
      },
      "outputs": [],
      "source": [
        "class Solution:\n",
        "    def generateParenthesis(self, n: int) -> List[str]:\n",
        "\n",
        "        # base case\n",
        "        if not n:\n",
        "            return []\n",
        "        \n",
        "        # only add parenthesis if open < n\n",
        "        # only add a closing parenthesis if closed < open (important step)\n",
        "        # valid if closed == open == n\n",
        "\n",
        "        stack = []\n",
        "        res = []\n",
        "\n",
        "        def Backtrack(openN, closedN):\n",
        "\n",
        "            if openN == closedN == n:\n",
        "                res.append(\"\".join(stack))\n",
        "                return\n",
        "            \n",
        "            if openN < n:\n",
        "                stack.append(\"(\")\n",
        "                Backtrack(openN + 1, closedN)\n",
        "                stack.pop()\n",
        "            \n",
        "            if closedN < openN:\n",
        "                stack.append(\")\")\n",
        "                Backtrack(openN, closedN + 1)\n",
        "                stack.pop()\n",
        "        \n",
        "        Backtrack(0, 0)\n",
        "\n",
        "        return res"
      ]
    }
  ]
}