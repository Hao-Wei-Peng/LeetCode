{
  "nbformat": 4,
  "nbformat_minor": 0,
  "metadata": {
    "colab": {
      "name": "Code.ipynb",
      "provenance": [],
      "collapsed_sections": []
    },
    "kernelspec": {
      "name": "python3",
      "display_name": "Python 3"
    },
    "language_info": {
      "name": "python"
    }
  },
  "cells": [
    {
      "cell_type": "code",
      "execution_count": null,
      "metadata": {
        "id": "hFD3gFKqbvee"
      },
      "outputs": [],
      "source": [
        "class Solution:\n",
        "    def groupAnagrams(self, strs: List[str]) -> List[List[str]]:\n",
        "        \n",
        "        # we will store each word into their corresponding key\n",
        "        word_dict = collections.defaultdict(list)\n",
        "\n",
        "        # Time Complexity will be O(nlogn)\n",
        "        # Space Complexity will be O(n)\n",
        "        for word in strs:\n",
        "            key = \"\".join(sorted(word))\n",
        "            word_dict[key].append(word)\n",
        "        \n",
        "        return list(word_dict.values())"
      ]
    }
  ]
}