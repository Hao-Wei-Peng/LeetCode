{
  "nbformat": 4,
  "nbformat_minor": 0,
  "metadata": {
    "colab": {
      "provenance": []
    },
    "kernelspec": {
      "name": "python3",
      "display_name": "Python 3"
    },
    "language_info": {
      "name": "python"
    }
  },
  "cells": [
    {
      "cell_type": "code",
      "execution_count": null,
      "metadata": {
        "id": "mMOA-ZhSJFOB"
      },
      "outputs": [],
      "source": [
        "class Solution:\n",
        "    def countPrimes(self, n: int) -> int:\n",
        "\n",
        "        Prime = [True] * n\n",
        "        cnt = 0 # count how many prime in bounded [0, n]\n",
        "\n",
        "        for num in range(2, n):\n",
        "            # if current number is prime, its multiples are not prime\n",
        "            if Prime[num]:\n",
        "                cnt += 1\n",
        "\n",
        "                # num = 2, check 2, 4, 6, ... \n",
        "                for multiple in range(num * num, n, num):\n",
        "                    Prime[multiple] = False\n",
        "\n",
        "        return cnt # base case: n = 0, n = 1, cnt = 0"
      ]
    }
  ]
}