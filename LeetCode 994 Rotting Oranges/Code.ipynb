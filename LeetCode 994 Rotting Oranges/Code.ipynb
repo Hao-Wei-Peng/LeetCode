{
  "nbformat": 4,
  "nbformat_minor": 0,
  "metadata": {
    "colab": {
      "provenance": [],
      "collapsed_sections": []
    },
    "kernelspec": {
      "name": "python3",
      "display_name": "Python 3"
    },
    "language_info": {
      "name": "python"
    }
  },
  "cells": [
    {
      "cell_type": "code",
      "execution_count": null,
      "metadata": {
        "id": "mMOA-ZhSJFOB"
      },
      "outputs": [],
      "source": [
        "class Solution:\n",
        "    def orangesRotting(self, grid: List[List[int]]) -> int:\n",
        "\n",
        "        # three values\n",
        "        # 0, empty cell\n",
        "        # 1, fresh orange\n",
        "        # 2, rotten orange\n",
        "\n",
        "        # status, fresh orange convert into rotten orange\n",
        "        # 4-directionally adjacent to a rotten orange\n",
        "        \n",
        "        # we can use bfs method to deal with this problem\n",
        "        Rows = len(grid)\n",
        "        Cols = len(grid[0])\n",
        "        directions = [(1, 0), (-1, 0), (0, 1), (0, -1)]\n",
        "        queue = collections.deque()\n",
        "        minute = 0\n",
        "\n",
        "        for r in range(0, Rows):\n",
        "            for c in range(0, Cols):\n",
        "                if grid[r][c] == 2:\n",
        "                    queue.append((r, c, minute))\n",
        "\n",
        "        while queue:\n",
        "            cur_x, cur_y, minute = queue.popleft()\n",
        "\n",
        "            for x, y in directions:\n",
        "                nxt_x = cur_x + x\n",
        "                nxt_y = cur_y + y\n",
        "\n",
        "                if 0 <= nxt_x < Rows and 0 <= nxt_y < Cols and grid[nxt_x][nxt_y] == 1:\n",
        "                    grid[nxt_x][nxt_y] = 2\n",
        "                    queue.append((nxt_x, nxt_y, minute + 1))\n",
        "        \n",
        "\n",
        "        for row in grid:\n",
        "            if 1 in row:\n",
        "                return -1\n",
        "        \n",
        "        return minute\n"
      ]
    }
  ]
}