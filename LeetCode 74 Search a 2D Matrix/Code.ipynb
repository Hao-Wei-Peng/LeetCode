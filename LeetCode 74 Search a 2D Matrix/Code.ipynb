{
  "nbformat": 4,
  "nbformat_minor": 0,
  "metadata": {
    "colab": {
      "provenance": [],
      "collapsed_sections": []
    },
    "kernelspec": {
      "name": "python3",
      "display_name": "Python 3"
    },
    "language_info": {
      "name": "python"
    }
  },
  "cells": [
    {
      "cell_type": "code",
      "execution_count": null,
      "metadata": {
        "id": "mMOA-ZhSJFOB"
      },
      "outputs": [],
      "source": [
        "class Solution:\n",
        "    def searchMatrix(self, matrix: List[List[int]], target: int) -> bool:\n",
        "\n",
        "        # base case\n",
        "        if not matrix:\n",
        "            return False\n",
        "        \n",
        "        Rows, Cols = len(matrix), len(matrix[0])\n",
        "        \n",
        "        # Time Complexity will be O(logm + logn)\n",
        "        # Space Complexity will be O(1)\n",
        "\n",
        "        # check the target could appear in which rows\n",
        "        top, bottom = 0, Rows - 1\n",
        "\n",
        "        while top <= bottom:\n",
        "\n",
        "            mid = top + (bottom - top) // 2\n",
        "\n",
        "            if target < matrix[mid][0]:\n",
        "                bottom = mid - 1\n",
        "\n",
        "            elif target > matrix[mid][-1]: \n",
        "                top = mid + 1\n",
        "            \n",
        "            else:\n",
        "                break\n",
        "\n",
        "        # check whether the target exist in the current row\n",
        "        row = (top + bottom) // 2\n",
        "        left, right = 0, Cols - 1\n",
        "\n",
        "        while left <= right:\n",
        "\n",
        "            mid = left + (right - left) // 2\n",
        "\n",
        "            if target < matrix[row][mid]:\n",
        "                right = mid - 1\n",
        "\n",
        "            elif target > matrix[row][mid]:\n",
        "                left = mid + 1\n",
        "            \n",
        "            else:\n",
        "                return True\n",
        "        \n",
        "        return False\n",
        "        "
      ]
    }
  ]
}