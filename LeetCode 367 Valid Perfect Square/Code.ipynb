{
  "nbformat": 4,
  "nbformat_minor": 0,
  "metadata": {
    "colab": {
      "name": "Code.ipynb",
      "provenance": [],
      "collapsed_sections": []
    },
    "kernelspec": {
      "name": "python3",
      "display_name": "Python 3"
    },
    "language_info": {
      "name": "python"
    }
  },
  "cells": [
    {
      "cell_type": "code",
      "execution_count": null,
      "metadata": {
        "id": "hFD3gFKqbvee"
      },
      "outputs": [],
      "source": [
        "class Solution:\n",
        "    def isPerfectSquare(self, num: int) -> bool:\n",
        "\n",
        "        # we will use binary search to deal with this problem\n",
        "        left = 0\n",
        "        right = num\n",
        "        check = None\n",
        "\n",
        "        # Time Complexity will be O(logn)\n",
        "        # Space Complexity will be O(1)\n",
        "        # bounded interval [left, right]\n",
        "        while left <= right:\n",
        "            mid = (left + right) // 2\n",
        "\n",
        "            if mid * mid <= num:\n",
        "                left = mid + 1\n",
        "                check = left\n",
        "            else:\n",
        "                right = mid - 1\n",
        "\n",
        "        return (check - 1)**2 == num\n"
      ]
    }
  ]
}