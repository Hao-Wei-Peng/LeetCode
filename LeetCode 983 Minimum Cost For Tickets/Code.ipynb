{
  "nbformat": 4,
  "nbformat_minor": 0,
  "metadata": {
    "colab": {
      "provenance": [],
      "collapsed_sections": []
    },
    "kernelspec": {
      "name": "python3",
      "display_name": "Python 3"
    },
    "language_info": {
      "name": "python"
    }
  },
  "cells": [
    {
      "cell_type": "code",
      "execution_count": null,
      "metadata": {
        "id": "mMOA-ZhSJFOB"
      },
      "outputs": [],
      "source": [
        "class Solution:\n",
        "    def mincostTickets(self, days: List[int], costs: List[int]) -> int:\n",
        "\n",
        "        # base case\n",
        "        if not days:\n",
        "            return 0\n",
        "        \n",
        "        dp = [0] * (days[-1] + 1)\n",
        "        LenDp = len(dp)\n",
        "        index = 0\n",
        "\n",
        "        for curday in range(1, LenDp):\n",
        "            # not the day need to buy tickets\n",
        "            if curday != days[index]:\n",
        "                dp[curday] = dp[curday - 1]\n",
        "            \n",
        "            else:\n",
        "                dp[curday] = min(dp[max(0, curday - 1)] + costs[0], \n",
        "                            dp[max(0, curday - 7)] + costs[1], \n",
        "                            dp[max(0, curday - 30)] + costs[2])\n",
        "                index += 1\n",
        "            \n",
        "        return dp[-1]\n"
      ]
    }
  ]
}