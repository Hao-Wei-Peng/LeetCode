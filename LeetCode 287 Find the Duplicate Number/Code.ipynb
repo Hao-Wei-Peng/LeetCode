{
  "nbformat": 4,
  "nbformat_minor": 0,
  "metadata": {
    "colab": {
      "provenance": []
    },
    "kernelspec": {
      "name": "python3",
      "display_name": "Python 3"
    },
    "language_info": {
      "name": "python"
    }
  },
  "cells": [
    {
      "cell_type": "code",
      "execution_count": null,
      "metadata": {
        "id": "mMOA-ZhSJFOB"
      },
      "outputs": [],
      "source": [
        "class Solution:\n",
        "    def findDuplicate(self, nums: List[int]) -> int:\n",
        "\n",
        "        # base case\n",
        "        if not nums:\n",
        "            return 0\n",
        "        \n",
        "        # Time Complexity will be O(n)\n",
        "        # Space Complexity will be O(1)\n",
        "        # use slow, fast pointers to deal with this problem\n",
        "        slow, fast = 0, 0\n",
        "        slow = nums[slow]\n",
        "        fast = nums[nums[fast]]\n",
        "\n",
        "        while slow != fast:\n",
        "            slow = nums[slow]\n",
        "            fast = nums[nums[fast]]\n",
        "        \n",
        "        find = 0\n",
        "\n",
        "        while find != slow:\n",
        "            find = nums[find]\n",
        "            slow = nums[slow]\n",
        "        \n",
        "        return slow"
      ]
    }
  ]
}