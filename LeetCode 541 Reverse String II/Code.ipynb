{
  "nbformat": 4,
  "nbformat_minor": 0,
  "metadata": {
    "colab": {
      "name": "Code.ipynb",
      "provenance": [],
      "collapsed_sections": []
    },
    "kernelspec": {
      "name": "python3",
      "display_name": "Python 3"
    },
    "language_info": {
      "name": "python"
    }
  },
  "cells": [
    {
      "cell_type": "code",
      "execution_count": null,
      "metadata": {
        "id": "hFD3gFKqbvee"
      },
      "outputs": [],
      "source": [
        "class Solution:\n",
        "    def reverseStr(self, s: str, k: int) -> str:\n",
        "\n",
        "        def change_order(item):\n",
        "            n = len(item)\n",
        "            left, right = 0, n - 1\n",
        "\n",
        "            while left <= right:\n",
        "                item[left], item[right] = item[right], item[left]\n",
        "                left = left + 1\n",
        "                right = right - 1\n",
        "            \n",
        "            return item\n",
        "        \n",
        "        # for every 2k characters, reverse the first k characters\n",
        "        ans = list(s)\n",
        "        \n",
        "        for cur in range(0, len(s), 2 * k):\n",
        "            ans[cur : cur + k] = change_order(ans[cur : cur + k])\n",
        "\n",
        "        return \"\".join(ans)"
      ]
    }
  ]
}