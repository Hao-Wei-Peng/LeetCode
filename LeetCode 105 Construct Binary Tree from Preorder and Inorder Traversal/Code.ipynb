{
  "nbformat": 4,
  "nbformat_minor": 0,
  "metadata": {
    "colab": {
      "name": "Code.ipynb",
      "provenance": [],
      "collapsed_sections": []
    },
    "kernelspec": {
      "name": "python3",
      "display_name": "Python 3"
    },
    "language_info": {
      "name": "python"
    }
  },
  "cells": [
    {
      "cell_type": "code",
      "execution_count": null,
      "metadata": {
        "id": "hFD3gFKqbvee"
      },
      "outputs": [],
      "source": [
        "# Definition for a binary tree node.\n",
        "# class TreeNode:\n",
        "#     def __init__(self, val=0, left=None, right=None):\n",
        "#         self.val = val\n",
        "#         self.left = left\n",
        "#         self.right = right\n",
        "class Solution:\n",
        "    def buildTree(self, preorder: List[int], inorder: List[int]) -> TreeNode:\n",
        "        \n",
        "        # edge case\n",
        "        if not preorder or not inorder:\n",
        "            return None\n",
        "        \n",
        "        # Time Complexity will be O(n)\n",
        "        # Space Complexity will be O(1)\n",
        "        # n = tree nodes\n",
        "        mid_point = preorder[0]\n",
        "        root = TreeNode(mid_point)\n",
        "        \n",
        "        # find index of inorder list\n",
        "        idx = inorder.index(mid_point)\n",
        "\n",
        "        root.left = self.buildTree(preorder[1 : idx + 1], inorder[0 : idx])\n",
        "        root.right = self.buildTree(preorder[idx + 1 : ], inorder[idx + 1 : ])\n",
        "\n",
        "        return root\n"
      ]
    }
  ]
}