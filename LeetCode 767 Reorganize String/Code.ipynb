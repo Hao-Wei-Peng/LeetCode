{
  "nbformat": 4,
  "nbformat_minor": 0,
  "metadata": {
    "colab": {
      "provenance": []
    },
    "kernelspec": {
      "name": "python3",
      "display_name": "Python 3"
    },
    "language_info": {
      "name": "python"
    }
  },
  "cells": [
    {
      "cell_type": "code",
      "execution_count": null,
      "metadata": {
        "id": "mMOA-ZhSJFOB"
      },
      "outputs": [],
      "source": [
        "class Solution:\n",
        "    def __init__(self):\n",
        "        self.ans = []\n",
        "\n",
        "    def reorganizeString(self, s: str) -> str:\n",
        "\n",
        "        # base case\n",
        "        if not s:\n",
        "            return \"\"\n",
        "        \n",
        "        # use Heap to deal with problem\n",
        "        # Time Complexity will be O(nlogn)\n",
        "        # Space Complexity will be O(n)\n",
        "        n = len(s)\n",
        "\n",
        "        if n < 2:\n",
        "            return s\n",
        "        \n",
        "        Freq = collections.defaultdict(int)\n",
        "        maxCount = 0\n",
        "\n",
        "        # record the count of each character\n",
        "        for char in s:\n",
        "            Freq[char] = 1 + Freq.get(char, 0)\n",
        "        \n",
        "        maxCount = max(Freq.values())\n",
        "        \n",
        "        # base case\n",
        "        if maxCount > (n + 1) // 2:\n",
        "            return \"\"\n",
        "\n",
        "        MaxHeap = []\n",
        "\n",
        "        # use MaxHeap conception\n",
        "        # {a: -2}, {b: -1}\n",
        "        for char in Freq:\n",
        "            heapq.heappush(MaxHeap, (-Freq[char], char))\n",
        "\n",
        "        while len(MaxHeap) > 1:\n",
        "            _, c1 = heapq.heappop(MaxHeap)\n",
        "            _, c2 = heapq.heappop(MaxHeap)\n",
        "            self.ans.append(c1)\n",
        "            self.ans.append(c2)\n",
        "\n",
        "            Freq[c1] -= 1\n",
        "            Freq[c2] -= 1\n",
        "\n",
        "            if Freq[c1] > 0:\n",
        "                heapq.heappush(MaxHeap, (-Freq[c1], c1))\n",
        "            \n",
        "            if Freq[c2] > 0:\n",
        "                heapq.heappush(MaxHeap, (-Freq[c2], c2))\n",
        "        \n",
        "        # remain one elements\n",
        "        if MaxHeap:\n",
        "            self.ans.append(MaxHeap[0][1])\n",
        "        \n",
        "        return \"\".join(self.ans)\n"
      ]
    }
  ]
}