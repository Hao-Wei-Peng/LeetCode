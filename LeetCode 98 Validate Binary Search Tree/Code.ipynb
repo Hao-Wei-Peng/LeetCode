{
  "nbformat": 4,
  "nbformat_minor": 0,
  "metadata": {
    "colab": {
      "name": "Code.ipynb",
      "provenance": [],
      "collapsed_sections": []
    },
    "kernelspec": {
      "name": "python3",
      "display_name": "Python 3"
    },
    "language_info": {
      "name": "python"
    }
  },
  "cells": [
    {
      "cell_type": "code",
      "execution_count": null,
      "metadata": {
        "id": "hFD3gFKqbvee"
      },
      "outputs": [],
      "source": [
        "# Definition for a binary tree node.\n",
        "# class TreeNode:\n",
        "#     def __init__(self, val=0, left=None, right=None):\n",
        "#         self.val = val\n",
        "#         self.left = left\n",
        "#         self.right = right\n",
        "class Solution:\n",
        "    def isValidBST(self, root: Optional[TreeNode]) -> bool:\n",
        "\n",
        "        # Time Complexity will be O(n)\n",
        "        # Space Complexity will be O(n)\n",
        "        # n = tree nodes\n",
        "        # we can use inorder method to deal with this problem\n",
        "        # we can notice that value will from small to large (ascending order)\n",
        "        stack = []\n",
        "        cur = root\n",
        "        pre = None\n",
        "\n",
        "        while cur or stack:\n",
        "            while cur:\n",
        "                stack.append(cur)\n",
        "                cur = cur.left\n",
        "            \n",
        "            cur = stack.pop()\n",
        "\n",
        "            if pre and cur.val <= pre.val:\n",
        "                return False\n",
        "\n",
        "            pre = cur\n",
        "            cur = cur.right\n",
        "        \n",
        "        return True\n"
      ]
    }
  ]
}