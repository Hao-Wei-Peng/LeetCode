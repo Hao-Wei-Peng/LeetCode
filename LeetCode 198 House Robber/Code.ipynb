{
  "nbformat": 4,
  "nbformat_minor": 0,
  "metadata": {
    "colab": {
      "name": "Code.ipynb",
      "provenance": [],
      "collapsed_sections": []
    },
    "kernelspec": {
      "name": "python3",
      "display_name": "Python 3"
    },
    "language_info": {
      "name": "python"
    }
  },
  "cells": [
    {
      "cell_type": "code",
      "execution_count": null,
      "metadata": {
        "id": "hFD3gFKqbvee"
      },
      "outputs": [],
      "source": [
        "class Solution:\n",
        "    def rob(self, nums: List[int]) -> int:\n",
        "\n",
        "        # stashed = hide\n",
        "        # condition: adjacent houses have security systems connected\n",
        "        n = len(nums)\n",
        "\n",
        "        # edge case\n",
        "        if n < 2:\n",
        "            return nums[0]\n",
        "\n",
        "        # dp[i] = steal most money at house i \n",
        "        # at house i, you can choose steal or not steal\n",
        "        # situation:\n",
        "        # 1. if we steal house i, which means that we will not steal house i - 1, dp[i] = dp[i - 2] + nums[i]\n",
        "        # 2. if we don't steal house i, which means that we will steal house i - 1 or not (possible)  \n",
		 # initialization\n"
        "        dp = [0] * n\n",
        "        dp[0] = nums[0]\n",
        "        # we can steal house or not\n",
        "        dp[1] = max(nums[0], nums[1])\n",
        "\n",
        "        for i in range(2, n):\n",
        "            dp[i] = max(dp[i - 2] + nums[i], dp[i - 1])\n",
        "        \n",
        "        return dp[n - 1]"
      ]
    }
  ]
}