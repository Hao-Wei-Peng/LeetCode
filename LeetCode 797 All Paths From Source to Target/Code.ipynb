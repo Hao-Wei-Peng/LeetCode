{
  "nbformat": 4,
  "nbformat_minor": 0,
  "metadata": {
    "colab": {
      "provenance": [],
      "collapsed_sections": []
    },
    "kernelspec": {
      "name": "python3",
      "display_name": "Python 3"
    },
    "language_info": {
      "name": "python"
    }
  },
  "cells": [
    {
      "cell_type": "code",
      "execution_count": null,
      "metadata": {
        "id": "mMOA-ZhSJFOB"
      },
      "outputs": [],
      "source": [
        "class Solution:\n",
        "    def __init__(self):\n",
        "        self.Paths = []\n",
        "\n",
        "    def allPathsSourceTarget(self, graph: List[List[int]]) -> List[List[int]]:\n",
        "\n",
        "        # start: label 0\n",
        "        # end: label: n - 1\n",
        "        PathList = collections.defaultdict(list)\n",
        "        SumNodes = len(graph)\n",
        "\n",
        "        for start in range(0, SumNodes):\n",
        "            for end in graph[start]:\n",
        "                PathList[start].append(end)\n",
        "        \n",
        "        queue = collections.deque([(0, [0])])\n",
        "        self.BFS(graph, PathList, queue, SumNodes)\n",
        "\n",
        "        return self.Paths\n",
        "\n",
        "    def BFS(self, graph, PathList, queue, SumNodes):\n",
        "\n",
        "        while queue:\n",
        "\n",
        "            cur_label, cur_path = queue.popleft()\n",
        "\n",
        "            if cur_label == SumNodes - 1:\n",
        "                self.Paths.append(cur_path)\n",
        "\n",
        "            for end in graph[cur_label]:\n",
        "                queue.append((end, cur_path + [end]))    "
      ]
    }
  ]
}