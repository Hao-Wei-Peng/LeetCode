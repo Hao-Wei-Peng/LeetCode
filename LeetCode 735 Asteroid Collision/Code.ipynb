{
  "nbformat": 4,
  "nbformat_minor": 0,
  "metadata": {
    "colab": {
      "provenance": [],
      "collapsed_sections": []
    },
    "kernelspec": {
      "name": "python3",
      "display_name": "Python 3"
    },
    "language_info": {
      "name": "python"
    }
  },
  "cells": [
    {
      "cell_type": "code",
      "execution_count": null,
      "metadata": {
        "id": "mMOA-ZhSJFOB"
      },
      "outputs": [],
      "source": [
        "class Solution:\n",
        "    def asteroidCollision(self, asteroids: List[int]) -> List[int]:\n",
        "\n",
        "        # positive -> right\n",
        "        # negative -> left\n",
        "        # same direction, same speed\n",
        "\n",
        "        # size, absolute value\n",
        "        # two asteroids meet, the smaller one will explode\n",
        "        # same size, both will explode\n",
        "        stack = []\n",
        "\n",
        "        # base case\n",
        "        if not asteroids:\n",
        "            return ans\n",
        "        \n",
        "        for aster in asteroids:\n",
        "            Boom = True\n",
        "\n",
        "            # Boom = True, stack not empty, toppest element > 0, current asteroid < 0\n",
        "            while Boom and stack and stack[-1] > 0 and aster < 0:\n",
        "\n",
        "                pre, cur = stack[-1], -aster\n",
        "\n",
        "                if pre <= cur:\n",
        "                    stack.pop()\n",
        "                \n",
        "                if pre >= cur:\n",
        "                    Boom = False\n",
        "\n",
        "            if Boom:\n",
        "                stack.append(aster)\n",
        "\n",
        "        return stack \n"
      ]
    }
  ]
}