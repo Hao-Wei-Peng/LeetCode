{
  "nbformat": 4,
  "nbformat_minor": 0,
  "metadata": {
    "colab": {
      "provenance": []
    },
    "kernelspec": {
      "name": "python3",
      "display_name": "Python 3"
    },
    "language_info": {
      "name": "python"
    }
  },
  "cells": [
    {
      "cell_type": "code",
      "execution_count": null,
      "metadata": {
        "id": "mMOA-ZhSJFOB"
      },
      "outputs": [],
      "source": [
        "class Solution:\n",
        "    def longestSubstring(self, s: str, k: int) -> int:\n",
        "\n",
        "        # base case\n",
        "        if len(s) < k:\n",
        "            return 0\n",
        "        \n",
        "        # a: 2, b: 3, c: 1\n",
        "        for char in set(s):\n",
        "            # find the character smaller than k, split from that position\n",
        "            if s.count(char) < k:\n",
        "                return max(self.longestSubstring(t, k) for t in s.split(char))\n",
        "        \n",
        "        return len(s)"
      ]
    }
  ]
}