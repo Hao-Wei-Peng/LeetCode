{
  "nbformat": 4,
  "nbformat_minor": 0,
  "metadata": {
    "colab": {
      "provenance": [],
      "collapsed_sections": []
    },
    "kernelspec": {
      "name": "python3",
      "display_name": "Python 3"
    },
    "language_info": {
      "name": "python"
    }
  },
  "cells": [
    {
      "cell_type": "code",
      "execution_count": null,
      "metadata": {
        "id": "mMOA-ZhSJFOB"
      },
      "outputs": [],
      "source": [
        "class Solution:\n",
        "    def numTilings(self, n: int) -> int:\n",
        "\n",
        "        # base case\n",
        "        if not n:\n",
        "            return 0\n",
        "        \n",
        "        # n = 0, 1\n",
        "        # n = 1, 1\n",
        "        # n = 2, 2\n",
        "        # n = 3, 5\n",
        "        # n = 4, 11\n",
        "        if n <= 1:\n",
        "            return 1\n",
        "        \n",
        "        MOD = 10**9 + 7\n",
        "        dp = [0] * (n + 1)\n",
        "        dp[0], dp[1], dp[2] = 1, 1, 2\n",
        "\n",
        "        for i in range(3, n + 1):\n",
        "            dp[i] = 2 * dp[i - 1] + dp[i - 3]\n",
        "        \n",
        "        return dp[n] % MOD\n",
        "\n"
      ]
    }
  ]
}