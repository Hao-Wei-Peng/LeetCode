{
  "nbformat": 4,
  "nbformat_minor": 0,
  "metadata": {
    "colab": {
      "provenance": [],
      "collapsed_sections": []
    },
    "kernelspec": {
      "name": "python3",
      "display_name": "Python 3"
    },
    "language_info": {
      "name": "python"
    }
  },
  "cells": [
    {
      "cell_type": "code",
      "execution_count": null,
      "metadata": {
        "id": "mMOA-ZhSJFOB"
      },
      "outputs": [],
      "source": [
        "class Solution:\n",
        "    def maxAreaOfIsland(self, grid: List[List[int]]) -> int:\n",
        "\n",
        "        # we can use bfs method to deal with this problem\n",
        "        Rows = len(grid)\n",
        "        Cols = len(grid[0])\n",
        "        visited = set()\n",
        "        MaxArea = 0\n",
        "\n",
        "        for r in range(0, Rows):\n",
        "            for c in range(0, Cols):\n",
        "                if grid[r][c] == 1 and (r, c) not in visited:\n",
        "                    visited.add((r, c))\n",
        "                    CurArea = self.BFS(grid, r, c, visited)\n",
        "                    MaxArea = max(MaxArea, CurArea)\n",
        "\n",
        "        return MaxArea\n",
        "\n",
        "    def BFS(self, grid, r, c, visited):\n",
        "\n",
        "        Area = 0\n",
        "        Rows = len(grid)\n",
        "        Cols = len(grid[0])\n",
        "        queue = collections.deque([(r, c)])\n",
        "        directions = [(0, 1), (0, -1), (1, 0), (-1, 0)]\n",
        "\n",
        "        while queue:\n",
        "            cur_r, cur_c = queue.popleft()\n",
        "            Area = Area + 1\n",
        "\n",
        "            for x, y in directions:\n",
        "                nxt_r = cur_r + x \n",
        "                nxt_c = cur_c + y\n",
        "\n",
        "                if 0 <= nxt_r < Rows and 0 <= nxt_c < Cols and grid[nxt_r][nxt_c] == 1 and (nxt_r, nxt_c) not in visited:\n",
        "                    visited.add((nxt_r, nxt_c))\n",
        "                    queue.append((nxt_r, nxt_c))\n",
        "\n",
        "        return Area\n"
      ]
    }
  ]
}