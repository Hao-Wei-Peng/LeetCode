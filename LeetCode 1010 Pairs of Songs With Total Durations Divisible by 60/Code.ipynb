{
  "nbformat": 4,
  "nbformat_minor": 0,
  "metadata": {
    "colab": {
      "provenance": [],
      "collapsed_sections": []
    },
    "kernelspec": {
      "name": "python3",
      "display_name": "Python 3"
    },
    "language_info": {
      "name": "python"
    }
  },
  "cells": [
    {
      "cell_type": "code",
      "execution_count": null,
      "metadata": {
        "id": "mMOA-ZhSJFOB"
      },
      "outputs": [],
      "source": [
        "class Solution:\n",
        "    def numPairsDivisibleBy60(self, time: List[int]) -> int:\n",
        "\n",
        "        # base case\n",
        "        if not time:\n",
        "            return 0\n",
        "        \n",
        "        # Time Complexity will be O(n)\n",
        "        n = len(time)\n",
        "\n",
        "        if n < 2:\n",
        "            return 0\n",
        "\n",
        "        Map = collections.defaultdict(int)\n",
        "\n",
        "        # we can choose module value, plus module values of pairs, if sum of pairs % 60 == 0, that is our result\n",
        "        # [30, 20, 150, 100, 40]\n",
        "        # module results\n",
        "        # [30, 20, 30, 40, 40]          \n",
        "\n",
        "        for idx in range(0, n):\n",
        "            time[idx] = time[idx] % 60\n",
        "        \n",
        "        # two sum problems, plus two values equal to 60, 60 % 60 = 0\n",
        "        ans = 0\n",
        "\n",
        "        for t in time:\n",
        "            residue = (60 - t) % 60\n",
        "            ans += Map[residue]\n",
        "            Map[t] += 1\n",
        "            \n",
        "        return ans"
      ]
    }
  ]
}