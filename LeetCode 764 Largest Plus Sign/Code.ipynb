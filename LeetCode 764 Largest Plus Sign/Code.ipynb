{
  "nbformat": 4,
  "nbformat_minor": 0,
  "metadata": {
    "colab": {
      "provenance": [],
      "collapsed_sections": []
    },
    "kernelspec": {
      "name": "python3",
      "display_name": "Python 3"
    },
    "language_info": {
      "name": "python"
    }
  },
  "cells": [
    {
      "cell_type": "code",
      "execution_count": null,
      "metadata": {
        "id": "mMOA-ZhSJFOB"
      },
      "outputs": [],
      "source": [
        "class Solution:\n",
        "    def orderOfLargestPlusSign(self, n: int, mines: List[List[int]]) -> int:\n",
        "\n",
        "        mineSet = set((x, y) for x, y in mines)\n",
        "\n",
        "        up = [[0] * n for _ in range(0, n)]\n",
        "        down = [[0] * n for _ in range(0, n)]\n",
        "        left = [[0] * n for _ in range(0, n)]\n",
        "        right = [[0] * n for _ in range(0, n)]\n",
        "\n",
        "        for i in range(0, n):\n",
        "            for j in range(0, n):\n",
        "                if (i, j) not in mineSet:\n",
        "                    if i == 0 or j == 0:\n",
        "                        up[i][j] = left[i][j] = 1\n",
        "                    \n",
        "                    else:\n",
        "                        up[i][j] = up[i - 1][j] + 1\n",
        "                        left[i][j] = left[i][j - 1] + 1\n",
        "        \n",
        "        for i in range(n - 1, -1, -1):\n",
        "            for j in range(n - 1, -1, -1):\n",
        "                if (i, j) not in mineSet:\n",
        "                    if i == n - 1 or j == n - 1:\n",
        "                        down[i][j] = right[i][j] = 1\n",
        "                    \n",
        "                    else:\n",
        "                        down[i][j] = down[i + 1][j] + 1\n",
        "                        right[i][j] = right[i][j + 1] + 1\n",
        "        \n",
        "        ans = 0\n",
        "        for i in range(0, n):\n",
        "            for j in range(0, n):\n",
        "                if (i, j) not in mineSet:\n",
        "                    ans = max(ans, min(up[i][j], left[i][j], down[i][j], right[i][j]))\n",
        "        \n",
        "        return ans\n"
      ]
    }
  ]
}