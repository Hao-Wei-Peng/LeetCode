{
  "nbformat": 4,
  "nbformat_minor": 0,
  "metadata": {
    "colab": {
      "provenance": []
    },
    "kernelspec": {
      "name": "python3",
      "display_name": "Python 3"
    },
    "language_info": {
      "name": "python"
    }
  },
  "cells": [
    {
      "cell_type": "code",
      "execution_count": null,
      "metadata": {
        "id": "mMOA-ZhSJFOB"
      },
      "outputs": [],
      "source": [
        "class Solution:\n",
        "    def wallsAndGates(self, rooms: List[List[int]]) -> None:\n",
        "        \"\"\"\n",
        "        Do not return anything, modify rooms in-place instead.\n",
        "        \"\"\"\n",
        "\n",
        "        # -1: a wall, 0: gate, INF: empty room\n",
        "        m, n = len(rooms), len(rooms[0])\n",
        "        # we can use BFS to deal with this problem\n",
        "        # Time Complexity will be O(m * n)\n",
        "        # Space Complexity will be O(m * n)\n",
        "        Queue = collections.deque()\n",
        "        visited = set() # check whether we have visited this position\n",
        "        directions = [(0, 1), (0, -1), (1, 0), (-1, 0)]\n",
        "\n",
        "        # we can start from the gate\n",
        "        for r in range(0, m):\n",
        "            for c in range(0, n):\n",
        "                if rooms[r][c] == 0:\n",
        "                    Queue.append((r, c, 0)) # x, y, path\n",
        "                    visited.add((r, c))\n",
        "        \n",
        "        INF = 2**31 - 1 # infinity\n",
        "\n",
        "        while Queue:\n",
        "            LenQ = len(Queue)\n",
        "\n",
        "            for _ in range(0, LenQ):\n",
        "                cur_r, cur_c, step = Queue.popleft()\n",
        "                rooms[cur_r][cur_c] = step # update the distance\n",
        "\n",
        "                for r, c in directions:\n",
        "                    nxt_r, nxt_c = cur_r + r, cur_c + c\n",
        "\n",
        "                    # check whether current position in the reasonable bounded\n",
        "                    if 0 <= nxt_r < m and 0 <= nxt_c < n and (nxt_r, nxt_c) not in visited and rooms[nxt_r][nxt_c] == INF:\n",
        "                        Queue.append((nxt_r, nxt_c, step + 1))\n",
        "                        visited.add((nxt_r, nxt_c))\n"
      ]
    }
  ]
}