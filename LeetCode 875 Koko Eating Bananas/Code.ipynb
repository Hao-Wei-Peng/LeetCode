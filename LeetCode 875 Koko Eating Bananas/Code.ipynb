{
  "nbformat": 4,
  "nbformat_minor": 0,
  "metadata": {
    "colab": {
      "provenance": [],
      "collapsed_sections": []
    },
    "kernelspec": {
      "name": "python3",
      "display_name": "Python 3"
    },
    "language_info": {
      "name": "python"
    }
  },
  "cells": [
    {
      "cell_type": "code",
      "execution_count": null,
      "metadata": {
        "id": "mMOA-ZhSJFOB"
      },
      "outputs": [],
      "source": [
        "class Solution:\n",
        "    def minEatingSpeed(self, piles: List[int], h: int) -> int:\n",
        "\n",
        "        # base case\n",
        "        if not piles:\n",
        "            return 0\n",
        "\n",
        "        # Time Complexity will be O(nlogn)\n",
        "        # Space Complexity will be O(1)\n",
        "        maxPile = max(piles)\n",
        "        minPile = 1\n",
        "        L, R = minPile, maxPile\n",
        "        ans = 0\n",
        "\n",
        "        while L <= R:\n",
        "            couldEat = (L + R) // 2\n",
        "            costHour = 0\n",
        "\n",
        "            # round up integer\n",
        "            for pile in piles:\n",
        "                costHour = costHour + math.ceil(pile / couldEat)\n",
        "            \n",
        "            if costHour > h:\n",
        "                L = couldEat + 1\n",
        "            \n",
        "            else:\n",
        "                R = couldEat - 1\n",
        "\n",
        "        return L"
      ]
    }
  ]
}