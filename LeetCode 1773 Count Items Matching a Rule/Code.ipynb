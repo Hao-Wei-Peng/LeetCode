{
  "nbformat": 4,
  "nbformat_minor": 0,
  "metadata": {
    "colab": {
      "provenance": [],
      "collapsed_sections": []
    },
    "kernelspec": {
      "name": "python3",
      "display_name": "Python 3"
    },
    "language_info": {
      "name": "python"
    }
  },
  "cells": [
    {
      "cell_type": "code",
      "execution_count": null,
      "metadata": {
        "id": "mMOA-ZhSJFOB"
      },
      "outputs": [],
      "source": [
        "class Solution:\n",
        "    def countMatches(self, items: List[List[str]], ruleKey: str, ruleValue: str) -> int:\n",
        "\n",
        "        # base case\n",
        "        if not ruleKey or not ruleValue:\n",
        "            return 0\n",
        "        \n",
        "        # Space Complexity will be O(1)\n",
        "        Map = {\"type\": 0, \"color\": 1, \"name\": 2}\n",
        "        tar_idx = Map[ruleKey]\n",
        "\n",
        "        # Time Complexity will be O(n)\n",
        "        Count = 0\n",
        "\n",
        "        for _, attribute in enumerate(items):\n",
        "            if ruleValue == attribute[tar_idx]:\n",
        "                Count += 1\n",
        "        \n",
        "        return Count"
      ]
    }
  ]
}