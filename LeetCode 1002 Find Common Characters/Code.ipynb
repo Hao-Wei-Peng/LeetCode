{
  "nbformat": 4,
  "nbformat_minor": 0,
  "metadata": {
    "colab": {
      "name": "Code.ipynb",
      "provenance": [],
      "collapsed_sections": []
    },
    "kernelspec": {
      "name": "python3",
      "display_name": "Python 3"
    },
    "language_info": {
      "name": "python"
    }
  },
  "cells": [
    {
      "cell_type": "code",
      "execution_count": null,
      "metadata": {
        "id": "hFD3gFKqbvee"
      },
      "outputs": [],
      "source": [
        "class Solution:\n",
        "    def commonChars(self, words: List[str]) -> List[str]:\n",
        "\n",
        "        # we can store every lowercase into a list (record frequency)\n",
        "        # we will compare every position and choose minimum values (return index)\n",
        "\n",
        "        ans = []\n",
        "        # Space Complexity will be O(sigma) -> sigma = 26 alphabet\n",
        "        # record least frequency of each lowercase\n",
        "        fre_hash = [0] * 26\n",
        "\n",
        "        # Time Complexity will be O(n + m + sigma)\n",
        "        # initialization (first word)\n",
        "        for _, char in enumerate(words[0]):\n",
        "            fre_hash[ord(char) - ord(\"a\")] += 1\n",
        "\n",
        "        # iterate each word and compare minimum values\n",
        "        for i in range(1, len(words)):\n",
        "            fre_oth_hash = [0] * 26\n",
        "            \n",
        "            # 1. record each character frequency of current word\n",
        "            for _, char in enumerate(words[i]):\n",
        "                fre_oth_hash[ord(char) - ord(\"a\")] += 1\n",
        "\n",
        "            # 2. compare\n",
        "            for i in range(26):\n",
        "                fre_hash[i] = min(fre_hash[i], fre_oth_hash[i])\n",
        "        \n",
        "        # append characters which appear at each word\n",
        "        for i in range(26):\n",
        "            while fre_hash[i] != 0:\n",
        "                ans.append(chr(i + ord(\"a\")))\n",
        "                fre_hash[i] -= 1\n",
        "\n",
        "        return ans  "
      ]
    }
  ]
}