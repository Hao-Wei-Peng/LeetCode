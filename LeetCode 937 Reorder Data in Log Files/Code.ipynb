{
  "nbformat": 4,
  "nbformat_minor": 0,
  "metadata": {
    "colab": {
      "provenance": [],
      "collapsed_sections": []
    },
    "kernelspec": {
      "name": "python3",
      "display_name": "Python 3"
    },
    "language_info": {
      "name": "python"
    }
  },
  "cells": [
    {
      "cell_type": "code",
      "execution_count": null,
      "metadata": {
        "id": "mMOA-ZhSJFOB"
      },
      "outputs": [],
      "source": [
        "class Solution:\n",
        "    def reorderLogFiles(self, logs: List[str]) -> List[str]:\n",
        "\n",
        "        ans = []\n",
        "\n",
        "        # base case\n",
        "        if not logs:\n",
        "            return ans\n",
        "        \n",
        "        # 2 types\n",
        "        # 1. Letter-logs: lowercase english letters\n",
        "        # 2. Digit-logs: digits\n",
        "\n",
        "        # results\n",
        "        # 1. letter-logs come before all digit-logs\n",
        "        # 2. letter-logs (should follow lexicographically)\n",
        "        # 3. digit-logs maintain relative ordering\n",
        "        Letter, Digit = [], []\n",
        "\n",
        "        for log in logs:\n",
        "            LogSplit = log.split(\" \")\n",
        "\n",
        "            # use first element to check whether is letter or digit log\n",
        "            if not LogSplit[1].isdigit():\n",
        "                Contents = \" \".join(LogSplit[1 : ])\n",
        "                Letter.append((Contents, LogSplit[0]))           \n",
        "            else:\n",
        "                Digit.append(log)\n",
        "            \n",
        "        # Time Complexity will be O(nlogn)\n",
        "        Letter = sorted(Letter)\n",
        "        ans = []\n",
        "\n",
        "        for letter in Letter:\n",
        "            ans.append(letter[1] + \" \" + letter[0])\n",
        "        \n",
        "        return ans + Digit\n",
        "        "
      ]
    }
  ]
}