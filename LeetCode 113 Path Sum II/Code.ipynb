{
  "nbformat": 4,
  "nbformat_minor": 0,
  "metadata": {
    "colab": {
      "name": "Code.ipynb",
      "provenance": [],
      "collapsed_sections": []
    },
    "kernelspec": {
      "name": "python3",
      "display_name": "Python 3"
    },
    "language_info": {
      "name": "python"
    }
  },
  "cells": [
    {
      "cell_type": "code",
      "execution_count": null,
      "metadata": {
        "id": "hFD3gFKqbvee"
      },
      "outputs": [],
      "source": [
        "# Definition for a binary tree node.\n",
        "# class TreeNode:\n",
        "#     def __init__(self, val=0, left=None, right=None):\n",
        "#         self.val = val\n",
        "#         self.left = left\n",
        "#         self.right = right\n",
        "class Solution:\n",
        "    def pathSum(self, root: Optional[TreeNode], targetSum: int) -> List[List[int]]:\n",
        "\n",
        "        # edge case\n",
        "        if not root:\n",
        "            return []\n",
        "        \n",
        "        # Time Complexity will be O(n)\n",
        "        # Space Complexity will be O(n)\n",
        "        # n = tree nodes\n",
        "        queue = collections.deque([(root, [root.val], root.val)])\n",
        "        ans = []\n",
        "\n",
        "        while queue:\n",
        "            LenQ = len(queue)\n",
        "\n",
        "            for i in range(0, LenQ):\n",
        "\n",
        "                node, path, val = queue.popleft()\n",
        "\n",
        "                if not node.left and not node.right and val == targetSum:\n",
        "                    ans.append(path)                    \n",
        "\n",
        "                if node.left:\n",
        "                    queue.append((node.left, path + [node.left.val], val + node.left.val))\n",
        "                \n",
        "                if node.right:\n",
        "                    queue.append((node.right, path + [node.right.val], val + node.right.val))\n",
        "        \n",
        "        return ans\n",
        "                "
      ]
    }
  ]
}