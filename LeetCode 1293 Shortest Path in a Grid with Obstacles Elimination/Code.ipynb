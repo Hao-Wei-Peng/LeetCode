{
  "nbformat": 4,
  "nbformat_minor": 0,
  "metadata": {
    "colab": {
      "provenance": []
    },
    "kernelspec": {
      "name": "python3",
      "display_name": "Python 3"
    },
    "language_info": {
      "name": "python"
    }
  },
  "cells": [
    {
      "cell_type": "code",
      "execution_count": null,
      "metadata": {
        "id": "mMOA-ZhSJFOB"
      },
      "outputs": [],
      "source": [
        "class Solution:\n",
        "    def shortestPath(self, Grid: List[List[int]], k: int) -> int:\n",
        "\n",
        "        # base case\n",
        "        if not Grid:\n",
        "            return -1\n",
        "        \n",
        "        m, n = len(Grid), len(Grid[0]) # m = 5, n = 3\n",
        "\n",
        "        # specific circumstance\n",
        "        # start and end at same positions\n",
        "        if m == 1 and n == 1:\n",
        "            return 0\n",
        "\n",
        "        # walk along with the wall\n",
        "        if k >= m + n - 2:\n",
        "            return m + n - 2\n",
        "        \n",
        "        k = min(k, m + n - 3)\n",
        "\n",
        "        Queue = collections.deque([(0, 0, k, 1)]) # [x, y, k, path]\n",
        "        visited = set((0, 0, k)) # [x, y, k]\n",
        "        directions = [(0, 1), (0, -1), (1, 0), (-1, 0)]\n",
        "\n",
        "        # use BFS to deal with this problem\n",
        "        while Queue:\n",
        "            LenQ = len(Queue)\n",
        "\n",
        "            for _ in range(0, LenQ):\n",
        "                cur_x, cur_y, k, path = Queue.popleft()\n",
        "                \n",
        "                for x, y in directions:\n",
        "                    nxt_x, nxt_y = cur_x + x, cur_y + y\n",
        "\n",
        "                    # reasonable range\n",
        "                    if 0 <= nxt_x < m and 0 <= nxt_y < n:\n",
        "                        if Grid[nxt_x][nxt_y] == 0 and (nxt_x, nxt_y, k) not in visited:\n",
        "                            # reach the final\n",
        "                            if [nxt_x, nxt_y] == [m - 1, n - 1]:\n",
        "                                return path\n",
        "                            \n",
        "                            visited.add((nxt_x, nxt_y, k))\n",
        "                            Queue.append((nxt_x, nxt_y, k, path + 1))\n",
        "                        \n",
        "                        elif Grid[nxt_x][nxt_y] == 1 and k > 0 and (nxt_x, nxt_y, k - 1) not in visited:\n",
        "                            visited.add((nxt_x, nxt_y, k - 1))\n",
        "                            Queue.append((nxt_x, nxt_y, k - 1, path + 1))\n",
        "            \n",
        "        return -1\n"
      ]
    }
  ]
}