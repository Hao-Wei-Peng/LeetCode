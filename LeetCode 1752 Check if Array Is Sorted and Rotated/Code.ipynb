{
  "nbformat": 4,
  "nbformat_minor": 0,
  "metadata": {
    "colab": {
      "provenance": []
    },
    "kernelspec": {
      "name": "python3",
      "display_name": "Python 3"
    },
    "language_info": {
      "name": "python"
    }
  },
  "cells": [
    {
      "cell_type": "code",
      "execution_count": null,
      "metadata": {
        "id": "mMOA-ZhSJFOB"
      },
      "outputs": [],
      "source": [
        "class Solution:\n",
        "    def check(self, nums: List[int]) -> bool:\n",
        "\n",
        "        # base case\n",
        "        if not nums:\n",
        "            return False\n",
        "        \n",
        "        # Time Complexity will be O(nlogn)\n",
        "        # Space Complexity will be O(1)\n",
        "        sort_nums = sorted(nums)\n",
        "        n = len(nums)\n",
        "\n",
        "        for i in range(0, n):\n",
        "            if nums[i : ] + nums[0 : i] == sort_nums:\n",
        "                return True\n",
        "        \n",
        "        return False\n",
        "        "
      ]
    }
  ]
}