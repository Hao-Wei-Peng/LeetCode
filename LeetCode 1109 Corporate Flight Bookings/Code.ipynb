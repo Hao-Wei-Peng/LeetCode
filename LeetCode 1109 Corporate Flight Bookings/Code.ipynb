{
  "nbformat": 4,
  "nbformat_minor": 0,
  "metadata": {
    "colab": {
      "provenance": []
    },
    "kernelspec": {
      "name": "python3",
      "display_name": "Python 3"
    },
    "language_info": {
      "name": "python"
    }
  },
  "cells": [
    {
      "cell_type": "code",
      "execution_count": null,
      "metadata": {
        "id": "mMOA-ZhSJFOB"
      },
      "outputs": [],
      "source": [
        "class Solution:\n",
        "    def corpFlightBookings(self, bookings: List[List[int]], n: int) -> List[int]:\n",
        "\n",
        "        # base case\n",
        "        if not bookings:\n",
        "            return bookings\n",
        "        \n",
        "        # n: label from 1 to n\n",
        "        # bookings[i] = [firsti, lasti, seatsi]\n",
        "        # Key Points: record the variation of each label (station)\n",
        "        # [1, 2, 3, 4, 5]\n",
        "        Reversed = [0] * n\n",
        "\n",
        "        for L, R, inc in bookings:\n",
        "            Reversed[L - 1] += inc\n",
        "\n",
        "            if R < n:\n",
        "                Reversed[R] -= inc\n",
        "        \n",
        "        for i in range(1, n):\n",
        "            Reversed[i] = Reversed[i] + Reversed[i - 1]\n",
        "\n",
        "        return Reversed"
      ]
    }
  ]
}