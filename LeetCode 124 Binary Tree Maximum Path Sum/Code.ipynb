{
  "nbformat": 4,
  "nbformat_minor": 0,
  "metadata": {
    "colab": {
      "provenance": [],
      "collapsed_sections": []
    },
    "kernelspec": {
      "name": "python3",
      "display_name": "Python 3"
    },
    "language_info": {
      "name": "python"
    }
  },
  "cells": [
    {
      "cell_type": "code",
      "execution_count": null,
      "metadata": {
        "id": "mMOA-ZhSJFOB"
      },
      "outputs": [],
      "source": [
        "# Definition for a binary tree node.\n",
        "# class TreeNode:\n",
        "#     def __init__(self, val=0, left=None, right=None):\n",
        "#         self.val = val\n",
        "#         self.left = left\n",
        "#         self.right = right\n",
        "class Solution:\n",
        "    def __init__(self):\n",
        "        self.MaxPathSum = float(\"-inf\")\n",
        "\n",
        "    def maxPathSum(self, root: Optional[TreeNode]) -> int:\n",
        "        # we will use dfs to deal with this problem\n",
        "        self.MaxGain(root)\n",
        "        return self.MaxPathSum\n",
        "    \n",
        "    # compute maximum gain at leaf node\n",
        "    # compute maximum path sum\n",
        "    def MaxGain(self, root):\n",
        "\n",
        "        if not root:\n",
        "            return 0\n",
        "        \n",
        "        root.left = self.MaxGain(root.left)\n",
        "        root.right = self.MaxGain(root.right)\n",
        "\n",
        "        # whether we need to computer left, right gain\n",
        "        # if smaller than 0, we will not compute\n",
        "        LeftGain = max(root.left, 0)\n",
        "        RightGain = max(root.right, 0)\n",
        "        \n",
        "        Current = root.val + LeftGain + RightGain\n",
        "\n",
        "        # update maximum values\n",
        "        self.MaxPathSum = max(self.MaxPathSum, Current)\n",
        "\n",
        "        return root.val + max(LeftGain, RightGain) "
      ]
    }
  ]
}