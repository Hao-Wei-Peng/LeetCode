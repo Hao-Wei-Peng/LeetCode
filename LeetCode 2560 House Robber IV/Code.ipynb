{
  "nbformat": 4,
  "nbformat_minor": 0,
  "metadata": {
    "colab": {
      "provenance": []
    },
    "kernelspec": {
      "name": "python3",
      "display_name": "Python 3"
    },
    "language_info": {
      "name": "python"
    }
  },
  "cells": [
    {
      "cell_type": "code",
      "source": [
        "class Solution:\n",
        "    def isValid(self, capacity, nums, k):\n",
        "\n",
        "        cnt, used = 0, False\n",
        "\n",
        "        for num in nums:\n",
        "            if used:\n",
        "                used = False\n",
        "            \n",
        "            elif num <= capacity:\n",
        "                cnt += 1\n",
        "                used = True\n",
        "            \n",
        "        return cnt >= k\n",
        "\n",
        "    def minCapability(self, nums: List[int], k: int) -> int:\n",
        "\n",
        "        # we can use binary search to deal with this problem\n",
        "        # steal at least k hourses\n",
        "\n",
        "        # Time Complexity will be O(logn)\n",
        "        # Space Complexity will be O(1)\n",
        "        n = len(nums)\n",
        "        L, R = min(nums), max(nums)\n",
        "\n",
        "        while L <= R:\n",
        "            M = L + (R - L) // 2\n",
        "\n",
        "            if self.isValid(M, nums, k):\n",
        "                ans = M\n",
        "                R = M - 1\n",
        "            \n",
        "            else:\n",
        "                L = M + 1\n",
        "        \n",
        "        return ans\n"
      ],
      "metadata": {
        "id": "VQsRJ7yrQZxK"
      },
      "execution_count": null,
      "outputs": []
    }
  ]
}