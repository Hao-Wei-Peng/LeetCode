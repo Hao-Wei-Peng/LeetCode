{
  "nbformat": 4,
  "nbformat_minor": 0,
  "metadata": {
    "colab": {
      "provenance": []
    },
    "kernelspec": {
      "name": "python3",
      "display_name": "Python 3"
    },
    "language_info": {
      "name": "python"
    }
  },
  "cells": [
    {
      "cell_type": "code",
      "execution_count": null,
      "metadata": {
        "id": "mMOA-ZhSJFOB"
      },
      "outputs": [],
      "source": [
        "# Definition for a binary tree node.\n",
        "# class TreeNode:\n",
        "#     def __init__(self, val=0, left=None, right=None):\n",
        "#         self.val = val\n",
        "#         self.left = left\n",
        "#         self.right = right\n",
        "class Solution:\n",
        "    def widthOfBinaryTree(self, root: Optional[TreeNode]) -> int:\n",
        "\n",
        "        # base case\n",
        "        if not root:\n",
        "            return 0\n",
        "        \n",
        "        width = 1\n",
        "        Queue = collections.deque([(root, 1)]) # node, label (use idx to control each level)\n",
        "\n",
        "        while Queue:\n",
        "            LenQ = len(Queue)\n",
        "\n",
        "            for _ in range(0, LenQ):\n",
        "                node, label = Queue.popleft()\n",
        "\n",
        "                if node.left:\n",
        "                    Queue.append((node.left, 2 * label))\n",
        "                \n",
        "                if node.right:\n",
        "                    Queue.append((node.right, 2 * label + 1))\n",
        "            \n",
        "            if Queue:\n",
        "                width = max(width, Queue[-1][1] - Queue[0][1] + 1)\n",
        "        \n",
        "        return width"
      ]
    }
  ]
}