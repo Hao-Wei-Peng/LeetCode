{
  "nbformat": 4,
  "nbformat_minor": 0,
  "metadata": {
    "colab": {
      "provenance": []
    },
    "kernelspec": {
      "name": "python3",
      "display_name": "Python 3"
    },
    "language_info": {
      "name": "python"
    }
  },
  "cells": [
    {
      "cell_type": "code",
      "source": [
        "class Codec:\n",
        "    def __init__(self):\n",
        "        self.lenOfWord = []\n",
        "\n",
        "    def encode(self, strs: List[str]) -> str:\n",
        "        \"\"\"Encodes a list of strings to a single string.\n",
        "        \"\"\"\n",
        "\n",
        "        for word in strs:\n",
        "            self.lenOfWord.append(len(word))\n",
        "        \n",
        "        return \"\".join(strs)\n",
        "        \n",
        "\n",
        "    def decode(self, s: str) -> List[str]:\n",
        "        \"\"\"Decodes a single string to a list of strings.\n",
        "        \"\"\"\n",
        "\n",
        "        DeCode = []\n",
        "        curIdx = 0\n",
        "\n",
        "        for WL in self.lenOfWord:\n",
        "            DeCode.append(s[curIdx : curIdx + WL])\n",
        "            curIdx += WL\n",
        "        \n",
        "        return DeCode\n",
        "\n",
        "# Your Codec object will be instantiated and called as such:\n",
        "# codec = Codec()\n",
        "# codec.decode(codec.encode(strs))\n",
        "\n",
        "obj = Codec()\n",
        "e1 = obj.encode([\"Hello\",\"World\"])\n",
        "print(obj.decode(e1))\n",
        "\n"
      ],
      "metadata": {
        "id": "VQsRJ7yrQZxK"
      },
      "execution_count": null,
      "outputs": []
    }
  ]
}