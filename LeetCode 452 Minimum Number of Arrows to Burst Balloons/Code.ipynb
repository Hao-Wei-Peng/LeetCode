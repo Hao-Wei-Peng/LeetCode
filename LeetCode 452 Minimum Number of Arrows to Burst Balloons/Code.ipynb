{
  "nbformat": 4,
  "nbformat_minor": 0,
  "metadata": {
    "colab": {
      "provenance": [],
      "collapsed_sections": []
    },
    "kernelspec": {
      "name": "python3",
      "display_name": "Python 3"
    },
    "language_info": {
      "name": "python"
    }
  },
  "cells": [
    {
      "cell_type": "code",
      "execution_count": null,
      "metadata": {
        "id": "mMOA-ZhSJFOB"
      },
      "outputs": [],
      "source": [
        "class Solution:\n",
        "    def findMinArrowShots(self, points: List[List[int]]) -> int:\n",
        "\n",
        "        # Time Complexity will be O(nlogn)\n",
        "        # Space Complexity will be O(n)\n",
        "        points = sorted(points, key = lambda a : a[0])\n",
        "        output = [points[0]]\n",
        "\n",
        "        Arrow = 1\n",
        "\n",
        "        for start, end in points[1 : ]:\n",
        "            LastEnd = output[-1][1]\n",
        "\n",
        "            # overlap\n",
        "            # [1, 6], [2, 8], [3, 7]\n",
        "            if start <= LastEnd:\n",
        "                output[-1][1] = min(LastEnd, end)\n",
        "            \n",
        "            else:\n",
        "                output.append([start, end])\n",
        "                Arrow = Arrow + 1\n",
        "        \n",
        "        return Arrow"
      ]
    }
  ]
}