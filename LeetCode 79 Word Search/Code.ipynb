{
  "nbformat": 4,
  "nbformat_minor": 0,
  "metadata": {
    "colab": {
      "provenance": [],
      "collapsed_sections": []
    },
    "kernelspec": {
      "name": "python3",
      "display_name": "Python 3"
    },
    "language_info": {
      "name": "python"
    }
  },
  "cells": [
    {
      "cell_type": "code",
      "execution_count": null,
      "metadata": {
        "id": "mMOA-ZhSJFOB"
      },
      "outputs": [],
      "source": [
        "class Solution:\n",
        "    def exist(self, board: List[List[str]], word: str) -> bool:\n",
        "\n",
        "        Rows, Cols = len(board), len(board[0])\n",
        "\n",
        "        for r in range(0, Rows):\n",
        "            for c in range(0, Cols):\n",
        "                # every point could be start position\n",
        "                # third parameters represent which index of the word\n",
        "                if self.Backtrack(board, word, r, c, 0):\n",
        "                    return True\n",
        "        \n",
        "        return False\n",
        "\n",
        "    def Backtrack(self, board, word, x_idx, y_idx, word_idx):\n",
        "        \n",
        "        Rows, Cols = len(board), len(board[0])\n",
        "\n",
        "        # current element not equal to word character\n",
        "        if board[x_idx][y_idx] != word[word_idx]:\n",
        "            return False\n",
        "        \n",
        "        # if we find last element\n",
        "        if word_idx == len(word) - 1:\n",
        "            return True\n",
        "\n",
        "        # we have visited current position\n",
        "        board[x_idx][y_idx] = \"V\"\n",
        "\n",
        "        directions = [(1, 0), (-1, 0), (0, 1), (0, -1)]\n",
        "\n",
        "        for x, y in directions:\n",
        "            nxt_x_idx = x_idx + x\n",
        "            nxt_y_idy = y_idx + y\n",
        "\n",
        "            if 0 <= nxt_x_idx < Rows and 0 <= nxt_y_idy < Cols and self.Backtrack(board, word, nxt_x_idx, nxt_y_idy, word_idx + 1):\n",
        "                return True\n",
        "        \n",
        "        # reset to its original type\n",
        "        board[x_idx][y_idx] = word[word_idx]\n",
        "        "
      ]
    }
  ]
}