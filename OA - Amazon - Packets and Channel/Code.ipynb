{
  "nbformat": 4,
  "nbformat_minor": 0,
  "metadata": {
    "colab": {
      "provenance": [],
      "collapsed_sections": []
    },
    "kernelspec": {
      "name": "python3",
      "display_name": "Python 3"
    },
    "language_info": {
      "name": "python"
    }
  },
  "cells": [
    {
      "cell_type": "code",
      "execution_count": 3,
      "metadata": {
        "id": "mMOA-ZhSJFOB"
      },
      "outputs": [],
      "source": [
        "class Solution:\n",
        "    def Quality(self, elements, n):\n",
        "\n",
        "      # base case\n",
        "      if not elements:\n",
        "        return 0\n",
        "      \n",
        "      # Key Point: we should use largest values with one channel\n",
        "      # sort the list\n",
        "\n",
        "      # Time Complexity will be O(nlogn)\n",
        "      elements = sorted(elements)\n",
        "      LenG = len(elements)\n",
        "      \n",
        "      # [1, 2, 2, 3, 5, 5]\n",
        "      ans = 0\n",
        "\n",
        "      # we need to calculate all channels result exclude the leftmost channel\n",
        "      for idx in range(LenG - n + 1, LenG):\n",
        "        curval = elements[idx]\n",
        "        ans += curval\n",
        "      \n",
        "      # remain elements\n",
        "      LenG = LenG - n\n",
        "      \n",
        "      # odd remain\n",
        "      if LenG % 2 == 1:\n",
        "        ans += elements[(LenG // 2) + 1]\n",
        "      \n",
        "      elif LenG % 2 == 0:\n",
        "        ans += elements[LenG // 2]\n",
        "      \n",
        "\n",
        "      return ans\n",
        "      "
      ]
    },
    {
      "cell_type": "code",
      "source": [
        "obj = Solution()\n",
        "\n",
        "List = [5, 2, 2, 1, 5, 3]\n",
        "channel = 2\n",
        "print(obj.Quality(List, channel))\n",
        "\n",
        "List = [1, 2, 3, 4, 5, 6, 7, 8]\n",
        "channel = 5\n",
        "print(obj.Quality(List, channel))"
      ],
      "metadata": {
        "colab": {
          "base_uri": "https://localhost:8080/"
        },
        "id": "yX75YZk4Psn0",
        "outputId": "d981508c-0104-4a26-c9b2-c6cc8a700d97"
      },
      "execution_count": 4,
      "outputs": [
        {
          "output_type": "stream",
          "name": "stdout",
          "text": [
            "7\n",
            "29\n"
          ]
        }
      ]
    }
  ]
}