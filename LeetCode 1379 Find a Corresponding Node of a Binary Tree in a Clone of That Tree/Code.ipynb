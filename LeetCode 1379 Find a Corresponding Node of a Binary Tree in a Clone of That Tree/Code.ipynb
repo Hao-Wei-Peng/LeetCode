{
  "nbformat": 4,
  "nbformat_minor": 0,
  "metadata": {
    "colab": {
      "provenance": [],
      "collapsed_sections": []
    },
    "kernelspec": {
      "name": "python3",
      "display_name": "Python 3"
    },
    "language_info": {
      "name": "python"
    }
  },
  "cells": [
    {
      "cell_type": "code",
      "execution_count": null,
      "metadata": {
        "id": "mMOA-ZhSJFOB"
      },
      "outputs": [],
      "source": [
        "# Definition for a binary tree node.\n",
        "# class TreeNode:\n",
        "#     def __init__(self, x):\n",
        "#         self.val = x\n",
        "#         self.left = None\n",
        "#         self.right = None\n",
        "\n",
        "class Solution:\n",
        "    def __init__(self):\n",
        "        self.Ans = TreeNode()\n",
        "\n",
        "    def getTargetCopy(self, original: TreeNode, cloned: TreeNode, target: TreeNode) -> TreeNode:\n",
        "        self.DFS(original, cloned, target)\n",
        "        return self.Ans\n",
        "        \n",
        "    def DFS(self, original, cloned, target):\n",
        "        \n",
        "        # end condition\n",
        "        if not original:\n",
        "            return None\n",
        "\n",
        "        if original.val == target.val and cloned.val == target.val:\n",
        "            self.Ans = cloned\n",
        "\n",
        "        self.DFS(original.left, cloned.left, target)\n",
        "        self.DFS(original.right, cloned.right, target)\n"
      ]
    }
  ]
}