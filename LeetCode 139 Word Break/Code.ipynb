{
  "nbformat": 4,
  "nbformat_minor": 0,
  "metadata": {
    "colab": {
      "provenance": [],
      "collapsed_sections": []
    },
    "kernelspec": {
      "name": "python3",
      "display_name": "Python 3"
    },
    "language_info": {
      "name": "python"
    }
  },
  "cells": [
    {
      "cell_type": "code",
      "execution_count": null,
      "metadata": {
        "id": "hFD3gFKqbvee"
      },
      "outputs": [],
      "source": [
        "class Solution:\n",
        "    def wordBreak(self, s: str, wordDict: List[str]) -> bool:\n",
        "\n",
        "        # we can use word in wordDict multiple times (element)\n",
        "        # backpack -> string s, ensure whether we can combine words equal string s\n",
        "        LenS = len(s)\n",
        "\n",
        "        # dp[j] = length of string j is True, if it can be divided into each word in wordDict \n",
        "        dp = [False] * (LenS + 1)\n",
        "        dp[0] = True\n",
        "\n",
        "        for j in range(0, LenS + 1):\n",
        "            for i in range(j + 1, LenS + 1):\n",
        "                if dp[j] and s[j : i] in wordDict:\n",
        "                    dp[i] = True\n",
        "        \n",
        "        return dp[LenS]"
      ]
    }
  ]
}