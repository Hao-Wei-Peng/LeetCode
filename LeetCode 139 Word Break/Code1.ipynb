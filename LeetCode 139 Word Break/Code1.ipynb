{
  "nbformat": 4,
  "nbformat_minor": 0,
  "metadata": {
    "colab": {
      "provenance": [],
      "collapsed_sections": []
    },
    "kernelspec": {
      "name": "python3",
      "display_name": "Python 3"
    },
    "language_info": {
      "name": "python"
    }
  },
  "cells": [
    {
      "cell_type": "code",
      "execution_count": 1,
      "metadata": {
        "id": "mMOA-ZhSJFOB"
      },
      "outputs": [],
      "source": [
        "class Solution:\n",
        "    def wordBreak(self, s: str, wordDict: List[str]) -> bool:\n",
        "\n",
        "        # base case\n",
        "        if not s:\n",
        "            return True\n",
        "        \n",
        "        if not wordDict:\n",
        "            return False\n",
        "\n",
        "        # we can use word in wordDict multiple times (element)\n",
        "        # backpack -> string s, ensure whether we can combine words equal string s\n",
        "        n = len(s)\n",
        "\n",
        "        # dp[j] = length of string j is True, if it can be divided into each word in wordDict \n",
        "        dp = [True] + [False] * n\n",
        "\n",
        "        # prune step\n",
        "        MaxLen = 0\n",
        "\n",
        "        for word in wordDict:\n",
        "            MaxLen = max(MaxLen, len(word))\n",
        "\n",
        "        for end in range(1, n + 1):\n",
        "            for start in range(max(end - MaxLen, 0), end):\n",
        "                if not dp[start]:\n",
        "                    continue\n",
        "                \n",
        "                if s[start : end] in wordDict:\n",
        "                    dp[end] = True\n",
        "                    break\n",
        "        \n",
        "        return dp[n]"
      ]
    }
  ]
}