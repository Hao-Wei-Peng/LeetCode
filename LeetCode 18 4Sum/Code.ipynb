{
  "nbformat": 4,
  "nbformat_minor": 0,
  "metadata": {
    "colab": {
      "name": "Code.ipynb",
      "provenance": [],
      "collapsed_sections": []
    },
    "kernelspec": {
      "name": "python3",
      "display_name": "Python 3"
    },
    "language_info": {
      "name": "python"
    }
  },
  "cells": [
    {
      "cell_type": "code",
      "execution_count": null,
      "metadata": {
        "id": "hFD3gFKqbvee"
      },
      "outputs": [],
      "source": [
        "class Solution:\n",
        "    def fourSum(self, nums: List[int], target: int) -> List[List[int]]:\n",
        "        \n",
        "        # we can use two pointers to deal with this problem\n",
        "        nums = sorted(nums)\n",
        "        n = len(nums)\n",
        "        ans = []\n",
        "\n",
        "        # Time Complexity will be O(n^3)\n",
        "        # Space Complexity will be O(1)\n",
        "        for fst in range(0, n):\n",
        "            # do not consider duplicate situation\n",
        "            if fst > 0 and nums[fst] == nums[fst - 1]:\n",
        "                continue\n",
        "\n",
        "            for sec in range(fst + 1, n): \n",
        "                # do not consider duplicate situation\n",
        "                if sec > fst + 1 and nums[sec] == nums[sec - 1]:\n",
        "                    continue\n",
        "                \n",
        "                left = sec + 1\n",
        "                right = n - 1\n",
        "\n",
        "                # we need to consider 3 situations\n",
        "                # if larger than target, move right pointer\n",
        "                # if smaller than target, move left pointer\n",
        "                # if equal to target, add result and move two pointers\n",
        "                while left < right:\n",
        "                    total = nums[fst] + nums[sec] + nums[left] + nums[right]\n",
        "\n",
        "                    if total > target:\n",
        "                        right = right - 1\n",
        "\n",
        "                    elif total < target:\n",
        "                        left = left + 1\n",
        "\n",
        "                    else:\n",
        "                        ans.append([nums[fst], nums[sec], nums[left], nums[right]])\n",
        "                        \n",
        "                        # do not consider duplicate situation\n",
        "                        while left < right and nums[left] == nums[left + 1]:\n",
        "                            left = left + 1\n",
        "                        \n",
        "                        while left < right and nums[right] == nums[right - 1]:\n",
        "                            right = right - 1\n",
        "                        \n",
        "                        left = left + 1\n",
        "                        right = right - 1\n",
        "        return ans    "
      ]
    }
  ]
}