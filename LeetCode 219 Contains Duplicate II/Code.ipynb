{
  "nbformat": 4,
  "nbformat_minor": 0,
  "metadata": {
    "colab": {
      "provenance": []
    },
    "kernelspec": {
      "name": "python3",
      "display_name": "Python 3"
    },
    "language_info": {
      "name": "python"
    }
  },
  "cells": [
    {
      "cell_type": "code",
      "execution_count": null,
      "metadata": {
        "id": "mMOA-ZhSJFOB"
      },
      "outputs": [],
      "source": [
        "class Solution:\n",
        "    def containsNearbyDuplicate(self, nums: List[int], k: int) -> bool:\n",
        "\n",
        "        # base case\n",
        "        if not nums:\n",
        "            return False\n",
        "\n",
        "        Map = collections.defaultdict(int)\n",
        "\n",
        "        # Time Complexity will be O(n)\n",
        "        # Space Complexity will be O(n)\n",
        "        for idx, num in enumerate(nums):\n",
        "            if num in Map and idx - Map[num] <= k:\n",
        "                return True\n",
        "            Map[num] = idx\n",
        "        \n",
        "        return False"
      ]
    }
  ]
}