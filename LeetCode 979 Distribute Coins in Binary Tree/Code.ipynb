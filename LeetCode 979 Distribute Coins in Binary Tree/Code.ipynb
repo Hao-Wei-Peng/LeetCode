{
  "nbformat": 4,
  "nbformat_minor": 0,
  "metadata": {
    "colab": {
      "provenance": [],
      "collapsed_sections": []
    },
    "kernelspec": {
      "name": "python3",
      "display_name": "Python 3"
    },
    "language_info": {
      "name": "python"
    }
  },
  "cells": [
    {
      "cell_type": "code",
      "execution_count": null,
      "metadata": {
        "id": "mMOA-ZhSJFOB"
      },
      "outputs": [],
      "source": [
        "# Definition for a binary tree node.\n",
        "# class TreeNode:\n",
        "#     def __init__(self, val=0, left=None, right=None):\n",
        "#         self.val = val\n",
        "#         self.left = left\n",
        "#         self.right = right\n",
        "class Solution:\n",
        "    def __init__(self):\n",
        "        self.Operations = 0\n",
        "\n",
        "    def distributeCoins(self, root: Optional[TreeNode]) -> int:\n",
        "\n",
        "        # root.val represents how many coins\n",
        "        # Goal: every node have exactly one coin\n",
        "        # Key Point: we can implement operation from child to parent (postorder)\n",
        "        # left -> right -> mid\n",
        "\n",
        "        # Time Complexity will be O(n)\n",
        "        # Space Complexity will be O(h)\n",
        "        # h = tree high\n",
        "        self.DFS(root)\n",
        "        return self.Operations\n",
        "\n",
        "    def DFS(self, root): \n",
        "\n",
        "        # base case\n",
        "        if not root:\n",
        "            return 0\n",
        "        \n",
        "        LeftOpr = self.DFS(root.left)\n",
        "        RightOpr = self.DFS(root.right)\n",
        "\n",
        "        self.Operations += abs(LeftOpr) + abs(RightOpr)\n",
        "\n",
        "        return root.val + LeftOpr + RightOpr - 1\n"
      ]
    }
  ]
}