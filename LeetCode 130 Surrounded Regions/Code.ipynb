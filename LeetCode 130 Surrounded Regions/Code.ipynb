{
  "nbformat": 4,
  "nbformat_minor": 0,
  "metadata": {
    "colab": {
      "provenance": [],
      "collapsed_sections": []
    },
    "kernelspec": {
      "name": "python3",
      "display_name": "Python 3"
    },
    "language_info": {
      "name": "python"
    }
  },
  "cells": [
    {
      "cell_type": "code",
      "execution_count": null,
      "metadata": {
        "id": "mMOA-ZhSJFOB"
      },
      "outputs": [],
      "source": [
        "class Solution:\n",
        "    def solve(self, board: List[List[str]]) -> None:\n",
        "        \"\"\"\n",
        "        Do not return anything, modify board in-place instead.\n",
        "        \"\"\"\n",
        "\n",
        "        Rows = len(board)\n",
        "        Cols = len(board[0])\n",
        "\n",
        "        # we can use dfs method to deal with this problem\n",
        "        # Time Complexity will be O(m*n)\n",
        "        # Space Complexity will be O(m*n)\n",
        "\n",
        "        # two steps:\n",
        "        # 1. capture all regions that are 4-directionally surrounded by \"X\"\n",
        "        # 2. flippling all \"O\" into \"X\"\n",
        "\n",
        "        def dfs(row, col):\n",
        "            if row < 0 or col < 0 or row == Rows or col == Cols or board[row][col] != \"O\":\n",
        "                return \n",
        "            \n",
        "            board[row][col] = \"V\"\n",
        "\n",
        "            dfs(row + 1, col)\n",
        "            dfs(row - 1, col)\n",
        "            dfs(row, col + 1)\n",
        "            dfs(row, col - 1)\n",
        "\n",
        "\n",
        "        # check whether current \"O\" is at the border position\n",
        "        # start position\n",
        "        for row in range(0, Rows):\n",
        "            for col in range(0, Cols):\n",
        "                if board[row][col] == \"O\" and (row in [0, Rows - 1] or col in [0, Cols - 1]):\n",
        "                    dfs(row, col)\n",
        "        \n",
        "        # reverse \"O\" into \"X\"\n",
        "        # reverse \"V\" into \"O\"\n",
        "        for row in range(0, Rows):\n",
        "            for col in range(0, Cols):\n",
        "                if board[row][col] == \"O\":\n",
        "                    board[row][col] = \"X\"\n",
        "\n",
        "                elif board[row][col] == \"V\":\n",
        "                    board[row][col] = \"O\"\n"
      ]
    }
  ]
}