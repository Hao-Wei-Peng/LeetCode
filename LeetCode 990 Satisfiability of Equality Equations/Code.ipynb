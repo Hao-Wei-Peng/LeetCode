{
  "nbformat": 4,
  "nbformat_minor": 0,
  "metadata": {
    "colab": {
      "provenance": [],
      "collapsed_sections": []
    },
    "kernelspec": {
      "name": "python3",
      "display_name": "Python 3"
    },
    "language_info": {
      "name": "python"
    }
  },
  "cells": [
    {
      "cell_type": "code",
      "execution_count": null,
      "metadata": {
        "id": "mMOA-ZhSJFOB"
      },
      "outputs": [],
      "source": [
        "class DisJoint:\n",
        "    def __init__(self):\n",
        "        self.parent = {}\n",
        "        self.weight = {}\n",
        "\n",
        "    def build(self, node):\n",
        "\n",
        "        if node not in self.parent:\n",
        "            self.parent[node] = node\n",
        "            self.weight[node] = 1\n",
        "    \n",
        "    def findParent(self, node):\n",
        "\n",
        "        if self.parent[node] == node:\n",
        "            return node\n",
        "        \n",
        "        self.parent[node] = self.findParent(self.parent[node])\n",
        "        return self.parent[node]\n",
        "\n",
        "    def union(self, node1, node2):\n",
        "\n",
        "        p1, p2 = self.findParent(node1), self.findParent(node2)\n",
        "\n",
        "        if p1 == p2:\n",
        "            return\n",
        "\n",
        "        if self.weight[p1] < self.weight[p2]:\n",
        "            self.parent[p1] = p2\n",
        "        \n",
        "        elif self.weight[p1] > self.weight[p2]:\n",
        "            self.parent[p2] = p1\n",
        "        \n",
        "        else:\n",
        "            self.parent[p1] = p2\n",
        "            self.weight[p2] += 1\n",
        "\n",
        "class Solution:\n",
        "    def equationsPossible(self, equations: List[str]) -> bool:\n",
        "\n",
        "        # base case\n",
        "        if not equations:\n",
        "            return True\n",
        "\n",
        "        ds = DisJoint()\n",
        "\n",
        "        # discuss \"==\" at first\n",
        "        for equation in equations:\n",
        "            if \"==\" not in equation:\n",
        "                continue\n",
        "            \n",
        "            node1, node2 = equation.split(\"==\")\n",
        "            ds.build(node1)\n",
        "            ds.build(node2)\n",
        "            ds.union(node1, node2)\n",
        "        \n",
        "        # discuss \"!=\" at second\n",
        "        for equation in equations:\n",
        "            if \"!=\" not in equation:\n",
        "                continue\n",
        "            \n",
        "            node1, node2 = equation.split(\"!=\")\n",
        "            ds.build(node1)\n",
        "            ds.build(node2)\n",
        "\n",
        "            # two nodes have same parent, belong to same groups\n",
        "            if ds.findParent(node1) == ds.findParent(node2):\n",
        "                return False\n",
        "        \n",
        "        return True"
      ]
    }
  ]
}