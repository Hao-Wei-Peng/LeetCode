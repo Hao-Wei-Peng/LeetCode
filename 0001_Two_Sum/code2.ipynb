{
 "cells": [
  {
   "cell_type": "code",
   "execution_count": null,
   "metadata": {},
   "outputs": [],
   "source": [
    "class Solution:\n",
    "    def twoSum(self, nums: List[int], target: int) -> List[int]:\n",
    "        \n",
    "        olds = nums\n",
    "\n",
    "        def Binary_Search(nums, exist_value, begin_position, end_position):\n",
    "            if begin_position <= end_position:\n",
    "                middle_position = int((begin_position + end_position) / 2)\n",
    "                \n",
    "                if nums[middle_position] == exist_value: #at the middle position\n",
    "                    return middle_position\n",
    "                elif exist_value > nums[middle_position]:\n",
    "                    return Binary_Search(nums, exist_value, middle_position + 1, end_position)\n",
    "                else:\n",
    "                    return Binary_Search(nums, exist_value, begin_position, middle_position - 1)\n",
    "            else:\n",
    "                return -1\n",
    "\n",
    "        # O(nlogn)\n",
    "        nums = sorted(nums) #sorting (sorted function doesn't change the list)\n",
    "\n",
    "        for i in range(len(nums)):\n",
    "            #binary search\n",
    "            index = Binary_Search(nums, target - nums[i], 0, len(nums) - 1) #index = position\n",
    "            if (target - nums[i] == nums[index] and i != index):\n",
    "\n",
    "                if nums[i] != nums[index]: #determine whether they are same value\n",
    "                    for s in range(len(olds)):\n",
    "                        if olds[s] == nums[i]:\n",
    "                            First_Value = s\n",
    "                        if olds[s] == nums[index]:\n",
    "                            Second_Value = s\n",
    "                else:\n",
    "                    for s in range(len(olds)):\n",
    "                        if olds[s] == nums[i]:\n",
    "                            First_Value = s\n",
    "                            for k in range(s + 1, len(olds)):\n",
    "                                if olds[k] == nums[index]:\n",
    "                                    Second_Value = k\n",
    "                            break\n",
    "\n",
    "                return [First_Value , Second_Value]"
   ]
  }
 ],
 "metadata": {
  "kernelspec": {
   "display_name": "Python 3",
   "language": "python",
   "name": "python3"
  },
  "language_info": {
   "codemirror_mode": {
    "name": "ipython",
    "version": 3
   },
   "file_extension": ".py",
   "mimetype": "text/x-python",
   "name": "python",
   "nbconvert_exporter": "python",
   "pygments_lexer": "ipython3",
   "version": "3.8.3"
  }
 },
 "nbformat": 4,
 "nbformat_minor": 4
}
