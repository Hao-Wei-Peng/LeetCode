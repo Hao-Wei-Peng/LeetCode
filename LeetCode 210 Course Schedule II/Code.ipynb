{
  "nbformat": 4,
  "nbformat_minor": 0,
  "metadata": {
    "colab": {
      "provenance": [],
      "collapsed_sections": []
    },
    "kernelspec": {
      "name": "python3",
      "display_name": "Python 3"
    },
    "language_info": {
      "name": "python"
    }
  },
  "cells": [
    {
      "cell_type": "code",
      "execution_count": null,
      "metadata": {
        "id": "mMOA-ZhSJFOB"
      },
      "outputs": [],
      "source": [
        "class Solution:\n",
        "    def findOrder(self, numCourses: int, prerequisites: List[List[int]]) -> List[int]:\n",
        "\n",
        "        # we can use bfs method to deal with this problem\n",
        "        CourseList = collections.defaultdict(list)\n",
        "        InDegree = [0] * numCourses\n",
        "\n",
        "        for course, pre in prerequisites:\n",
        "            CourseList[pre].append(course)\n",
        "            InDegree[course] += 1\n",
        "\n",
        "        queue = collections.deque(d for d in range(numCourses) if InDegree[d] == 0)\n",
        "        ans = []\n",
        "        visited = 0\n",
        "\n",
        "        while queue:\n",
        "            cur_course = queue.popleft()\n",
        "            ans.append(cur_course)\n",
        "            numCourses -= 1\n",
        "\n",
        "            for next_course in CourseList[cur_course]:\n",
        "                InDegree[next_course] -= 1\n",
        "\n",
        "                if InDegree[next_course] == 0:\n",
        "                    queue.append(next_course)\n",
        "\n",
        "        if visited == numCourses:\n",
        "            return ans\n",
        "        \n",
        "        else:\n",
        "            return []"
      ]
    }
  ]
}