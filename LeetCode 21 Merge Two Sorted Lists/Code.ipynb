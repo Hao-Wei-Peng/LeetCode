{
  "nbformat": 4,
  "nbformat_minor": 0,
  "metadata": {
    "colab": {
      "provenance": [],
      "collapsed_sections": []
    },
    "kernelspec": {
      "name": "python3",
      "display_name": "Python 3"
    },
    "language_info": {
      "name": "python"
    }
  },
  "cells": [
    {
      "cell_type": "code",
      "execution_count": null,
      "metadata": {
        "id": "mMOA-ZhSJFOB"
      },
      "outputs": [],
      "source": [
        "# Definition for singly-linked list.\n",
        "# class ListNode:\n",
        "#     def __init__(self, val=0, next=None):\n",
        "#         self.val = val\n",
        "#         self.next = next\n",
        "class Solution:\n",
        "    def mergeTwoLists(self, list1: Optional[ListNode], list2: Optional[ListNode]) -> Optional[ListNode]:\n",
        "\n",
        "        # base case\n",
        "        if not list1 and not list2:\n",
        "            return None\n",
        "        \n",
        "        if not list1:\n",
        "            return list2\n",
        "        \n",
        "        if not list2:\n",
        "            return list1\n",
        "        \n",
        "        # we can use two pointers to deal with this problem\n",
        "        dummy = ListNode()\n",
        "\n",
        "        cur = dummy\n",
        "        first = list1\n",
        "        second = list2\n",
        "\n",
        "        while first and second:\n",
        "            if first.val <= second.val:\n",
        "                cur.next = first\n",
        "                first = first.next\n",
        "\n",
        "            elif first.val > second.val:\n",
        "                cur.next = second\n",
        "                second = second.next\n",
        "\n",
        "            cur = cur.next\n",
        "        \n",
        "        tail = cur\n",
        "\n",
        "        if first:\n",
        "            tail.next = first\n",
        "\n",
        "        if second:\n",
        "            tail.next = second\n",
        "        \n",
        "        return dummy.next"
      ]
    }
  ]
}