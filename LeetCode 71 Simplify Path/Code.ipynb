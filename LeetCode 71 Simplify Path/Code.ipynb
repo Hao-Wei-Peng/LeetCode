{
  "nbformat": 4,
  "nbformat_minor": 0,
  "metadata": {
    "colab": {
      "provenance": []
    },
    "kernelspec": {
      "name": "python3",
      "display_name": "Python 3"
    },
    "language_info": {
      "name": "python"
    }
  },
  "cells": [
    {
      "cell_type": "code",
      "execution_count": null,
      "metadata": {
        "id": "mMOA-ZhSJFOB"
      },
      "outputs": [],
      "source": [
        "class Solution:\n",
        "    def simplifyPath(self, path: str) -> str:\n",
        "\n",
        "        # base case\n",
        "        if not path:\n",
        "            return path\n",
        "        \n",
        "        # \"\" or \".\" will be nothing\n",
        "        # multiple \"/\" will be one \"/\"\n",
        "        # \"..\" or \"filename\", use stack to record\n",
        "\n",
        "        # Time Complexity will be O(n)\n",
        "        # Space Complexity will be O(n)\n",
        "        names = path.split(\"/\")\n",
        "        stack = []\n",
        "\n",
        "        for name in names:\n",
        "            if name == \"..\":\n",
        "                if stack: \n",
        "                    stack.pop()\n",
        "            \n",
        "            elif name and name != \".\":\n",
        "                stack.append(name)\n",
        "        \n",
        "        return \"/\" + \"/\".join(stack)"
      ]
    }
  ]
}