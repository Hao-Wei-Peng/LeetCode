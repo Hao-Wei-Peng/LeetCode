{
  "nbformat": 4,
  "nbformat_minor": 0,
  "metadata": {
    "colab": {
      "provenance": [],
      "collapsed_sections": []
    },
    "kernelspec": {
      "name": "python3",
      "display_name": "Python 3"
    },
    "language_info": {
      "name": "python"
    }
  },
  "cells": [
    {
      "cell_type": "code",
      "execution_count": null,
      "metadata": {
        "id": "mMOA-ZhSJFOB"
      },
      "outputs": [],
      "source": [
        "class Solution:\n",
        "    def minCostConnectPoints(self, points: List[List[int]]) -> int:\n",
        "\n",
        "        # base case\n",
        "        if not points:\n",
        "            return 0\n",
        "        \n",
        "        # minimum spanning tree (Prim's algorithm)\n",
        "        # cost should be minimum (sum of edges)\n",
        "\n",
        "        # Time Complexity will be O(n^2logn)\n",
        "        # n^2 edges\n",
        "        # Prim's algorithm => O(logn)\n",
        "        N = len(points)\n",
        "        adj = {i: [] for i in range(0, N)} # i: list of points [cost, node]\n",
        "        \n",
        "        for i in range(0, N):\n",
        "            x1, y1 = points[i]\n",
        "            for j in range(i + 1, N):\n",
        "                x2, y2 = points[j]\n",
        "                dist = abs(x1 - x2) + abs(y1 - y2)\n",
        "                adj[i].append([dist, j])\n",
        "                adj[j].append([dist, i])\n",
        "\n",
        "\n",
        "        # Prim's algorithm (BFS)\n",
        "        ans = 0\n",
        "        visited = set()\n",
        "        minH = [[0, 0]] # [cost, point]\n",
        "\n",
        "        while len(visited) < N:\n",
        "            cost, i = heapq.heappop(minH)\n",
        "\n",
        "            if i in visited:\n",
        "                continue\n",
        "            \n",
        "            ans += cost\n",
        "            visited.add(i)\n",
        "\n",
        "            for neiCost, nei in adj[i]:\n",
        "                if nei not in visited:\n",
        "                    heapq.heappush(minH, [neiCost, nei])\n",
        "        \n",
        "        return ans\n"
      ]
    }
  ]
}