{
  "nbformat": 4,
  "nbformat_minor": 0,
  "metadata": {
    "colab": {
      "provenance": []
    },
    "kernelspec": {
      "name": "python3",
      "display_name": "Python 3"
    },
    "language_info": {
      "name": "python"
    }
  },
  "cells": [
    {
      "cell_type": "code",
      "execution_count": null,
      "metadata": {
        "id": "mMOA-ZhSJFOB"
      },
      "outputs": [],
      "source": [
        "# Definition for a binary tree node.\n",
        "# class TreeNode:\n",
        "#     def __init__(self, val=0, left=None, right=None):\n",
        "#         self.val = val\n",
        "#         self.left = left\n",
        "#         self.right = right\n",
        "class Solution:\n",
        "    def __init__(self):\n",
        "        self.Left = []\n",
        "        self.Right = []\n",
        "        self.Leaves = []\n",
        "\n",
        "    def boundaryOfBinaryTree(self, root: [TreeNode]) -> List[int]:\n",
        "\n",
        "        # concatenation\n",
        "        # root + LB + leaves + RB (reverse order)\n",
        "\n",
        "        if root and not root.left and not root.right:\n",
        "            return [root.val]\n",
        "        \n",
        "        self.LB(root.left)\n",
        "        self.RB(root.right)\n",
        "        self.Bottom(root)\n",
        "\n",
        "        return [root.val] + self.Left + self.Leaves + self.Right[::-1]\n",
        "    \n",
        "    def LB(self, root):\n",
        "\n",
        "        if root and (root.left or root.right):\n",
        "            self.Left.append(root.val)\n",
        "            \n",
        "            if root.left:\n",
        "                self.LB(root.left)\n",
        "            \n",
        "            else:\n",
        "                self.LB(root.right)\n",
        "    \n",
        "    def RB(self, root):\n",
        "\n",
        "        if root and (root.left or root.right):\n",
        "            self.Right.append(root.val)\n",
        "        \n",
        "            if root.right:\n",
        "                self.RB(root.right)\n",
        "            \n",
        "            else:\n",
        "                self.RB(root.left)\n",
        "    \n",
        "    def Bottom(self, root):\n",
        "\n",
        "        if not root:\n",
        "            return None\n",
        "        \n",
        "        L, R = self.Bottom(root.left), self.Bottom(root.right)\n",
        "\n",
        "        # leave \n",
        "        if not L and not R:\n",
        "            self.Leaves.append(root.val)\n",
        "        \n",
        "        return root\n",
        "        "
      ]
    }
  ]
}