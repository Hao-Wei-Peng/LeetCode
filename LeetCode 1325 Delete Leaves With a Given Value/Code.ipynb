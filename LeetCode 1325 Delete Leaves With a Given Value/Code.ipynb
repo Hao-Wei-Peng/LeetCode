{
  "nbformat": 4,
  "nbformat_minor": 0,
  "metadata": {
    "colab": {
      "provenance": [],
      "collapsed_sections": []
    },
    "kernelspec": {
      "name": "python3",
      "display_name": "Python 3"
    },
    "language_info": {
      "name": "python"
    }
  },
  "cells": [
    {
      "cell_type": "code",
      "execution_count": null,
      "metadata": {
        "id": "mMOA-ZhSJFOB"
      },
      "outputs": [],
      "source": [
        "# Definition for a binary tree node.\n",
        "# class TreeNode:\n",
        "#     def __init__(self, val=0, left=None, right=None):\n",
        "#         self.val = val\n",
        "#         self.left = left\n",
        "#         self.right = right\n",
        "class Solution:\n",
        "    def removeLeafNodes(self, root: Optional[TreeNode], target: int) -> Optional[TreeNode]: \n",
        "        root = self.DFS(root, target)\n",
        "        return root\n",
        "    \n",
        "    def DFS(self, root, target):\n",
        "\n",
        "        # end condition\n",
        "        if not root:\n",
        "            return None\n",
        "\n",
        "        root.left = self.DFS(root.left, target)\n",
        "        root.right = self.DFS(root.right, target)\n",
        "\n",
        "        if root.val == target and not root.left and not root.right:\n",
        "            return None\n",
        "        \n",
        "        return root"
      ]
    }
  ]
}