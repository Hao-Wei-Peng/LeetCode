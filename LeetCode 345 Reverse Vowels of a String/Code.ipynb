{
  "nbformat": 4,
  "nbformat_minor": 0,
  "metadata": {
    "colab": {
      "name": "Code.ipynb",
      "provenance": [],
      "collapsed_sections": []
    },
    "kernelspec": {
      "name": "python3",
      "display_name": "Python 3"
    },
    "language_info": {
      "name": "python"
    }
  },
  "cells": [
    {
      "cell_type": "code",
      "execution_count": null,
      "metadata": {
        "id": "hFD3gFKqbvee"
      },
      "outputs": [],
      "source": [
        "class Solution:\n",
        "    def reverseVowels(self, s: str) -> str:\n",
        "\n",
        "        check = \"aeiouAEIOU\"\n",
        "\n",
        "        n = len(s)\n",
        "        ans = list(s)\n",
        "        left, right = 0, n - 1\n",
        "\n",
        "        # Time Complexity will be O(n)\n",
        "        # Space Complexity will be O(1)\n",
        "        while left < right:\n",
        "            # check left side (vowel)\n",
        "            while left < n and s[left] not in check:\n",
        "                left = left + 1\n",
        "            \n",
        "            # check right side (vowel)\n",
        "            while right > 0 and s[right] not in check:\n",
        "                right = right - 1\n",
        "            \n",
        "            # change\n",
        "            if left < right:\n",
        "                ans[left], ans[right] = ans[right], ans[left]\n",
        "                left = left + 1\n",
        "                right = right - 1\n",
        "        \n",
        "        return \"\".join(ans)"
      ]
    }
  ]
}