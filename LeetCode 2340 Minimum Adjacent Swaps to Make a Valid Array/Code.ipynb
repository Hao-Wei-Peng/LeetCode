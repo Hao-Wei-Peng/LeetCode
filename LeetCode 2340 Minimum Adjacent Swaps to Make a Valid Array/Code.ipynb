{
  "nbformat": 4,
  "nbformat_minor": 0,
  "metadata": {
    "colab": {
      "provenance": []
    },
    "kernelspec": {
      "name": "python3",
      "display_name": "Python 3"
    },
    "language_info": {
      "name": "python"
    }
  },
  "cells": [
    {
      "cell_type": "code",
      "execution_count": null,
      "metadata": {
        "id": "mMOA-ZhSJFOB"
      },
      "outputs": [],
      "source": [
        "class Solution:\n",
        "    def minimumSwaps(self, nums: List[int]) -> int:\n",
        "\n",
        "        max_v, min_v = max(nums), min(nums)\n",
        "        max_idx, min_idx = -1, -1\n",
        "        n = len(nums)\n",
        "\n",
        "        # Time Complexity will be O(n)\n",
        "        # Space Complexity will be O(1)\n",
        "        for idx, curnum in enumerate(nums):\n",
        "            if curnum == min_v and min_idx == -1:\n",
        "                min_idx = idx\n",
        "\n",
        "            if curnum == max_v:\n",
        "                max_idx = idx\n",
        "            \n",
        "        rightmost = n - max_idx - 1 # max num distance to rightmost\n",
        "        leftmost = min_idx # min num distance to leftmost\n",
        "        ans = rightmost + leftmost\n",
        "\n",
        "        return ans if min_idx <= max_idx else ans - 1 "
      ]
    }
  ]
}