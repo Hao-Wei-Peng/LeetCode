{
  "nbformat": 4,
  "nbformat_minor": 0,
  "metadata": {
    "colab": {
      "provenance": [],
      "collapsed_sections": []
    },
    "kernelspec": {
      "name": "python3",
      "display_name": "Python 3"
    },
    "language_info": {
      "name": "python"
    }
  },
  "cells": [
    {
      "cell_type": "code",
      "execution_count": null,
      "metadata": {
        "id": "mMOA-ZhSJFOB"
      },
      "outputs": [],
      "source": [
        "class TrieNode:\n",
        "    def __init__(self):\n",
        "        self.children = {}\n",
        "        self.endOfWord = False\n",
        "\n",
        "class WordDictionary:\n",
        "\n",
        "    def __init__(self):\n",
        "        self.root = TrieNode()\n",
        "\n",
        "    def addWord(self, word: str) -> None:\n",
        "\n",
        "        cur = self.root\n",
        "\n",
        "        for c in word:\n",
        "            if c not in cur.children:\n",
        "                cur.children[c] = TrieNode()\n",
        "\n",
        "            cur = cur.children[c]\n",
        "\n",
        "        cur.endOfWord = True\n",
        "\n",
        "    def search(self, word: str) -> bool:\n",
        "        \n",
        "        def DFS(start_idx, root):\n",
        "            cur = root\n",
        "\n",
        "            for idx in range(start_idx, len(word)):\n",
        "                char = word[idx]\n",
        "\n",
        "                if char == \".\":\n",
        "                    for child in cur.children.values():\n",
        "                        # check following subproblem with each children\n",
        "                        if DFS(idx + 1, child):\n",
        "                            return True\n",
        "                    return False\n",
        "                else:\n",
        "                    if char not in cur.children:\n",
        "                        return False\n",
        "                    cur = cur.children[char]\n",
        "            \n",
        "            return cur.endOfWord\n",
        "        \n",
        "        return DFS(0, self.root)\n",
        "\n",
        "\n",
        "# Your WordDictionary object will be instantiated and called as such:\n",
        "# obj = WordDictionary()\n",
        "# obj.addWord(word)\n",
        "# param_2 = obj.search(word)\n"
      ]
    }
  ]
}