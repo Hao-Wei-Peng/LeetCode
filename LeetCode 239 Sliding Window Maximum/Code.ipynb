{
  "nbformat": 4,
  "nbformat_minor": 0,
  "metadata": {
    "colab": {
      "provenance": [],
      "collapsed_sections": []
    },
    "kernelspec": {
      "name": "python3",
      "display_name": "Python 3"
    },
    "language_info": {
      "name": "python"
    }
  },
  "cells": [
    {
      "cell_type": "code",
      "execution_count": null,
      "metadata": {
        "id": "mMOA-ZhSJFOB"
      },
      "outputs": [],
      "source": [
        "class MyQueue:\n",
        "    def __init__(self):\n",
        "        self.queue = []\n",
        "\n",
        "    def pop(self, value):\n",
        "        \n",
        "        # check whether current pop value is equal to largest value in the queue\n",
        "        if self.queue and self.queue[0] == value:\n",
        "            self.queue.pop(0)\n",
        "\n",
        "    def push(self, value):\n",
        "        \n",
        "        # when queue is not empty and last element in queue is smaller than current value\n",
        "        while self.queue and value > self.queue[-1]:\n",
        "           self.queue.pop()\n",
        "\n",
        "        self.queue.append(value)\n",
        "\n",
        "    def front(self):\n",
        "        return self.queue[0]\n",
        "\n",
        "\n",
        "class Solution:\n",
        "    def maxSlidingWindow(self, nums: List[int], k: int) -> List[int]:\n",
        "\n",
        "        # we can use slide winodws + queue to deal with this problem\n",
        "        # we need to ensure the elements in queue should follow monotone decreasing format\n",
        "        # Time Complexity will be O(n)\n",
        "        # Space Complexity will be O(k)\n",
        "\n",
        "        queue = MyQueue()\n",
        "        ans = []\n",
        "        n = len(nums)\n",
        "\n",
        "        for i in range(0, k):\n",
        "            queue.push(nums[i])\n",
        "        \n",
        "        ans.append(queue.front())\n",
        "\n",
        "        for i in range(k, n):\n",
        "            queue.pop(nums[i - k])\n",
        "            queue.push(nums[i])\n",
        "            ans.append(queue.front())\n",
        "        \n",
        "        return ans\n",
        "\n"
      ]
    }
  ]
}