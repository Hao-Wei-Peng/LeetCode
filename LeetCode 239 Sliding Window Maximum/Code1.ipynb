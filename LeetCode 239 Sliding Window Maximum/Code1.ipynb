{
  "nbformat": 4,
  "nbformat_minor": 0,
  "metadata": {
    "colab": {
      "provenance": [],
      "collapsed_sections": []
    },
    "kernelspec": {
      "name": "python3",
      "display_name": "Python 3"
    },
    "language_info": {
      "name": "python"
    }
  },
  "cells": [
    {
      "cell_type": "code",
      "execution_count": null,
      "metadata": {
        "id": "mMOA-ZhSJFOB",
        "colab": {
          "base_uri": "https://localhost:8080/"
        },
        "outputId": "8e6b5ada-b783-4a92-ab64-13c5cb4b234e"
      },
      "outputs": [
        {
          "output_type": "stream",
          "name": "stdout",
          "text": [
            "[3, 4, 2, 1]\n"
          ]
        }
      ],
      "source": [
        "class Solution:\n",
        "    def maxSlidingWindow(self, nums: List[int], k: int) -> List[int]:\n",
        "\n",
        "        # we can use slide heap to deal with this problem\n",
        "        # Time Complexity will be O(nlogn)\n",
        "        # Space Complexity will be O(n)\n",
        "\n",
        "        n = len(nums)\n",
        "        prior_queue = []\n",
        "\n",
        "        for i in range(0, k):\n",
        "            value = nums[i]\n",
        "            heapq.heappush(prior_queue, (-value, i))\n",
        "\n",
        "        ans = []\n",
        "        cur_max = -prior_queue[0][0]\n",
        "        ans.append(cur_max)\n",
        "\n",
        "        for i in range(k, n):\n",
        "            value = nums[i]\n",
        "            heapq.heappush(prior_queue, (-value, i))\n",
        "\n",
        "            # if any elements we couldn't achieve, we should pop it up\n",
        "            while prior_queue[0][1] <= i - k:\n",
        "                heapq.heappop(prior_queue)\n",
        "\n",
        "            ans.append(-prior_queue[0][0])\n",
        "\n",
        "        return ans"
      ]
    }
  ]
}