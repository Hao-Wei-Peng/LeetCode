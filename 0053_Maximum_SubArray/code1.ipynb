{
 "cells": [
  {
   "cell_type": "code",
   "execution_count": null,
   "metadata": {},
   "outputs": [],
   "source": [
    "class Solution:\n",
    "    def maxSubArray(self, nums: List[int]) -> int:\n",
    "        \n",
    "        def MaximumValue(nums):\n",
    "            answer = float(\"-inf\")\n",
    "            minimum = float(\"inf\")\n",
    "            \n",
    "            #The function doesn't execute the last element (len(nums) - 1)\n",
    "            for i in range(0, len(nums) - 1):\n",
    "                if nums[i] < minimum:\n",
    "                    minimum = nums[i]\n",
    "                if nums[i + 1] - minimum > answer:\n",
    "                    answer = nums[i + 1] - minimum\n",
    "            return answer\n",
    "        \n",
    "        #accumulate array\n",
    "        for i in range(1, len(nums)):\n",
    "            nums[i] = nums[i] + nums[i - 1]\n",
    "        nums.insert(0, 0)\n",
    "        \n",
    "        return MaximumValue(nums)"
   ]
  }
 ],
 "metadata": {
  "kernelspec": {
   "display_name": "Python 3",
   "language": "python",
   "name": "python3"
  },
  "language_info": {
   "codemirror_mode": {
    "name": "ipython",
    "version": 3
   },
   "file_extension": ".py",
   "mimetype": "text/x-python",
   "name": "python",
   "nbconvert_exporter": "python",
   "pygments_lexer": "ipython3",
   "version": "3.8.3"
  }
 },
 "nbformat": 4,
 "nbformat_minor": 4
}
