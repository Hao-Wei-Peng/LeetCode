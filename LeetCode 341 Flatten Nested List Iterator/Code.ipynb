{
  "nbformat": 4,
  "nbformat_minor": 0,
  "metadata": {
    "colab": {
      "provenance": [],
      "collapsed_sections": []
    },
    "kernelspec": {
      "name": "python3",
      "display_name": "Python 3"
    },
    "language_info": {
      "name": "python"
    }
  },
  "cells": [
    {
      "cell_type": "code",
      "execution_count": null,
      "metadata": {
        "id": "mMOA-ZhSJFOB"
      },
      "outputs": [],
      "source": [
        "# \"\"\"\n",
        "# This is the interface that allows for creating nested lists.\n",
        "# You should not implement it, or speculate about its implementation\n",
        "# \"\"\"\n",
        "#class NestedInteger:\n",
        "#    def isInteger(self) -> bool:\n",
        "#        \"\"\"\n",
        "#        @return True if this NestedInteger holds a single integer, rather than a nested list.\n",
        "#        \"\"\"\n",
        "#\n",
        "#    def getInteger(self) -> int:\n",
        "#        \"\"\"\n",
        "#        @return the single integer that this NestedInteger holds, if it holds a single integer\n",
        "#        Return None if this NestedInteger holds a nested list\n",
        "#        \"\"\"\n",
        "#\n",
        "#    def getList(self) -> [NestedInteger]:\n",
        "#        \"\"\"\n",
        "#        @return the nested list that this NestedInteger holds, if it holds a nested list\n",
        "#        Return None if this NestedInteger holds a single integer\n",
        "#        \"\"\"\n",
        "\n",
        "class NestedIterator:\n",
        "    def __init__(self, nestedList: [NestedInteger]):\n",
        "        self.NestedList = nestedList\n",
        "        # store all elements in Flatten list\n",
        "        self.Queue = collections.deque()\n",
        "        # 3 functions:\n",
        "        # 1. isInteger(), 2. getInteger(), 3. getList()\n",
        "        self.DFS(self.NestedList)\n",
        "    \n",
        "    def next(self) -> int:\n",
        "\n",
        "        # we only need to return the elements in Queue\n",
        "        return self.Queue.popleft()\n",
        "\n",
        "    def hasNext(self) -> bool:\n",
        "        return len(self.Queue)\n",
        "        \n",
        "    def DFS(self, List):\n",
        "\n",
        "        for element in List:\n",
        "            # we will check whether current element is integer or list\n",
        "            if element.isInteger():\n",
        "                self.Queue.append(element)\n",
        "            else:\n",
        "                self.DFS(element.getList())\n",
        "\n",
        "# Your NestedIterator object will be instantiated and called as such:\n",
        "# i, v = NestedIterator(nestedList), []\n",
        "# while i.hasNext(): v.append(i.next())"
      ]
    }
  ]
}