{
  "nbformat": 4,
  "nbformat_minor": 0,
  "metadata": {
    "colab": {
      "provenance": [],
      "collapsed_sections": []
    },
    "kernelspec": {
      "name": "python3",
      "display_name": "Python 3"
    },
    "language_info": {
      "name": "python"
    }
  },
  "cells": [
    {
      "cell_type": "code",
      "execution_count": null,
      "metadata": {
        "id": "mMOA-ZhSJFOB"
      },
      "outputs": [],
      "source": [
        "# \"\"\"\n",
        "# This is the interface that allows for creating nested lists.\n",
        "# You should not implement it, or speculate about its implementation\n",
        "# \"\"\"\n",
        "#class NestedInteger:\n",
        "#    def isInteger(self) -> bool:\n",
        "#        \"\"\"\n",
        "#        @return True if this NestedInteger holds a single integer, rather than a nested list.\n",
        "#        \"\"\"\n",
        "#\n",
        "#    def getInteger(self) -> int:\n",
        "#        \"\"\"\n",
        "#        @return the single integer that this NestedInteger holds, if it holds a single integer\n",
        "#        Return None if this NestedInteger holds a nested list\n",
        "#        \"\"\"\n",
        "#\n",
        "#    def getList(self) -> [NestedInteger]:\n",
        "#        \"\"\"\n",
        "#        @return the nested list that this NestedInteger holds, if it holds a nested list\n",
        "#        Return None if this NestedInteger holds a single integer\n",
        "#        \"\"\"\n",
        "\n",
        "class NestedIterator:\n",
        "    def __init__(self, nestedList: [NestedInteger]):\n",
        "\n",
        "        # base case\n",
        "        # if possible, empty list\n",
        "\n",
        "        self.NestedList = nestedList\n",
        "        # store all elements in Flatten list\n",
        "        LenNested = len(self.NestedList)\n",
        "        self.Stack = []\n",
        "\n",
        "        # store all elements in stack (reverse order)\n",
        "        # [1, [2, 3]] -> stack = [[2, 3], 1]\n",
        "        for idx in range(LenNested - 1, -1, -1):\n",
        "            self.Stack.append(self.NestedList[idx])\n",
        "\n",
        "    def next(self) -> int:\n",
        "        return self.Stack.pop()\n",
        "\n",
        "    def hasNext(self) -> bool:\n",
        "        \n",
        "        # check current stack contains element or not\n",
        "        while self.Stack:\n",
        "            # top element in stack\n",
        "            cur = self.Stack[-1]\n",
        "\n",
        "            if cur.isInteger():\n",
        "                return True\n",
        "            \n",
        "            CurList = self.Stack.pop()\n",
        "            LenC = len(CurList.getList())\n",
        "\n",
        "            for idx in range(LenC - 1, -1, -1):\n",
        "                element = CurList.getList()[idx]\n",
        "                self.Stack.append(element)\n",
        "            \n",
        "        return False\n",
        "\n",
        "# Your NestedIterator object will be instantiated and called as such:\n",
        "# i, v = NestedIterator(nestedList), []\n",
        "# while i.hasNext(): v.append(i.next())"
      ]
    }
  ]
}