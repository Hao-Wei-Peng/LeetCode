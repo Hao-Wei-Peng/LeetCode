{
  "nbformat": 4,
  "nbformat_minor": 0,
  "metadata": {
    "colab": {
      "name": "Code.ipynb",
      "provenance": [],
      "collapsed_sections": []
    },
    "kernelspec": {
      "name": "python3",
      "display_name": "Python 3"
    },
    "language_info": {
      "name": "python"
    }
  },
  "cells": [
    {
      "cell_type": "code",
      "execution_count": null,
      "metadata": {
        "id": "hFD3gFKqbvee"
      },
      "outputs": [],
      "source": [
        "# Definition for singly-linked list.\n",
        "# class ListNode:\n",
        "#     def __init__(self, val=0, next=None):\n",
        "#         self.val = val\n",
        "#         self.next = next\n",
        "class Solution:\n",
        "    def swapPairs(self, head: ListNode) -> ListNode:\n",
        "        \n",
        "        # edge case\n",
        "        if not head:\n",
        "            return head\n",
        "        \n",
        "        # declare a dummy node and point to head position\n",
        "        dummy = ListNode(0, head)\n",
        "        pre = dummy\n",
        "\n",
        "        # Time Complexity will be O(n)\n",
        "        # Space Complexity will be O(1)\n",
        "        while pre.next and pre.next.next:\n",
        "            cur = pre.next\n",
        "            post = pre.next.next\n",
        "\n",
        "            # change\n",
        "            temp = post.next\n",
        "            pre.next = post\n",
        "            post.next = cur\n",
        "            cur.next = temp\n",
        "\n",
        "            # remove to next position\n",
        "            pre = pre.next.next\n",
        "\n",
        "        return dummy.next\n"
      ]
    }
  ]
}