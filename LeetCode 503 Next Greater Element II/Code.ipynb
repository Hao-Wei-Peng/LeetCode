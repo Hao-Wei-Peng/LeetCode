{
  "nbformat": 4,
  "nbformat_minor": 0,
  "metadata": {
    "colab": {
      "provenance": [],
      "collapsed_sections": []
    },
    "kernelspec": {
      "name": "python3",
      "display_name": "Python 3"
    },
    "language_info": {
      "name": "python"
    }
  },
  "cells": [
    {
      "cell_type": "code",
      "execution_count": null,
      "metadata": {
        "id": "mMOA-ZhSJFOB"
      },
      "outputs": [],
      "source": [
        "class Solution:\n",
        "    def nextGreaterElements(self, nums: List[int]) -> List[int]:\n",
        "\n",
        "        # base case\n",
        "        if not nums:\n",
        "            return None\n",
        "\n",
        "        # Key Point: monotone stack + hashmap\n",
        "        n = len(nums)\n",
        "        # enlarge to double size\n",
        "        NUMS = nums + nums\n",
        "\n",
        "        # Time Complexity will be O(n)\n",
        "        Map = [0] * (2 * n)\n",
        "        stack = []\n",
        "\n",
        "        for idx in range(2*n - 1, -1, -1):\n",
        "            curnum = NUMS[idx]\n",
        "\n",
        "            while stack and curnum >= stack[-1]:\n",
        "                stack.pop()\n",
        "\n",
        "            Map[idx] = stack[-1] if stack else -1\n",
        "            stack.append(curnum)\n",
        "        \n",
        "        ans = [-1] * n\n",
        "\n",
        "        for idx in range(0, n):\n",
        "            ans[idx] = Map[idx]\n",
        "        \n",
        "        return ans"
      ]
    }
  ]
}