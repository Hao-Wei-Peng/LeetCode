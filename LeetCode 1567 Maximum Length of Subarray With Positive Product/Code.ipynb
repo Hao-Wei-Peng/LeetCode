{
  "nbformat": 4,
  "nbformat_minor": 0,
  "metadata": {
    "colab": {
      "provenance": [],
      "collapsed_sections": []
    },
    "kernelspec": {
      "name": "python3",
      "display_name": "Python 3"
    },
    "language_info": {
      "name": "python"
    }
  },
  "cells": [
    {
      "cell_type": "code",
      "execution_count": null,
      "metadata": {
        "id": "mMOA-ZhSJFOB"
      },
      "outputs": [],
      "source": [
        "class Solution:\n",
        "    def getMaxLen(self, nums: List[int]) -> int:\n",
        "\n",
        "        n = len(nums)\n",
        "\n",
        "        # we will use dynamic programming to deal with this problem\n",
        "        # dp[i] = maximum length (positive) at index i\n",
        "        pos, neg = [0] * n, [0] * n\n",
        "        \n",
        "        # initialization\n",
        "        if nums[0] > 0:\n",
        "            pos[0] = 1\n",
        "        \n",
        "        elif nums[0] < 0:\n",
        "            neg[0] = 1\n",
        "        \n",
        "        MaxLen = pos[0]\n",
        "\n",
        "        for i in range(1, n):\n",
        "            \n",
        "            if nums[i] > 0:\n",
        "                pos[i] = pos[i - 1] + 1\n",
        "                # [1, 2, -3, 4]\n",
        "                # before the current index (idx = 1, val = 2), we do not have neg value, therefore, we need to set 0\n",
        "                # pos = [1, 1, 0, 0]\n",
        "                # neg = [0, 0, 0, 0]\n",
        "                neg[i] = neg[i - 1] + 1 if neg[i - 1] > 0 else 0       \n",
        "\n",
        "            elif nums[i] < 0:\n",
        "                pos[i] = neg[i - 1] + 1 if neg[i - 1] > 0 else 0\n",
        "                neg[i] = pos[i - 1] + 1\n",
        "        \n",
        "            MaxLen = max(MaxLen, pos[i])\n",
        "\n",
        "        return MaxLen"
      ]
    }
  ]
}