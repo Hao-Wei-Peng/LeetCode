{
  "nbformat": 4,
  "nbformat_minor": 0,
  "metadata": {
    "colab": {
      "provenance": []
    },
    "kernelspec": {
      "name": "python3",
      "display_name": "Python 3"
    },
    "language_info": {
      "name": "python"
    }
  },
  "cells": [
    {
      "cell_type": "code",
      "source": [
        "class DisJoint:\n",
        "    def __init__(self):\n",
        "        self.parent = {}\n",
        "        self.weight = {}\n",
        "        self.root = 0 # record how many groups\n",
        "\n",
        "    def build(self, node):\n",
        "        self.parent[node] = node\n",
        "        self.weight[node] = 1\n",
        "        self.root += 1\n",
        "\n",
        "    def findParent(self, node):\n",
        "        \n",
        "        if self.parent[node] == node:\n",
        "            return node\n",
        "        \n",
        "        self.parent[node] = self.findParent(self.parent[node])\n",
        "        return self.parent[node]\n",
        "\n",
        "    def union(self, node1, node2):\n",
        "\n",
        "        p1, p2 = self.findParent(node1), self.findParent(node2)\n",
        "\n",
        "        if p1 == p2:\n",
        "            return\n",
        "        \n",
        "        if self.weight[p1] < self.weight[p2]:\n",
        "            self.parent[p1] = p2\n",
        "        \n",
        "        elif self.weight[p1] > self.weight[p2]:\n",
        "            self.parent[p2] = p1\n",
        "        \n",
        "        else:\n",
        "            self.parent[p1] = p2\n",
        "            self.weight[p2] += 1\n",
        "\n",
        "        self.root -= 1 # combine to a same group\n",
        "\n",
        "class Solution:\n",
        "    def earliestAcq(self, logs: List[List[int]], n: int) -> int:\n",
        "\n",
        "        # n people: 0 ~ n - 1\n",
        "        # logs: [timestamp, x, y]\n",
        "        DS = DisJoint()\n",
        "        \n",
        "        # Time Complexity will be O(mlogm)\n",
        "        logs.sort()\n",
        "\n",
        "        # Time Complexity will be O(n)\n",
        "        for i in range(n):\n",
        "            DS.build(i)\n",
        "\n",
        "        for time, a, b in logs:\n",
        "            \n",
        "            DS.union(a, b)\n",
        "\n",
        "            if DS.root == 1:\n",
        "                return time\n",
        "        \n",
        "        return -1"
      ],
      "metadata": {
        "id": "VQsRJ7yrQZxK"
      },
      "execution_count": null,
      "outputs": []
    }
  ]
}