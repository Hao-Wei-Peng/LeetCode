{
  "nbformat": 4,
  "nbformat_minor": 0,
  "metadata": {
    "colab": {
      "provenance": []
    },
    "kernelspec": {
      "name": "python3",
      "display_name": "Python 3"
    },
    "language_info": {
      "name": "python"
    }
  },
  "cells": [
    {
      "cell_type": "code",
      "execution_count": null,
      "metadata": {
        "id": "mMOA-ZhSJFOB"
      },
      "outputs": [],
      "source": [
        "class Solution:\n",
        "    def kthFactor(self, n: int, k: int) -> int:\n",
        "\n",
        "        # Time Complexity will be O(n)\n",
        "        # Space Complexity will be O(1)\n",
        "        count = 0\n",
        "\n",
        "        for factor in range(1, n + 1):\n",
        "            if n % factor == 0:\n",
        "                count += 1\n",
        "        \n",
        "                if count == k:\n",
        "                    return factor\n",
        "        \n",
        "        return -1"
      ]
    }
  ]
}