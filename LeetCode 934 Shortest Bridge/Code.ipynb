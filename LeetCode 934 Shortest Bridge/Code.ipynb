{
  "nbformat": 4,
  "nbformat_minor": 0,
  "metadata": {
    "colab": {
      "provenance": [],
      "collapsed_sections": []
    },
    "kernelspec": {
      "name": "python3",
      "display_name": "Python 3"
    },
    "language_info": {
      "name": "python"
    }
  },
  "cells": [
    {
      "cell_type": "code",
      "execution_count": null,
      "metadata": {
        "id": "mMOA-ZhSJFOB"
      },
      "outputs": [],
      "source": [
        "class Solution:\n",
        "    def shortestBridge(self, grid: List[List[int]]) -> int:\n",
        "\n",
        "        def DFS(r, c):\n",
        "            queue.append((r, c))\n",
        "            grid[r][c] = 2\n",
        "\n",
        "            for x, y in directions:\n",
        "                new_r = r + x\n",
        "                new_c = c + y\n",
        "\n",
        "                if 0 <= new_r < Rows and 0 <= new_c < Cols and grid[new_r][new_c] == 1:\n",
        "                    DFS(new_r, new_c)\n",
        "\n",
        "        # base case\n",
        "        if not grid:\n",
        "            return 0\n",
        "        \n",
        "        queue = collections.deque()\n",
        "        directions = [(0, 1), (0, -1), (1, 0), (-1, 0)]\n",
        "        Rows, Cols = len(grid), len(grid[0])\n",
        "\n",
        "\n",
        "        Find = False\n",
        "        # do DFS to find the first island (whole area)\n",
        "        for r in range(0, Rows):\n",
        "            for c in range(0, Cols):\n",
        "                if grid[r][c] == 1 and not Find:\n",
        "                    DFS(r, c)\n",
        "                    Find = True\n",
        "\n",
        "        # do BFS to find the shortest path between two islands\n",
        "        Bridge = 0\n",
        "\n",
        "        while queue:\n",
        "            LenQ = len(queue)\n",
        "\n",
        "            # current level\n",
        "            for _ in range(0, LenQ):\n",
        "                cur_x, cur_y = queue.popleft()\n",
        "\n",
        "                for x, y in directions:\n",
        "                    new_x = cur_x + x\n",
        "                    new_y = cur_y + y\n",
        "\n",
        "                    if 0 <= new_x < Rows and 0 <= new_y < Cols:\n",
        "                        if grid[new_x][new_y] == 1:\n",
        "                            return Bridge\n",
        "\n",
        "                        elif grid[new_x][new_y] == 0:\n",
        "                            grid[new_x][new_y] = 2\n",
        "                            queue.append((new_x, new_y))\n",
        "            Bridge += 1\n",
        "\n",
        "        return Bridge\n"
      ]
    }
  ]
}