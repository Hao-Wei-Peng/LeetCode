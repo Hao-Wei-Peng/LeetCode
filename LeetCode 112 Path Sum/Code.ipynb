{
  "nbformat": 4,
  "nbformat_minor": 0,
  "metadata": {
    "colab": {
      "name": "Code.ipynb",
      "provenance": [],
      "collapsed_sections": []
    },
    "kernelspec": {
      "name": "python3",
      "display_name": "Python 3"
    },
    "language_info": {
      "name": "python"
    }
  },
  "cells": [
    {
      "cell_type": "code",
      "execution_count": null,
      "metadata": {
        "id": "hFD3gFKqbvee"
      },
      "outputs": [],
      "source": [
        "# Definition for a binary tree node.\n",
        "# class TreeNode:\n",
        "#     def __init__(self, val=0, left=None, right=None):\n",
        "#         self.val = val\n",
        "#         self.left = left\n",
        "#         self.right = right\n",
        "class Solution:\n",
        "    def hasPathSum(self, root: Optional[TreeNode], targetSum: int) -> bool:\n",
        "\n",
        "        # edge case\n",
        "        if not root:\n",
        "            return False\n",
        "        \n",
        "        # Time Complexity will be O(n)\n",
        "        # Space Complexity will be O(n)\n",
        "        # n = tree nodes\n",
        "        queue = collections.deque([(root, root.val)])\n",
        "\n",
        "        while queue:\n",
        "            LenQ = len(queue)\n",
        "\n",
        "            for i in range(0, LenQ):\n",
        "                cur_node, cur_val = queue.popleft()\n",
        "\n",
        "                if cur_val == targetSum and not cur_node.left and not cur_node.right:\n",
        "                    return True\n",
        "\n",
        "                if cur_node.left:\n",
        "                    queue.append((cur_node.left, cur_val + cur_node.left.val))\n",
        "                \n",
        "                if cur_node.right:\n",
        "                    queue.append((cur_node.right, cur_val + cur_node.right.val))\n",
        "        \n",
        "        return False"
      ]
    }
  ]
}