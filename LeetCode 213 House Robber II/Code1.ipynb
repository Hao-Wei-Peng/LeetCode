{
  "nbformat": 4,
  "nbformat_minor": 0,
  "metadata": {
    "colab": {
      "name": "Code.ipynb",
      "provenance": [],
      "collapsed_sections": []
    },
    "kernelspec": {
      "name": "python3",
      "display_name": "Python 3"
    },
    "language_info": {
      "name": "python"
    }
  },
  "cells": [
    {
      "cell_type": "code",
      "execution_count": null,
      "metadata": {
        "id": "hFD3gFKqbvee"
      },
      "outputs": [],
      "source": [
        "class Solution:\n",
        "    def rob(self, nums: List[int]) -> int:\n",
        "\n",
        "        # arranged in a circle\n",
        "        # dp[i] = steal most money at house i \n",
        "        # at house i, you can choose steal or not steal\n",
        "        # Time Complexity will be O(n)\n",
        "        # Space Complexity will be O(1)\n",
        "        # three situation:\n",
        "        # 1. we do not consider head and tail\n",
        "        # 2. we consider head, not consider tail\n",
        "        # 3. we do not consider head, consider tail\n",
        "\n",
        "        def rob_range(nums, start, end):\n",
        "            \n",
        "            if start == end:\n",
        "                return nums[start]\n",
        "\n",
        "            n = len(nums)\n",
        "\n",
        "            dp0 = nums[start]\n",
        "            dp1 = max(nums[start], nums[start + 1])\n",
        "\n",
        "            for i in range(start + 2, end + 1):\n",
        "                current = max(dp0 + nums[i], dp1)\n",
        "\n",
        "                dp0 = dp1\n",
        "                dp1 = current\n",
        "            \n",
        "            return dp1\n",
        "\n",
        "        n = len(nums)\n",
        "\n",
        "        if n < 2:\n",
        "            return nums[0]\n",
        "\n",
        "        sec_situation = rob_range(nums, 0, n - 2)\n",
        "        third_situation = rob_range(nums, 1, n - 1)\n",
        "\n",
        "        return max(sec_situation, third_situation)\n"
      ]
    }
  ]
}