{
  "nbformat": 4,
  "nbformat_minor": 0,
  "metadata": {
    "colab": {
      "name": "Code.ipynb",
      "provenance": [],
      "collapsed_sections": []
    },
    "kernelspec": {
      "name": "python3",
      "display_name": "Python 3"
    },
    "language_info": {
      "name": "python"
    }
  },
  "cells": [
    {
      "cell_type": "code",
      "execution_count": null,
      "metadata": {
        "id": "hFD3gFKqbvee"
      },
      "outputs": [],
      "source": [
        "class Solution:\n",
        "    def lastStoneWeightII(self, stones: List[int]) -> int:\n",
        "        \n",
        "        n = len(stones)\n",
        "\n",
        "        # edge case\n",
        "        if n == 1:\n",
        "            return stones[0]\n",
        "\n",
        "        # we will select two elements in list x and y (x <= y)\n",
        "        # if x == y, do nothing\n",
        "        # if x != y, add y - x\n",
        "\n",
        "        # we can divide list stones into two similar weight components\n",
        "        # as question 416\n",
        "        total = sum(stones)\n",
        "\n",
        "        # choose quotient\n",
        "        half = total // 2\n",
        "\n",
        "        # Time Complexity will be O(m * n)\n",
        "        # Space Complexity will be O(m), m = sum of weights\n",
        "        dp = [0] * (half + 1)\n",
        "\n",
        "        # iterate from last to begin \n",
        "        # ensure select every element once\n",
        "\n",
        "        # each element\n",
        "        for i in range(0, n):\n",
        "            # check maximum afford weight\n",
        "            for j in range(half, stones[i] - 1, -1):\n",
        "                dp[j] = max(dp[j], dp[j - stones[i]] + stones[i])\n",
        "        \n",
        "        one_part = dp[half]\n",
        "        second_part = total - dp[half]\n",
        "\n",
        "        return second_part - one_part\n"
      ]
    }
  ]
}