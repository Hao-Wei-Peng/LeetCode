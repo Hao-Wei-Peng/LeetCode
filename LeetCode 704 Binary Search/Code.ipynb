{
  "nbformat": 4,
  "nbformat_minor": 0,
  "metadata": {
    "colab": {
      "name": "Code.ipynb",
      "provenance": [],
      "collapsed_sections": []
    },
    "kernelspec": {
      "name": "python3",
      "display_name": "Python 3"
    },
    "language_info": {
      "name": "python"
    }
  },
  "cells": [
    {
      "cell_type": "code",
      "execution_count": null,
      "metadata": {
        "id": "hFD3gFKqbvee"
      },
      "outputs": [],
      "source": [
        "class Solution:\n",
        "    def search(self, nums: List[int], target: int) -> int:\n",
        "        \n",
        "        # ascending order\n",
        "        # all of elements are unique (binary search)\n",
        "        n = len(nums)\n",
        "\n",
        "        left = 0\n",
        "        right = n - 1\n",
        "\n",
        "        # Time Complexity will be O(logn)\n",
        "        # Space Complexity will be O(1)\n",
        "        # bounded interval\n",
        "        # at mid position, left = 0 ~ mid - 1, mid + 1 ~ n - 1\n",
        "        while left <= right:\n",
        "            mid = (left + right) // 2\n",
        "\n",
        "            if nums[mid] == target:\n",
        "                return mid\n",
        "            \n",
        "            else:\n",
        "                if nums[mid] < target:\n",
        "                    left = mid + 1\n",
        "                else:\n",
        "                    right = mid - 1\n",
        "        \n",
        "        return -1"
      ]
    }
  ]
}