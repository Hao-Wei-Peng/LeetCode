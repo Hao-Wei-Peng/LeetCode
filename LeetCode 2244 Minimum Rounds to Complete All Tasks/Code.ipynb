{
  "nbformat": 4,
  "nbformat_minor": 0,
  "metadata": {
    "colab": {
      "provenance": []
    },
    "kernelspec": {
      "name": "python3",
      "display_name": "Python 3"
    },
    "language_info": {
      "name": "python"
    }
  },
  "cells": [
    {
      "cell_type": "code",
      "execution_count": null,
      "metadata": {
        "id": "mMOA-ZhSJFOB"
      },
      "outputs": [],
      "source": [
        "class Solution:\n",
        "    def minimumRounds(self, tasks: List[int]) -> int:\n",
        "\n",
        "        # base case\n",
        "        if not tasks:\n",
        "            return 0\n",
        "        \n",
        "        Count = collections.defaultdict(int)\n",
        "\n",
        "        for task in tasks:\n",
        "            Count[task] = 1 + Count.get(task, 0)\n",
        "        \n",
        "        round = 0\n",
        "\n",
        "        # each step should use 2~3 elements\n",
        "        for key, val in Count.items():\n",
        "            # base case\n",
        "            if val == 1:\n",
        "                return -1\n",
        "            \n",
        "            cnt, residual = val // 3, val % 3\n",
        "            round += cnt\n",
        "\n",
        "            if residual != 0:\n",
        "                round += 1\n",
        "        \n",
        "        return round"
      ]
    }
  ]
}