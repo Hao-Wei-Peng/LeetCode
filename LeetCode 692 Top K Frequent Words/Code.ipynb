{
  "nbformat": 4,
  "nbformat_minor": 0,
  "metadata": {
    "colab": {
      "provenance": [],
      "collapsed_sections": []
    },
    "kernelspec": {
      "name": "python3",
      "display_name": "Python 3"
    },
    "language_info": {
      "name": "python"
    }
  },
  "cells": [
    {
      "cell_type": "code",
      "execution_count": null,
      "metadata": {
        "id": "mMOA-ZhSJFOB"
      },
      "outputs": [],
      "source": [
        "class Solution:\n",
        "    def topKFrequent(self, words: List[str], k: int) -> List[str]:\n",
        "\n",
        "        # return answer sorted by the frequency from highest to lowest\n",
        "        # if words contain same frequency, follow lexicographical order\n",
        "        Freq = collections.defaultdict(int)\n",
        "\n",
        "        # Time Complexity will be O(n)\n",
        "        # Space Complexity will be O(n)\n",
        "        for word in words:\n",
        "            if word not in Freq:\n",
        "                Freq[word] = 1\n",
        "            else:\n",
        "                Freq[word] += 1\n",
        "        \n",
        "        prior_queue = []\n",
        "\n",
        "        # Time Complexity will be O(nlogn)\n",
        "        for word, freq in Freq.items():\n",
        "            heapq.heappush(prior_queue, (-freq, word))\n",
        "\n",
        "        ans = []\n",
        "\n",
        "        # Time Complexity O(klogk)\n",
        "        for i in range(0, k):\n",
        "            KEY = heapq.heappop(prior_queue)[1]\n",
        "            ans.append(KEY)\n",
        "\n",
        "        return ans\n"
      ]
    }
  ]
}