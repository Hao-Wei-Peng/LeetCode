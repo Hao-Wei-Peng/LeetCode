{
  "nbformat": 4,
  "nbformat_minor": 0,
  "metadata": {
    "colab": {
      "provenance": []
    },
    "kernelspec": {
      "name": "python3",
      "display_name": "Python 3"
    },
    "language_info": {
      "name": "python"
    }
  },
  "cells": [
    {
      "cell_type": "code",
      "source": [
        "class Solution:\n",
        "    def convertTime(self, time):\n",
        "        return 60 * int(time[0 : 2]) + int(time[3 : ])\n",
        "\n",
        "    def findMinDifference(self, timePoints: List[str]) -> int:\n",
        "        \n",
        "        # base case\n",
        "        if not timePoints:\n",
        "            return 0\n",
        "        \n",
        "        maxMins = 60 * 24 # the total minutes of a day\n",
        "\n",
        "        if len(timePoints) > maxMins:\n",
        "            return 0 \n",
        "        \n",
        "        # Time Complexity will be O(nlogn)\n",
        "        TimeList = [self.convertTime(time) for time in timePoints]\n",
        "        TimeList.sort()\n",
        "\n",
        "        diffMins = maxMins\n",
        "\n",
        "        # Time Complexity will be O(n)\n",
        "        for i in range(1, len(TimeList)):\n",
        "            pre, cur = TimeList[i - 1], TimeList[i]\n",
        "            diffMins = min(diffMins, cur - pre) # update the minimum time difference\n",
        "        \n",
        "        diffMins = min(diffMins, (TimeList[0] - TimeList[-1]) % maxMins)\n",
        "\n",
        "        return diffMins\n",
        "        "
      ],
      "metadata": {
        "id": "VQsRJ7yrQZxK"
      },
      "execution_count": null,
      "outputs": []
    }
  ]
}