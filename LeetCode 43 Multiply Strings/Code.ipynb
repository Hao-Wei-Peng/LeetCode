{
  "nbformat": 4,
  "nbformat_minor": 0,
  "metadata": {
    "colab": {
      "provenance": [],
      "collapsed_sections": []
    },
    "kernelspec": {
      "name": "python3",
      "display_name": "Python 3"
    },
    "language_info": {
      "name": "python"
    }
  },
  "cells": [
    {
      "cell_type": "code",
      "execution_count": null,
      "metadata": {
        "id": "mMOA-ZhSJFOB"
      },
      "outputs": [],
      "source": [
        "class Solution:\n",
        "    def multiply(self, num1: str, num2: str) -> str:\n",
        "\n",
        "        # base case\n",
        "        if num1 == \"0\" or num2 == \"0\":\n",
        "            return \"0\"\n",
        "        \n",
        "        m, n = len(num1), len(num2)\n",
        "        ans = [0] * (m + n)\n",
        "        num1, num2 = num1[::-1], num2[::-1]\n",
        "        \n",
        "        for i1 in range(0, m):\n",
        "            for i2 in range(0, n):\n",
        "                # 3 * 6 = 18\n",
        "                digit = int(num1[i1]) * int(num2[i2])\n",
        "                # 18\n",
        "                ans[i1 + i2] += digit\n",
        "                # carry = 1\n",
        "                ans[i1 + i2 + 1] += ans[i1 + i2] // 10\n",
        "                # current = 8\n",
        "                ans[i1 + i2] = ans[i1 + i2] % 10\n",
        "\n",
        "        # leading 0 problem\n",
        "        ans = ans[::-1]\n",
        "        idx = 0\n",
        "\n",
        "        while idx < len(ans) and ans[idx] == 0:\n",
        "            idx += 1\n",
        "\n",
        "        output = \"\"\n",
        "        ans = ans[idx : ]\n",
        "        t = len(ans)\n",
        "\n",
        "        for i in range(0, t):\n",
        "            output += str(ans[i])\n",
        "        \n",
        "        return output\n"
      ]
    }
  ]
}