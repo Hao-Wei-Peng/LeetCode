{
  "nbformat": 4,
  "nbformat_minor": 0,
  "metadata": {
    "colab": {
      "provenance": [],
      "collapsed_sections": []
    },
    "kernelspec": {
      "name": "python3",
      "display_name": "Python 3"
    },
    "language_info": {
      "name": "python"
    }
  },
  "cells": [
    {
      "cell_type": "code",
      "execution_count": null,
      "metadata": {
        "id": "mMOA-ZhSJFOB"
      },
      "outputs": [],
      "source": [
        "# Definition for a binary tree node.\n",
        "# class TreeNode:\n",
        "#     def __init__(self, val=0, left=None, right=None):\n",
        "#         self.val = val\n",
        "#         self.left = left\n",
        "#         self.right = right\n",
        "class Solution:\n",
        "    def flatten(self, root: TreeNode) -> None:\n",
        "        \"\"\"\n",
        "        Do not return anything, modify root in-place instead.\n",
        "        \"\"\"\n",
        "\n",
        "        # flatten should follow preorder traversal\n",
        "        # mid -> left -> right\n",
        "        tree = self.PreOrder(root)\n",
        "        return tree\n",
        "    \n",
        "    def PreOrder(self, root):\n",
        "        \n",
        "        # base case\n",
        "        if not root:\n",
        "            return root\n",
        "        \n",
        "        stack, PreList = [root], []\n",
        "        cur = root\n",
        "\n",
        "        while stack:\n",
        "            node = stack.pop()\n",
        "            PreList.append(node)\n",
        "\n",
        "            if node.right:\n",
        "                stack.append(node.right)\n",
        "            \n",
        "            if node.left:\n",
        "                stack.append(node.left)\n",
        "        \n",
        "        # 1 -> 2 -> 3 -> 4 -> 5 -> 6\n",
        "        size = len(PreList)\n",
        "\n",
        "        for i in range(1, size):\n",
        "            cur, nxt = PreList[i - 1], PreList[i]\n",
        "            cur.left = None\n",
        "            cur.right = nxt\n",
        "\n",
        "        return root"
      ]
    }
  ]
}