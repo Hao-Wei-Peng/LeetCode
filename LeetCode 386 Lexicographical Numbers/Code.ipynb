{
  "nbformat": 4,
  "nbformat_minor": 0,
  "metadata": {
    "colab": {
      "provenance": []
    },
    "kernelspec": {
      "name": "python3",
      "display_name": "Python 3"
    },
    "language_info": {
      "name": "python"
    }
  },
  "cells": [
    {
      "cell_type": "code",
      "execution_count": null,
      "metadata": {
        "id": "mMOA-ZhSJFOB"
      },
      "outputs": [],
      "source": [
        "class Solution:\n",
        "    def __init__(self):\n",
        "        self.ans = []\n",
        "\n",
        "    def lexicalOrder(self, n: int) -> List[int]:\n",
        "\n",
        "        # base case\n",
        "        if not n:\n",
        "            return self.ans\n",
        "        \n",
        "        # Time Complexity will be O(n)\n",
        "        # Space Complexity will be O(n)\n",
        "        for num in range(1, 10):\n",
        "            self.DFS(num, n)\n",
        "        \n",
        "        return self.ans\n",
        "    \n",
        "    def DFS(self, num, n):\n",
        "\n",
        "        # end recursion\n",
        "        if num > n:\n",
        "            return \n",
        "\n",
        "        # num = 1\n",
        "        self.ans.append(num)\n",
        "\n",
        "        for nxtnum in range(num * 10, num * 10 + 10):\n",
        "            self.DFS(nxtnum, n)\n"
      ]
    }
  ]
}