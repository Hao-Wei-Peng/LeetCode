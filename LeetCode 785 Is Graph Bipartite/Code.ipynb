{
  "nbformat": 4,
  "nbformat_minor": 0,
  "metadata": {
    "colab": {
      "provenance": []
    },
    "kernelspec": {
      "name": "python3",
      "display_name": "Python 3"
    },
    "language_info": {
      "name": "python"
    }
  },
  "cells": [
    {
      "cell_type": "code",
      "execution_count": null,
      "metadata": {
        "id": "mMOA-ZhSJFOB"
      },
      "outputs": [],
      "source": [
        "class Solution:\n",
        "    def isBipartite(self, graph: List[List[int]]) -> bool:\n",
        "\n",
        "        n = len(graph)\n",
        "        UnColor, Red, Green = 0, 1, 2\n",
        "        color = [UnColor] * n\n",
        "        \n",
        "        # we can use BFS to deal with this problem\n",
        "        for label in range(0, n):\n",
        "            if color[label] == UnColor:\n",
        "                Queue = collections.deque([label])\n",
        "                color[label] = Red # update the current position to Red color\n",
        "                \n",
        "                # check its neighbor and update them to Green color\n",
        "                while Queue:\n",
        "                    cur_label = Queue.popleft()\n",
        "                    nei_color = (Green if color[cur_label] == Red else Red)\n",
        "\n",
        "                    for nxt_label in graph[cur_label]:\n",
        "                        if color[nxt_label] == UnColor:\n",
        "                            Queue.append(nxt_label)\n",
        "                            color[nxt_label] = nei_color\n",
        "                        \n",
        "                        elif color[nxt_label] != nei_color:\n",
        "                            return False\n",
        "        return True"
      ]
    }
  ]
}