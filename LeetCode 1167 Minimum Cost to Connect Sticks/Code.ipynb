{
  "nbformat": 4,
  "nbformat_minor": 0,
  "metadata": {
    "colab": {
      "provenance": []
    },
    "kernelspec": {
      "name": "python3",
      "display_name": "Python 3"
    },
    "language_info": {
      "name": "python"
    }
  },
  "cells": [
    {
      "cell_type": "code",
      "execution_count": null,
      "metadata": {
        "id": "mMOA-ZhSJFOB"
      },
      "outputs": [],
      "source": [
        "class Solution:\n",
        "    def connectSticks(self, sticks: List[int]) -> int:\n",
        "\n",
        "        # base case\n",
        "        if not sticks:\n",
        "            return 0\n",
        "        \n",
        "        Heap = []\n",
        "\n",
        "        # use minheap structure to deal with this problem\n",
        "        # Time Complexity will be O(nlogn)\n",
        "        # Space Complexity will be O(n)\n",
        "        for stick in sticks:\n",
        "            heapq.heappush(Heap, stick)\n",
        "        \n",
        "        cost = 0\n",
        "\n",
        "        while len(Heap) > 1:\n",
        "            s1, s2 = heapq.heappop(Heap), heapq.heappop(Heap)\n",
        "            cost += (s1 + s2)\n",
        "            heapq.heappush(Heap, (s1 + s2))\n",
        "        \n",
        "        return cost"
      ]
    }
  ]
}