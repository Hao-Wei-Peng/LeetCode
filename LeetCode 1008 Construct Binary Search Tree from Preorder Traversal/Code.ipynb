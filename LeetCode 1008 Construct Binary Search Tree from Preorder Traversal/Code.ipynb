{
  "nbformat": 4,
  "nbformat_minor": 0,
  "metadata": {
    "colab": {
      "provenance": []
    },
    "kernelspec": {
      "name": "python3",
      "display_name": "Python 3"
    },
    "language_info": {
      "name": "python"
    }
  },
  "cells": [
    {
      "cell_type": "code",
      "execution_count": null,
      "metadata": {
        "id": "mMOA-ZhSJFOB"
      },
      "outputs": [],
      "source": [
        "# Definition for a binary tree node.\n",
        "# class TreeNode:\n",
        "#     def __init__(self, val=0, left=None, right=None):\n",
        "#         self.val = val\n",
        "#         self.left = left\n",
        "#         self.right = right\n",
        "class Solution:\n",
        "    def bstFromPreorder(self, preorder: List[int]) -> Optional[TreeNode]:\n",
        "\n",
        "        # preorder: mid, left, right\n",
        "        # BST: inorder will follow the small to large values property\n",
        "        # Time Complexity will be O(nlogn)\n",
        "        # Space Complexity will be O(n)\n",
        "        inorder = sorted(preorder)\n",
        "        return self.ConstructTree(preorder, inorder)\n",
        "\n",
        "    def ConstructTree(self, preorder, inorder):\n",
        "        \n",
        "        # base case\n",
        "        if not preorder or not inorder:\n",
        "            return None\n",
        "\n",
        "        # find the root node\n",
        "        mid = preorder[0]\n",
        "        # idx = 3\n",
        "        idx = inorder.index(mid)\n",
        "        tree = TreeNode(mid)\n",
        "        tree.left = self.ConstructTree(preorder[1 : idx + 1], inorder[0 : idx])\n",
        "        tree.right = self.ConstructTree(preorder[idx + 1 : ], inorder[idx + 1 : ])\n",
        "\n",
        "        return tree"
      ]
    }
  ]
}