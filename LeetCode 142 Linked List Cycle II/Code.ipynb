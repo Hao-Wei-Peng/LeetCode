{
  "nbformat": 4,
  "nbformat_minor": 0,
  "metadata": {
    "colab": {
      "name": "Code.ipynb",
      "provenance": [],
      "collapsed_sections": []
    },
    "kernelspec": {
      "name": "python3",
      "display_name": "Python 3"
    },
    "language_info": {
      "name": "python"
    }
  },
  "cells": [
    {
      "cell_type": "code",
      "execution_count": null,
      "metadata": {
        "id": "hFD3gFKqbvee"
      },
      "outputs": [],
      "source": [
        "# Definition for singly-linked list.\n",
        "# class ListNode:\n",
        "#     def __init__(self, x):\n",
        "#         self.val = x\n",
        "#         self.next = None\n",
        "\n",
        "class Solution:\n",
        "    def detectCycle(self, head: ListNode) -> ListNode:\n",
        "        \n",
        "        # edge case\n",
        "        if not head or not head.next:\n",
        "            return None\n",
        "        \n",
        "        # we can use slow, fast pointers to deal with problem\n",
        "        slow, fast = head, head\n",
        "\n",
        "        # Time Complexity will be O(n + n)\n",
        "        # Space Complexity will be O(1)\n",
        "\n",
        "        # slow * 2 = fast\n",
        "        # slow = a + b\n",
        "        # fast = a + b + c + b = a + 2*b + c\n",
        "        # (a + b)*2 = a + 2*b + c\n",
        "        # a = c\n",
        "        # we can understand start from head move one position\n",
        "        # will equal to meet position move one position\n",
        "\n",
        "        while fast and fast.next:\n",
        "            slow = slow.next\n",
        "            fast = fast.next.next\n",
        "\n",
        "            # we need to find enter of cycle\n",
        "            if slow == fast:\n",
        "                a = head\n",
        "                c = slow\n",
        "\n",
        "                while a != c:\n",
        "                    a = a.next\n",
        "                    c = c.next\n",
        "                return a\n",
        "        return None"
      ]
    }
  ]
}