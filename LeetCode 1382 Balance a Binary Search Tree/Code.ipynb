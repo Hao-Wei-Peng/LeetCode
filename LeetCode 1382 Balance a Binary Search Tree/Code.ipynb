{
  "nbformat": 4,
  "nbformat_minor": 0,
  "metadata": {
    "colab": {
      "provenance": [],
      "collapsed_sections": []
    },
    "kernelspec": {
      "name": "python3",
      "display_name": "Python 3"
    },
    "language_info": {
      "name": "python"
    }
  },
  "cells": [
    {
      "cell_type": "code",
      "execution_count": null,
      "metadata": {
        "id": "mMOA-ZhSJFOB"
      },
      "outputs": [],
      "source": [
        "# Definition for a binary tree node.\n",
        "# class TreeNode:\n",
        "#     def __init__(self, val=0, left=None, right=None):\n",
        "#         self.val = val\n",
        "#         self.left = left\n",
        "#         self.right = right\n",
        "class Solution:\n",
        "    def balanceBST(self, root: TreeNode) -> TreeNode:\n",
        "        \n",
        "        ans = []\n",
        "        tree = TreeNode()\n",
        "\n",
        "        # base case\n",
        "        if not root:\n",
        "            return ans\n",
        "        \n",
        "        ans = self.InOrder(root)\n",
        "        tree = self.BuildTree(ans)\n",
        "\n",
        "        return tree\n",
        "\n",
        "    def InOrder(self, root):\n",
        "        ans = []\n",
        "\n",
        "        if not root:\n",
        "            return ans\n",
        "        \n",
        "        stack = []\n",
        "        cur = root\n",
        "\n",
        "        while cur or stack:\n",
        "            while cur:\n",
        "                stack.append(cur)\n",
        "                cur = cur.left\n",
        "            \n",
        "            node = stack.pop()\n",
        "            ans.append(node.val)\n",
        "            cur = node.right\n",
        "        \n",
        "        return ans\n",
        "\n",
        "\n",
        "    def BuildTree(self, order):\n",
        "\n",
        "        if not order:\n",
        "            return None\n",
        "\n",
        "        n = len(order)\n",
        "        left, right = 0, n - 1\n",
        "        \n",
        "        # use binary search to build tree\n",
        "        mid_idx = left + (right - left) // 2\n",
        "        element = order[mid_idx]\n",
        "        tree = TreeNode(element)\n",
        "        tree.left = self.BuildTree(order[0 : mid_idx])\n",
        "        tree.right = self.BuildTree(order[mid_idx + 1 : ])\n",
        "        \n",
        "        return tree\n"
      ]
    }
  ]
}