{
  "nbformat": 4,
  "nbformat_minor": 0,
  "metadata": {
    "colab": {
      "provenance": [],
      "collapsed_sections": []
    },
    "kernelspec": {
      "name": "python3",
      "display_name": "Python 3"
    },
    "language_info": {
      "name": "python"
    }
  },
  "cells": [
    {
      "cell_type": "code",
      "execution_count": null,
      "metadata": {
        "id": "mMOA-ZhSJFOB"
      },
      "outputs": [],
      "source": [
        "class Solution:\n",
        "    def ladderLength(self, beginWord: str, endWord: str, wordList: List[str]) -> int:\n",
        "\n",
        "        # base case\n",
        "        if endWord not in wordList:\n",
        "            return 0\n",
        "\n",
        "        Graph = collections.defaultdict(list)\n",
        "        wordList.append(beginWord)\n",
        "\n",
        "        for word in wordList:\n",
        "            # word = \"hot\"\n",
        "            LenW = len(word)\n",
        "\n",
        "            # \"*ot\", \"h*t\", \"ho*\"\n",
        "            for idx in range(0, LenW):\n",
        "                patten = word[0 : idx] + \"*\" + word[idx + 1 : ]\n",
        "                Graph[patten].append(word)\n",
        "        \n",
        "        \n",
        "        queue = collections.deque([beginWord])\n",
        "        visited = set([beginWord])\n",
        "        ans = 1\n",
        "\n",
        "        while queue:\n",
        "\n",
        "            LenQ = len(queue)\n",
        "\n",
        "            for idx in range(0, LenQ):\n",
        "                CurWord = queue.popleft()\n",
        "\n",
        "                # arrive end position\n",
        "                if CurWord == endWord:\n",
        "                    return ans\n",
        "                \n",
        "                LenW = len(CurWord)\n",
        "\n",
        "                for idx in range(0, LenW):\n",
        "                    patten = CurWord[0 : idx] + \"*\" + CurWord[idx + 1 : ]\n",
        "                    \n",
        "                    for NextWord in Graph[patten]:\n",
        "                        if NextWord not in visited:\n",
        "                            queue.append(NextWord)\n",
        "                            visited.add(NextWord)\n",
        "            \n",
        "            ans += 1\n",
        "\n",
        "        return 0"
      ]
    }
  ]
}