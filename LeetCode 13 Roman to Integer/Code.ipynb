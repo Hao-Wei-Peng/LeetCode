{
  "nbformat": 4,
  "nbformat_minor": 0,
  "metadata": {
    "colab": {
      "provenance": []
    },
    "kernelspec": {
      "name": "python3",
      "display_name": "Python 3"
    },
    "language_info": {
      "name": "python"
    }
  },
  "cells": [
    {
      "cell_type": "code",
      "execution_count": null,
      "metadata": {
        "id": "mMOA-ZhSJFOB"
      },
      "outputs": [],
      "source": [
        "class Solution:\n",
        "    def __init__(self):\n",
        "        self.Map = {'I': 1, 'IV': 4, 'V': 5, 'IX': 9, 'X': 10, 'XL': 40,\n",
        "                    'L': 50, 'XC': 90, 'C': 100, 'CD': 400, 'D': 500, 'CM': 900, 'M': 1000}\n",
        "\n",
        "    def romanToInt(self, s: str) -> int:\n",
        "\n",
        "        # base case\n",
        "        if not s:\n",
        "            return 0\n",
        "        \n",
        "        # Time Complexity will be O(n)\n",
        "        # Space Complexity will be O(n)\n",
        "        ans, ptr = 0, 0\n",
        "\n",
        "        while ptr < len(s):\n",
        "            if s[ptr : ptr + 2] in self.Map:\n",
        "                ans += self.Map[s[ptr : ptr + 2]]\n",
        "                ptr += 2\n",
        "            \n",
        "            else:\n",
        "                ans += self.Map[s[ptr : ptr + 1]]\n",
        "                ptr += 1\n",
        "        \n",
        "        return ans"
      ]
    }
  ]
}