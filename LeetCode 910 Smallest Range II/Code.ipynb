{
  "nbformat": 4,
  "nbformat_minor": 0,
  "metadata": {
    "colab": {
      "provenance": [],
      "collapsed_sections": []
    },
    "kernelspec": {
      "name": "python3",
      "display_name": "Python 3"
    },
    "language_info": {
      "name": "python"
    }
  },
  "cells": [
    {
      "cell_type": "code",
      "execution_count": null,
      "metadata": {
        "id": "mMOA-ZhSJFOB"
      },
      "outputs": [],
      "source": [
        "class Solution:\n",
        "    def smallestRangeII(self, nums: List[int], k: int) -> int:\n",
        "\n",
        "        # base case\n",
        "        if not nums:\n",
        "            return 0\n",
        "        \n",
        "        # Time Complexity will be O(nlogn)\n",
        "        # Space Complexity will be O(1)\n",
        "\n",
        "        # we use sorted to understand its phenomenon\n",
        "        nums = sorted(nums)\n",
        "        n = len(nums)\n",
        "        Score = nums[-1] - nums[0]\n",
        "\n",
        "        for cut in range(0, n - 1):\n",
        "            Max = max(nums[cut] + k, nums[n - 1] - k)\n",
        "            Min = min(nums[0] + k, nums[cut + 1] - k) \n",
        "            Diff = Max - Min\n",
        "            Score = min(Score, Diff)\n",
        "\n",
        "        return Score\n"
      ]
    }
  ]
}