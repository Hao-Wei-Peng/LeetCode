{
  "nbformat": 4,
  "nbformat_minor": 0,
  "metadata": {
    "colab": {
      "provenance": []
    },
    "kernelspec": {
      "name": "python3",
      "display_name": "Python 3"
    },
    "language_info": {
      "name": "python"
    }
  },
  "cells": [
    {
      "cell_type": "code",
      "execution_count": null,
      "metadata": {
        "id": "mMOA-ZhSJFOB"
      },
      "outputs": [],
      "source": [
        "class Solution:\n",
        "    def minPathSum(self, Grid: List[List[int]]) -> int:\n",
        "        \n",
        "        # Time Complexity will be O(m * n)\n",
        "        # Space Compexity will be O(m * n)\n",
        "        # top left -> bottom right\n",
        "        # each step either down or right\n",
        "        m, n = len(Grid), len(Grid[0])\n",
        "        dp = [[0] * n for _ in range(0, m)]\n",
        "\n",
        "        # initialization\n",
        "        dp[0][0] = Grid[0][0]\n",
        "\n",
        "        for r in range(1, m):\n",
        "            dp[r][0] = Grid[r][0] + dp[r - 1][0]\n",
        "        \n",
        "        for c in range(1, n):\n",
        "            dp[0][c] = Grid[0][c] + dp[0][c - 1]\n",
        "        \n",
        "        # dp\n",
        "        for r in range(1, m):\n",
        "            for c in range(1, n):\n",
        "                dp[r][c] = Grid[r][c] + min(dp[r - 1][c], dp[r][c - 1])\n",
        "        \n",
        "        return dp[m - 1][n - 1]"
      ]
    }
  ]
}