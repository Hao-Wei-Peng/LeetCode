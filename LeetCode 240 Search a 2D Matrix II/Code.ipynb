{
  "nbformat": 4,
  "nbformat_minor": 0,
  "metadata": {
    "colab": {
      "provenance": []
    },
    "kernelspec": {
      "name": "python3",
      "display_name": "Python 3"
    },
    "language_info": {
      "name": "python"
    }
  },
  "cells": [
    {
      "cell_type": "code",
      "execution_count": null,
      "metadata": {
        "id": "mMOA-ZhSJFOB"
      },
      "outputs": [],
      "source": [
        "class Solution:\n",
        "    def searchMatrix(self, Grid: List[List[int]], target: int) -> bool:\n",
        "\n",
        "        m, n = len(Grid), len(Grid[0]) # m = 5, n = 5\n",
        "\n",
        "        # we can use binary search to deal with this problem\n",
        "        # Time Complexity will be O(m * logn)\n",
        "        # Space Complexity will be O(1)\n",
        "        for r in range(0, m):\n",
        "            # pass the current r = 0\n",
        "            if self.BinarySearch(Grid, target, r):\n",
        "                return True\n",
        "        \n",
        "        return False\n",
        "    \n",
        "    def BinarySearch(self, Grid, target, curRow):\n",
        "\n",
        "        # curRow = 0\n",
        "        L, R = 0, len(Grid[0]) - 1\n",
        "\n",
        "        # binary search\n",
        "        while L <= R:\n",
        "            M = L + (R - L) // 2\n",
        "\n",
        "            if Grid[curRow][M] <= target:\n",
        "                L = M + 1\n",
        "            \n",
        "            else:\n",
        "                R = M - 1\n",
        "        \n",
        "        return Grid[curRow][R] == target"
      ]
    }
  ]
}