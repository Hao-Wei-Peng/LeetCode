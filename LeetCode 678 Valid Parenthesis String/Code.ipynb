{
  "nbformat": 4,
  "nbformat_minor": 0,
  "metadata": {
    "colab": {
      "provenance": [],
      "collapsed_sections": []
    },
    "kernelspec": {
      "name": "python3",
      "display_name": "Python 3"
    },
    "language_info": {
      "name": "python"
    }
  },
  "cells": [
    {
      "cell_type": "code",
      "execution_count": null,
      "metadata": {
        "id": "mMOA-ZhSJFOB"
      },
      "outputs": [],
      "source": [
        "class Solution:\n",
        "    def checkValidString(self, s: str) -> bool:\n",
        "\n",
        "        # base case\n",
        "        if not s:\n",
        "            return False\n",
        "\n",
        "        # 3 types: \"(\", \")\", \"*\"\n",
        "        # \"*\" could be considered as \"(\", \")\", \"\"\n",
        "        n = len(s)\n",
        "\n",
        "        # Time Complexity will be O(n)\n",
        "        # Space Complexity will be O(n)\n",
        "        OLD = set([0])\n",
        "\n",
        "        # count how many combinations in set\n",
        "        # if nearest to 0, which represents that we have same size left, right quote\n",
        "        for char in s:\n",
        "            NEW = set()\n",
        "\n",
        "            if char == \"(\":\n",
        "                for t in OLD:\n",
        "                    NEW.add(t + 1)\n",
        "            \n",
        "            elif char == \")\":\n",
        "                for t in OLD:\n",
        "                    if t > 0:\n",
        "                        NEW.add(t - 1)\n",
        "\n",
        "            elif char == \"*\":\n",
        "                for t in OLD:\n",
        "                    NEW.add(t + 1)\n",
        "                    NEW.add(t)\n",
        "\n",
        "                    if t > 0:\n",
        "                        NEW.add(t - 1)\n",
        "\n",
        "            OLD = NEW\n",
        "        \n",
        "        return 0 in OLD"
      ]
    }
  ]
}