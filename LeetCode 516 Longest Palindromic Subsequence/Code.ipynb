{
  "nbformat": 4,
  "nbformat_minor": 0,
  "metadata": {
    "colab": {
      "provenance": [],
      "collapsed_sections": []
    },
    "kernelspec": {
      "name": "python3",
      "display_name": "Python 3"
    },
    "language_info": {
      "name": "python"
    }
  },
  "cells": [
    {
      "cell_type": "code",
      "execution_count": null,
      "metadata": {
        "id": "mMOA-ZhSJFOB"
      },
      "outputs": [],
      "source": [
        "class Solution:\n",
        "    def longestPalindromeSubseq(self, s: str) -> int:\n",
        "\n",
        "        n = len(s)\n",
        "\n",
        "        # base case\n",
        "        if n == 1:\n",
        "            return 1\n",
        "        \n",
        "        # we can use dynamic programming to deal with this problem\n",
        "        # dp[i][j] = longest substring at position s[i : j] \n",
        "        dp = [[0] * n for _ in range(0, n)]\n",
        "\n",
        "        # diagonal\n",
        "        for i in range(0, n):\n",
        "            dp[i][i] = 1\n",
        "\n",
        "        # if char are same, we need to plus 2\n",
        "        # if char are not same, we need to choose i or j put into substring\n",
        "        for i in range(n - 1, -1, -1):\n",
        "            for j in range(i + 1, n):\n",
        "                if s[i] == s[j]:\n",
        "                    dp[i][j] = dp[i + 1][j - 1] + 2\n",
        "                \n",
        "                else:\n",
        "                    dp[i][j] = max(dp[i][j - 1], dp[i + 1][j])\n",
        "        \n",
        "        return dp[0][n - 1]"
      ]
    }
  ]
}