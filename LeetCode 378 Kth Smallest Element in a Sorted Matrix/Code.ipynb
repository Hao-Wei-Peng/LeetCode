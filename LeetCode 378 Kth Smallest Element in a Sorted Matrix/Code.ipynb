{
  "nbformat": 4,
  "nbformat_minor": 0,
  "metadata": {
    "colab": {
      "provenance": []
    },
    "kernelspec": {
      "name": "python3",
      "display_name": "Python 3"
    },
    "language_info": {
      "name": "python"
    }
  },
  "cells": [
    {
      "cell_type": "code",
      "execution_count": null,
      "metadata": {
        "id": "mMOA-ZhSJFOB"
      },
      "outputs": [],
      "source": [
        "class Solution:\n",
        "    def kthSmallest(self, matrix: List[List[int]], k: int) -> int:\n",
        "\n",
        "        # base case\n",
        "        if not matrix:\n",
        "            return 0\n",
        "\n",
        "        n = len(matrix)\n",
        "        Heap = []\n",
        "\n",
        "        # Time Complexity will be O(klogn)\n",
        "        # Space Complexity will be O(n)\n",
        "        for r in range(0, n):\n",
        "            heapq.heappush(Heap, (matrix[r][0], r, 0)) # value, row, col\n",
        "\n",
        "        for _ in range(0, k - 1):\n",
        "            _, r, c = heapq.heappop(Heap)\n",
        "\n",
        "            if c + 1 < n:\n",
        "                heapq.heappush(Heap, (matrix[r][c + 1], r, c + 1))\n",
        "        \n",
        "        return Heap[0][0]"
      ]
    }
  ]
}