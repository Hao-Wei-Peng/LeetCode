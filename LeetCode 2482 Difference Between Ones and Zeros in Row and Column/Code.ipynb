{
  "nbformat": 4,
  "nbformat_minor": 0,
  "metadata": {
    "colab": {
      "provenance": []
    },
    "kernelspec": {
      "name": "python3",
      "display_name": "Python 3"
    },
    "language_info": {
      "name": "python"
    }
  },
  "cells": [
    {
      "cell_type": "code",
      "execution_count": null,
      "metadata": {
        "id": "mMOA-ZhSJFOB"
      },
      "outputs": [],
      "source": [
        "class Solution:\n",
        "    def onesMinusZeros(self, Grid: List[List[int]]) -> List[List[int]]:\n",
        "\n",
        "        # base case\n",
        "        if not Grid:\n",
        "            return Grid\n",
        "        \n",
        "        m, n = len(Grid), len(Grid[0])\n",
        "        zeroRows, zeroCols = [0] * m, [0] * n\n",
        "        oneRows, oneCols = [0] * m, [0] * n\n",
        "\n",
        "        # count the zero, one of each row and col\n",
        "        for r in range(0, m):\n",
        "            for c in range(0, n):\n",
        "                if Grid[r][c] == 0:\n",
        "                    zeroRows[r] += 1\n",
        "                    zeroCols[c] += 1\n",
        "                \n",
        "                elif Grid[r][c] == 1:\n",
        "                    oneRows[r] += 1\n",
        "                    oneCols[c] += 1\n",
        "\n",
        "        Diff = [[0] * n for _ in range(0, m)]\n",
        "        \n",
        "        # assign the update values\n",
        "        for r in range(0, m):\n",
        "            for c in range(0, n):\n",
        "                Diff[r][c] = oneRows[r] + oneCols[c] - zeroRows[r] - zeroCols[c]\n",
        "        \n",
        "        return Diff"
      ]
    }
  ]
}