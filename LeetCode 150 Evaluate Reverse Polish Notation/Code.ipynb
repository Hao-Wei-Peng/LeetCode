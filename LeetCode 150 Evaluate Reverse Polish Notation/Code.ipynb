{
  "nbformat": 4,
  "nbformat_minor": 0,
  "metadata": {
    "colab": {
      "name": "Code.ipynb",
      "provenance": [],
      "collapsed_sections": []
    },
    "kernelspec": {
      "name": "python3",
      "display_name": "Python 3"
    },
    "language_info": {
      "name": "python"
    }
  },
  "cells": [
    {
      "cell_type": "code",
      "execution_count": null,
      "metadata": {
        "id": "hFD3gFKqbvee"
      },
      "outputs": [],
      "source": [
        "class Solution:\n",
        "    def evalRPN(self, tokens: List[str]) -> int:\n",
        "\n",
        "        LenTK = len(tokens)\n",
        "        stack = []\n",
        "\n",
        "        # Time Complexity will be O(n)\n",
        "        # Space Complexity will be O(n)\n",
        "        for opr in tokens:\n",
        "            if opr == \"+\":\n",
        "                b = stack.pop()\n",
        "                a = stack.pop()\n",
        "                stack.append(a + b)\n",
        "\n",
        "            elif opr == \"-\":\n",
        "                b = stack.pop()\n",
        "                a = stack.pop()\n",
        "                stack.append(a - b)\n",
        "\n",
        "            elif opr == \"*\":\n",
        "                b = stack.pop()\n",
        "                a = stack.pop()\n",
        "                stack.append(a * b)\n",
        "\n",
        "            elif opr == \"/\":\n",
        "                b = stack.pop()\n",
        "                a = stack.pop()\n",
        "                stack.append(int(a / b))\n",
        "\n",
        "            else:\n",
        "                stack.append(int(opr))\n",
        "\n",
        "        return stack[0]        "
      ]
    }
  ]
}