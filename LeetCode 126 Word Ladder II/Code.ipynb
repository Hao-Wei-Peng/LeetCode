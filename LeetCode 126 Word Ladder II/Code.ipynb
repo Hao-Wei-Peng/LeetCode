{
  "nbformat": 4,
  "nbformat_minor": 0,
  "metadata": {
    "colab": {
      "provenance": [],
      "collapsed_sections": []
    },
    "kernelspec": {
      "name": "python3",
      "display_name": "Python 3"
    },
    "language_info": {
      "name": "python"
    }
  },
  "cells": [
    {
      "cell_type": "code",
      "execution_count": null,
      "metadata": {
        "id": "mMOA-ZhSJFOB"
      },
      "outputs": [],
      "source": [
        "class Solution:\n",
        "    def findLadders(self, beginWord: str, endWord: str, wordList: List[str]) -> List[List[str]]:\n",
        "        \n",
        "        ans = []\n",
        "\n",
        "        # base case\n",
        "        if endWord not in wordList:\n",
        "            return ans\n",
        "        \n",
        "        Graph = collections.defaultdict(list)\n",
        "        # we want to find all adjacent words, therefore, we need to append first element\n",
        "        wordList.append(beginWord)\n",
        "\n",
        "        # \"hot\"\n",
        "        for word in wordList:\n",
        "            LenW = len(word)\n",
        "\n",
        "            # 3 types -> \"*ot\", \"h*t\", \"ho*\"\n",
        "            for idx in range(0, LenW):\n",
        "                pattern = word[0 : idx] + \"*\" + word[idx + 1 : ]\n",
        "                Graph[pattern].append(word)\n",
        "        \n",
        "        queue = collections.deque([(beginWord, [beginWord])])\n",
        "        visited = set([beginWord])\n",
        "        MinCost = float(\"inf\")\n",
        "\n",
        "        while queue:\n",
        "            LenQ = len(queue)\n",
        "            cur_visited = set()\n",
        "            # next_queue = collections.deque()\n",
        "\n",
        "            # for CurWord, CurPath in queue:\n",
        "\n",
        "            for _ in range(0, LenQ):\n",
        "                CurWord, CurPath = queue.popleft()\n",
        "\n",
        "                # we have arrive end position\n",
        "                if CurWord == endWord:\n",
        "                    ans.append(CurPath)\n",
        "                \n",
        "                LenW = len(CurWord)\n",
        "\n",
        "                for idx in range(0, LenW):\n",
        "                    pattern = CurWord[0 : idx] + \"*\" + CurWord[idx + 1 : ]\n",
        "                    \n",
        "                    for NextWord in Graph[pattern]:\n",
        "                        if NextWord not in visited:\n",
        "                            cur_visited.add(NextWord)\n",
        "                            queue.append((NextWord, CurPath + [NextWord]))\n",
        "            \n",
        "            visited |= cur_visited\n",
        "            # queue = next_queue\n",
        "        return ans"
      ]
    }
  ]
}