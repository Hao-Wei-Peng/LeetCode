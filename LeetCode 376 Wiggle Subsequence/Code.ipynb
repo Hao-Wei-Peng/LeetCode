{
  "nbformat": 4,
  "nbformat_minor": 0,
  "metadata": {
    "colab": {
      "provenance": [],
      "collapsed_sections": []
    },
    "kernelspec": {
      "name": "python3",
      "display_name": "Python 3"
    },
    "language_info": {
      "name": "python"
    }
  },
  "cells": [
    {
      "cell_type": "code",
      "execution_count": null,
      "metadata": {
        "id": "mMOA-ZhSJFOB"
      },
      "outputs": [],
      "source": [
        "class Solution:\n",
        "    def wiggleMaxLength(self, nums: List[int]) -> int:\n",
        "\n",
        "        n = len(nums)\n",
        "\n",
        "        # base case\n",
        "        if n == 1:\n",
        "            return 1\n",
        "\n",
        "        # dp[i] = maximum wiggle subsequence at index i\n",
        "        pos, neg = [0] * n, [0] * n\n",
        "        pos[0], neg[0] = 1, 1\n",
        "        MaxLen = 0\n",
        "\n",
        "        for i in range(1, n):\n",
        "            if nums[i] - nums[i - 1] > 0:\n",
        "                pos[i] = neg[i - 1] + 1\n",
        "                neg[i] = neg[i - 1]\n",
        "            \n",
        "            elif nums[i] - nums[i - 1] < 0:\n",
        "                pos[i] = pos[i - 1]\n",
        "                neg[i] = pos[i - 1] + 1\n",
        "            \n",
        "            else:\n",
        "                pos[i], neg[i] = pos[i - 1], neg[i - 1]\n",
        "            \n",
        "            MaxLen = max(MaxLen, pos[i], neg[i])\n",
        "        \n",
        "        return MaxLen"
      ]
    }
  ]
}