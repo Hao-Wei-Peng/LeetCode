{
  "nbformat": 4,
  "nbformat_minor": 0,
  "metadata": {
    "colab": {
      "provenance": []
    },
    "kernelspec": {
      "name": "python3",
      "display_name": "Python 3"
    },
    "language_info": {
      "name": "python"
    }
  },
  "cells": [
    {
      "cell_type": "code",
      "execution_count": null,
      "metadata": {
        "id": "mMOA-ZhSJFOB"
      },
      "outputs": [],
      "source": [
        "# Definition for a binary tree node.\n",
        "# class TreeNode:\n",
        "#     def __init__(self, x):\n",
        "#         self.val = x\n",
        "#         self.left = None\n",
        "#         self.right = None\n",
        "\n",
        "class Solution:\n",
        "    def __init__(self):\n",
        "        self.ans = []\n",
        "        self.HashMap = {}\n",
        "\n",
        "    def distanceK(self, root: TreeNode, target: TreeNode, k: int) -> List[int]:\n",
        "\n",
        "        # base case\n",
        "        if not root:\n",
        "            return 0\n",
        "\n",
        "        self.findParent(root)\n",
        "        self.DFS(target, None, k) # start, previous status, remain steps\n",
        "\n",
        "        return self.ans\n",
        "    \n",
        "    def findParent(self, node):\n",
        "\n",
        "        if node.left:\n",
        "            self.HashMap[node.left.val] = node\n",
        "            self.findParent(node.left)\n",
        "        \n",
        "        if node.right:\n",
        "            self.HashMap[node.right.val] = node\n",
        "            self.findParent(node.right)\n",
        "    \n",
        "    def DFS(self, cur_node, pre_node, k):\n",
        "\n",
        "        # end condition\n",
        "        if k == 0:\n",
        "            self.ans.append(cur_node.val)\n",
        "            return\n",
        "\n",
        "        if cur_node.left and cur_node.left != pre_node: # left side\n",
        "            self.DFS(cur_node.left, cur_node, k - 1)\n",
        "\n",
        "        if cur_node.right and cur_node.right != pre_node: # right side\n",
        "            self.DFS(cur_node.right, cur_node, k - 1)\n",
        "        \n",
        "        if cur_node.val in self.HashMap and self.HashMap[cur_node.val] != pre_node:\n",
        "            self.DFS(self.HashMap[cur_node.val], cur_node, k - 1) # father side\n",
        "        \n"
      ]
    }
  ]
}