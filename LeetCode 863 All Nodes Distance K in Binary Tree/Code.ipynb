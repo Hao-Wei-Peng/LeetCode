{
  "nbformat": 4,
  "nbformat_minor": 0,
  "metadata": {
    "colab": {
      "provenance": []
    },
    "kernelspec": {
      "name": "python3",
      "display_name": "Python 3"
    },
    "language_info": {
      "name": "python"
    }
  },
  "cells": [
    {
      "cell_type": "code",
      "execution_count": null,
      "metadata": {
        "id": "mMOA-ZhSJFOB"
      },
      "outputs": [],
      "source": [
        "# Definition for a binary tree node.\n",
        "# class TreeNode:\n",
        "#     def __init__(self, x):\n",
        "#         self.val = x\n",
        "#         self.left = None\n",
        "#         self.right = None\n",
        "\n",
        "class Solution:\n",
        "    def __init__(self):\n",
        "        self.Graph = {} # record the parent of each node\n",
        "        self.ans = []\n",
        "        self.visit = set()\n",
        "\n",
        "    def distanceK(self, root: TreeNode, target: TreeNode, k: int) -> List[int]:\n",
        "\n",
        "        # base case\n",
        "        if not root:\n",
        "            return self.ans\n",
        "        \n",
        "        self.findParent(root, None) # node, parent\n",
        "        self.findDistance(target, 0, k) # node, distance, k\n",
        "\n",
        "        return self.ans\n",
        "\n",
        "    def findParent(self, node, parent):\n",
        "\n",
        "        # base case\n",
        "        if not node:\n",
        "            return\n",
        "\n",
        "        self.Graph[node] = parent\n",
        "        self.findParent(node.left, node)\n",
        "        self.findParent(node.right, node)\n",
        "    \n",
        "    def findDistance(self, node, dist, k):\n",
        "\n",
        "        # base case\n",
        "        if not node or node in self.visit or dist > k:\n",
        "            return\n",
        "\n",
        "        self.visit.add(node)\n",
        "\n",
        "        # condition\n",
        "        if dist == k:\n",
        "            self.ans.append(node.val)\n",
        "        \n",
        "        self.findDistance(node.left, dist + 1, k)\n",
        "        self.findDistance(node.right, dist + 1, k)\n",
        "        self.findDistance(self.Graph[node], dist + 1, k)\n",
        "\n"
      ]
    }
  ]
}