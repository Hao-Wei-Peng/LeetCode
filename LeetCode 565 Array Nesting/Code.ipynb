{
  "nbformat": 4,
  "nbformat_minor": 0,
  "metadata": {
    "colab": {
      "provenance": [],
      "collapsed_sections": []
    },
    "kernelspec": {
      "name": "python3",
      "display_name": "Python 3"
    },
    "language_info": {
      "name": "python"
    }
  },
  "cells": [
    {
      "cell_type": "code",
      "execution_count": null,
      "metadata": {
        "id": "mMOA-ZhSJFOB"
      },
      "outputs": [],
      "source": [
        "class Solution:\n",
        "    \n",
        "    def arrayNesting(self, nums: List[int]) -> int:\n",
        "        \n",
        "        # key idea\n",
        "        # we can have an idea on cycle conception\n",
        "\n",
        "        n = len(nums)\n",
        "        # record whether we have visited this position\n",
        "        visited = [None] * n\n",
        "        MaxLen = 0\n",
        "\n",
        "        # every position could be start position\n",
        "        for idx in range(0, n):\n",
        "            if not visited[idx]:\n",
        "                CurLen = self.DFS(visited, idx, nums, 0)\n",
        "                MaxLen = max(MaxLen, CurLen)\n",
        "        \n",
        "        return MaxLen\n",
        "\n",
        "    def DFS(self, visited, root, nums, depth):\n",
        "\n",
        "        # if we have visited this position\n",
        "        # return current length (end condition)\n",
        "        if visited[root] == True:\n",
        "            return depth\n",
        "        \n",
        "        visited[root] = True\n",
        "        return self.DFS(visited, nums[root], nums, depth + 1)"
      ]
    }
  ]
}