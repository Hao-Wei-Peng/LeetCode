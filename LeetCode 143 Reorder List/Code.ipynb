{
  "nbformat": 4,
  "nbformat_minor": 0,
  "metadata": {
    "colab": {
      "provenance": [],
      "collapsed_sections": []
    },
    "kernelspec": {
      "name": "python3",
      "display_name": "Python 3"
    },
    "language_info": {
      "name": "python"
    }
  },
  "cells": [
    {
      "cell_type": "code",
      "execution_count": null,
      "metadata": {
        "id": "mMOA-ZhSJFOB"
      },
      "outputs": [],
      "source": [
        "# Definition for singly-linked list.\n",
        "# class ListNode:\n",
        "#     def __init__(self, val=0, next=None):\n",
        "#         self.val = val\n",
        "#         self.next = next\n",
        "class Solution:\n",
        "    def reorderList(self, head: ListNode) -> None:\n",
        "        \"\"\"\n",
        "        Do not return anything, modify head in-place instead.\n",
        "        \"\"\"\n",
        "\n",
        "        # find the median\n",
        "        slow, fast = head, head.next\n",
        "\n",
        "        while fast and fast.next:\n",
        "            slow = slow.next\n",
        "            fast = fast.next.next\n",
        "        \n",
        "        record = slow.next\n",
        "        slow.next = None\n",
        "\n",
        "        # reverse second part\n",
        "        second = None\n",
        "        cur = record\n",
        "\n",
        "        while cur:\n",
        "            temp = cur.next\n",
        "            cur.next = second\n",
        "            second = cur\n",
        "            cur = temp\n",
        "        \n",
        "        # we will obtain [1, 2] [4, 3] two linked list after above steps\n",
        "        first = head\n",
        "\n",
        "        while second:\n",
        "            temp1, temp2 = first.next, second.next\n",
        "            first.next = second\n",
        "            second.next = temp1\n",
        "\n",
        "            # update positions\n",
        "            first, second = temp1, temp2\n",
        "\n",
        "        return head\n"
      ]
    }
  ]
}