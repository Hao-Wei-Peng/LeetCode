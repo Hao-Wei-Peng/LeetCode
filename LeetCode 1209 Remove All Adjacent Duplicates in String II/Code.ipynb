{
  "nbformat": 4,
  "nbformat_minor": 0,
  "metadata": {
    "colab": {
      "provenance": []
    },
    "kernelspec": {
      "name": "python3",
      "display_name": "Python 3"
    },
    "language_info": {
      "name": "python"
    }
  },
  "cells": [
    {
      "cell_type": "code",
      "execution_count": null,
      "metadata": {
        "id": "mMOA-ZhSJFOB"
      },
      "outputs": [],
      "source": [
        "class Solution:\n",
        "    def removeDuplicates(self, s: str, k: int) -> str:\n",
        "\n",
        "        # Time Complexity will be O(n)\n",
        "        # Space Complexity will be O(n)\n",
        "        stack = []\n",
        "\n",
        "        for char in s:\n",
        "            if not stack or stack[-1][0] != char:\n",
        "                stack.append([char, 1]) # set the new character\n",
        "            \n",
        "            elif stack[-1][1] + 1 < k:\n",
        "                stack[-1][1] += 1\n",
        "            \n",
        "            else:\n",
        "                stack.pop()\n",
        "        \n",
        "        ans = \"\"\n",
        "\n",
        "        for char, cnt in stack:\n",
        "            ans += char * cnt\n",
        "        \n",
        "        return ans"
      ]
    }
  ]
}