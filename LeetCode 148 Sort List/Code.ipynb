{
  "nbformat": 4,
  "nbformat_minor": 0,
  "metadata": {
    "colab": {
      "provenance": [],
      "collapsed_sections": []
    },
    "kernelspec": {
      "name": "python3",
      "display_name": "Python 3"
    },
    "language_info": {
      "name": "python"
    }
  },
  "cells": [
    {
      "cell_type": "code",
      "execution_count": null,
      "metadata": {
        "id": "mMOA-ZhSJFOB"
      },
      "outputs": [],
      "source": [
        "# Definition for singly-linked list.\n",
        "# class ListNode:\n",
        "#     def __init__(self, val=0, next=None):\n",
        "#         self.val = val\n",
        "#         self.next = next\n",
        "class Solution:\n",
        "    def sortList(self, head: Optional[ListNode]) -> Optional[ListNode]:\n",
        "\n",
        "        # base case\n",
        "        if not head or not head.next:\n",
        "            return head\n",
        "        \n",
        "        first = head\n",
        "        other = self.findmid(head)\n",
        "\n",
        "        temp = other.next\n",
        "        other.next = None\n",
        "        second = temp\n",
        "\n",
        "        first = self.sortList(first)\n",
        "        second = self.sortList(second)\n",
        "\n",
        "        return self.merge(first, second)\n",
        "\n",
        "\n",
        "    def findmid(self, head):\n",
        "\n",
        "        slow, fast = head, head\n",
        "\n",
        "        while fast.next and fast.next.next:\n",
        "            slow = slow.next\n",
        "            fast = fast.next.next\n",
        "        \n",
        "        return slow\n",
        "\n",
        "\n",
        "    def merge(self, first, second):\n",
        "        combine = ListNode()\n",
        "\n",
        "        cur = combine\n",
        "\n",
        "        while first and second:\n",
        "            if first.val <= second.val:\n",
        "                cur.next = first\n",
        "                first = first.next\n",
        "            \n",
        "            else:\n",
        "                cur.next = second\n",
        "                second = second.next\n",
        "\n",
        "            cur = cur.next\n",
        "\n",
        "        if first:\n",
        "            cur.next = first\n",
        "        \n",
        "        if second:\n",
        "            cur.next = second\n",
        "\n",
        "        return combine.next"
      ]
    }
  ]
}