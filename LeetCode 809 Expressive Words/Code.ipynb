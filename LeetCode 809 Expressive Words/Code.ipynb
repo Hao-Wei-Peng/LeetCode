{
  "nbformat": 4,
  "nbformat_minor": 0,
  "metadata": {
    "colab": {
      "provenance": []
    },
    "kernelspec": {
      "name": "python3",
      "display_name": "Python 3"
    },
    "language_info": {
      "name": "python"
    }
  },
  "cells": [
    {
      "cell_type": "code",
      "execution_count": null,
      "metadata": {
        "id": "mMOA-ZhSJFOB"
      },
      "outputs": [],
      "source": [
        "class Solution:\n",
        "    def expressiveWords(self, s: str, words: List[str]) -> int:\n",
        "\n",
        "        # base case\n",
        "        if not s or not words:\n",
        "            return 0\n",
        "        \n",
        "        total = 0\n",
        "\n",
        "        for word in words:\n",
        "            if self.isExpandWords(s, word):\n",
        "                total += 1\n",
        "        \n",
        "        return total\n",
        "    \n",
        "    def isExpandWords(self, s, word):\n",
        "\n",
        "        i, j = 0, 0\n",
        "        m, n = len(s), len(word)\n",
        "\n",
        "        while i < m and j < n:\n",
        "            if s[i] != word[j]:\n",
        "                return False\n",
        "            \n",
        "            char = s[i]\n",
        "            cnti = 0\n",
        "\n",
        "            while i < m and s[i] == char:\n",
        "                cnti += 1\n",
        "                i += 1\n",
        "            \n",
        "            cntj = 0\n",
        "\n",
        "            while j < n and word[j] == char:\n",
        "                cntj += 1\n",
        "                j += 1\n",
        "            \n",
        "            if cnti < cntj:\n",
        "                return False\n",
        "            \n",
        "            if cnti != cntj and cnti < 3:\n",
        "                return False\n",
        "        \n",
        "        return i == m and j == n\n",
        "            "
      ]
    }
  ]
}