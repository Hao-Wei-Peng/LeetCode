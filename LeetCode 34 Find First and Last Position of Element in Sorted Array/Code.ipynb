{
  "nbformat": 4,
  "nbformat_minor": 0,
  "metadata": {
    "colab": {
      "name": "Code.ipynb",
      "provenance": [],
      "collapsed_sections": []
    },
    "kernelspec": {
      "name": "python3",
      "display_name": "Python 3"
    },
    "language_info": {
      "name": "python"
    }
  },
  "cells": [
    {
      "cell_type": "code",
      "execution_count": null,
      "metadata": {
        "id": "hFD3gFKqbvee"
      },
      "outputs": [],
      "source": [
        "class Solution:\n",
        "    def searchRange(self, nums: List[int], target: int) -> List[int]:\n",
        "\n",
        "        # ascending order\n",
        "        # start position, end position of the [target] value\n",
        "        \n",
        "        # we need to consider 3 situations\n",
        "        # 1. if target not in nums (out of range), return [-1, -1]\n",
        "        # 2. if target not in nums (in range), return [-1, -1]\n",
        "        # 3. if target in nums, return [left_border, right_border]\n",
        "\n",
        "        # Time Complexity will be O(logn)\n",
        "        # Space Complexity will be O(1)\n",
        "        def leftBorder(nums, target):\n",
        "\n",
        "            n = len(nums)\n",
        "\n",
        "            left = 0\n",
        "            right = n - 1\n",
        "            L_Border = None\n",
        "\n",
        "            while left <= right:\n",
        "\n",
        "                mid = (left + right) // 2\n",
        "                \n",
        "                if nums[mid] < target:\n",
        "                    left = mid + 1\n",
        "                else:\n",
        "                    right = mid - 1\n",
        "                    L_Border = right\n",
        "\n",
        "            return L_Border\n",
        "\n",
        "        def rightBorder(nums, target):\n",
        "\n",
        "            n = len(nums)\n",
        "            \n",
        "            left = 0\n",
        "            right = n - 1\n",
        "            R_Border = None\n",
        "\n",
        "            while left <= right:\n",
        "\n",
        "                mid = (left + right) // 2\n",
        "\n",
        "                if nums[mid] <= target:\n",
        "                    left = mid + 1\n",
        "                    R_Border = left\n",
        "                else:\n",
        "                    right = mid - 1\n",
        "            \n",
        "            return R_Border\n",
        "\n",
        "        # edge case\n",
        "        if not nums:\n",
        "            return [-1, -1]\n",
        "\n",
        "        left = leftBorder(nums, target)\n",
        "        right = rightBorder(nums, target)\n",
        "\n",
        "        if left == None or right == None:\n",
        "            return [-1, -1]\n",
        "        \n",
        "        if right - left > 1:\n",
        "            return [left + 1, right - 1]\n",
        "        \n",
        "        return [-1, -1]\n"
      ]
    }
  ]
}