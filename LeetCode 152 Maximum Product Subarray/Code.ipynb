{
  "nbformat": 4,
  "nbformat_minor": 0,
  "metadata": {
    "colab": {
      "provenance": [],
      "collapsed_sections": []
    },
    "kernelspec": {
      "name": "python3",
      "display_name": "Python 3"
    },
    "language_info": {
      "name": "python"
    }
  },
  "cells": [
    {
      "cell_type": "code",
      "execution_count": null,
      "metadata": {
        "id": "mMOA-ZhSJFOB"
      },
      "outputs": [],
      "source": [
        "class Solution:\n",
        "    def maxProduct(self, nums: List[int]) -> int:\n",
        "\n",
        "        n = len(nums)\n",
        "\n",
        "        # base case\n",
        "        if n < 2:\n",
        "            return nums[0]\n",
        "        \n",
        "        # Time Complexity will be O(n)\n",
        "        # Space Complexity will be O(n)\n",
        "        pos = [0] * n\n",
        "        neg = [0] * n\n",
        "        ans = nums[0]\n",
        "\n",
        "        pos[0] = nums[0]\n",
        "        neg[0] = nums[0]\n",
        "\n",
        "        for i in range(1, n):\n",
        "            pos[i] = max(pos[i - 1] * nums[i], neg[i - 1] * nums[i], nums[i])\n",
        "            neg[i] = min(pos[i - 1] * nums[i], neg[i - 1] * nums[i], nums[i])\n",
        "            ans = max(ans, pos[i])\n",
        "\n",
        "        return ans"
      ]
    }
  ]
}