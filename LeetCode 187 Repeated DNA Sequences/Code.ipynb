{
  "nbformat": 4,
  "nbformat_minor": 0,
  "metadata": {
    "colab": {
      "name": "Code.ipynb",
      "provenance": [],
      "collapsed_sections": []
    },
    "kernelspec": {
      "name": "python3",
      "display_name": "Python 3"
    },
    "language_info": {
      "name": "python"
    }
  },
  "cells": [
    {
      "cell_type": "code",
      "execution_count": null,
      "metadata": {
        "id": "hFD3gFKqbvee"
      },
      "outputs": [],
      "source": [
        "class Solution:\n",
        "    def findRepeatedDnaSequences(self, s: str) -> List[str]:\n",
        "\n",
        "        ans = []\n",
        "        n = len(s)\n",
        "        fre_dict = collections.defaultdict(int)\n",
        "\n",
        "        # Time Complexity will be O(n)\n",
        "        # Space Complexity will be O(n)\n",
        "        for i in range(0, n - 10 + 1):\n",
        "            key = s[i : i + 10]\n",
        "            fre_dict[key] += 1\n",
        "\n",
        "            # if current DNA more than once\n",
        "            if fre_dict[key] > 1 and key not in ans:\n",
        "                ans.append(key)\n",
        "        \n",
        "        return ans"
      ]
    }
  ]
}