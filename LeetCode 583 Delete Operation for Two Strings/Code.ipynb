{
  "nbformat": 4,
  "nbformat_minor": 0,
  "metadata": {
    "colab": {
      "provenance": [],
      "collapsed_sections": []
    },
    "kernelspec": {
      "name": "python3",
      "display_name": "Python 3"
    },
    "language_info": {
      "name": "python"
    }
  },
  "cells": [
    {
      "cell_type": "code",
      "execution_count": null,
      "metadata": {
        "id": "mMOA-ZhSJFOB"
      },
      "outputs": [],
      "source": [
        "class Solution:\n",
        "    def minDistance(self, word1: str, word2: str) -> int:\n",
        "\n",
        "        m = len(word1)\n",
        "        n = len(word2)\n",
        "\n",
        "        # we can use dynamic programming to deal with this problem\n",
        "        # Time Complexity will be O(m * n)\n",
        "        # Space Complexity will be O(m * n)\n",
        "        # dp[i][j] = longest subsequences at index i, j\n",
        "        dp = [[0] * (n + 1) for _ in range(0, m + 1)]\n",
        "\n",
        "        for i in range(1, m + 1):\n",
        "            for j in range(1, n + 1):\n",
        "                if word1[i - 1] == word2[j - 1]:\n",
        "                    dp[i][j] = dp[i - 1][j - 1] + 1\n",
        "                else:\n",
        "                    dp[i][j] = max(dp[i - 1][j], dp[i][j - 1])\n",
        "        \n",
        "        FirstWord = m - dp[m][n]\n",
        "        SecondWord = n - dp[m][n]\n",
        "\n",
        "        return FirstWord + SecondWord"
      ]
    }
  ]
}