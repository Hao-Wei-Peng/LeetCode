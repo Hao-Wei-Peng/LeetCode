{
  "nbformat": 4,
  "nbformat_minor": 0,
  "metadata": {
    "colab": {
      "provenance": []
    },
    "kernelspec": {
      "name": "python3",
      "display_name": "Python 3"
    },
    "language_info": {
      "name": "python"
    }
  },
  "cells": [
    {
      "cell_type": "code",
      "execution_count": null,
      "metadata": {
        "id": "mMOA-ZhSJFOB"
      },
      "outputs": [],
      "source": [
        "class Solution:\n",
        "    def findSubstringInWraproundString(self, WrapAround: str) -> int:\n",
        "        \n",
        "        # base case\n",
        "        if not WrapAround:\n",
        "            return 0\n",
        "\n",
        "        WrapAround = \"!\" + WrapAround\n",
        "        n = len(WrapAround)\n",
        "        count = 1\n",
        "        Map = collections.defaultdict(int)\n",
        "\n",
        "        for i in range(1, n):\n",
        "            # WrapAround = \"!cac\"\n",
        "            cur, pre = ord(WrapAround[i]), ord(WrapAround[i - 1])\n",
        "\n",
        "            if cur - pre == 1 or cur - pre == -25:\n",
        "                count += 1\n",
        "            else:\n",
        "                count = 1\n",
        "            \n",
        "            # same key: record the maximum length\n",
        "            Map[cur] = max(Map[cur], count)\n",
        "        \n",
        "        return sum(Map.values())"
      ]
    }
  ]
}