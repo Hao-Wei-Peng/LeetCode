{
  "nbformat": 4,
  "nbformat_minor": 0,
  "metadata": {
    "colab": {
      "provenance": [],
      "collapsed_sections": []
    },
    "kernelspec": {
      "name": "python3",
      "display_name": "Python 3"
    },
    "language_info": {
      "name": "python"
    }
  },
  "cells": [
    {
      "cell_type": "code",
      "execution_count": null,
      "metadata": {
        "id": "mMOA-ZhSJFOB"
      },
      "outputs": [],
      "source": [
        "# Definition for a binary tree node.\n",
        "# class TreeNode:\n",
        "#     def __init__(self, val=0, left=None, right=None):\n",
        "#         self.val = val\n",
        "#         self.left = left\n",
        "#         self.right = right\n",
        "class Solution:\n",
        "\n",
        "    def __init__(self):\n",
        "        self.LeavesTotal = 0\n",
        "        self.Level = -1\n",
        "\n",
        "    def deepestLeavesSum(self, root: Optional[TreeNode]) -> int:\n",
        "        return self.DFS(root, 0)\n",
        "    \n",
        "    def DFS(self, root, level):\n",
        "        # base case\n",
        "        if not root:\n",
        "            return None\n",
        "        \n",
        "        root.left = self.DFS(root.left, level + 1)\n",
        "        root.right = self.DFS(root.right, level + 1)\n",
        "\n",
        "        if level > self.Level:\n",
        "            self.Level = level\n",
        "            self.LeavesTotal = root.val\n",
        "        \n",
        "        elif level == self.Level:\n",
        "            self.LeavesTotal += root.val\n",
        "\n",
        "        return self.LeavesTotal\n"
      ]
    }
  ]
}