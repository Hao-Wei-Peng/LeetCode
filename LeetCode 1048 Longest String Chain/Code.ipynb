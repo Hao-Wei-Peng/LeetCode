{
  "nbformat": 4,
  "nbformat_minor": 0,
  "metadata": {
    "colab": {
      "provenance": []
    },
    "kernelspec": {
      "name": "python3",
      "display_name": "Python 3"
    },
    "language_info": {
      "name": "python"
    }
  },
  "cells": [
    {
      "cell_type": "code",
      "execution_count": null,
      "metadata": {
        "id": "mMOA-ZhSJFOB"
      },
      "outputs": [],
      "source": [
        "class Solution:\n",
        "    def longestStrChain(self, words: List[str]) -> int:\n",
        "\n",
        "        # base case\n",
        "        if not words:\n",
        "            return 0\n",
        "\n",
        "        # Time Complexity will be O(nlogn)\n",
        "        # Space Complexity will be O(n)\n",
        "        words = sorted(words, key = lambda curword: len(curword))\n",
        "        Count = collections.defaultdict(int)\n",
        "        maxLen = 0\n",
        "\n",
        "        for word in words:\n",
        "            for i in range(0, len(word)):\n",
        "                key = word[0 : i] + word[i + 1 : ]\n",
        "                Count[word] = max(Count[word], Count[key] + 1)\n",
        "\n",
        "            maxLen = max(maxLen, Count[word])\n",
        "                \n",
        "        return maxLen"
      ]
    }
  ]
}