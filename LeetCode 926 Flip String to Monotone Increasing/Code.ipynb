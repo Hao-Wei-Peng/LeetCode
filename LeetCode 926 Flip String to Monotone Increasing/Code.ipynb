{
  "nbformat": 4,
  "nbformat_minor": 0,
  "metadata": {
    "colab": {
      "provenance": [],
      "collapsed_sections": []
    },
    "kernelspec": {
      "name": "python3",
      "display_name": "Python 3"
    },
    "language_info": {
      "name": "python"
    }
  },
  "cells": [
    {
      "cell_type": "code",
      "execution_count": null,
      "metadata": {
        "id": "mMOA-ZhSJFOB"
      },
      "outputs": [],
      "source": [
        "class Solution:\n",
        "    def minFlipsMonoIncr(self, s: str) -> int:\n",
        "        \n",
        "        # binary string is monotone increasing (ascending order)\n",
        "        # two steps\n",
        "        # 1. flip 0 to 1\n",
        "        # 2. flip 1 to 0\n",
        "        # compute minimum flips to ensure current string follows the rule\n",
        "        # dp[i] = minimum flips at current idx (at the end of 0/1)\n",
        "\n",
        "        zero, one = 0, 0\n",
        "\n",
        "        for char in s:\n",
        "            if char == \"0\":\n",
        "                zero, one = zero, one + 1\n",
        "\n",
        "            else:\n",
        "                zero, one = zero + 1, min(zero, one)\n",
        "        \n",
        "        return min(zero, one)"
      ]
    }
  ]
}