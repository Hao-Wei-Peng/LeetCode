{
  "nbformat": 4,
  "nbformat_minor": 0,
  "metadata": {
    "colab": {
      "provenance": []
    },
    "kernelspec": {
      "name": "python3",
      "display_name": "Python 3"
    },
    "language_info": {
      "name": "python"
    }
  },
  "cells": [
    {
      "cell_type": "code",
      "execution_count": null,
      "metadata": {
        "id": "mMOA-ZhSJFOB"
      },
      "outputs": [],
      "source": [
        "# Definition for a binary tree node.\n",
        "# class TreeNode:\n",
        "#     def __init__(self, val=0, left=None, right=None):\n",
        "#         self.val = val\n",
        "#         self.left = left\n",
        "#         self.right = right\n",
        "class Solution:\n",
        "    def findDistance(self, root: Optional[TreeNode], p: int, q: int) -> int:\n",
        "\n",
        "        # step 1: establish the bio-direction Graph\n",
        "        Graph = collections.defaultdict(list)\n",
        "        Queue = collections.deque([root])\n",
        "\n",
        "        while Queue:\n",
        "            node = Queue.popleft()\n",
        "\n",
        "            if node.left:\n",
        "                Graph[node.val].append(node.left.val)\n",
        "                Graph[node.left.val].append(node.val)\n",
        "                Queue.append(node.left)\n",
        "            \n",
        "            if node.right:\n",
        "                Graph[node.val].append(node.right.val)\n",
        "                Graph[node.right.val].append(node.val)\n",
        "                Queue.append(node.right)\n",
        "        \n",
        "        # step 2: use BFS to find distance in a binary tree\n",
        "        Queue = collections.deque([(p, 0)]) # start, distance\n",
        "        visited = set()\n",
        "\n",
        "        while Queue:\n",
        "            LenQ = len(Queue)\n",
        "\n",
        "            for _ in range(LenQ):\n",
        "                node_val, dist = Queue.popleft()\n",
        "\n",
        "                if node_val in visited:\n",
        "                    continue\n",
        "                \n",
        "                visited.add(node_val)\n",
        "\n",
        "                if node_val == q:\n",
        "                    return dist\n",
        "                \n",
        "                for nxt_val in Graph[node_val]:\n",
        "                    if nxt_val not in visited:\n",
        "                        Queue.append((nxt_val, dist + 1))\n"
      ]
    }
  ]
}