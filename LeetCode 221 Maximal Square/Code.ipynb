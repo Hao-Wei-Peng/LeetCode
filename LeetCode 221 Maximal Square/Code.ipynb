{
  "nbformat": 4,
  "nbformat_minor": 0,
  "metadata": {
    "colab": {
      "provenance": []
    },
    "kernelspec": {
      "name": "python3",
      "display_name": "Python 3"
    },
    "language_info": {
      "name": "python"
    }
  },
  "cells": [
    {
      "cell_type": "code",
      "execution_count": null,
      "metadata": {
        "id": "mMOA-ZhSJFOB"
      },
      "outputs": [],
      "source": [
        "class Solution:\n",
        "    def maximalSquare(self, matrix: List[List[str]]) -> int:\n",
        "\n",
        "        # base case\n",
        "        if not matrix:\n",
        "            return 0\n",
        "        \n",
        "        # Time Complexity will be O(m * n)\n",
        "        # Space Complexity will be O(m * n)\n",
        "        m, n = len(matrix), len(matrix[0])\n",
        "        dp = [[0] * n for _ in range(0, m)]\n",
        "\n",
        "        # initialization\n",
        "        for r in range(0, m):\n",
        "            dp[r][0] = int(matrix[r][0])\n",
        "        \n",
        "        for c in range(0, n):\n",
        "            dp[0][c] = int(matrix[0][c])\n",
        "\n",
        "        # dp[i][j] = at row i, col j, largest side length of the bottom right (corner)\n",
        "        side_length = 0\n",
        "\n",
        "        for r in range(1, m):\n",
        "            for c in range(1, n):\n",
        "                if matrix[r][c] == \"1\":\n",
        "                    dp[r][c] = min(dp[r - 1][c - 1], dp[r - 1][c], dp[r][c - 1]) + 1\n",
        "                    side_length = max(side_length, dp[r][c]) # update the max side length\n",
        "        \n",
        "        # side_length = 0\n",
        "        if side_length == 0:\n",
        "            for Row in matrix:\n",
        "                if \"1\" in Row:\n",
        "                    return 1\n",
        "\n",
        "        return side_length * side_length # area"
      ]
    }
  ]
}