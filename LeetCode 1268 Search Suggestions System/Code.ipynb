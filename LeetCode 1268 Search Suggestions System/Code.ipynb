{
  "nbformat": 4,
  "nbformat_minor": 0,
  "metadata": {
    "colab": {
      "provenance": []
    },
    "kernelspec": {
      "name": "python3",
      "display_name": "Python 3"
    },
    "language_info": {
      "name": "python"
    }
  },
  "cells": [
    {
      "cell_type": "code",
      "execution_count": null,
      "metadata": {
        "id": "mMOA-ZhSJFOB"
      },
      "outputs": [],
      "source": [
        "class Trie:\n",
        "    def __init__(self):\n",
        "        self.children = {}\n",
        "        self.suggestion = []\n",
        "\n",
        "class Solution:\n",
        "    def suggestedProducts(self, products: List[str], searchWord: str) -> List[List[str]]:\n",
        "\n",
        "        # searchWord = \"mouse\"\n",
        "        # type: \"m\", \"mo\", \"mou\", \"mous\", \"mouse\"\n",
        "        root = Trie()\n",
        "\n",
        "        # establish a trie tree (prefix tree)\n",
        "        for p in products:\n",
        "            cur = root\n",
        "            for char in p:\n",
        "                if char not in cur.children:\n",
        "                    cur.children[char] = Trie()\n",
        "                cur = cur.children[char]\n",
        "                cur.suggestion.append(p)\n",
        "\n",
        "        cur = root\n",
        "        m = len(searchWord)\n",
        "        ans = [[] for _ in range(0, m)]\n",
        "\n",
        "        for idx, char in enumerate(searchWord):\n",
        "            # check whether current character in root or not\n",
        "            if char in cur.children:\n",
        "                cur = cur.children[char]\n",
        "                ans[idx] = sorted(cur.suggestion)[0 : 3]\n",
        "            else:\n",
        "                break\n",
        "                \n",
        "        return ans"
      ]
    }
  ]
}