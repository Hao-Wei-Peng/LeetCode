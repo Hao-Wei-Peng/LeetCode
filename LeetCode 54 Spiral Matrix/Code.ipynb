{
  "nbformat": 4,
  "nbformat_minor": 0,
  "metadata": {
    "colab": {
      "provenance": [],
      "collapsed_sections": []
    },
    "kernelspec": {
      "name": "python3",
      "display_name": "Python 3"
    },
    "language_info": {
      "name": "python"
    }
  },
  "cells": [
    {
      "cell_type": "code",
      "execution_count": null,
      "metadata": {
        "id": "mMOA-ZhSJFOB"
      },
      "outputs": [],
      "source": [
        "class Solution:\n",
        "    def spiralOrder(self, matrix: List[List[int]]) -> List[int]:\n",
        "\n",
        "        # base case\n",
        "        if not matrix or not matrix[0]:\n",
        "            return list()\n",
        "\n",
        "        Rows, Cols = len(matrix), len(matrix[0])\n",
        "        order = []\n",
        "\n",
        "        # up: (top, left) -> (top, right)\n",
        "        # right: (top + 1, right) -> (bottom, right)\n",
        "        # bottom: (bottom, right - 1) -> (bottom, left + 1)\n",
        "        # left: (bottom, left) -> (top + 1, left)\n",
        "        left, right, top, bottom = 0, Cols - 1, 0, Rows - 1\n",
        "\n",
        "        while left <= right and top <= bottom:\n",
        "            for col in range(left, right + 1):\n",
        "                order.append(matrix[top][col])\n",
        "            \n",
        "            for row in range(top + 1, bottom + 1):\n",
        "                order.append(matrix[row][right])\n",
        "            \n",
        "            if left < right and top < bottom:\n",
        "\n",
        "                for col in range(right - 1, left, -1):\n",
        "                    order.append(matrix[bottom][col])\n",
        "                \n",
        "                for row in range(bottom, top, -1):\n",
        "                    order.append(matrix[row][left])\n",
        "            \n",
        "            left, right, top, bottom = left + 1, right - 1, top + 1, bottom - 1\n",
        "        \n",
        "        return order\n"
      ]
    }
  ]
}