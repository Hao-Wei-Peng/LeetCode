{
  "nbformat": 4,
  "nbformat_minor": 0,
  "metadata": {
    "colab": {
      "provenance": [],
      "collapsed_sections": []
    },
    "kernelspec": {
      "name": "python3",
      "display_name": "Python 3"
    },
    "language_info": {
      "name": "python"
    }
  },
  "cells": [
    {
      "cell_type": "code",
      "execution_count": null,
      "metadata": {
        "id": "hFD3gFKqbvee"
      },
      "outputs": [],
      "source": [
        "class Solution:\n",
        "    def search(self, nums: List[int], target: int) -> int:\n",
        "\n",
        "        # we can use binary search to deal with this problem\n",
        "        # Time Complexity will be O(logn)\n",
        "        # Space Complexity will be O(1)\n",
        "        size = len(nums)\n",
        "        left, right = 0, size - 1\n",
        "\n",
        "        while left <= right:\n",
        "\n",
        "            mid = (left + right) // 2\n",
        "\n",
        "            if nums[mid] == target:\n",
        "                return mid\n",
        "            \n",
        "            elif nums[left] <= nums[mid]:\n",
        "                if nums[left] <= target < nums[mid]:\n",
        "                    right = mid - 1\n",
        "                else:\n",
        "                    left = mid + 1\n",
        "\n",
        "            else:\n",
        "                if nums[mid] < target <= nums[right]:\n",
        "                    left = mid + 1\n",
        "                else:\n",
        "                    right = mid - 1 \n",
        "\n",
        "        return -1"
      ]
    }
  ]
}