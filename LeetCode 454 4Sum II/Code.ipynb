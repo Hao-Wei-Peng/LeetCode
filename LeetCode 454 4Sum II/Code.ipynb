{
  "nbformat": 4,
  "nbformat_minor": 0,
  "metadata": {
    "colab": {
      "name": "Code.ipynb",
      "provenance": [],
      "collapsed_sections": []
    },
    "kernelspec": {
      "name": "python3",
      "display_name": "Python 3"
    },
    "language_info": {
      "name": "python"
    }
  },
  "cells": [
    {
      "cell_type": "code",
      "execution_count": null,
      "metadata": {
        "id": "hFD3gFKqbvee"
      },
      "outputs": [],
      "source": [
        "class Solution:\n",
        "    def fourSumCount(self, nums1: List[int], nums2: List[int], nums3: List[int], nums4: List[int]) -> int:\n",
        "\n",
        "        # we will use dictionary to record\n",
        "        # key = nums1 + nums2, value =  frequency\n",
        "\n",
        "        # Time Complexity will be O(n^2)\n",
        "        # Space Complexity will be O(n^2)\n",
        "        cnt_dict = collections.defaultdict(int)\n",
        "\n",
        "        # nums1, nums2 (a + b)\n",
        "        for n1 in nums1:\n",
        "            for n2 in nums2:\n",
        "                key = n1 + n2\n",
        "                if key in cnt_dict:\n",
        "                    cnt_dict[key] += 1\n",
        "                else:\n",
        "                    cnt_dict[key] = 1\n",
        "        \n",
        "        count = 0\n",
        "\n",
        "        # nums3, nums4 -(a + b)\n",
        "        for n3 in nums3:\n",
        "            for n4 in nums4:\n",
        "                key = - (n3 + n4)\n",
        "                if key in cnt_dict:\n",
        "                    count += cnt_dict[key]\n",
        "        return count"
      ]
    }
  ]
}