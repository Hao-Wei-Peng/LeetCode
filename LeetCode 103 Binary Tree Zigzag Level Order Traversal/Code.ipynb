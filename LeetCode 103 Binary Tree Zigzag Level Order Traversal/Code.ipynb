{
  "nbformat": 4,
  "nbformat_minor": 0,
  "metadata": {
    "colab": {
      "provenance": []
    },
    "kernelspec": {
      "name": "python3",
      "display_name": "Python 3"
    },
    "language_info": {
      "name": "python"
    }
  },
  "cells": [
    {
      "cell_type": "code",
      "execution_count": null,
      "metadata": {
        "id": "mMOA-ZhSJFOB"
      },
      "outputs": [],
      "source": [
        "# Definition for a binary tree node.\n",
        "# class TreeNode:\n",
        "#     def __init__(self, val=0, left=None, right=None):\n",
        "#         self.val = val\n",
        "#         self.left = left\n",
        "#         self.right = right\n",
        "class Solution:\n",
        "    def __init__(self):\n",
        "        self.ans = []\n",
        "\n",
        "    def zigzagLevelOrder(self, root: Optional[TreeNode]) -> List[List[int]]:\n",
        "\n",
        "        # base case\n",
        "        if not root:\n",
        "            return self.ans\n",
        "        \n",
        "        # Time Complexity will be O(n)\n",
        "        # Space Complexity will be O(n)\n",
        "        Queue = collections.deque([(root, 1)])\n",
        "\n",
        "        while Queue:\n",
        "            level = []\n",
        "            LenQ = len(Queue)\n",
        "\n",
        "            for _ in range(0, LenQ):\n",
        "                node, depth = Queue.popleft()\n",
        "                level.append(node.val)\n",
        "\n",
        "                if node.left:\n",
        "                    Queue.append((node.left, depth + 1))\n",
        "                \n",
        "                if node.right:\n",
        "                    Queue.append((node.right, depth + 1))\n",
        "            \n",
        "            # check whether current level is odd or even level\n",
        "            if depth % 2 == 1:\n",
        "                self.ans.append(level)\n",
        "            \n",
        "            else:\n",
        "                self.ans.append(level[::-1])\n",
        "        \n",
        "        return self.ans\n",
        "\n"
      ]
    }
  ]
}