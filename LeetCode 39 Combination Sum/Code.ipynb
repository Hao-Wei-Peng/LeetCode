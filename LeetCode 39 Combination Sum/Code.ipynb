{
  "nbformat": 4,
  "nbformat_minor": 0,
  "metadata": {
    "colab": {
      "name": "Code.ipynb",
      "provenance": [],
      "collapsed_sections": []
    },
    "kernelspec": {
      "name": "python3",
      "display_name": "Python 3"
    },
    "language_info": {
      "name": "python"
    }
  },
  "cells": [
    {
      "cell_type": "code",
      "execution_count": null,
      "metadata": {
        "id": "hFD3gFKqbvee"
      },
      "outputs": [],
      "source": [
        "class Solution:\n",
        "    def combinationSum(self, candidates: List[int], target: int) -> List[List[int]]:\n",
        "\n",
        "        ans = []\n",
        "        path = []\n",
        "\n",
        "        def backtrack(start_idx):\n",
        "            \n",
        "            if sum(path) == target:\n",
        "                ans.append(path[:])\n",
        "                return\n",
        "            \n",
        "            if sum(path) > target:\n",
        "                return\n",
        "\n",
        "            for idx in range(start_idx, len(candidates)):\n",
        "                element = candidates[idx]\n",
        "                path.append(element)\n",
        "                backtrack(idx)\n",
        "                path.pop()\n",
        "\n",
        "        backtrack(0)\n",
        "\n",
        "        return ans"
      ]
    }
  ]
}