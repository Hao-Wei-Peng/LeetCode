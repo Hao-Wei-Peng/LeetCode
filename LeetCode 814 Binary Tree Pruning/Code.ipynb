{
  "nbformat": 4,
  "nbformat_minor": 0,
  "metadata": {
    "colab": {
      "provenance": [],
      "collapsed_sections": []
    },
    "kernelspec": {
      "name": "python3",
      "display_name": "Python 3"
    },
    "language_info": {
      "name": "python"
    }
  },
  "cells": [
    {
      "cell_type": "code",
      "execution_count": null,
      "metadata": {
        "id": "mMOA-ZhSJFOB"
      },
      "outputs": [],
      "source": [
        "# Definition for a binary tree node.\n",
        "# class TreeNode:\n",
        "#     def __init__(self, val=0, left=None, right=None):\n",
        "#         self.val = val\n",
        "#         self.left = left\n",
        "#         self.right = right\n",
        "class Solution:\n",
        "    def pruneTree(self, root: Optional[TreeNode]) -> Optional[TreeNode]:\n",
        "        tree = self.DFS(root)\n",
        "        return tree\n",
        "    \n",
        "    def DFS(self, root):    \n",
        "\n",
        "        if not root:\n",
        "            return None\n",
        "\n",
        "        # linked list\n",
        "        root.left = self.DFS(root.left)\n",
        "        root.right = self.DFS(root.right)\n",
        "\n",
        "        if not root.left and not root.right and root.val == 0:\n",
        "            return None\n",
        "        \n",
        "        return root"
      ]
    }
  ]
}