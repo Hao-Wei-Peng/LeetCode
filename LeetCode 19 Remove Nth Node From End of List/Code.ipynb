{
  "nbformat": 4,
  "nbformat_minor": 0,
  "metadata": {
    "colab": {
      "name": "Code.ipynb",
      "provenance": [],
      "collapsed_sections": []
    },
    "kernelspec": {
      "name": "python3",
      "display_name": "Python 3"
    },
    "language_info": {
      "name": "python"
    }
  },
  "cells": [
    {
      "cell_type": "code",
      "execution_count": null,
      "metadata": {
        "id": "hFD3gFKqbvee"
      },
      "outputs": [],
      "source": [
        "# Definition for singly-linked list.\n",
        "# class ListNode:\n",
        "#     def __init__(self, val=0, next=None):\n",
        "#         self.val = val\n",
        "#         self.next = next\n",
        "class ListNode:\n",
        "    def __init__(self, val = 0, next = None):\n",
        "        self.val = val\n",
        "        self.next = next\n",
        "\n",
        "class Solution:\n",
        "    def removeNthFromEnd(self, head: ListNode, n: int) -> ListNode:\n",
        "\n",
        "        dummy = ListNode(0, head)\n",
        "\n",
        "        # we need to use slow, fast pointer to deal with this problem\n",
        "        slow, fast = dummy, dummy\n",
        "\n",
        "        # 1. we will use fast pointer to move nth step (at node 2)\n",
        "        for step in range(0, n):\n",
        "            fast = fast.next\n",
        "        \n",
        "        # 2. we will move slow and fast pointers simultaneously\n",
        "        #    until fast.next is None \n",
        "        while fast.next:\n",
        "            slow = slow.next\n",
        "            fast = fast.next\n",
        "        \n",
        "        # 3. remove nth node in list\n",
        "        slow.next = slow.next.next\n",
        "\n",
        "        return dummy.next"
      ]
    }
  ]
}