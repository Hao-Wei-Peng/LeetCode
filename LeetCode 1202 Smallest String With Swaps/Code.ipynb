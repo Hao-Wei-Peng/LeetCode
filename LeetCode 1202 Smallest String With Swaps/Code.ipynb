{
  "nbformat": 4,
  "nbformat_minor": 0,
  "metadata": {
    "colab": {
      "provenance": []
    },
    "kernelspec": {
      "name": "python3",
      "display_name": "Python 3"
    },
    "language_info": {
      "name": "python"
    }
  },
  "cells": [
    {
      "cell_type": "code",
      "source": [
        "class DisJoint:\n",
        "    def __init__(self):\n",
        "        self.parent = {}\n",
        "        self.weight = {}\n",
        "    \n",
        "    def build(self, node):\n",
        "\n",
        "        if node not in self.parent:\n",
        "            self.parent[node] = node\n",
        "            self.weight[node] = 1\n",
        "    \n",
        "    def findParent(self, node):\n",
        "\n",
        "        if self.parent[node] == node:\n",
        "            return node\n",
        "        \n",
        "        self.parent[node] = self.findParent(self.parent[node])\n",
        "        return self.parent[node]\n",
        "    \n",
        "    def union(self, node1, node2):\n",
        "\n",
        "        p1, p2 = self.findParent(node1), self.findParent(node2)\n",
        "\n",
        "        if p1 == p2:\n",
        "            return\n",
        "        \n",
        "        if self.weight[p1] < self.weight[p2]:\n",
        "            self.parent[p1] = p2\n",
        "        \n",
        "        elif self.weight[p1] > self.weight[p2]:\n",
        "            self.parent[p2] = p1\n",
        "        \n",
        "        else:\n",
        "            self.parent[p1] = p2\n",
        "            self.weight[p2] += 1\n",
        "        \n",
        "class Solution:\n",
        "    def smallestStringWithSwaps(self, s: str, pairs: List[List[int]]) -> str:\n",
        "\n",
        "        n = len(s)\n",
        "        DS = DisJoint()\n",
        "\n",
        "        # Time Complexity will be O(n)\n",
        "        for idx in range(n):\n",
        "            DS.build(idx)\n",
        "        \n",
        "        for idx1, idx2 in pairs:\n",
        "            DS.union(idx1, idx2)\n",
        "        \n",
        "        GroupChar, GroupIndex = collections.defaultdict(list), collections.defaultdict(list)\n",
        "\n",
        "        # 3: [d, b], 2: [c, a]\n",
        "        # 3: [0, 3], 2: [1, 2]\n",
        "        for idx in range(n):\n",
        "            p = DS.findParent(idx)\n",
        "            GroupChar[p].append(s[idx])\n",
        "            GroupIndex[p].append(idx)\n",
        "        \n",
        "        ans = [\"\"] * n\n",
        "\n",
        "        for key in GroupChar.keys():\n",
        "            for char, idx in zip(sorted(GroupChar[key]), GroupIndex[key]):\n",
        "                ans[idx] = char\n",
        "        \n",
        "        return \"\".join(ans)\n"
      ],
      "metadata": {
        "id": "VQsRJ7yrQZxK"
      },
      "execution_count": null,
      "outputs": []
    }
  ]
}