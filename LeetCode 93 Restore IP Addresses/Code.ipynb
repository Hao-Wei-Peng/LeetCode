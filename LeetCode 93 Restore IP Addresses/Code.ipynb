{
  "nbformat": 4,
  "nbformat_minor": 0,
  "metadata": {
    "colab": {
      "name": "Code.ipynb",
      "provenance": [],
      "collapsed_sections": []
    },
    "kernelspec": {
      "name": "python3",
      "display_name": "Python 3"
    },
    "language_info": {
      "name": "python"
    }
  },
  "cells": [
    {
      "cell_type": "code",
      "execution_count": null,
      "metadata": {
        "id": "hFD3gFKqbvee"
      },
      "outputs": [],
      "source": [
        "class Solution:\n",
        "    def restoreIpAddresses(self, s: str) -> List[str]:\n",
        "\n",
        "        # we will consists of four integer parts\n",
        "        # each part is between number 0 ~ 255\n",
        "        # we need to use one variable (dotNum) to record how many parts in results\n",
        "        LenS = len(s)\n",
        "\n",
        "        if LenS > 12:\n",
        "            return []\n",
        "        \n",
        "        ans = []\n",
        "        dotNum = 0\n",
        "\n",
        "        def check_validNum(string, start, end):\n",
        "            if start > end:\n",
        "                return False\n",
        "            \n",
        "            # if number start from 0, not satisfy condition\n",
        "            if string[start] == \"0\" and start != end:\n",
        "                return False\n",
        "            \n",
        "            # if number not between 0 ~ 255\n",
        "            if not 0 <= int(string[start : end + 1]) <= 255:\n",
        "                return False\n",
        "            \n",
        "            return True\n",
        "\n",
        "        def backtrack(s, start_idx, dotNum):\n",
        "            # todo\n",
        "            if dotNum == 3:\n",
        "                flag = check_validNum(s, start_idx, len(s) - 1)\n",
        "                if flag:\n",
        "                    ans.append(s[:])\n",
        "                return\n",
        "\n",
        "            for idx in range(start_idx, len(s)):\n",
        "                # current number\n",
        "                flag = check_validNum(s, start_idx, idx)\n",
        "\n",
        "                if flag:\n",
        "                    s = s[0 : idx + 1] + \".\" + s[idx + 1 : ]\n",
        "                    backtrack(s, idx + 2, dotNum + 1)\n",
        "                    # backtrack to original string\n",
        "                    s = s[0 : idx + 1] + s[idx + 2 : ]\n",
        "                \n",
        "                else:\n",
        "                    break\n",
        "\n",
        "        backtrack(s, 0, dotNum)\n",
        "\n",
        "        return ans"
      ]
    }
  ]
}