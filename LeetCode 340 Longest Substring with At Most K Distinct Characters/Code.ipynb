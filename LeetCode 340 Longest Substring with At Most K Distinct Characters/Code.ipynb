{
  "nbformat": 4,
  "nbformat_minor": 0,
  "metadata": {
    "colab": {
      "provenance": []
    },
    "kernelspec": {
      "name": "python3",
      "display_name": "Python 3"
    },
    "language_info": {
      "name": "python"
    }
  },
  "cells": [
    {
      "cell_type": "code",
      "execution_count": null,
      "metadata": {
        "id": "mMOA-ZhSJFOB"
      },
      "outputs": [],
      "source": [
        "class Solution:\n",
        "    def lengthOfLongestSubstringKDistinct(self, s: str, k: int) -> int:\n",
        "\n",
        "        # base case\n",
        "        if not s:\n",
        "            return 0\n",
        "\n",
        "        # we can use slide windows to deal with this problem\n",
        "        # Time Complexity will be O(n)\n",
        "        # Space Complexity will be O(n)\n",
        "        n = len(s)\n",
        "        L, R = 0, 0\n",
        "        Count = collections.defaultdict(int)\n",
        "        MaxLen, distinct = 0, 0\n",
        "\n",
        "        while R < n:\n",
        "            char = s[R]\n",
        "\n",
        "            if Count[char] == 0:\n",
        "                distinct += 1\n",
        "\n",
        "            Count[char] += 1\n",
        "\n",
        "            while distinct > k:\n",
        "\n",
        "                prechar = s[L]\n",
        "\n",
        "                if Count[prechar] == 1:\n",
        "                    distinct -= 1\n",
        "                \n",
        "                Count[prechar] -= 1\n",
        "                L += 1\n",
        "            \n",
        "            MaxLen = max(MaxLen, R - L + 1)\n",
        "            R += 1\n",
        "        \n",
        "        return MaxLen"
      ]
    }
  ]
}