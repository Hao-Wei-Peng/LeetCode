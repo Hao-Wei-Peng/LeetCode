{
  "nbformat": 4,
  "nbformat_minor": 0,
  "metadata": {
    "colab": {
      "provenance": [],
      "collapsed_sections": []
    },
    "kernelspec": {
      "name": "python3",
      "display_name": "Python 3"
    },
    "language_info": {
      "name": "python"
    }
  },
  "cells": [
    {
      "cell_type": "code",
      "execution_count": null,
      "metadata": {
        "id": "mMOA-ZhSJFOB"
      },
      "outputs": [],
      "source": [
        "class Solution:\n",
        "    def partitionLabels(self, s: str) -> List[int]:\n",
        "\n",
        "        # use hashmap to record each character last index\n",
        "        lastIndex = {} \n",
        "\n",
        "        for idx, char in enumerate(s):\n",
        "            lastIndex[char] = idx\n",
        "        \n",
        "        ans = []\n",
        "        size, end = 0, 0\n",
        "\n",
        "        # Time Complexity will be O(n)\n",
        "        for idx, char in enumerate(s):\n",
        "            size += 1\n",
        "            end = max(end, lastIndex[char])\n",
        "\n",
        "            if idx == end:\n",
        "                ans.append(size)\n",
        "                size = 0\n",
        "        \n",
        "        return ans\n"
      ]
    }
  ]
}