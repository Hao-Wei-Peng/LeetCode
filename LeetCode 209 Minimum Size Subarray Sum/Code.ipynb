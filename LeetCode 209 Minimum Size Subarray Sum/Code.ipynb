{
  "nbformat": 4,
  "nbformat_minor": 0,
  "metadata": {
    "colab": {
      "name": "Code.ipynb",
      "provenance": [],
      "collapsed_sections": []
    },
    "kernelspec": {
      "name": "python3",
      "display_name": "Python 3"
    },
    "language_info": {
      "name": "python"
    }
  },
  "cells": [
    {
      "cell_type": "code",
      "execution_count": null,
      "metadata": {
        "id": "hFD3gFKqbvee"
      },
      "outputs": [],
      "source": [
        "class Solution:\n",
        "    def minSubArrayLen(self, target: int, nums: List[int]) -> int:\n",
        "\n",
        "        # positive integers (not order)\n",
        "        # minimal length of a contiguous subarray\n",
        "\n",
        "        # steps:\n",
        "        # determine whether current value is larger or equal to target\n",
        "        # if not, move right pointer to next position\n",
        "        # if yes, compare current minimal length, move left pointer to next position\n",
        "        \n",
        "        n = len(nums)\n",
        "\n",
        "        left, right = 0, 0\n",
        "        min_len = float(\"inf\")\n",
        "        cur_val = 0\n",
        "\n",
        "        # Time Complexity will be O(2n)\n",
        "        # Space Complexity will be O(1)\n",
        "        while right < n:\n",
        "            cur_val = cur_val + nums[right]\n",
        "\n",
        "            while cur_val >= target:\n",
        "                min_len = min(min_len, right - left + 1)\n",
        "                cur_val = cur_val - nums[left]\n",
        "                left = left + 1\n",
        "\n",
        "            right = right + 1\n",
        "\n",
        "        return 0 if min_len == float(\"inf\") else min_len            \n"
      ]
    }
  ]
}