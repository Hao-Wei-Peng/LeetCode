{
  "nbformat": 4,
  "nbformat_minor": 0,
  "metadata": {
    "colab": {
      "name": "Code.ipynb",
      "provenance": [],
      "collapsed_sections": []
    },
    "kernelspec": {
      "name": "python3",
      "display_name": "Python 3"
    },
    "language_info": {
      "name": "python"
    }
  },
  "cells": [
    {
      "cell_type": "code",
      "execution_count": null,
      "metadata": {
        "id": "hFD3gFKqbvee"
      },
      "outputs": [],
      "source": [
        "# Definition for a binary tree node.\n",
        "# class TreeNode:\n",
        "#     def __init__(self, val=0, left=None, right=None):\n",
        "#         self.val = val\n",
        "#         self.left = left\n",
        "#         self.right = right\n",
        "class Solution:\n",
        "    def isBalanced(self, root: TreeNode) -> bool:\n",
        "        return self.CompareDepth(root)[0]\n",
        "\n",
        "    # Time Complexity will be O(n)\n",
        "    # Space Complexity will be O(n)\n",
        "    # n = tree nodes\n",
        "\n",
        "    def CompareDepth(self, root):\n",
        "\n",
        "        # edge case\n",
        "        # in here, we will return the pair values\n",
        "        # 1. return the boolean variable\n",
        "        # 2. return the height of the current node\n",
        "        if not root:\n",
        "            return [True, 0]\n",
        "        \n",
        "        LeftHigh = self.CompareDepth(root.left)\n",
        "        RightHigh = self.CompareDepth(root.right)\n",
        "\n",
        "        Balance = LeftHigh[0] and RightHigh[0] and abs(LeftHigh[1] - RightHigh[1]) <= 1\n",
        "\n",
        "        return [Balance, 1 + max(LeftHigh[1], RightHigh[1])]"
      ]
    }
  ]
}