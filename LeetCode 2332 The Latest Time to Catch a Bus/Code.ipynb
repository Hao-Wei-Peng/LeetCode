{
  "nbformat": 4,
  "nbformat_minor": 0,
  "metadata": {
    "colab": {
      "provenance": []
    },
    "kernelspec": {
      "name": "python3",
      "display_name": "Python 3"
    },
    "language_info": {
      "name": "python"
    }
  },
  "cells": [
    {
      "cell_type": "code",
      "source": [
        "class Solution:\n",
        "    def latestTimeCatchTheBus(self, buses: List[int], passengers: List[int], capacity: int) -> int:\n",
        "\n",
        "        # buses: departure time of the ith bus (unique)\n",
        "        # passengers: arrival time of the jth passenger (unique)\n",
        "        # capacity: maximum number of passengers can get on each bus\n",
        "        buses.sort() # 10, 20, 30\n",
        "        passengers.sort() # 4, 11, 13, 19, 21, 25, 26\n",
        "        idx, L = 0, len(passengers)\n",
        "\n",
        "        for start in buses:\n",
        "            cap = capacity\n",
        "\n",
        "            while idx < L and start >= passengers[idx] and cap > 0:\n",
        "                cap -= 1\n",
        "                idx += 1\n",
        "        \n",
        "            if cap > 0:\n",
        "                latest = start\n",
        "            \n",
        "            else:\n",
        "                latest = passengers[idx - 1]\n",
        "        \n",
        "        while latest in passengers:\n",
        "            latest -= 1\n",
        "        \n",
        "        return latest"
      ],
      "metadata": {
        "id": "VQsRJ7yrQZxK"
      },
      "execution_count": null,
      "outputs": []
    }
  ]
}