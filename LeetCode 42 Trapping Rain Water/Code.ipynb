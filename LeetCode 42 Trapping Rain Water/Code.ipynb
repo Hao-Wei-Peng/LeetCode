{
  "nbformat": 4,
  "nbformat_minor": 0,
  "metadata": {
    "colab": {
      "provenance": [],
      "collapsed_sections": []
    },
    "kernelspec": {
      "name": "python3",
      "display_name": "Python 3"
    },
    "language_info": {
      "name": "python"
    }
  },
  "cells": [
    {
      "cell_type": "code",
      "execution_count": 4,
      "metadata": {
        "id": "mMOA-ZhSJFOB"
      },
      "outputs": [],
      "source": [
        "class Solution:\n",
        "    def trap(self, height: List[int]) -> int:\n",
        "\n",
        "        # base case\n",
        "        if not height:\n",
        "            return 0\n",
        "        \n",
        "        n = len(height)\n",
        "        L, R = 0, n - 1\n",
        "        maxLeft, maxRight = height[0], height[n - 1]\n",
        "        water = 0 # calculate volume of the water\n",
        "\n",
        "        # Time Complexity will be O(n)\n",
        "        # Space Complexity will be O(1)\n",
        "        while L < R:\n",
        "            # maintain maximum height of both sides\n",
        "            maxLeft = max(maxLeft, height[L])\n",
        "            maxRight = max(maxRight, height[R])\n",
        "\n",
        "            if maxLeft < maxRight:\n",
        "                water += maxLeft - height[L]\n",
        "                L += 1\n",
        "            \n",
        "            else:\n",
        "                water += maxRight - height[R]\n",
        "                R -= 1\n",
        "\n",
        "        return water"
      ]
    }
  ]
}