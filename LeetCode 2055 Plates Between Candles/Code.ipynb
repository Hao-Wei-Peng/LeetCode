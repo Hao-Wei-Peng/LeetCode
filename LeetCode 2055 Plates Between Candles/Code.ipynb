{
  "nbformat": 4,
  "nbformat_minor": 0,
  "metadata": {
    "colab": {
      "provenance": []
    },
    "kernelspec": {
      "name": "python3",
      "display_name": "Python 3"
    },
    "language_info": {
      "name": "python"
    }
  },
  "cells": [
    {
      "cell_type": "code",
      "execution_count": null,
      "metadata": {
        "id": "mMOA-ZhSJFOB"
      },
      "outputs": [],
      "source": [
        "class Solution:\n",
        "    def platesBetweenCandles(self, s: str, queries: List[List[int]]) -> List[int]:\n",
        "\n",
        "        n = len(s)\n",
        "        presum, sum = [0] * n, 0\n",
        "\n",
        "        # record the first left candle of each position\n",
        "        LEFT, L = [0] * n, -1\n",
        "\n",
        "        # Time Complexity will be O(n)\n",
        "        for idx, char in enumerate(s):\n",
        "            if char == \"|\":\n",
        "                L = idx\n",
        "            elif char == \"*\":\n",
        "                sum += 1\n",
        "            \n",
        "            presum[idx] = sum\n",
        "            LEFT[idx] = L\n",
        "        \n",
        "        # record the first right candle of each position\n",
        "        RIGHT, R = [0] * n, -1\n",
        "        \n",
        "        # Time Complexity will be O(n)\n",
        "        for idx in range(n - 1, -1, -1):\n",
        "            if s[idx] == \"|\":\n",
        "                R = idx\n",
        "\n",
        "            RIGHT[idx] = R \n",
        "        \n",
        "        ans = [0] * len(queries)\n",
        "\n",
        "        for idx, (s, e) in enumerate(queries):\n",
        "            s, e = RIGHT[s], LEFT[e]\n",
        "\n",
        "            if s >= 0 and e >= 0 and s < e:\n",
        "                ans[idx] = presum[e] - presum[s]\n",
        "        \n",
        "        return ans"
      ]
    }
  ]
}