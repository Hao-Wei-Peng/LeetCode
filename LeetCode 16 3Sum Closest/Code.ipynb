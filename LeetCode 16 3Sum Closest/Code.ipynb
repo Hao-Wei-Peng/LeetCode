{
  "nbformat": 4,
  "nbformat_minor": 0,
  "metadata": {
    "colab": {
      "name": "Code.ipynb",
      "provenance": [],
      "collapsed_sections": []
    },
    "kernelspec": {
      "name": "python3",
      "display_name": "Python 3"
    },
    "language_info": {
      "name": "python"
    }
  },
  "cells": [
    {
      "cell_type": "code",
      "execution_count": null,
      "metadata": {
        "id": "hFD3gFKqbvee"
      },
      "outputs": [],
      "source": [
        "class Solution:\n",
        "    def threeSumClosest(self, nums: List[int], target: int) -> int:\n",
        "\n",
        "        nums = sorted(nums)\n",
        "        n = len(nums)\n",
        "        ans = float(\"inf\")\n",
        "\n",
        "        def closet(total):\n",
        "            nonlocal ans\n",
        "\n",
        "            if abs(total - target) < abs(ans - target):\n",
        "                ans = total\n",
        "\n",
        "        # Time Complexity will be O(n^2)\n",
        "        # Space Complexity will be O(1)\n",
        "        for k in range(0, n):\n",
        "            left = k + 1\n",
        "            right = n - 1\n",
        "\n",
        "            while left < right:\n",
        "                total = nums[k] + nums[left] + nums[right]\n",
        "\n",
        "                if total == target:\n",
        "                    return total\n",
        "                # update closet result\n",
        "                closet(total)\n",
        "\n",
        "                # not consider duplicate results\n",
        "                if total > target:\n",
        "                    while left < right and nums[right] == nums[right - 1]: \n",
        "                        right = right - 1\n",
        "                    right = right - 1\n",
        "\n",
        "                else:\n",
        "                    while left < right and nums[left] == nums[left + 1]:\n",
        "                        left = left + 1\n",
        "                    left = left + 1\n",
        "        \n",
        "        return ans\n"
      ]
    }
  ]
}