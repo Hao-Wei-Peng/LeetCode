{
  "nbformat": 4,
  "nbformat_minor": 0,
  "metadata": {
    "colab": {
      "name": "Code.ipynb",
      "provenance": [],
      "collapsed_sections": []
    },
    "kernelspec": {
      "name": "python3",
      "display_name": "Python 3"
    },
    "language_info": {
      "name": "python"
    }
  },
  "cells": [
    {
      "cell_type": "code",
      "execution_count": null,
      "metadata": {
        "id": "hFD3gFKqbvee"
      },
      "outputs": [],
      "source": [
        "class Solution:\n",
        "    def canPartition(self, nums: List[int]) -> bool:\n",
        "\n",
        "        # we will have list nums only contain positive integers\n",
        "        # partition into two subsets with equal sum\n",
        "        # each element could be selected once\n",
        "        n = len(nums)\n",
        "        total = sum(nums)\n",
        "        half = total // 2\n",
        "\n",
        "        # no choice to divide equal subset\n",
        "        if n < 2:\n",
        "            return False\n",
        "\n",
        "        # if total will be odd, return False\n",
        "        if total % 2 == 1:\n",
        "            return False\n",
        "\n",
        "        # dp[j] -> j = 0 ~ half\n",
        "        # if we not select element, dp[j] = dp[j - 1]\n",
        "        # if we select element, dp[j] = dp[j - nums[i]] + nums[i]\n",
        "\n",
        "        dp = [0 for _ in range(0, half + 1)]\n",
        "\n",
        "        # check all elements\n",
        "        for i in range(0, n):\n",
        "            # check each value from 0 ~ half\n",
        "            for j in range(half, nums[i] - 1, -1):\n",
        "                dp[j] = max(dp[j - nums[i]] + nums[i], dp[j])\n",
        "        print(dp)\n",
        "        return dp[half] == half"
      ]
    }
  ]
}