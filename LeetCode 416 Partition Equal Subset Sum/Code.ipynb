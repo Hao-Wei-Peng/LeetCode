{
  "nbformat": 4,
  "nbformat_minor": 0,
  "metadata": {
    "colab": {
      "name": "Code.ipynb",
      "provenance": [],
      "collapsed_sections": []
    },
    "kernelspec": {
      "name": "python3",
      "display_name": "Python 3"
    },
    "language_info": {
      "name": "python"
    }
  },
  "cells": [
    {
      "cell_type": "code",
      "execution_count": null,
      "metadata": {
        "id": "hFD3gFKqbvee"
      },
      "outputs": [],
      "source": [
        "class Solution:\n",
        "    def canPartition(self, nums: List[int]) -> bool:\n",
        "\n",
        "        # we will have list nums only contain positive integers\n",
        "        # partition into two subsets with equal sum\n",
        "        # each element could be selected once\n",
        "        n = len(nums)\n",
        "        total = sum(nums)\n",
        "        half = total // 2\n",
        "\n",
        "        # no choice to divide equal subset\n",
        "        if n < 2:\n",
        "            return False\n",
        "\n",
        "        # if total will be odd, return False\n",
        "        if total % 2 == 1:\n",
        "            return False\n",
        "\n",
        "        # two dimension\n",
        "        # dp[i][j] -> i = 0 ~ n, j = 0 ~ half\n",
        "        # if we not select element, dp[i][j] = dp[i - 1][j]\n",
        "        # if we select element, dp[i][j] = max(dp[i - 1][j - nums[i]] + nums[i], dp[i - 1][j])\n",
        "\n",
        "        dp = [[0 for _ in range(0, half + 1)] for _ in range(0, n)]\n",
        "\n",
        "        # initialization -> row 0 will be nums[0]\n",
        "        for j in range(1, half + 1):\n",
        "            dp[0][j] = nums[0]\n",
        "        \n",
        "        for i in range(1, n):\n",
        "            for j in range(0, half + 1):\n",
        "                if j >= nums[i]:\n",
        "                    dp[i][j] = max(dp[i - 1][j - nums[i]] + nums[i], dp[i - 1][j])\n",
        "                else:\n",
        "                    dp[i][j] = dp[i - 1][j]\n",
        "\n",
        "                if half == dp[i][j]:\n",
        "                    return True\n",
        "        \n",
        "        return False"
      ]
    }
  ]
}