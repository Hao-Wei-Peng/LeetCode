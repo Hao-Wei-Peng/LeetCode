{
  "nbformat": 4,
  "nbformat_minor": 0,
  "metadata": {
    "colab": {
      "provenance": [],
      "collapsed_sections": []
    },
    "kernelspec": {
      "name": "python3",
      "display_name": "Python 3"
    },
    "language_info": {
      "name": "python"
    }
  },
  "cells": [
    {
      "cell_type": "code",
      "execution_count": null,
      "metadata": {
        "id": "mMOA-ZhSJFOB"
      },
      "outputs": [],
      "source": [
        "class Solution:\n",
        "    def rotate(self, matrix: List[List[int]]) -> None:\n",
        "        \"\"\"\n",
        "        Do not return anything, modify matrix in-place instead.\n",
        "        \"\"\"\n",
        "\n",
        "        n, n = len(matrix), len(matrix[0])\n",
        "\n",
        "        # (0, 0) -> (0, 2), (0, 1) -> (1, 2), (0, 2) -> (2, 2)\n",
        "        # (1, 0) -> (0, 1), (1, 1) -> (1, 1), (1, 2) -> (2, 1)\n",
        "        # (2, 0) -> (0, 0), (2, 1) -> (1, 0), (2, 2) -> (2, 0)\n",
        "        \n",
        "        n_matrix = [[0] * n for _ in range(0, n)]\n",
        "\n",
        "        for row in range(0, n):\n",
        "            for col in range(0, n):\n",
        "                # transition function\n",
        "                n_matrix[col][n - row - 1] = matrix[row][col]\n",
        "        \n",
        "        matrix[:] = n_matrix"
      ]
    }
  ]
}