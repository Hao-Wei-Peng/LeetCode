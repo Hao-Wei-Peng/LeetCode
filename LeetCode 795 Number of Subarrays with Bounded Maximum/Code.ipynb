{
  "nbformat": 4,
  "nbformat_minor": 0,
  "metadata": {
    "colab": {
      "provenance": []
    },
    "kernelspec": {
      "name": "python3",
      "display_name": "Python 3"
    },
    "language_info": {
      "name": "python"
    }
  },
  "cells": [
    {
      "cell_type": "code",
      "execution_count": null,
      "metadata": {
        "id": "mMOA-ZhSJFOB"
      },
      "outputs": [],
      "source": [
        "class Solution:\n",
        "    def numSubarrayBoundedMax(self, nums: List[int], left: int, right: int) -> int:\n",
        "\n",
        "        # base case\n",
        "        if not nums:\n",
        "            return 0\n",
        "        \n",
        "        # Time Complexity will be O(n)\n",
        "        # Space Complexity will be O(1)\n",
        "        ans = self.notGreater(nums, right) - self.notGreater(nums, left - 1)\n",
        "\n",
        "        return ans\n",
        "    \n",
        "    def notGreater(self, nums, bound):\n",
        "\n",
        "        ans, count = 0, 0\n",
        "\n",
        "        for num in nums:\n",
        "            if num <= bound:\n",
        "                count += 1\n",
        "            else:\n",
        "                count = 0\n",
        "            \n",
        "            ans += count\n",
        "        \n",
        "        return ans"
      ]
    }
  ]
}