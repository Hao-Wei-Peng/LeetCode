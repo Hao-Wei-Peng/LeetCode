{
  "nbformat": 4,
  "nbformat_minor": 0,
  "metadata": {
    "colab": {
      "provenance": []
    },
    "kernelspec": {
      "name": "python3",
      "display_name": "Python 3"
    },
    "language_info": {
      "name": "python"
    }
  },
  "cells": [
    {
      "cell_type": "code",
      "execution_count": null,
      "metadata": {
        "id": "mMOA-ZhSJFOB"
      },
      "outputs": [],
      "source": [
        "class Solution:\n",
        "    def decodeString(self, s: str) -> str:\n",
        "\n",
        "        # base case\n",
        "        if not s:\n",
        "            return \"\"\n",
        "        \n",
        "        stack, res, multi = [], \"\", 0\n",
        "\n",
        "        for char in s:\n",
        "            # 1 <= int <= 300\n",
        "            if \"0\" <= char <= \"9\":\n",
        "                multi = multi * 10 + int(char)\n",
        "\n",
        "            elif char == \"[\":\n",
        "                stack.append([res, multi])\n",
        "                res, multi = \"\", 0  # reset\n",
        "            \n",
        "            elif char == \"]\":\n",
        "                last_res, cur_multi = stack.pop()\n",
        "                res = last_res + cur_multi * res # a + 2 * c\n",
        "            \n",
        "            else:\n",
        "                res += char\n",
        "        \n",
        "        return res"
      ]
    }
  ]
}