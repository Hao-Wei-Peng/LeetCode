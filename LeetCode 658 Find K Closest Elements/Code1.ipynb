{
  "nbformat": 4,
  "nbformat_minor": 0,
  "metadata": {
    "colab": {
      "provenance": [],
      "collapsed_sections": []
    },
    "kernelspec": {
      "name": "python3",
      "display_name": "Python 3"
    },
    "language_info": {
      "name": "python"
    }
  },
  "cells": [
    {
      "cell_type": "code",
      "execution_count": null,
      "metadata": {
        "id": "mMOA-ZhSJFOB"
      },
      "outputs": [],
      "source": [
        "class Solution:\n",
        "    def findClosestElements(self, arr: List[int], k: int, x: int) -> List[int]:\n",
        "\n",
        "        # base case\n",
        "        if not arr:\n",
        "            return arr\n",
        "        \n",
        "        n = len(arr)\n",
        "\n",
        "        # Time Complexity will be O(logn)\n",
        "        # Space Complexity will be O(1)\n",
        "\n",
        "        # we can ensure that we can choose k length list results: R = n - k\n",
        "        L, R = 0, n - k\n",
        "\n",
        "        \n",
        "        # L = 0, R = 1, mid = 0\n",
        "        while L < R:\n",
        "            mid = L + (R - L) // 2\n",
        "            \n",
        "            # if we have continuous same values, here will be break\n",
        "            # therefore, we couldn't use absolute value to be a condition\n",
        "            if x - arr[mid] <= arr[mid + k] - x:\n",
        "                R = mid\n",
        "            \n",
        "            else:\n",
        "                L = mid + 1\n",
        "        \n",
        "        return arr[L : L + k]\n",
        "                "
      ]
    }
  ]
}