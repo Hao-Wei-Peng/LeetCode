{
  "nbformat": 4,
  "nbformat_minor": 0,
  "metadata": {
    "colab": {
      "provenance": [],
      "collapsed_sections": []
    },
    "kernelspec": {
      "name": "python3",
      "display_name": "Python 3"
    },
    "language_info": {
      "name": "python"
    }
  },
  "cells": [
    {
      "cell_type": "code",
      "execution_count": null,
      "metadata": {
        "id": "mMOA-ZhSJFOB"
      },
      "outputs": [],
      "source": [
        "class Solution:\n",
        "    def findClosestElements(self, arr: List[int], k: int, x: int) -> List[int]:\n",
        "\n",
        "        # base case\n",
        "        if not arr:\n",
        "            return arr\n",
        "        \n",
        "        n = len(arr)\n",
        "\n",
        "        # Time Complexity will be O(n)\n",
        "        # Space Complexity will be O(1)\n",
        "\n",
        "        if n == k:\n",
        "            return arr\n",
        "        \n",
        "        # every time check which elements is more far away, and remove from the list\n",
        "        while n > k:\n",
        "            if abs(arr[0] - x) > abs(arr[n - 1] - x):\n",
        "                arr.pop(0)\n",
        "            else:\n",
        "                arr.pop()\n",
        "            n = n - 1\n",
        "        \n",
        "        return arr"
      ]
    }
  ]
}