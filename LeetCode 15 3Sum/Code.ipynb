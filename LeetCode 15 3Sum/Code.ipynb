{
  "nbformat": 4,
  "nbformat_minor": 0,
  "metadata": {
    "colab": {
      "name": "Code.ipynb",
      "provenance": [],
      "collapsed_sections": []
    },
    "kernelspec": {
      "name": "python3",
      "display_name": "Python 3"
    },
    "language_info": {
      "name": "python"
    }
  },
  "cells": [
    {
      "cell_type": "code",
      "execution_count": null,
      "metadata": {
        "id": "hFD3gFKqbvee"
      },
      "outputs": [],
      "source": [
        "class Solution:\n",
        "    def threeSum(self, nums: List[int]) -> List[List[int]]:\n",
        "\n",
        "        ans = []\n",
        "        n = len(nums)\n",
        "        # sort list nums, O(nlogn)\n",
        "        nums = sorted(nums)\n",
        "\n",
        "        # we will define 3 pointers to compute results\n",
        "        # k = each element, left = k + 1, right = n - 1\n",
        "        for k in range(0, n):\n",
        "            left = k + 1\n",
        "            right = n - 1\n",
        "\n",
        "            if nums[k] > 0:\n",
        "                break\n",
        "            \n",
        "            # important step (remove k duplicate)\n",
        "            if k > 0 and nums[k] == nums[k - 1]:\n",
        "                continue\n",
        "\n",
        "            while left < right:\n",
        "                total = nums[k] + nums[left] + nums[right]\n",
        "\n",
        "                if total > 0:\n",
        "                    right = right - 1\n",
        "\n",
        "                elif total < 0:\n",
        "                    left = left + 1\n",
        "                \n",
        "                # example: [-2, 0, 2, 2, 2, 3], right\n",
        "                # example: [-2, 0, 0, 2, 2, 3], left\n",
        "                else:\n",
        "                    ans.append([nums[k], nums[left], nums[right]])\n",
        "                    # move left to next step (remove duplicate condition)\n",
        "                    # left, right\n",
        "                    while left < right and nums[right] == nums[right - 1]:\n",
        "                        right = right - 1\n",
        "\n",
        "                    while left < right and nums[left] == nums[left + 1]:\n",
        "                        left = left + 1\n",
        "                    \n",
        "                    right = right - 1\n",
        "                    left = left + 1\n",
        "\n",
        "        return ans"
      ]
    }
  ]
}