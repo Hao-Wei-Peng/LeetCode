{
  "nbformat": 4,
  "nbformat_minor": 0,
  "metadata": {
    "colab": {
      "provenance": [],
      "collapsed_sections": []
    },
    "kernelspec": {
      "name": "python3",
      "display_name": "Python 3"
    },
    "language_info": {
      "name": "python"
    }
  },
  "cells": [
    {
      "cell_type": "code",
      "execution_count": null,
      "metadata": {
        "id": "mMOA-ZhSJFOB"
      },
      "outputs": [],
      "source": [
        "\"\"\"\n",
        "# Definition for a Node.\n",
        "class Node:\n",
        "    def __init__(self, val = 0, neighbors = None):\n",
        "        self.val = val\n",
        "        self.neighbors = neighbors if neighbors is not None else []\n",
        "\"\"\"\n",
        "\n",
        "class Solution:\n",
        "    def cloneGraph(self, node: 'Node') -> 'Node':\n",
        "\n",
        "        # base case    \n",
        "        if not node:\n",
        "            return None\n",
        "        \n",
        "        # we can use bfs to deal with this problem\n",
        "        queue = collections.deque([node])\n",
        "        visited = {}\n",
        "        visited[node] = Node(node.val, [])\n",
        "        \n",
        "        while queue:\n",
        "            cur_node = queue.popleft()\n",
        "            # check all neighbors of current node\n",
        "            cnt_neighbor = len(cur_node.neighbors)\n",
        "\n",
        "            for neighbor in cur_node.neighbors:\n",
        "                if neighbor not in visited:\n",
        "                    visited[neighbor] = Node(neighbor.val, [])\n",
        "                    queue.append(neighbor)\n",
        "\n",
        "                # update neighbors list of current node\n",
        "                visited[cur_node].neighbors.append(visited[neighbor])\n",
        "        \n",
        "        return visited[node]\n"
      ]
    }
  ]
}