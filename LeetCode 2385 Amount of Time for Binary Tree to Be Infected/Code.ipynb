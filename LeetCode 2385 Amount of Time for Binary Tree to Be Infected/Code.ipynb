{
  "nbformat": 4,
  "nbformat_minor": 0,
  "metadata": {
    "colab": {
      "provenance": []
    },
    "kernelspec": {
      "name": "python3",
      "display_name": "Python 3"
    },
    "language_info": {
      "name": "python"
    }
  },
  "cells": [
    {
      "cell_type": "code",
      "execution_count": null,
      "metadata": {
        "id": "mMOA-ZhSJFOB"
      },
      "outputs": [],
      "source": [
        "# Definition for a binary tree node.\n",
        "# class TreeNode:\n",
        "#     def __init__(self, val=0, left=None, right=None):\n",
        "#         self.val = val\n",
        "#         self.left = left\n",
        "#         self.right = right\n",
        "class Solution:\n",
        "    def amountOfTime(self, root: Optional[TreeNode], start: int) -> int:\n",
        "\n",
        "        # base case\n",
        "        if not root:\n",
        "            return 0\n",
        "        \n",
        "        # step 1: convert a tree into a Graph (BFS), biodirection Graph\n",
        "        Graph = collections.defaultdict(list) # path\n",
        "        Status = collections.defaultdict(bool) # check whether we have visited the node\n",
        "        Queue = collections.deque([root])\n",
        "\n",
        "        while Queue:\n",
        "            current = Queue.popleft()\n",
        "            Status[current.val] = False\n",
        "\n",
        "            if current.left:\n",
        "                Graph[current.val].append(current.left.val)\n",
        "                Graph[current.left.val].append(current.val)\n",
        "                Queue.append(current.left)\n",
        "            \n",
        "            if current.right:\n",
        "                Graph[current.val].append(current.right.val)\n",
        "                Graph[current.right.val].append(current.val)\n",
        "                Queue.append(current.right)\n",
        "\n",
        "        # step 2: use BFS to compute the infected minute\n",
        "        Status[start] = True\n",
        "        Queue = collections.deque([start])\n",
        "        ans = -1\n",
        "\n",
        "        while Queue:\n",
        "            LenQ = len(Queue)\n",
        "\n",
        "            for _ in range(0, LenQ):\n",
        "                current = Queue.popleft()\n",
        "\n",
        "                for neighbor in Graph[current]:\n",
        "                    if Status[neighbor] == False:\n",
        "                        Status[neighbor] = True\n",
        "                        Queue.append(neighbor)\n",
        "            \n",
        "            ans += 1\n",
        "        \n",
        "        return ans"
      ]
    }
  ]
}