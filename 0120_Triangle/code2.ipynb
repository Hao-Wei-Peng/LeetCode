{
 "cells": [
  {
   "cell_type": "code",
   "execution_count": null,
   "metadata": {},
   "outputs": [],
   "source": [
    "class Solution:\n",
    "    def minimumTotal(self, triangle: List[List[int]]) -> int:\n",
    "\n",
    "        dynamic_program = {} #declare a dynamic programming dictionary\n",
    "\n",
    "        def dfs(i, j):\n",
    "            if (i, j) not in dynamic_program: #avoid to pass the same coordinate\n",
    "\n",
    "                if len(triangle) == i: #when floor and i are equal, reach the bottom\n",
    "                    return 0\n",
    "\n",
    "                dynamic_program[i, j] = min(dfs(i + 1, j), dfs(i + 1, j + 1)) + triangle[i][j] #compare the value, and choose the minimum value\n",
    "            return dynamic_program[i, j]\n",
    "\n",
    "        return dfs(0, 0)"
   ]
  }
 ],
 "metadata": {
  "kernelspec": {
   "display_name": "Python 3",
   "language": "python",
   "name": "python3"
  },
  "language_info": {
   "codemirror_mode": {
    "name": "ipython",
    "version": 3
   },
   "file_extension": ".py",
   "mimetype": "text/x-python",
   "name": "python",
   "nbconvert_exporter": "python",
   "pygments_lexer": "ipython3",
   "version": "3.8.3"
  }
 },
 "nbformat": 4,
 "nbformat_minor": 4
}
