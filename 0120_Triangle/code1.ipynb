{
 "cells": [
  {
   "cell_type": "code",
   "execution_count": null,
   "metadata": {},
   "outputs": [],
   "source": [
    "#depth first search 55ms\n",
    "class Solution:\n",
    "    def minimumTotal(self, triangle: List[List[int]]) -> int:\n",
    "\n",
    "        answer = float(\"inf\") #positive infinite value\n",
    "\n",
    "        def dfs(i, j, Path_Sum):\n",
    "            nonlocal answer #the value of the answer are same\n",
    "\n",
    "            if len(triangle) == i: #when floor and i are equal, reach the bottom\n",
    "                answer = min(answer, Path_Sum) #compare, and choose the minimum value\n",
    "                return None\n",
    "\n",
    "            dfs(i + 1, j, Path_Sum + triangle[i][j]) \n",
    "            dfs(i + 1, j + 1, Path_Sum + triangle[i][j])\n",
    "        \n",
    "        dfs(0, 0, 0)\n",
    "        return answer"
   ]
  }
 ],
 "metadata": {
  "kernelspec": {
   "display_name": "Python 3",
   "language": "python",
   "name": "python3"
  },
  "language_info": {
   "codemirror_mode": {
    "name": "ipython",
    "version": 3
   },
   "file_extension": ".py",
   "mimetype": "text/x-python",
   "name": "python",
   "nbconvert_exporter": "python",
   "pygments_lexer": "ipython3",
   "version": "3.8.3"
  }
 },
 "nbformat": 4,
 "nbformat_minor": 4
}
