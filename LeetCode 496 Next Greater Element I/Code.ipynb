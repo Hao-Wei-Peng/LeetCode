{
  "nbformat": 4,
  "nbformat_minor": 0,
  "metadata": {
    "colab": {
      "provenance": [],
      "collapsed_sections": []
    },
    "kernelspec": {
      "name": "python3",
      "display_name": "Python 3"
    },
    "language_info": {
      "name": "python"
    }
  },
  "cells": [
    {
      "cell_type": "code",
      "execution_count": null,
      "metadata": {
        "id": "mMOA-ZhSJFOB"
      },
      "outputs": [],
      "source": [
        "class Solution:\n",
        "    def nextGreaterElement(self, nums1: List[int], nums2: List[int]) -> List[int]:\n",
        "\n",
        "        # nums1 is a subset of nums2\n",
        "        m, n = len(nums1), len(nums2)\n",
        "\n",
        "        # base case\n",
        "        if m > n:\n",
        "            return None\n",
        "        \n",
        "        # Time Complexity will be O(m + n)\n",
        "        # Space Complexity will be O(n)\n",
        "        # Key Point: use reverse to iterate nums2 array\n",
        "\n",
        "        Map = collections.defaultdict(int)\n",
        "        stack = []\n",
        "\n",
        "        # O(n)\n",
        "        for idx in range(n - 1, -1, -1):\n",
        "            curnum = nums2[idx]\n",
        "\n",
        "            # continue to check toppest element in the stack\n",
        "            while stack and curnum >= stack[-1]:\n",
        "                stack.pop()\n",
        "            \n",
        "            # if do not have corresponding element, -1\n",
        "            Map[curnum] = stack[-1] if stack else -1\n",
        "            stack.append(curnum)\n",
        "\n",
        "        # O(m)\n",
        "        ans = []\n",
        "\n",
        "        for num in nums1:\n",
        "            ans.append(Map[num])\n",
        "        \n",
        "        return ans"
      ]
    }
  ]
}