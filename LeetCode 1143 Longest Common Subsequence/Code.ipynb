{
  "nbformat": 4,
  "nbformat_minor": 0,
  "metadata": {
    "colab": {
      "provenance": [],
      "collapsed_sections": []
    },
    "kernelspec": {
      "name": "python3",
      "display_name": "Python 3"
    },
    "language_info": {
      "name": "python"
    }
  },
  "cells": [
    {
      "cell_type": "code",
      "execution_count": null,
      "metadata": {
        "id": "hFD3gFKqbvee"
      },
      "outputs": [],
      "source": [
        "class Solution:\n",
        "    def longestCommonSubsequence(self, text1: str, text2: str) -> int:\n",
        "\n",
        "        m = len(text1)\n",
        "        n = len(text2)\n",
        "\n",
        "        # we can use dynamic programming to deal with this problem\n",
        "        # bottom up solution\n",
        "        # Time Complexity will be O(mn)\n",
        "        # Space Complexity will be O(mn)\n",
        "\n",
        "        dp = [[0] * (n + 1) for _ in range(m + 1)]\n",
        "\n",
        "        for i in range(m - 1, -1, -1):\n",
        "            for j in range(n - 1, -1, -1):\n",
        "                \n",
        "                # when current character are same\n",
        "                if text1[i] == text2[j]:\n",
        "                    dp[i][j] = dp[i + 1][j + 1] + 1\n",
        "                \n",
        "                else:\n",
        "                    dp[i][j] = max(dp[i][j + 1], dp[i + 1][j])\n",
        "        \n",
        "        return dp[0][0]\n",
        "\n",
        "    "
      ]
    }
  ]
}