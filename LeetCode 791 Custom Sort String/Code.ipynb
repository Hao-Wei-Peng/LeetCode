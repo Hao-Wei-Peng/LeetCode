{
  "nbformat": 4,
  "nbformat_minor": 0,
  "metadata": {
    "colab": {
      "provenance": [],
      "collapsed_sections": []
    },
    "kernelspec": {
      "name": "python3",
      "display_name": "Python 3"
    },
    "language_info": {
      "name": "python"
    }
  },
  "cells": [
    {
      "cell_type": "code",
      "execution_count": null,
      "metadata": {
        "id": "mMOA-ZhSJFOB"
      },
      "outputs": [],
      "source": [
        "class Solution:\n",
        "    def customSortString(self, order: str, s: str) -> str:\n",
        "\n",
        "        # base case\n",
        "        if not order or not s:\n",
        "            return \"\"\n",
        "\n",
        "        # condition: \n",
        "        # 1. order are unique, sorted in some custom order previously\n",
        "        # 2. permute the characters of s, match the order that order was sorted\n",
        "        Count = collections.defaultdict(int)\n",
        "\n",
        "        # ex: s: \"abccd\"\n",
        "        for char in s:\n",
        "            Count[char] = 1 + Count.get(char, 0)\n",
        "        \n",
        "        ans = \"\"\n",
        "\n",
        "        for char in order:\n",
        "            ans += Count[char] * char    \n",
        "            Count[char] = 0\n",
        "        \n",
        "        # remain part\n",
        "        for char in Count:\n",
        "            if Count[char] != 0:\n",
        "                ans += Count[char] * char\n",
        "        \n",
        "        return ans"
      ]
    }
  ]
}