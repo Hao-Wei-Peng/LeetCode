{
  "nbformat": 4,
  "nbformat_minor": 0,
  "metadata": {
    "colab": {
      "provenance": [],
      "collapsed_sections": []
    },
    "kernelspec": {
      "name": "python3",
      "display_name": "Python 3"
    },
    "language_info": {
      "name": "python"
    }
  },
  "cells": [
    {
      "cell_type": "code",
      "execution_count": null,
      "metadata": {
        "id": "mMOA-ZhSJFOB"
      },
      "outputs": [],
      "source": [
        "class Solution:\n",
        "    def Row_and_Col(self, label, n):\n",
        "        # current: n = 6\n",
        "        # label: 2 (5, 1), 3 (5, 2), 4 (5, 3), 5 (5, 4), 6 (5, 5), 7 (4, 5)\n",
        "        r, c = (label - 1) // n, (label - 1) % n\n",
        "\n",
        "        if r % 2 == 1:\n",
        "            c = n - c - 1\n",
        "\n",
        "        return n - r - 1, c\n",
        "\n",
        "    def snakesAndLadders(self, board: List[List[int]]) -> int:\n",
        "\n",
        "        n = len(board)\n",
        "        visited = set()\n",
        "        queue = collections.deque([(1, 0)]) # label, total steps\n",
        "\n",
        "        while queue:\n",
        "            label, step = queue.popleft()\n",
        "\n",
        "            for i in range(1, 6 + 1):\n",
        "                nxt_label = label + i\n",
        "\n",
        "                # check whether exceed boundary\n",
        "                if nxt_label > n * n:\n",
        "                    break\n",
        "\n",
        "                nxt_x, nxt_y = self.Row_and_Col(nxt_label, n)\n",
        "\n",
        "                # check whether exist snake or ladder\n",
        "                if board[nxt_x][nxt_y] != -1:\n",
        "                    nxt_label = board[nxt_x][nxt_y]\n",
        "                \n",
        "                # reach the end position\n",
        "                if nxt_label == n * n:\n",
        "                    return step + 1\n",
        "                \n",
        "                if nxt_label not in visited:\n",
        "                    visited.add(nxt_label)\n",
        "                    queue.append((nxt_label, step + 1))\n",
        "            \n",
        "        return -1\n",
        "                "
      ]
    }
  ]
}