{
  "nbformat": 4,
  "nbformat_minor": 0,
  "metadata": {
    "colab": {
      "provenance": []
    },
    "kernelspec": {
      "name": "python3",
      "display_name": "Python 3"
    },
    "language_info": {
      "name": "python"
    }
  },
  "cells": [
    {
      "cell_type": "code",
      "execution_count": null,
      "metadata": {
        "id": "mMOA-ZhSJFOB"
      },
      "outputs": [],
      "source": [
        "class Solution:\n",
        "    def islandPerimeter(self, grid: List[List[int]]) -> int:\n",
        "        \n",
        "        # base case\n",
        "        if not grid:\n",
        "            return 0\n",
        "        \n",
        "        Rows, Cols = len(grid), len(grid[0])\n",
        "        directions = [(0, 1), (0, -1), (1, 0), (-1, 0)]\n",
        "        Ans = 0\n",
        "\n",
        "        # check 4 directions of the current land, if out of bounded or adjacent block is water\n",
        "        # perimeter + 1\n",
        "        for r in range(0, Rows):\n",
        "            for c in range(0, Cols):\n",
        "                if grid[r][c] == 1:\n",
        "\n",
        "                    for x, y in directions:\n",
        "                        nxt_r, nxt_c = r + x, c + y\n",
        "\n",
        "                        if not (0 <= nxt_r < Rows and 0 <= nxt_c < Cols) or grid[nxt_r][nxt_c] == 0:\n",
        "                            Ans += 1\n",
        "\n",
        "        return Ans"
      ]
    }
  ]
}