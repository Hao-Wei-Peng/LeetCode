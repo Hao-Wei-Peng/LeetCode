{
  "nbformat": 4,
  "nbformat_minor": 0,
  "metadata": {
    "colab": {
      "provenance": []
    },
    "kernelspec": {
      "name": "python3",
      "display_name": "Python 3"
    },
    "language_info": {
      "name": "python"
    }
  },
  "cells": [
    {
      "cell_type": "code",
      "source": [
        "class Solution:\n",
        "    def alienOrder(self, words: List[str]) -> str:\n",
        "\n",
        "        # two conditions:\n",
        "        # 1. if min(w1, w2), first diff char will be a route\n",
        "        # 2. if len(w1) > len(w2), same prefix will not be a route (apex, ape)\n",
        "\n",
        "        # step1: establish the Graph\n",
        "        Graph = collections.defaultdict(set)\n",
        "        InDegree = collections.defaultdict(int)\n",
        "        n = len(words)\n",
        "\n",
        "        for w in words:\n",
        "            for c in w:\n",
        "                if c in InDegree:\n",
        "                    continue\n",
        "                InDegree[c] = 0\n",
        "        \n",
        "        for i in range(0, n - 1):\n",
        "            w1, w2 = words[i], words[i + 1]\n",
        "            minLen = min(len(w1), len(w2))\n",
        "\n",
        "            # condition: apex, ape\n",
        "            if len(w1) > len(w2) and w1[0 : minLen] == w2[0 : minLen]:\n",
        "                return \"\"\n",
        "\n",
        "            # find the first different character\n",
        "            for j in range(0, minLen):\n",
        "                if w1[j] != w2[j]:\n",
        "                    Graph[w1[j]].add(w2[j])\n",
        "                    InDegree[w2[j]] += 1\n",
        "                    break\n",
        "        \n",
        "        # step2: use BFS + topological to deal with this problem\n",
        "        Queue = collections.deque()\n",
        "        ans = \"\"\n",
        "\n",
        "        for c in InDegree:\n",
        "            if InDegree[c] == 0:\n",
        "                Queue.append(c)\n",
        "\n",
        "        while Queue:\n",
        "            char = Queue.popleft()\n",
        "            ans += char\n",
        "\n",
        "            for nxt in Graph[char]:\n",
        "                InDegree[nxt] -= 1\n",
        "\n",
        "                if InDegree[nxt] == 0:\n",
        "                    Queue.append(nxt)\n",
        "        \n",
        "        if len(ans) < len(InDegree):\n",
        "            return \"\"\n",
        "\n",
        "        return ans\n"
      ],
      "metadata": {
        "id": "VQsRJ7yrQZxK"
      },
      "execution_count": null,
      "outputs": []
    }
  ]
}