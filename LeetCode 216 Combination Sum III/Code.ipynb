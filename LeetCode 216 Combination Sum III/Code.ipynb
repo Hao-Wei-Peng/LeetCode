{
  "nbformat": 4,
  "nbformat_minor": 0,
  "metadata": {
    "colab": {
      "name": "Code.ipynb",
      "provenance": [],
      "collapsed_sections": []
    },
    "kernelspec": {
      "name": "python3",
      "display_name": "Python 3"
    },
    "language_info": {
      "name": "python"
    }
  },
  "cells": [
    {
      "cell_type": "code",
      "execution_count": null,
      "metadata": {
        "id": "hFD3gFKqbvee"
      },
      "outputs": [],
      "source": [
        "class Solution:\n",
        "    def combinationSum3(self, k: int, n: int) -> List[List[int]]:\n",
        "\n",
        "        ans = []\n",
        "        path = []\n",
        "\n",
        "        def backtrack(n, k, start_idx):\n",
        "            # todo\n",
        "            if sum(path) > n:\n",
        "                return\n",
        "\n",
        "            if len(path) == k:\n",
        "                if sum(path) == n:\n",
        "                    ans.append(path[:])\n",
        "                return\n",
        "\n",
        "            # prune\n",
        "            # current size = x\n",
        "            # another element should be selected = k - x\n",
        "            # start = n - (k - x) + 1 (we only can use 1 - 9)\n",
        "            for idx in range(start_idx, 9 - (k - len(path)) + 1 + 1):\n",
        "                path.append(idx)\n",
        "                backtrack(n, k, idx + 1)\n",
        "                path.pop()\n",
        "        \n",
        "        backtrack(n, k, 1)\n",
        "\n",
        "        return ans"
      ]
    }
  ]
}