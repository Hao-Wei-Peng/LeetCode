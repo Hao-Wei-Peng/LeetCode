{
 "cells": [
  {
   "cell_type": "code",
   "execution_count": 1,
   "metadata": {},
   "outputs": [],
   "source": [
    "class Solution:\n",
    "    def longestCommonPrefix(self, strs: List[str]) -> str:\n",
    "\n",
    "        #Due to the rule of Constraints \n",
    "        if len(strs) < 0 or len(strs) > 200:\n",
    "            return False\n",
    "\n",
    "        if not strs:\n",
    "            return \"\"\n",
    "\n",
    "        #select by character, if they are same, will point to second character\n",
    "        short_string = min(strs)\n",
    "        long_string = max(strs)\n",
    "\n",
    "        for i in range(len(short_string)):\n",
    "            if short_string[i] != long_string[i]:\n",
    "                return short_string[0:i]\n",
    "        return short_string"
   ]
  }
 ],
 "metadata": {
  "kernelspec": {
   "display_name": "Python 3",
   "language": "python",
   "name": "python3"
  },
  "language_info": {
   "codemirror_mode": {
    "name": "ipython",
    "version": 3
   },
   "file_extension": ".py",
   "mimetype": "text/x-python",
   "name": "python",
   "nbconvert_exporter": "python",
   "pygments_lexer": "ipython3",
   "version": "3.8.3"
  }
 },
 "nbformat": 4,
 "nbformat_minor": 4
}
