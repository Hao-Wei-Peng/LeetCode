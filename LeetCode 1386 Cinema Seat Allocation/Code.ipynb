{
  "nbformat": 4,
  "nbformat_minor": 0,
  "metadata": {
    "colab": {
      "provenance": [],
      "collapsed_sections": []
    },
    "kernelspec": {
      "name": "python3",
      "display_name": "Python 3"
    },
    "language_info": {
      "name": "python"
    }
  },
  "cells": [
    {
      "cell_type": "code",
      "execution_count": null,
      "metadata": {
        "id": "hFD3gFKqbvee"
      },
      "outputs": [],
      "source": [
        "class Solution:\n",
        "    def maxNumberOfFamilies(self, n: int, reservedSeats: List[List[int]]) -> int:\n",
        "\n",
        "        # n rows of seats, numbered from 1 to n\n",
        "        # label 1 to 10\n",
        "\n",
        "        # condition:\n",
        "        # we can split four-person into two-person, two-person by aisle\n",
        "        # we have three situations (can plus 1)\n",
        "        # 1. [2, 3, 4, 5]\n",
        "        # 2. [4, 5, 6, 7]\n",
        "        # 3. [6, 7, 8, 9]\n",
        "\n",
        "        seat = collections.defaultdict(int)\n",
        "        ans = 2 * n\n",
        "\n",
        "        for r, c in reservedSeats:\n",
        "            # shift left c - 1 bits\n",
        "            seat[r] |= 1 << (c - 1)\n",
        "\n",
        "        for r, binary in seat.items():\n",
        "            # if we reverse 1 and 10 -> int(\"0b1000000001\", 2) = 513\n",
        "            if binary | 513 == 513:\n",
        "                continue\n",
        "\n",
        "            # three situations\n",
        "            # if we arrange [2, 3, 4, 5] -> int(\"0b1111100001\", 2) = 993\n",
        "            # if we arrange [4, 5, 6, 7] -> int(\"0b1110000111\", 2) = 903\n",
        "            # if we arrange [6, 7, 8, 9] -> int(\"0b1000011111\", 2) = 543\n",
        "            elif binary | 543 == 543 or binary | 903 == 903 or binary | 993 == 993:\n",
        "                ans = ans - 1\n",
        "            \n",
        "            else:\n",
        "                ans = ans - 2\n",
        "        \n",
        "        return ans\n",
        "        "
      ]
    }
  ]
}