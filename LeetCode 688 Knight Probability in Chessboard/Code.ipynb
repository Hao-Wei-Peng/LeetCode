{
  "nbformat": 4,
  "nbformat_minor": 0,
  "metadata": {
    "colab": {
      "provenance": []
    },
    "kernelspec": {
      "name": "python3",
      "display_name": "Python 3"
    },
    "language_info": {
      "name": "python"
    }
  },
  "cells": [
    {
      "cell_type": "code",
      "execution_count": null,
      "metadata": {
        "id": "mMOA-ZhSJFOB"
      },
      "outputs": [],
      "source": [
        "class Solution:\n",
        "    def knightProbability(self, n: int, k: int, row: int, column: int) -> float:\n",
        "\n",
        "        # use dynamic programming to deal with this problem\n",
        "        # dp[step][i][j] = the k step, the probability start at position i, j\n",
        "        dp = [[[0] * n for _ in range(0, n)] for _ in range(0, k + 1)]\n",
        "        directions = [(-2, -1), (-2, 1), (2, -1), (2, 1), (-1, -2), (-1, 2), (1, -2), (1, 2)]\n",
        "\n",
        "        for step in range(0, k + 1):\n",
        "            for i in range(0, n):\n",
        "                for j in range(0, n):\n",
        "                    if step == 0: # base case\n",
        "                        dp[step][i][j] = 1\n",
        "                    \n",
        "                    else:\n",
        "                        for x, y in directions:\n",
        "                            ni, nj = i + x, j + y\n",
        "\n",
        "                            if 0 <= ni < n and 0 <= nj < n:\n",
        "                                dp[step][i][j] += dp[step - 1][ni][nj] / 8 # 8 directions\n",
        "        \n",
        "        return dp[k][row][column]"
      ]
    }
  ]
}