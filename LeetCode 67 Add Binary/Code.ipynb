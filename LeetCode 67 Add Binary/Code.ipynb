{
  "nbformat": 4,
  "nbformat_minor": 0,
  "metadata": {
    "colab": {
      "provenance": [],
      "collapsed_sections": []
    },
    "kernelspec": {
      "name": "python3",
      "display_name": "Python 3"
    },
    "language_info": {
      "name": "python"
    }
  },
  "cells": [
    {
      "cell_type": "code",
      "execution_count": null,
      "metadata": {
        "id": "mMOA-ZhSJFOB"
      },
      "outputs": [],
      "source": [
        "class Solution:\n",
        "    def addBinary(self, a: str, b: str) -> str:\n",
        "        a, b = a[::-1], b[::-1]\n",
        "        # a = \"0101\"\n",
        "        # b = \"1101\"\n",
        "        ans = \"\"\n",
        "        m = n = carry = 0\n",
        "\n",
        "        # Time Complexity will be O(len(a) + len(b))\n",
        "        # Space Complexity will be O(1)\n",
        "        while m < len(a) or n < len(b) or carry:\n",
        "            n1 = int(a[m]) if m < len(a) else 0\n",
        "            n2 = int(b[n]) if n < len(b) else 0 \n",
        "            carry, rem = divmod(n1 + n2 + carry, 2)\n",
        "            ans += str(rem)\n",
        "            m += 1\n",
        "            n += 1\n",
        "        \n",
        "        return ans[::-1]\n"
      ]
    }
  ]
}