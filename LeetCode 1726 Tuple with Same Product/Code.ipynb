{
  "nbformat": 4,
  "nbformat_minor": 0,
  "metadata": {
    "colab": {
      "provenance": [],
      "collapsed_sections": []
    },
    "kernelspec": {
      "name": "python3",
      "display_name": "Python 3"
    },
    "language_info": {
      "name": "python"
    }
  },
  "cells": [
    {
      "cell_type": "code",
      "execution_count": null,
      "metadata": {
        "id": "mMOA-ZhSJFOB"
      },
      "outputs": [],
      "source": [
        "class Solution:\n",
        "    def tupleSameProduct(self, nums: List[int]) -> int:\n",
        "\n",
        "        # base case\n",
        "        if not nums:\n",
        "            return 0\n",
        "        \n",
        "        # Time Complexity will be O(n*n)\n",
        "        # Space Complexity will be O(n*n)\n",
        "        n = len(nums)\n",
        "        Count = collections.defaultdict(int)\n",
        "\n",
        "        for i in range(0, n - 1):\n",
        "            for j in range(i + 1, n):\n",
        "                prodKey = nums[i] * nums[j]\n",
        "                Count[prodKey] += 1\n",
        "        \n",
        "        ans = 0\n",
        "\n",
        "        # calculate how many possible solutions\n",
        "        for value in Count.values():\n",
        "            # order of pair (a, b) and (c, d)\n",
        "            ans += value * (value - 1)\n",
        "        \n",
        "        return ans * 4"
      ]
    }
  ]
}