{
  "nbformat": 4,
  "nbformat_minor": 0,
  "metadata": {
    "colab": {
      "provenance": [],
      "collapsed_sections": []
    },
    "kernelspec": {
      "name": "python3",
      "display_name": "Python 3"
    },
    "language_info": {
      "name": "python"
    }
  },
  "cells": [
    {
      "cell_type": "code",
      "execution_count": null,
      "metadata": {
        "id": "mMOA-ZhSJFOB"
      },
      "outputs": [],
      "source": [
        "class Solution:\n",
        "    def myPow(self, x: float, n: int) -> float:\n",
        "        \n",
        "        # Time Complexity will be O(logn)\n",
        "        ans = self.dfs(x, abs(n))\n",
        "        return ans if n > 0 else 1 / ans\n",
        "    \n",
        "    def dfs(self, x, n):\n",
        "\n",
        "        # base case\n",
        "        if x == 0: return 0\n",
        "        if n == 0: return 1\n",
        "\n",
        "        # n = 5, n // 2 = 2, should multiply another x\n",
        "        val = self.dfs(x, n // 2)\n",
        "        val = val * val\n",
        "        return val if n % 2 == 0 else val * x"
      ]
    }
  ]
}