{
  "nbformat": 4,
  "nbformat_minor": 0,
  "metadata": {
    "colab": {
      "provenance": []
    },
    "kernelspec": {
      "name": "python3",
      "display_name": "Python 3"
    },
    "language_info": {
      "name": "python"
    }
  },
  "cells": [
    {
      "cell_type": "code",
      "execution_count": null,
      "metadata": {
        "id": "mMOA-ZhSJFOB"
      },
      "outputs": [],
      "source": [
        "class Solution:\n",
        "    def __init__(self):\n",
        "        self.ans = \"\"\n",
        "    \n",
        "    def longestCommonPrefix(self, strs: List[str]) -> str:\n",
        "\n",
        "        # base case\n",
        "        if not strs:\n",
        "            return self.ans\n",
        "        \n",
        "        # find minimum, maximum lexicographically string\n",
        "        s0 = min(strs)\n",
        "        s1 = max(strs)\n",
        "\n",
        "        m = len(s0)\n",
        "\n",
        "        for i, char in enumerate(s0):\n",
        "            if char != s1[i]:\n",
        "                return s0[0 : i]\n",
        "        \n",
        "        return s0"
      ]
    }
  ]
}