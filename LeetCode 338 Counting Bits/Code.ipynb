{
  "nbformat": 4,
  "nbformat_minor": 0,
  "metadata": {
    "colab": {
      "provenance": [],
      "collapsed_sections": []
    },
    "kernelspec": {
      "name": "python3",
      "display_name": "Python 3"
    },
    "language_info": {
      "name": "python"
    }
  },
  "cells": [
    {
      "cell_type": "code",
      "execution_count": null,
      "metadata": {
        "id": "hFD3gFKqbvee"
      },
      "outputs": [],
      "source": [
        "class Solution:\n",
        "    def countBits(self, n: int) -> List[int]:\n",
        "\n",
        "        ans = []\n",
        "\n",
        "        # iterate each numbers, n = 2 -> 0, 1, 2\n",
        "        for num in range(0, n + 1):\n",
        "            \n",
        "            cur_one = 0\n",
        "\n",
        "            while num:\n",
        "                cur_one = cur_one + (num & 1)\n",
        "                num = num >> 1\n",
        "            \n",
        "            ans.append(cur_one)\n",
        "        \n",
        "        return ans"
      ]
    }
  ]
}