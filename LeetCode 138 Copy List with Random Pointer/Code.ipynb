{
  "nbformat": 4,
  "nbformat_minor": 0,
  "metadata": {
    "colab": {
      "provenance": []
    },
    "kernelspec": {
      "name": "python3",
      "display_name": "Python 3"
    },
    "language_info": {
      "name": "python"
    }
  },
  "cells": [
    {
      "cell_type": "code",
      "execution_count": null,
      "metadata": {
        "id": "mMOA-ZhSJFOB"
      },
      "outputs": [],
      "source": [
        "\"\"\"\n",
        "# Definition for a Node.\n",
        "class Node:\n",
        "    def __init__(self, x: int, next: 'Node' = None, random: 'Node' = None):\n",
        "        self.val = int(x)\n",
        "        self.next = next\n",
        "        self.random = random\n",
        "\"\"\"\n",
        "\n",
        "class Solution:\n",
        "    def copyRandomList(self, head: 'Optional[Node]') -> 'Optional[Node]':\n",
        "\n",
        "        oldToCopy = {None: None}\n",
        "        cur = head\n",
        "\n",
        "        while cur:\n",
        "            # copy the current node of the linked list\n",
        "            copy = Node(cur.val)\n",
        "            oldToCopy[cur] = copy\n",
        "            cur = cur.next\n",
        "        \n",
        "        cur = head\n",
        "\n",
        "        while cur:\n",
        "            # assign the next and the random linked list\n",
        "            copy = oldToCopy[cur]\n",
        "            copy.next = oldToCopy[cur.next]\n",
        "            copy.random = oldToCopy[cur.random]\n",
        "            cur = cur.next\n",
        "        \n",
        "        return oldToCopy[head]\n"
      ]
    }
  ]
}