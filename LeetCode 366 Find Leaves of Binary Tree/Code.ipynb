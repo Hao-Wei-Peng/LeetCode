{
  "nbformat": 4,
  "nbformat_minor": 0,
  "metadata": {
    "colab": {
      "provenance": []
    },
    "kernelspec": {
      "name": "python3",
      "display_name": "Python 3"
    },
    "language_info": {
      "name": "python"
    }
  },
  "cells": [
    {
      "cell_type": "code",
      "execution_count": null,
      "metadata": {
        "id": "mMOA-ZhSJFOB"
      },
      "outputs": [],
      "source": [
        "# Definition for a binary tree node.\n",
        "# class TreeNode:\n",
        "#     def __init__(self, val=0, left=None, right=None):\n",
        "#         self.val = val\n",
        "#         self.left = left\n",
        "#         self.right = right\n",
        "class Solution:\n",
        "    def __init__(self):\n",
        "        self.depth = collections.defaultdict(list) # record each depth corresponding nodes\n",
        "\n",
        "    def findLeaves(self, root: Optional[TreeNode]) -> List[List[int]]:\n",
        "        \n",
        "        # base case\n",
        "        if not root:\n",
        "            return root\n",
        "\n",
        "        # step 1: collect all the leaf nodes\n",
        "        # step 2: remove all the leaf nodes\n",
        "        # step 3: repeat until the tree is empty\n",
        "\n",
        "        # Time Complexity will be O(n)\n",
        "        # Space Complexity will be O(n)\n",
        "        self.DFS(root)\n",
        "        return list(self.depth.values())\n",
        "\n",
        "    def DFS(self, root):\n",
        "\n",
        "        # end condition\n",
        "        if not root:\n",
        "            return 0\n",
        "        \n",
        "        L, R = self.DFS(root.left), self.DFS(root.right)\n",
        "        cur_depth = max(L, R) + 1 # compute the depth of current level\n",
        "        self.depth[cur_depth].append(root.val)\n",
        "\n",
        "        return cur_depth\n"
      ]
    }
  ]
}