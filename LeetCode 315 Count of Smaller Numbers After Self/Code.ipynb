{
  "nbformat": 4,
  "nbformat_minor": 0,
  "metadata": {
    "colab": {
      "provenance": [],
      "collapsed_sections": []
    },
    "kernelspec": {
      "name": "python3",
      "display_name": "Python 3"
    },
    "language_info": {
      "name": "python"
    }
  },
  "cells": [
    {
      "cell_type": "code",
      "execution_count": null,
      "metadata": {
        "id": "mMOA-ZhSJFOB"
      },
      "outputs": [],
      "source": [
        "class Solution:\n",
        "    def countSmaller(self, nums: List[int]) -> List[int]:\n",
        "\n",
        "        # base case\n",
        "        if not nums:\n",
        "            return nums\n",
        "        \n",
        "        n = len(nums)\n",
        "        # [(5, 0), (2, 1), (6, 2), (1, 3)]\n",
        "        ans = [0] * n\n",
        "        nums = [(num, idx) for idx, num in enumerate(nums)]\n",
        "        self.MergeSort(nums, 0, n - 1, ans)\n",
        "        return ans\n",
        "    \n",
        "    def MergeSort(self, nums, low, high, ans):\n",
        "\n",
        "        # end recursion\n",
        "        if low >= high:\n",
        "            return 0\n",
        "        \n",
        "        mid = low + (high - low) // 2\n",
        "        self.MergeSort(nums, low, mid, ans) # left part\n",
        "        self.MergeSort(nums, mid + 1, high, ans) # right part\n",
        "\n",
        "        # nums[low, mid], nums[mid + 1, high] are sorted results\n",
        "        temp = []\n",
        "        left, right = low, mid + 1\n",
        "\n",
        "        while left <= mid and right <= high:\n",
        "            if nums[left][0] <= nums[right][0]:\n",
        "                temp.append(nums[left])\n",
        "                # count numbers smaller next to this element\n",
        "                ans[nums[left][1]] += right - (mid + 1)\n",
        "                left += 1\n",
        "            \n",
        "            else:\n",
        "                temp.append(nums[right])\n",
        "                right += 1\n",
        "\n",
        "        while left <= mid:\n",
        "            temp.append(nums[left])\n",
        "            ans[nums[left][1]] += right - (mid + 1)\n",
        "            left += 1\n",
        "        \n",
        "        while right <= high:\n",
        "            temp.append(nums[right])\n",
        "            right += 1\n",
        "        \n",
        "        # update current nums\n",
        "        nums[low : high + 1] = temp"
      ]
    }
  ]
}