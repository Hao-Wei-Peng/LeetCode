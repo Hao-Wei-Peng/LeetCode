{
  "nbformat": 4,
  "nbformat_minor": 0,
  "metadata": {
    "colab": {
      "provenance": []
    },
    "kernelspec": {
      "name": "python3",
      "display_name": "Python 3"
    },
    "language_info": {
      "name": "python"
    }
  },
  "cells": [
    {
      "cell_type": "code",
      "execution_count": null,
      "metadata": {
        "id": "mMOA-ZhSJFOB"
      },
      "outputs": [],
      "source": [
        "class Solution:\n",
        "    def goodDaysToRobBank(self, security: List[int], time: int) -> List[int]:\n",
        "\n",
        "        # the time days before i should increasing\n",
        "        # the time days after i should decreasing\n",
        "        n = len(security)\n",
        "        L, R = [0] * n, [0] * n\n",
        "\n",
        "        # from left to right\n",
        "        for i in range(1, n):\n",
        "            if security[i] <= security[i - 1]:\n",
        "                L[i] = L[i - 1] + 1\n",
        "        \n",
        "        # from right to left\n",
        "        for i in range(n - 2, -1, -1):\n",
        "            if security[i] <= security[i + 1]:\n",
        "                R[i] = R[i + 1] + 1\n",
        "\n",
        "        ans = []\n",
        "\n",
        "        for i in range(time, n - time):\n",
        "\n",
        "            if L[i] >= time and R[i] >= time:\n",
        "                ans.append(i)\n",
        "        \n",
        "        return ans\n"
      ]
    }
  ]
}