{
  "nbformat": 4,
  "nbformat_minor": 0,
  "metadata": {
    "colab": {
      "name": "Code.ipynb",
      "provenance": [],
      "collapsed_sections": []
    },
    "kernelspec": {
      "name": "python3",
      "display_name": "Python 3"
    },
    "language_info": {
      "name": "python"
    }
  },
  "cells": [
    {
      "cell_type": "code",
      "execution_count": null,
      "metadata": {
        "id": "hFD3gFKqbvee"
      },
      "outputs": [],
      "source": [
        "class Solution:\n",
        "    def longestOnes(self, nums: List[int], k: int) -> int:\n",
        "\n",
        "        # return consecutive 1 in the array\n",
        "        # we can use slide windows to deal with this problem \n",
        "        # conditions:\n",
        "        # more than k zeros\n",
        "        # if we more than k zeros, move left pointer to position with largest condition\n",
        "        # if we not more than k zeros, move right pointer to next position\n",
        "\n",
        "        n = len(nums)\n",
        "\n",
        "        left, right = 0, 0\n",
        "        max_len = float(\"-inf\")\n",
        "        zeros = 0\n",
        "\n",
        "        # Time Complexity will be O(n)\n",
        "        # Space Complexity will be O(1)\n",
        "        while right < n:\n",
        "            cur_num = nums[right]\n",
        "            \n",
        "            if cur_num == 0:\n",
        "                zeros += 1\n",
        "\n",
        "            # check whether zeros larger than condition k\n",
        "            while zeros > k:\n",
        "                pre_num = nums[left]\n",
        "                # todo \n",
        "                if pre_num == 0:\n",
        "                    # calculate current zeros\n",
        "                    zeros -= 1\n",
        "                left += 1\n",
        "\n",
        "            max_len = max(max_len, right - left + 1)\n",
        "            right = right + 1\n",
        "        \n",
        "        return max_len\n"
      ]
    }
  ]
}