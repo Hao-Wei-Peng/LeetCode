{
  "nbformat": 4,
  "nbformat_minor": 0,
  "metadata": {
    "colab": {
      "provenance": [],
      "collapsed_sections": []
    },
    "kernelspec": {
      "name": "python3",
      "display_name": "Python 3"
    },
    "language_info": {
      "name": "python"
    }
  },
  "cells": [
    {
      "cell_type": "code",
      "execution_count": null,
      "metadata": {
        "id": "mMOA-ZhSJFOB"
      },
      "outputs": [],
      "source": [
        "# Definition for a binary tree node.\n",
        "# class TreeNode:\n",
        "#     def __init__(self, val=0, left=None, right=None):\n",
        "#         self.val = val\n",
        "#         self.left = left\n",
        "#         self.right = right\n",
        "class Solution:\n",
        "    def recoverTree(self, root: Optional[TreeNode]) -> None:\n",
        "        \"\"\"\n",
        "        Do not return anything, modify root in-place instead.\n",
        "        \"\"\"\n",
        "\n",
        "        # we can use inorder traversal to deal with this problem\n",
        "        stack = []\n",
        "        CurNode = root\n",
        "        PreNode = TreeNode(float(\"-inf\"))\n",
        "        First, Second = None, None\n",
        "\n",
        "        while CurNode or stack:\n",
        "            while CurNode:\n",
        "                stack.append(CurNode)\n",
        "                CurNode = CurNode.left\n",
        "            \n",
        "            CurNode = stack.pop()\n",
        "\n",
        "            if not First and PreNode.val > CurNode.val:\n",
        "                First = PreNode\n",
        "            \n",
        "            if First and PreNode.val > CurNode.val:\n",
        "                Second = CurNode\n",
        "\n",
        "            PreNode = CurNode\n",
        "            CurNode = CurNode.right\n",
        "        \n",
        "        First.val, Second.val = Second.val, First.val"
      ]
    }
  ]
}