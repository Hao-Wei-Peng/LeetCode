{
  "nbformat": 4,
  "nbformat_minor": 0,
  "metadata": {
    "colab": {
      "name": "Code.ipynb",
      "provenance": [],
      "collapsed_sections": []
    },
    "kernelspec": {
      "name": "python3",
      "display_name": "Python 3"
    },
    "language_info": {
      "name": "python"
    }
  },
  "cells": [
    {
      "cell_type": "code",
      "execution_count": null,
      "metadata": {
        "id": "hFD3gFKqbvee"
      },
      "outputs": [],
      "source": [
        "class Solution:\n",
        "    def removeDuplicates(self, nums: List[int]) -> int:\n",
        "        \n",
        "        # our goal: not consider duplicates (unique element)\n",
        "        # Time Complexity will be O(n)\n",
        "        # Space Complexity will be O(1)\n",
        "\n",
        "        n = len(nums)\n",
        "        # start from first the index\n",
        "        slow, fast = 1, 1\n",
        "\n",
        "        while fast < n:\n",
        "            if nums[fast] != nums[fast - 1]:\n",
        "                nums[slow] = nums[fast]\n",
        "                slow = slow + 1\n",
        "                fast = fast + 1\n",
        "            else:\n",
        "                fast = fast + 1\n",
        "        \n",
        "        return slow"
      ]
    }
  ]
}