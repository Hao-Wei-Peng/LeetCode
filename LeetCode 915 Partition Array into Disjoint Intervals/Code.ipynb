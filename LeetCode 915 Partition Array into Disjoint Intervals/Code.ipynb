{
  "nbformat": 4,
  "nbformat_minor": 0,
  "metadata": {
    "colab": {
      "provenance": [],
      "collapsed_sections": []
    },
    "kernelspec": {
      "name": "python3",
      "display_name": "Python 3"
    },
    "language_info": {
      "name": "python"
    }
  },
  "cells": [
    {
      "cell_type": "code",
      "execution_count": null,
      "metadata": {
        "id": "mMOA-ZhSJFOB"
      },
      "outputs": [],
      "source": [
        "class Solution:\n",
        "    def partitionDisjoint(self, nums: List[int]) -> int:\n",
        "\n",
        "        # base case\n",
        "        if not nums:\n",
        "            return 0\n",
        "        \n",
        "        n = len(nums)\n",
        "        leftPos = 0\n",
        "        curMax, leftMax = nums[0], nums[0]\n",
        "\n",
        "        # Time Complexity will be O(n)\n",
        "        # Space Complexity will be O(n)\n",
        "        for idx, num in enumerate(nums[1 : ]):\n",
        "            curMax = max(curMax, nums[idx])\n",
        "\n",
        "            # if current num smaller than leftMax\n",
        "            # update position\n",
        "            if nums[idx] < leftMax:\n",
        "                leftMax, leftPos = curMax, idx\n",
        "        \n",
        "        return leftPos + 1"
      ]
    }
  ]
}