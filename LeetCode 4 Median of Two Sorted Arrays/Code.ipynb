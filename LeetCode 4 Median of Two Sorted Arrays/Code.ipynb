{
  "nbformat": 4,
  "nbformat_minor": 0,
  "metadata": {
    "colab": {
      "provenance": []
    },
    "kernelspec": {
      "name": "python3",
      "display_name": "Python 3"
    },
    "language_info": {
      "name": "python"
    }
  },
  "cells": [
    {
      "cell_type": "code",
      "execution_count": null,
      "metadata": {
        "id": "mMOA-ZhSJFOB"
      },
      "outputs": [],
      "source": [
        "class Solution:\n",
        "    def findMedianSortedArrays(self, nums1: List[int], nums2: List[int]) -> float:\n",
        "\n",
        "        A, B = nums1, nums2\n",
        "        total = len(A) + len(B)\n",
        "        half = total // 2\n",
        "\n",
        "        # we want to ensure that A is always smaller than B\n",
        "        # Time Complexity will be O(log(len(A)))\n",
        "        # Space Complexity will be O(1)\n",
        "        if len(A) > len(B):\n",
        "            A, B = B, A\n",
        "        \n",
        "        L, R = 0, len(A) - 1\n",
        "\n",
        "        while True:\n",
        "            i = L + (R - L) // 2 # A\n",
        "            j = half - i - 2 # B\n",
        "\n",
        "            ALeft = A[i] if i >= 0 else float(\"-inf\")\n",
        "            ARight = A[i + 1] if (i + 1) < len(A) else float(\"inf\")\n",
        "            BLeft = B[j] if j >= 0 else float(\"-inf\")\n",
        "            BRight = B[j + 1] if (j + 1) < len(B) else float(\"inf\")\n",
        "\n",
        "            # base case\n",
        "            if ALeft <= BRight and BLeft <= ARight:\n",
        "\n",
        "                # odd\n",
        "                if total % 2 == 1:\n",
        "                    return min(ARight, BRight)\n",
        "                \n",
        "                # even\n",
        "                return (max(ALeft, BLeft) + min(ARight, BRight)) / 2\n",
        "            \n",
        "            elif ALeft > BRight:\n",
        "                R = i - 1\n",
        "            \n",
        "            else:\n",
        "                L = i + 1\n"
      ]
    }
  ]
}