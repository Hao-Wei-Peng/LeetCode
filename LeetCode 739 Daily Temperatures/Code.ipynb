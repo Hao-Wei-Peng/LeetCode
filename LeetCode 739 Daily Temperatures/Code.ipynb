{
  "nbformat": 4,
  "nbformat_minor": 0,
  "metadata": {
    "colab": {
      "provenance": [],
      "collapsed_sections": []
    },
    "kernelspec": {
      "name": "python3",
      "display_name": "Python 3"
    },
    "language_info": {
      "name": "python"
    }
  },
  "cells": [
    {
      "cell_type": "code",
      "execution_count": null,
      "metadata": {
        "id": "mMOA-ZhSJFOB"
      },
      "outputs": [],
      "source": [
        "class Solution:\n",
        "    def dailyTemperatures(self, temperatures: List[int]) -> List[int]:\n",
        "\n",
        "        n = len(temperatures)\n",
        "\n",
        "        # base case\n",
        "        if n == 1:\n",
        "            return [0]\n",
        "        \n",
        "        # we can use monotonic queue to deal with this problem\n",
        "        # ensure all elements in the queue should follow decreasing order\n",
        "        queue = collections.deque([(temperatures[0], 0)])\n",
        "        ans = [0] * n\n",
        "\n",
        "        for idx in range(1, n):\n",
        "            # pop element from leftside\n",
        "            while queue and temperatures[idx] > queue[-1][0]:\n",
        "                pre_val, pre_idx = queue.pop()\n",
        "                ans[pre_idx] = idx - pre_idx\n",
        "            \n",
        "            queue.append((temperatures[idx], idx))\n",
        "            \n",
        "        return ans"
      ]
    }
  ]
}