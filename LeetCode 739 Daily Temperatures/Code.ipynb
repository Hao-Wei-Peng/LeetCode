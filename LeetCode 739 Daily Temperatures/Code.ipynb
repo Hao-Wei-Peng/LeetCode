{
  "nbformat": 4,
  "nbformat_minor": 0,
  "metadata": {
    "colab": {
      "provenance": [],
      "collapsed_sections": []
    },
    "kernelspec": {
      "name": "python3",
      "display_name": "Python 3"
    },
    "language_info": {
      "name": "python"
    }
  },
  "cells": [
    {
      "cell_type": "code",
      "execution_count": null,
      "metadata": {
        "id": "mMOA-ZhSJFOB"
      },
      "outputs": [],
      "source": [
        "class Solution:\n",
        "    def dailyTemperatures(self, temperatures: List[int]) -> List[int]:\n",
        "\n",
        "        # base case\n",
        "        if not temperatures:\n",
        "            return []\n",
        "        \n",
        "        n = len(temperatures)\n",
        "        Bounded = [0] * n\n",
        "        stack = []\n",
        "\n",
        "        # Time Complexity will be O(n)\n",
        "        # Space Complexity will be O(n)\n",
        "        for idx in range(0, n):\n",
        "            curTemp = temperatures[idx]\n",
        "\n",
        "            while stack and curTemp > temperatures[stack[-1]]:\n",
        "                pre_idx = stack.pop()\n",
        "                Bounded[pre_idx] = idx - pre_idx\n",
        "            \n",
        "            stack.append(idx)\n",
        "        \n",
        "        return Bounded"
      ]
    }
  ]
}