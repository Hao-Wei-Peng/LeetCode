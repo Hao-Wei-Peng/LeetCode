{
  "nbformat": 4,
  "nbformat_minor": 0,
  "metadata": {
    "colab": {
      "provenance": [],
      "collapsed_sections": []
    },
    "kernelspec": {
      "name": "python3",
      "display_name": "Python 3"
    },
    "language_info": {
      "name": "python"
    }
  },
  "cells": [
    {
      "cell_type": "code",
      "execution_count": null,
      "metadata": {
        "id": "hFD3gFKqbvee"
      },
      "outputs": [],
      "source": [
        "class Solution:\n",
        "    def maxProfit(self, k: int, prices: List[int]) -> int:\n",
        "\n",
        "        n = len(prices)\n",
        "\n",
        "        # Time Complexity will be O(n)\n",
        "        # Space Complexity will be O(n)\n",
        "\n",
        "        if n == 1 or n == 0:\n",
        "            return 0\n",
        "        \n",
        "        # we can use dynamic programming to deal with this problem\n",
        "        # one day contains k status, \n",
        "        # 1. no operation\n",
        "        # 2. buy stock \n",
        "        # 3. sell stock\n",
        "        # .....\n",
        "        # k - 1. buy stock\n",
        "        # k, sell stock \n",
        "\n",
        "        # dp[i][j] = at day i, largest profit at status j\n",
        "        dp = [[0] * (2*k + 1) for _ in range(n)]\n",
        "        \n",
        "        for i in range(1, 2*k, 2):\n",
        "            dp[0][i] = -prices[0]\n",
        "        \n",
        "        for i in range(1, n):\n",
        "            for j in range(0, 2*k - 1, 2):\n",
        "                dp[i][j + 1] = max(dp[i - 1][j + 1], dp[i - 1][j] - prices[i])\n",
        "                dp[i][j + 2] = max(dp[i - 1][j + 2], dp[i - 1][j + 1] + prices[i])\n",
        "\n",
        "        return dp[-1][2*k]"
      ]
    }
  ]
}