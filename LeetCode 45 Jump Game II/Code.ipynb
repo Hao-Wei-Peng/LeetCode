{
  "nbformat": 4,
  "nbformat_minor": 0,
  "metadata": {
    "colab": {
      "provenance": [],
      "collapsed_sections": []
    },
    "kernelspec": {
      "name": "python3",
      "display_name": "Python 3"
    },
    "language_info": {
      "name": "python"
    }
  },
  "cells": [
    {
      "cell_type": "code",
      "execution_count": null,
      "metadata": {
        "id": "mMOA-ZhSJFOB"
      },
      "outputs": [],
      "source": [
        "class Solution:\n",
        "    def jump(self, nums: List[int]) -> int:\n",
        "        \n",
        "        # base case \n",
        "        if not nums:\n",
        "            return 0\n",
        "\n",
        "        # Time Complexity will be O(n)\n",
        "        # Space Complexity will be O(1)\n",
        "        n = len(nums)\n",
        "        left, right = 0, 0\n",
        "        steps = 0\n",
        "\n",
        "        while right < n - 1:\n",
        "            farthest = 0\n",
        "\n",
        "            for idx in range(left, right + 1):\n",
        "                farthest = max(farthest, idx + nums[idx])\n",
        "            \n",
        "            # update pointers\n",
        "            left = right + 1\n",
        "            right = farthest\n",
        "            steps += 1\n",
        "\n",
        "        return steps"
      ]
    }
  ]
}