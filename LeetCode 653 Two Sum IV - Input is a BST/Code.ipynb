{
  "nbformat": 4,
  "nbformat_minor": 0,
  "metadata": {
    "colab": {
      "provenance": []
    },
    "kernelspec": {
      "name": "python3",
      "display_name": "Python 3"
    },
    "language_info": {
      "name": "python"
    }
  },
  "cells": [
    {
      "cell_type": "code",
      "execution_count": null,
      "metadata": {
        "id": "mMOA-ZhSJFOB"
      },
      "outputs": [],
      "source": [
        "# Definition for a binary tree node.\n",
        "# class TreeNode:\n",
        "#     def __init__(self, val=0, left=None, right=None):\n",
        "#         self.val = val\n",
        "#         self.left = left\n",
        "#         self.right = right\n",
        "class Solution:\n",
        "    def findTarget(self, root: Optional[TreeNode], target: int) -> bool:\n",
        "\n",
        "        # base case\n",
        "        if not root:\n",
        "            return False\n",
        "        \n",
        "        visited = set()\n",
        "        Queue = collections.deque([root])\n",
        "\n",
        "        # use BFS to deal with this problem\n",
        "        # Time Complexity will be O(n)\n",
        "        # Space Complexity will be O(n)\n",
        "        while Queue:\n",
        "            node = Queue.popleft()\n",
        "\n",
        "            # satisfy the condition\n",
        "            if target - node.val in visited:\n",
        "                return True\n",
        "            \n",
        "            visited.add(node.val)\n",
        "\n",
        "            if node.left:\n",
        "                Queue.append(node.left)\n",
        "            \n",
        "            if node.right:\n",
        "                Queue.append(node.right)\n",
        "        \n",
        "        return False"
      ]
    }
  ]
}