{
  "nbformat": 4,
  "nbformat_minor": 0,
  "metadata": {
    "colab": {
      "name": "Code.ipynb",
      "provenance": [],
      "collapsed_sections": []
    },
    "kernelspec": {
      "name": "python3",
      "display_name": "Python 3"
    },
    "language_info": {
      "name": "python"
    }
  },
  "cells": [
    {
      "cell_type": "code",
      "execution_count": null,
      "metadata": {
        "id": "hFD3gFKqbvee"
      },
      "outputs": [],
      "source": [
        "class Solution:\n",
        "    def numSquares(self, n: int) -> int:\n",
        "\n",
        "        # perfect square is the square of an integer\n",
        "        # example: 1, 4, 9, 16 ... \n",
        "        # n = 13, least element 4 + 9, output = 2\n",
        "\n",
        "        # we need to check the range of integer n (root)\n",
        "        # round off\n",
        "        bounded = floor(sqrt(n))\n",
        "        MAX_INT = sys.maxsize\n",
        "\n",
        "        # Time Complexity will be O(bounded * n)\n",
        "        # Space Complexity will be O(n)\n",
        "        # dp[j] = how many element (least) of combinations at integer j \n",
        "        dp = [MAX_INT] * (n + 1)\n",
        "        dp[0] = 0\n",
        "\n",
        "        for num in range(1, bounded + 1):\n",
        "            square = num * num\n",
        "            for j in range(square, n + 1):\n",
        "                dp[j] = min(dp[j], dp[j - square] + 1)\n",
        "\n",
        "        return dp[n]\n"
      ]
    }
  ]
}