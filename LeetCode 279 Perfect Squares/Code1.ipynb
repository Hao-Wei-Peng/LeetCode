{
  "nbformat": 4,
  "nbformat_minor": 0,
  "metadata": {
    "colab": {
      "provenance": []
    },
    "kernelspec": {
      "name": "python3",
      "display_name": "Python 3"
    },
    "language_info": {
      "name": "python"
    }
  },
  "cells": [
    {
      "cell_type": "code",
      "execution_count": null,
      "metadata": {
        "id": "mMOA-ZhSJFOB"
      },
      "outputs": [],
      "source": [
        "class Solution:\n",
        "    def numSquares(self, n: int) -> int:\n",
        "\n",
        "        # we can use BFS to deal with this problem\n",
        "        Queue = collections.deque([(n, 0)])\n",
        "        visited = set()\n",
        "\n",
        "        while Queue:\n",
        "            number, step = Queue.popleft()\n",
        "            Next = []\n",
        "            \n",
        "            # define the next range\n",
        "            for i in range(1, int(number**0.5) + 1):\n",
        "                Next.append(number - i * i)\n",
        "            \n",
        "            for target in Next:\n",
        "                if target == 0: \n",
        "                    return step + 1\n",
        "\n",
        "                if target not in visited:\n",
        "                    Queue.append((target, step + 1))\n",
        "                    visited.add(target)\n",
        "        \n",
        "        return 0"
      ]
    }
  ]
}