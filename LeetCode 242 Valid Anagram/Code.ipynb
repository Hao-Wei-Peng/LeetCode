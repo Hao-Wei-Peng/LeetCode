{
  "nbformat": 4,
  "nbformat_minor": 0,
  "metadata": {
    "colab": {
      "name": "Code.ipynb",
      "provenance": [],
      "collapsed_sections": []
    },
    "kernelspec": {
      "name": "python3",
      "display_name": "Python 3"
    },
    "language_info": {
      "name": "python"
    }
  },
  "cells": [
    {
      "cell_type": "code",
      "execution_count": null,
      "metadata": {
        "id": "hFD3gFKqbvee"
      },
      "outputs": [],
      "source": [
        "class Solution:\n",
        "    def isAnagram(self, s: str, t: str) -> bool:\n",
        "\n",
        "        m = len(s)\n",
        "        n = len(t)\n",
        "\n",
        "        if m != n:\n",
        "            return False\n",
        "        \n",
        "        # Time Complexity will be O(m + n)\n",
        "        # Space Complexity will be O(m)\n",
        "        ch_fre = collections.defaultdict(int)\n",
        "\n",
        "        # string s\n",
        "        for char in s:\n",
        "            if char not in ch_fre:\n",
        "                ch_fre[char] = 1\n",
        "            else:\n",
        "                ch_fre[char] += 1\n",
        "        \n",
        "        # string t\n",
        "        for char in t:\n",
        "            if char in ch_fre and ch_fre[char] > 0:\n",
        "                ch_fre[char] -= 1\n",
        "            else:\n",
        "                return False\n",
        "        \n",
        "        return True        "
      ]
    }
  ]
}