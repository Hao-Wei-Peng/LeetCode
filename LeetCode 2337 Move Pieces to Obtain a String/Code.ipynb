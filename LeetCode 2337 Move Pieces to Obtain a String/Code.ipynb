{
  "nbformat": 4,
  "nbformat_minor": 0,
  "metadata": {
    "colab": {
      "provenance": []
    },
    "kernelspec": {
      "name": "python3",
      "display_name": "Python 3"
    },
    "language_info": {
      "name": "python"
    }
  },
  "cells": [
    {
      "cell_type": "code",
      "execution_count": null,
      "metadata": {
        "id": "mMOA-ZhSJFOB"
      },
      "outputs": [],
      "source": [
        "class Solution:\n",
        "    def canChange(self, start: str, target: str) -> bool:\n",
        "        \n",
        "        # definition\n",
        "        # _L -> L_\n",
        "        # R_ -> _R\n",
        "        # start and target have same length\n",
        "\n",
        "        # Time Complexity will be O(n)\n",
        "        # Space Complexity will be O(n)\n",
        "\n",
        "        # step 1: both string should contain same order of the characters\n",
        "        n = len(start)\n",
        "        ord_s, ord_t, idx_s, idx_t = [], [], [], []\n",
        "\n",
        "        for i in range(n):\n",
        "            if start[i] != \"_\":\n",
        "                ord_s.append(start[i])\n",
        "                idx_s.append(i)\n",
        "            \n",
        "            if target[i] != \"_\":\n",
        "                ord_t.append(target[i])\n",
        "                idx_t.append(i)\n",
        "\n",
        "        # not impossible    \n",
        "        if ord_s != ord_t:\n",
        "            return False\n",
        "        \n",
        "        # step 2: L, R index should follow the rule\n",
        "        m = len(ord_s)\n",
        "\n",
        "        for i in range(m):\n",
        "            if ord_s[i] == \"L\" and idx_s[i] < idx_t[i]:\n",
        "                return False\n",
        "            \n",
        "            if ord_s[i] == \"R\" and idx_s[i] > idx_t[i]:\n",
        "                return False\n",
        "        \n",
        "        return True"
      ]
    }
  ]
}