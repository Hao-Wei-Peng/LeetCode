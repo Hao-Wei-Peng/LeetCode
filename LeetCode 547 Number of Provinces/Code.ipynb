{
  "nbformat": 4,
  "nbformat_minor": 0,
  "metadata": {
    "colab": {
      "name": "Code.ipynb",
      "provenance": [],
      "collapsed_sections": []
    },
    "kernelspec": {
      "name": "python3",
      "display_name": "Python 3"
    },
    "language_info": {
      "name": "python"
    }
  },
  "cells": [
    {
      "cell_type": "code",
      "execution_count": null,
      "metadata": {
        "id": "hFD3gFKqbvee"
      },
      "outputs": [],
      "source": [
        "class Solution:\n",
        "    def findCircleNum(self, isConnected: List[List[int]]) -> int:\n",
        "\n",
        "        # we will use BFS method to deal with this problem\n",
        "        # check whether we have visited this node\n",
        "        visited = set()\n",
        "        queue = collections.deque()\n",
        "        province = 0\n",
        "\n",
        "        Rows, Cols = len(isConnected), len(isConnected[0])\n",
        "\n",
        "        # Time Complexity will be O(v + e)\n",
        "        # Space Complexity will be O(v)\n",
        "        # v = vertix, e = edge\n",
        "\n",
        "        for vertice in range(Rows):\n",
        "            if vertice not in visited:\n",
        "                visited.add(vertice)\n",
        "                queue.append(vertice)\n",
        "\n",
        "                while queue:\n",
        "                    cur_vertice = queue.popleft()\n",
        "                    LenV = len(isConnected[cur_vertice])\n",
        "                    \n",
        "                    for vertice in range(LenV):\n",
        "                        if vertice not in visited and isConnected[cur_vertice][vertice] == 1:\n",
        "                            visited.add(vertice)\n",
        "                            queue.append(vertice)\n",
        "                province = province + 1\n",
        "        \n",
        "        return province"
      ]
    }
  ]
}