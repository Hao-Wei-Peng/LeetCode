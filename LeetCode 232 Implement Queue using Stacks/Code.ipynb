{
  "nbformat": 4,
  "nbformat_minor": 0,
  "metadata": {
    "colab": {
      "name": "Code.ipynb",
      "provenance": [],
      "collapsed_sections": []
    },
    "kernelspec": {
      "name": "python3",
      "display_name": "Python 3"
    },
    "language_info": {
      "name": "python"
    }
  },
  "cells": [
    {
      "cell_type": "code",
      "execution_count": null,
      "metadata": {
        "id": "hFD3gFKqbvee"
      },
      "outputs": [],
      "source": [
        "class MyQueue:\n",
        "\n",
        "    def __init__(self):\n",
        "        self.InStack = []\n",
        "        self.OutOfStack = []\n",
        "\n",
        "    def push(self, x: int) -> None:\n",
        "        self.InStack.append(x)\n",
        "\n",
        "    def pop(self) -> int:\n",
        "        # we need to focus on this part, we need to output all of elements in InStack \n",
        "        # and push them into OutOfStack\n",
        "        if self.empty == True:\n",
        "            return None\n",
        "\n",
        "        # if OutOfStack is empty, pop all elements in InStack and push them into OutOfStack\n",
        "        # if OutOfStack is not empty, pop element in OutOfStack\n",
        "        if not self.OutOfStack:\n",
        "            for i in range(0, len(self.InStack)):\n",
        "                val = self.InStack.pop()\n",
        "                self.OutOfStack.append(val)\n",
        "            return self.OutOfStack.pop()\n",
        "        \n",
        "        else:\n",
        "            return self.OutOfStack.pop()\n",
        "\n",
        "    def peek(self) -> int:\n",
        "        ans = self.pop()\n",
        "        self.OutOfStack.append(ans)\n",
        "        return ans\n",
        "        \n",
        "    def empty(self) -> bool:\n",
        "        if not self.InStack and not self.OutOfStack:\n",
        "            return True\n",
        "        else:\n",
        "            return False\n",
        "\n",
        "\n",
        "# Your MyQueue object will be instantiated and called as such:\n",
        "# obj = MyQueue()\n",
        "# obj.push(x)\n",
        "# param_2 = obj.pop()\n",
        "# param_3 = obj.peek()\n",
        "# param_4 = obj.empty()"
      ]
    }
  ]
}