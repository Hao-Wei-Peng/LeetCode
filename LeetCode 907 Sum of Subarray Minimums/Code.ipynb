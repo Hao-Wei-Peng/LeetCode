{
  "nbformat": 4,
  "nbformat_minor": 0,
  "metadata": {
    "colab": {
      "provenance": [],
      "collapsed_sections": []
    },
    "kernelspec": {
      "name": "python3",
      "display_name": "Python 3"
    },
    "language_info": {
      "name": "python"
    }
  },
  "cells": [
    {
      "cell_type": "code",
      "execution_count": 3,
      "metadata": {
        "id": "mMOA-ZhSJFOB"
      },
      "outputs": [],
      "source": [
        "class Solution:\n",
        "    def sumSubarrayMins(self, arr: List[int]) -> int:\n",
        "\n",
        "        # base case\n",
        "        if not arr:\n",
        "            return 0\n",
        "        \n",
        "        # Time Complexity will be O(n)\n",
        "        # Space Complexity will be O(n)\n",
        "        n = len(arr)\n",
        "        stack = []\n",
        "        left, right = [-1] * n, [n] * n\n",
        "\n",
        "        # left, right bounded\n",
        "        for idx in range(0, n):\n",
        "            curnum = arr[idx]\n",
        "\n",
        "            while stack and curnum <= arr[stack[-1]]:\n",
        "                index = stack.pop()\n",
        "                right[index] = idx\n",
        "            \n",
        "            if stack:\n",
        "                left[idx] = stack[-1]\n",
        "\n",
        "            stack.append(idx)\n",
        "\n",
        "        # left = [-1, -1, 1, 2]\n",
        "        # right = [1, 4, 4, 4]\n",
        "        ans = 0\n",
        "\n",
        "        for idx in range(0, n):\n",
        "            curnum = arr[idx]\n",
        "            # we can choose elements in left range [-1 ~ 0]\n",
        "            # we can choose elements in right range [0 ~ 1]\n",
        "            L, R = left[idx], right[idx]\n",
        "            LComb, RComb = idx - L, R - idx\n",
        "            ans += (LComb * RComb) * curnum\n",
        "\n",
        "        return ans % (10 ** 9 + 7)"
      ]
    }
  ]
}