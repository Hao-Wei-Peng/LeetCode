{
  "nbformat": 4,
  "nbformat_minor": 0,
  "metadata": {
    "colab": {
      "name": "Code.ipynb",
      "provenance": [],
      "collapsed_sections": []
    },
    "kernelspec": {
      "name": "python3",
      "display_name": "Python 3"
    },
    "language_info": {
      "name": "python"
    }
  },
  "cells": [
    {
      "cell_type": "code",
      "execution_count": null,
      "metadata": {
        "id": "hFD3gFKqbvee"
      },
      "outputs": [],
      "source": [
        "class Solution:\n",
        "    def combinationSum2(self, candidates: List[int], target: int) -> List[List[int]]:\n",
        "\n",
        "        ans = []\n",
        "        path = []\n",
        "        # we should sort candidates at first\n",
        "        candidates = sorted(candidates)\n",
        "\n",
        "        def backtrack(start_idx):\n",
        "\n",
        "            if sum(path) == target:\n",
        "                ans.append(path[:])\n",
        "                return\n",
        "            \n",
        "            if sum(path) > target:\n",
        "                return\n",
        "\n",
        "            for idx in range(start_idx, len(candidates)):\n",
        "                \n",
        "                # we need to ensure in same level, we will not use same element\n",
        "                # therefore, we can remove duplicate combination\n",
        "                if idx > start_idx and candidates[idx] == candidates[idx - 1]:\n",
        "                    continue \n",
        "\n",
        "                element = candidates[idx]\n",
        "                path.append(element)\n",
        "                backtrack(idx + 1)\n",
        "                path.pop()\n",
        "        \n",
        "        backtrack(0)\n",
        "\n",
        "        return ans"
      ]
    }
  ]
}