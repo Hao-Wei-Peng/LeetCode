{
  "nbformat": 4,
  "nbformat_minor": 0,
  "metadata": {
    "colab": {
      "name": "Code.ipynb",
      "provenance": [],
      "collapsed_sections": []
    },
    "kernelspec": {
      "name": "python3",
      "display_name": "Python 3"
    },
    "language_info": {
      "name": "python"
    }
  },
  "cells": [
    {
      "cell_type": "code",
      "execution_count": null,
      "metadata": {
        "id": "hFD3gFKqbvee"
      },
      "outputs": [],
      "source": [
        "class Solution:\n",
        "    def isValid(self, s: str) -> bool:\n",
        "\n",
        "        # we will use stack to deal with this problem\n",
        "        # we need to consider three situations\n",
        "        # 1. if we have extra left brackets\n",
        "        # 2. if we have extra right brackets\n",
        "        # 3. if we do not match up left and right brackets\n",
        "\n",
        "        stack = []\n",
        "\n",
        "        for bracket in s:\n",
        "\n",
        "            if bracket == \"(\":\n",
        "                stack.append(\")\")\n",
        "\n",
        "            elif bracket == \"[\":\n",
        "                stack.append(\"]\")\n",
        "            \n",
        "            elif bracket == \"{\":\n",
        "                stack.append(\"}\")\n",
        "            \n",
        "            # situation 2, 3\n",
        "            elif not stack or stack[-1] != bracket:\n",
        "                return False\n",
        "            \n",
        "            else:\n",
        "                stack.pop()\n",
        "        \n",
        "        # if we finish examination, stack should be empty (situation 1)\n",
        "        return True if not stack else False"
      ]
    }
  ]
}