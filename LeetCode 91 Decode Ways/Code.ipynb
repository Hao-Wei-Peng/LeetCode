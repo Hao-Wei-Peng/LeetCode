{
  "nbformat": 4,
  "nbformat_minor": 0,
  "metadata": {
    "colab": {
      "provenance": [],
      "collapsed_sections": []
    },
    "kernelspec": {
      "name": "python3",
      "display_name": "Python 3"
    },
    "language_info": {
      "name": "python"
    }
  },
  "cells": [
    {
      "cell_type": "code",
      "execution_count": null,
      "metadata": {
        "id": "hFD3gFKqbvee"
      },
      "outputs": [],
      "source": [
        "class Solution:\n",
        "    def numDecodings(self, s: str) -> int:\n",
        "\n",
        "        # dp[i] = number of ways at position i\n",
        "        n = len(s)\n",
        "        dp = [0] * (n + 1)\n",
        "        dp[0] = 1\n",
        "\n",
        "        # Time Complexity will be O(n)\n",
        "        # Space Complexity will be O(n)\n",
        "\n",
        "        for idx in range(1, n + 1):\n",
        "            # can convert character into A ~ I\n",
        "            if s[idx - 1] != \"0\":\n",
        "                dp[idx] = dp[idx] + dp[idx - 1]\n",
        "            \n",
        "            # can convert character into J ~ Z\n",
        "            if idx > 1 and s[idx - 2] != \"0\" and int(s[idx - 2 : idx]) <= 26:\n",
        "                dp[idx] = dp[idx] + dp[idx - 2]\n",
        "        \n",
        "        return dp[n]"
      ]
    }
  ]
}