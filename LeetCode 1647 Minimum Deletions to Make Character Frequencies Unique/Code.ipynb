{
  "nbformat": 4,
  "nbformat_minor": 0,
  "metadata": {
    "colab": {
      "name": "Code.ipynb",
      "provenance": [],
      "collapsed_sections": []
    },
    "kernelspec": {
      "name": "python3",
      "display_name": "Python 3"
    },
    "language_info": {
      "name": "python"
    }
  },
  "cells": [
    {
      "cell_type": "code",
      "execution_count": null,
      "metadata": {
        "id": "hFD3gFKqbvee"
      },
      "outputs": [],
      "source": [
        "class Solution:\n",
        "    def minDeletions(self, s: str) -> int:\n",
        "\n",
        "        # we will use dictionary to record frequency of each character\n",
        "        # can use Counter function too\n",
        "        # Space Complexity will be O(n)\n",
        "        freq = collections.defaultdict(int)\n",
        "\n",
        "        for char in s:\n",
        "            if char not in freq:\n",
        "                freq[char] = 1\n",
        "            else:\n",
        "                freq[char] += 1\n",
        "\n",
        "        # use a set to check whether we have that frequent values\n",
        "        seen = set()\n",
        "        ans = 0\n",
        "\n",
        "        for key, val in freq.items():  \n",
        "            cur = val\n",
        "\n",
        "            # whether current value is in set and larger than 0\n",
        "            # check continuously\n",
        "            while cur > 0 and cur in seen:\n",
        "                cur = cur - 1\n",
        "\n",
        "            # calculate total cost\n",
        "            ans = ans + (val - cur)\n",
        "\n",
        "            if cur > 0:\n",
        "                seen.add(cur)\n",
        "\n",
        "        return ans"
      ]
    }
  ]
}