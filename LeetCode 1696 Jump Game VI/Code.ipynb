{
  "nbformat": 4,
  "nbformat_minor": 0,
  "metadata": {
    "colab": {
      "provenance": [],
      "collapsed_sections": []
    },
    "kernelspec": {
      "name": "python3",
      "display_name": "Python 3"
    },
    "language_info": {
      "name": "python"
    }
  },
  "cells": [
    {
      "cell_type": "code",
      "execution_count": null,
      "metadata": {
        "id": "mMOA-ZhSJFOB"
      },
      "outputs": [],
      "source": [
        "class Solution:\n",
        "    def maxResult(self, nums: List[int], k: int) -> int:\n",
        "\n",
        "        n = len(nums)\n",
        "\n",
        "        # base case\n",
        "        if n == 1:\n",
        "            return nums[0]\n",
        "        \n",
        "        # we can use dynamic programming to deal with this problem (TLE)\n",
        "        # dp[i] = largest scores at index i\n",
        "        dp = [float(\"-inf\")] * n\n",
        "        dp[0] = nums[0]\n",
        "\n",
        "        for i in range(1, n):\n",
        "            # j index in front of i index\n",
        "            for j in range(1, k + 1):\n",
        "                if i - j >= 0:\n",
        "                    dp[i] = max(dp[i], nums[i] + dp[i - j])\n",
        "        \n",
        "        return dp[n - 1]\n",
        "\n"
      ]
    }
  ]
}