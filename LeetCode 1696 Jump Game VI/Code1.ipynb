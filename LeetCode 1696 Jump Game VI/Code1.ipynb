{
  "nbformat": 4,
  "nbformat_minor": 0,
  "metadata": {
    "colab": {
      "provenance": [],
      "collapsed_sections": []
    },
    "kernelspec": {
      "name": "python3",
      "display_name": "Python 3"
    },
    "language_info": {
      "name": "python"
    }
  },
  "cells": [
    {
      "cell_type": "code",
      "execution_count": null,
      "metadata": {
        "id": "mMOA-ZhSJFOB"
      },
      "outputs": [],
      "source": [
        "class Solution:\n",
        "    def maxResult(self, nums: List[int], k: int) -> int:\n",
        "\n",
        "        n = len(nums)\n",
        "\n",
        "        # base case\n",
        "        if n == 1:\n",
        "            return nums[0]\n",
        "        \n",
        "        # we can use queue + slide windows to deal with this problem\n",
        "        # queue should follow decreasing order, store largest k elements (before this position)\n",
        "        # dp[i] = largest scores at index i\n",
        "\n",
        "        # Time Complexity will be O(n)\n",
        "        # Space Complexity will be O(k)\n",
        "        dp = [float(\"-inf\")] * n\n",
        "        dp[0] = nums[0]\n",
        "        queue = collections.deque([nums[0]])\n",
        "\n",
        "        for i in range(1, n):\n",
        "            cur_score = queue[0]\n",
        "            dp[i] = nums[i] + cur_score\n",
        "\n",
        "            # if current value is larger than last element in the queue\n",
        "            # remove right element in queue\n",
        "            while queue and dp[i] > queue[-1]:\n",
        "                queue.pop()\n",
        "            \n",
        "            queue.append(dp[i])\n",
        "\n",
        "            if i >= k and dp[i - k] == queue[0]:\n",
        "                queue.popleft()\n",
        "\n",
        "        return dp[n - 1]        "
      ]
    }
  ]
}