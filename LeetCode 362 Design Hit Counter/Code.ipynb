{
  "nbformat": 4,
  "nbformat_minor": 0,
  "metadata": {
    "colab": {
      "provenance": []
    },
    "kernelspec": {
      "name": "python3",
      "display_name": "Python 3"
    },
    "language_info": {
      "name": "python"
    }
  },
  "cells": [
    {
      "cell_type": "code",
      "execution_count": null,
      "metadata": {
        "id": "mMOA-ZhSJFOB"
      },
      "outputs": [],
      "source": [
        "class HitCounter:\n",
        "\n",
        "    def __init__(self):\n",
        "        self.HitCounter = []\n",
        "        heapq.heapify(self.HitCounter)\n",
        "        self.cntHit = 0 # count how many hits at the current moment\n",
        "\n",
        "    def hit(self, timestamp: int) -> None:\n",
        "\n",
        "        heapq.heappush(self.HitCounter, timestamp)\n",
        "        self.cntHit += 1\n",
        "\n",
        "    def getHits(self, timestamp: int) -> int:\n",
        "\n",
        "        limit = timestamp - 300\n",
        "        t = 0\n",
        "\n",
        "        while self.HitCounter and self.HitCounter[0] <= limit:\n",
        "            heapq.heappop(self.HitCounter)\n",
        "            t += 1\n",
        "        \n",
        "        ans = self.cntHit - t\n",
        "        self.cntHit = ans # update the self.cntHit \n",
        "\n",
        "        return ans\n",
        "\n",
        "# Your HitCounter object will be instantiated and called as such:\n",
        "# obj = HitCounter()\n",
        "# obj.hit(timestamp)\n",
        "# param_2 = obj.getHits(timestamp)"
      ]
    }
  ]
}