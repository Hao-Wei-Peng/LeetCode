{
  "nbformat": 4,
  "nbformat_minor": 0,
  "metadata": {
    "colab": {
      "provenance": [],
      "collapsed_sections": []
    },
    "kernelspec": {
      "name": "python3",
      "display_name": "Python 3"
    },
    "language_info": {
      "name": "python"
    }
  },
  "cells": [
    {
      "cell_type": "code",
      "execution_count": null,
      "metadata": {
        "id": "mMOA-ZhSJFOB"
      },
      "outputs": [],
      "source": [
        "class Solution:\n",
        "    def longestPalindrome(self, s: str) -> int:\n",
        "\n",
        "        # base case\n",
        "        if not s:\n",
        "            return 0\n",
        "\n",
        "        # Time Complexity will be O(n)\n",
        "        # Space Complexity will be O(n)\n",
        "        Count = collections.defaultdict(int)\n",
        "\n",
        "        for char in s:\n",
        "            Count[char] = 1 + Count.get(char, 0)\n",
        "        \n",
        "        ans, odd = 0, 0\n",
        "\n",
        "        for val in Count.values():\n",
        "            residual = val % 2\n",
        "            ans += val - residual\n",
        "            if residual: odd = 1\n",
        "\n",
        "        return ans + odd\n"
      ]
    }
  ]
}