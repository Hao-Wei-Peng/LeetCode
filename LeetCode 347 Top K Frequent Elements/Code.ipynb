{
  "nbformat": 4,
  "nbformat_minor": 0,
  "metadata": {
    "colab": {
      "name": "Code.ipynb",
      "provenance": [],
      "collapsed_sections": []
    },
    "kernelspec": {
      "name": "python3",
      "display_name": "Python 3"
    },
    "language_info": {
      "name": "python"
    }
  },
  "cells": [
    {
      "cell_type": "code",
      "execution_count": null,
      "metadata": {
        "id": "hFD3gFKqbvee"
      },
      "outputs": [],
      "source": [
        "class Solution:\n",
        "    def topKFrequent(self, nums: List[int], k: int) -> List[int]:\n",
        "\n",
        "        n = len(nums)\n",
        "\n",
        "        # Out algorithm should better than O(nlogn)\n",
        "        # we will use priority queue to deal with this problem (min heap)\n",
        "        # if we use max heap, every step we will pop max frequency out of queue\n",
        "\n",
        "        # Space Complexity will be O(n)\n",
        "        fre_dict = collections.defaultdict(int)\n",
        "\n",
        "        # record frequency of each word\n",
        "        for num in nums:\n",
        "            if num in fre_dict:\n",
        "                fre_dict[num] += 1\n",
        "            else:\n",
        "                fre_dict[num] = 1\n",
        "        \n",
        "        # min heap\n",
        "        prior_queue = []\n",
        "\n",
        "        # Time Complexity will be O(nlogk)\n",
        "        # fix size = k, iterate each elements (frequency)\n",
        "        for key, fre in fre_dict.items():\n",
        "            heapq.heappush(prior_queue, (fre, key))\n",
        "\n",
        "            # ensure we only contain k elements in prior_queue\n",
        "            if len(prior_queue) > k:\n",
        "                heapq.heappop(prior_queue)\n",
        "        \n",
        "        ans = [0] * k\n",
        "\n",
        "        # reverse elements with top k frequency\n",
        "        for i in range(0, k):\n",
        "            ans[i] = heapq.heappop(prior_queue)[1]\n",
        "        \n",
        "        return ans"
      ]
    }
  ]
}