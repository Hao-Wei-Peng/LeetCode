{
  "nbformat": 4,
  "nbformat_minor": 0,
  "metadata": {
    "colab": {
      "provenance": []
    },
    "kernelspec": {
      "name": "python3",
      "display_name": "Python 3"
    },
    "language_info": {
      "name": "python"
    }
  },
  "cells": [
    {
      "cell_type": "code",
      "execution_count": null,
      "metadata": {
        "id": "mMOA-ZhSJFOB"
      },
      "outputs": [],
      "source": [
        "# Definition for a binary tree node.\n",
        "# class TreeNode:\n",
        "#     def __init__(self, val=0, left=None, right=None):\n",
        "#         self.val = val\n",
        "#         self.left = left\n",
        "#         self.right = right\n",
        "class Solution:\n",
        "    def __init__(self):\n",
        "        self.ans = []\n",
        "\n",
        "    def delNodes(self, root: Optional[TreeNode], to_delete: List[int]) -> List[TreeNode]:\n",
        "\n",
        "        # base case\n",
        "        # Time Complexity will be O(n)\n",
        "        # Space Complexity will be O(n + h)\n",
        "        if not root:\n",
        "            return self.ans\n",
        "        \n",
        "        remain_root = self.DFS(root, to_delete)\n",
        "        \n",
        "        if remain_root:\n",
        "            self.ans.insert(0, remain_root)\n",
        "        \n",
        "        return self.ans\n",
        "    \n",
        "    def DFS(self, root, to_delete):\n",
        "\n",
        "        # base case\n",
        "        if not root:\n",
        "            return None\n",
        "\n",
        "        root.left = self.DFS(root.left, to_delete)\n",
        "        root.right = self.DFS(root.right, to_delete)\n",
        "\n",
        "        if root.val in to_delete:\n",
        "            # check whether delete node have left and right child\n",
        "            if root.left:\n",
        "                self.ans.append(root.left)\n",
        "            \n",
        "            if root.right:\n",
        "                self.ans.append(root.right)\n",
        "\n",
        "            return None\n",
        "        else:\n",
        "            return root\n"
      ]
    }
  ]
}