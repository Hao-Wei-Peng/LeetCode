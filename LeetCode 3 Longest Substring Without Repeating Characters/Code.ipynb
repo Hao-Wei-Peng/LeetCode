{
  "nbformat": 4,
  "nbformat_minor": 0,
  "metadata": {
    "colab": {
      "name": "Code.ipynb",
      "provenance": [],
      "collapsed_sections": []
    },
    "kernelspec": {
      "name": "python3",
      "display_name": "Python 3"
    },
    "language_info": {
      "name": "python"
    }
  },
  "cells": [
    {
      "cell_type": "code",
      "execution_count": null,
      "metadata": {
        "id": "hFD3gFKqbvee"
      },
      "outputs": [],
      "source": [
        "class Solution:\n",
        "    def lengthOfLongestSubstring(self, s: str) -> int:\n",
        "\n",
        "        # longest substring (continuous) without repeating characters\n",
        "        n = len(s)\n",
        "\n",
        "        # edge case\n",
        "        if not s:\n",
        "            return 0\n",
        "\n",
        "        # conditions:\n",
        "        # if current character not in set, move right pointer to next position\n",
        "        # if current character in set, move left pointer to next position\n",
        "        left, right = 0, 0\n",
        "        max_len = float(\"-inf\")\n",
        "        visited = set()\n",
        "\n",
        "        # Time Complexity will be O(n)\n",
        "        # Space Complexity will be O(n)\n",
        "        while right < n:\n",
        "            \n",
        "            cur_char = s[right]\n",
        "\n",
        "            while cur_char in visited: \n",
        "                pre_char = s[left]\n",
        "                visited.remove(pre_char)           \n",
        "                left = left + 1\n",
        "            \n",
        "            max_len = max(max_len, right - left + 1)\n",
        "            visited.add(cur_char)\n",
        "            right = right + 1\n",
        "        \n",
        "        return max_len\n"
      ]
    }
  ]
}