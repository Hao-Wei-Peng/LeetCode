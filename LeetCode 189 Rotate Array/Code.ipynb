{
  "nbformat": 4,
  "nbformat_minor": 0,
  "metadata": {
    "colab": {
      "provenance": []
    },
    "kernelspec": {
      "name": "python3",
      "display_name": "Python 3"
    },
    "language_info": {
      "name": "python"
    }
  },
  "cells": [
    {
      "cell_type": "code",
      "execution_count": null,
      "metadata": {
        "id": "mMOA-ZhSJFOB"
      },
      "outputs": [],
      "source": [
        "class Solution:\n",
        "    def rotate(self, nums: List[int], k: int) -> None:\n",
        "        \"\"\"\n",
        "        Do not return anything, modify nums in-place instead.\n",
        "        \"\"\"\n",
        "        # we can use two pointers to deal with this problem\n",
        "        # Time Complexity will be O(n)\n",
        "        # Space Complexity will be O(1)\n",
        "\n",
        "        # 1234 | 567\n",
        "        # step 1: 4321 # reverse first part\n",
        "        # step 2: 765 # reverse second part\n",
        "        # step 3: 5671234 # reverse whole list\n",
        "        n = len(nums)\n",
        "        k = k % n\n",
        "        self.RotateCurrent(nums, 0, n - k - 1) # 7 - 3 - 1 = 3\n",
        "        self.RotateCurrent(nums, n - k, n - 1)\n",
        "        self.RotateCurrent(nums, 0, n - 1)\n",
        "\n",
        "    def RotateCurrent(self, nums, L, R):\n",
        "\n",
        "        while L < R:\n",
        "            nums[L], nums[R] = nums[R], nums[L]\n",
        "            L += 1\n",
        "            R -= 1"
      ]
    }
  ]
}