{
  "nbformat": 4,
  "nbformat_minor": 0,
  "metadata": {
    "colab": {
      "provenance": [],
      "collapsed_sections": []
    },
    "kernelspec": {
      "name": "python3",
      "display_name": "Python 3"
    },
    "language_info": {
      "name": "python"
    }
  },
  "cells": [
    {
      "cell_type": "code",
      "execution_count": null,
      "metadata": {
        "id": "hFD3gFKqbvee"
      },
      "outputs": [],
      "source": [
        "class Solution:\n",
        "    def findNumberOfLIS(self, nums: List[int]) -> int:\n",
        "        \n",
        "        # we can use dynamic programming to deal with this problem\n",
        "        # dp[i] = longest subsequence at the end of nums[i]\n",
        "\n",
        "        size = len(nums)\n",
        "\n",
        "        # base case\n",
        "        if size < 2:\n",
        "            return size\n",
        "        \n",
        "        dp = [1] * size\n",
        "        count = [1] * size\n",
        "        MaxLen = 0\n",
        "\n",
        "        # Time Complexity will be O(n^2)\n",
        "        # Space Complexity will be O(n)\n",
        "        for i in range(1, size):\n",
        "            for j in range(0, i):\n",
        "                if nums[j] < nums[i]:\n",
        "                    if dp[j] + 1 > dp[i]:\n",
        "                        dp[i] = dp[j] + 1\n",
        "                        count[i] = count[j]\n",
        "\n",
        "                    elif dp[j] + 1 == dp[i]:\n",
        "                        count[i] = count[i] + count[j]\n",
        "                \n",
        "            MaxLen = max(MaxLen, dp[i])\n",
        "        \n",
        "        ans = 0\n",
        "\n",
        "        for i in range(size):\n",
        "            if dp[i] == MaxLen:\n",
        "                ans = ans + count[i]\n",
        "        return ans"
      ]
    }
  ]
}