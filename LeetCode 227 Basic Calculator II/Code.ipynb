{
  "nbformat": 4,
  "nbformat_minor": 0,
  "metadata": {
    "colab": {
      "provenance": [],
      "collapsed_sections": []
    },
    "kernelspec": {
      "name": "python3",
      "display_name": "Python 3"
    },
    "language_info": {
      "name": "python"
    }
  },
  "cells": [
    {
      "cell_type": "code",
      "execution_count": null,
      "metadata": {
        "id": "mMOA-ZhSJFOB"
      },
      "outputs": [],
      "source": [
        "class Solution:\n",
        "    def calculate(self, s: str) -> int:\n",
        "        \n",
        "        # base case\n",
        "        if not s:\n",
        "            return 0\n",
        "\n",
        "        n = len(s)       \n",
        "        stack = []\n",
        "        # do multiply, divide at first\n",
        "        # do add, minus at next\n",
        "        num, sign = 0, \"+\"\n",
        "        symbol = [\"+\", \"-\", \"*\", \"/\"]\n",
        "        \n",
        "        # Time Complexity will be O(n)\n",
        "        # Space Complexity will be O(n)\n",
        "        for i in range(0, n):\n",
        "            char = s[i]\n",
        "\n",
        "            # check whether current character is number or not\n",
        "            # if we have value \"23\" -> it will be divided into \"2\" and \"3\"\n",
        "            # therefore, we need to check repeatedly\n",
        "            if char.isdigit():\n",
        "                num = num * 10 + int(char)\n",
        "            \n",
        "            if char in symbol or i == n - 1:\n",
        "                if sign == \"+\":\n",
        "                    stack.append(num)\n",
        "\n",
        "                elif sign == \"-\":\n",
        "                    stack.append(-num)\n",
        "                \n",
        "                elif sign == \"*\":\n",
        "                    in_val = stack.pop()\n",
        "                    stack.append(in_val * num)\n",
        "                \n",
        "                else:\n",
        "                    in_val = stack.pop()\n",
        "                    stack.append(int(in_val / num))\n",
        "                \n",
        "                num = 0\n",
        "                sign = char\n",
        "\n",
        "        return sum(stack)\n"
      ]
    }
  ]
}