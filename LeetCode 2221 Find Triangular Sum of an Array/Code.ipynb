{
  "nbformat": 4,
  "nbformat_minor": 0,
  "metadata": {
    "colab": {
      "provenance": []
    },
    "kernelspec": {
      "name": "python3",
      "display_name": "Python 3"
    },
    "language_info": {
      "name": "python"
    }
  },
  "cells": [
    {
      "cell_type": "code",
      "execution_count": null,
      "metadata": {
        "id": "mMOA-ZhSJFOB"
      },
      "outputs": [],
      "source": [
        "class Solution:\n",
        "    def triangularSum(self, nums: List[int]) -> int:\n",
        "\n",
        "        # base case\n",
        "        if not nums:\n",
        "            return 0\n",
        "        \n",
        "        while len(nums) > 1:\n",
        "            current = []\n",
        "\n",
        "            for i in range(0, len(nums) - 1):\n",
        "                curnum = (nums[i] + nums[i + 1]) % 10\n",
        "                current.append(curnum)\n",
        "            \n",
        "            nums = current\n",
        "        \n",
        "        return nums[0]"
      ]
    }
  ]
}