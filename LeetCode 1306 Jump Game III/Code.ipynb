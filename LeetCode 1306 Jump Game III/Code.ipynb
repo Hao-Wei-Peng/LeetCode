{
  "nbformat": 4,
  "nbformat_minor": 0,
  "metadata": {
    "colab": {
      "provenance": [],
      "collapsed_sections": []
    },
    "kernelspec": {
      "name": "python3",
      "display_name": "Python 3"
    },
    "language_info": {
      "name": "python"
    }
  },
  "cells": [
    {
      "cell_type": "code",
      "execution_count": null,
      "metadata": {
        "id": "mMOA-ZhSJFOB"
      },
      "outputs": [],
      "source": [
        "class Solution:\n",
        "    def canReach(self, arr: List[int], start: int) -> bool:\n",
        "\n",
        "        # non-negative integer\n",
        "        n = len(arr)\n",
        "\n",
        "        # base case (0 not in array or start position is 0)\n",
        "        if 0 not in arr:\n",
        "            return False\n",
        "        \n",
        "        if arr[start] == 0:\n",
        "            return True\n",
        "        \n",
        "        # we can use BFS to deal with this problem\n",
        "        # because the problem can jump two directions, therefore, we cannot use dp to deal with this problem\n",
        "        visited = set()\n",
        "        queue = collections.deque([start])\n",
        "        visited.add(start)\n",
        "\n",
        "        while queue:\n",
        "            cur = queue.popleft()\n",
        "\n",
        "            for ReachIdx in [cur - arr[cur], cur + arr[cur]]:\n",
        "                if 0 <= ReachIdx < n and ReachIdx not in visited:\n",
        "                    if arr[ReachIdx] == 0:\n",
        "                        return True\n",
        "\n",
        "                    visited.add(ReachIdx)\n",
        "                    queue.append(ReachIdx)\n",
        "\n",
        "        return False"
      ]
    }
  ]
}