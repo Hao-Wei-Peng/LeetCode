{
  "nbformat": 4,
  "nbformat_minor": 0,
  "metadata": {
    "colab": {
      "name": "Code.ipynb",
      "provenance": [],
      "collapsed_sections": []
    },
    "kernelspec": {
      "name": "python3",
      "display_name": "Python 3"
    },
    "language_info": {
      "name": "python"
    }
  },
  "cells": [
    {
      "cell_type": "code",
      "execution_count": null,
      "metadata": {
        "id": "hFD3gFKqbvee"
      },
      "outputs": [],
      "source": [
        "class Solution:\n",
        "    def isHappy(self, n: int) -> bool:\n",
        "        \n",
        "        # we will use divide computation to obtain \n",
        "        # unit digits and ten digits\n",
        "        def computation(nums):\n",
        "            \n",
        "            total = 0\n",
        "\n",
        "            while nums:\n",
        "                # compute unit digit continuously\n",
        "                unit = (nums % 10)**2\n",
        "                total += unit\n",
        "                nums = nums // 10\n",
        "\n",
        "            return total\n",
        "\n",
        "        appear = set()\n",
        "        \n",
        "        while True:\n",
        "\n",
        "            n = computation(n)\n",
        "\n",
        "            # happy number condition\n",
        "            if n == 1:\n",
        "                return True\n",
        "\n",
        "            if n in appear:\n",
        "                return False\n",
        "\n",
        "            else:\n",
        "                appear.add(n)\n"
      ]
    }
  ]
}