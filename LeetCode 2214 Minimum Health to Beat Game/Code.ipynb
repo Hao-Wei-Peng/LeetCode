{
  "nbformat": 4,
  "nbformat_minor": 0,
  "metadata": {
    "colab": {
      "provenance": []
    },
    "kernelspec": {
      "name": "python3",
      "display_name": "Python 3"
    },
    "language_info": {
      "name": "python"
    }
  },
  "cells": [
    {
      "cell_type": "code",
      "execution_count": null,
      "metadata": {
        "id": "mMOA-ZhSJFOB"
      },
      "outputs": [],
      "source": [
        "class Solution:\n",
        "    def minimumHealth(self, Damage: List[int], Armor: int) -> int:\n",
        "\n",
        "        # n levels -> 0 ~ n - 1\n",
        "        # we can use greedy conception to deal with this problem\n",
        "        # Time Complexity will be O(n)\n",
        "        # Space Complexity will be O(1)\n",
        "\n",
        "        total = sum(Damage)\n",
        "        MaxDamage = max(Damage)\n",
        "        Health = total - min(MaxDamage, Armor) + 1\n",
        "        \n",
        "        return Health\n"
      ]
    }
  ]
}