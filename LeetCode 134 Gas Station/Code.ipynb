{
  "nbformat": 4,
  "nbformat_minor": 0,
  "metadata": {
    "colab": {
      "provenance": [],
      "collapsed_sections": []
    },
    "kernelspec": {
      "name": "python3",
      "display_name": "Python 3"
    },
    "language_info": {
      "name": "python"
    }
  },
  "cells": [
    {
      "cell_type": "code",
      "execution_count": null,
      "metadata": {
        "id": "mMOA-ZhSJFOB"
      },
      "outputs": [],
      "source": [
        "class Solution:\n",
        "    def canCompleteCircuit(self, gas: List[int], cost: List[int]) -> int:\n",
        "\n",
        "        # base case\n",
        "        if sum(gas) < sum(cost):\n",
        "            return -1\n",
        "\n",
        "        # use subtract (diff) to obtain a array\n",
        "        # use total variable to check which positions could be start\n",
        "        # unique solution\n",
        "        total = 0\n",
        "        ans = 0\n",
        "        n = len(gas)\n",
        "\n",
        "        # Time Complexity will be O(n)\n",
        "        for i in range(0, n):\n",
        "            diff = gas[i] - cost[i]\n",
        "            total += diff\n",
        "\n",
        "            # smaller than 0, this position not work\n",
        "            if total < 0:\n",
        "                total = 0\n",
        "                # move to next position\n",
        "                ans = i + 1\n",
        "        \n",
        "        return ans"
      ]
    }
  ]
}