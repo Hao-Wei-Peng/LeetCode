{
  "nbformat": 4,
  "nbformat_minor": 0,
  "metadata": {
    "colab": {
      "name": "Code.ipynb",
      "provenance": [],
      "collapsed_sections": []
    },
    "kernelspec": {
      "name": "python3",
      "display_name": "Python 3"
    },
    "language_info": {
      "name": "python"
    }
  },
  "cells": [
    {
      "cell_type": "code",
      "execution_count": null,
      "metadata": {
        "id": "hFD3gFKqbvee"
      },
      "outputs": [],
      "source": [
        "\"\"\"\n",
        "# Definition for a Node.\n",
        "class Node:\n",
        "    def __init__(self, val=None, children=None):\n",
        "        self.val = val\n",
        "        self.children = children\n",
        "\"\"\"\n",
        "\n",
        "class Solution:\n",
        "    def maxDepth(self, root: 'Node') -> int:\n",
        "\n",
        "        # edge case\n",
        "        if not root:\n",
        "            return 0\n",
        "        \n",
        "        # Time Complexity will be O(n)\n",
        "        # Space Complexity will be O(n)\n",
        "        # n = tree nodes\n",
        "        queue = collections.deque([(root, 1)])\n",
        "        MaxDepth = float(\"-inf\")\n",
        "\n",
        "        while queue:\n",
        "            LenQ = len(queue)\n",
        "\n",
        "            for i in range(0, LenQ):\n",
        "                cur_node, cur_val = queue.popleft()\n",
        "                MaxDepth = max(MaxDepth, cur_val)\n",
        "\n",
        "                if cur_node.children:\n",
        "\n",
        "                    for child in cur_node.children:\n",
        "                        queue.append((child, cur_val + 1))\n",
        "        \n",
        "        return MaxDepth"
      ]
    }
  ]
}