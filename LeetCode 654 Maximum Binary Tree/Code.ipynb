{
  "nbformat": 4,
  "nbformat_minor": 0,
  "metadata": {
    "colab": {
      "name": "Code.ipynb",
      "provenance": [],
      "collapsed_sections": []
    },
    "kernelspec": {
      "name": "python3",
      "display_name": "Python 3"
    },
    "language_info": {
      "name": "python"
    }
  },
  "cells": [
    {
      "cell_type": "code",
      "execution_count": null,
      "metadata": {
        "id": "hFD3gFKqbvee"
      },
      "outputs": [],
      "source": [
        "# Definition for a binary tree node.\n",
        "# class TreeNode:\n",
        "#     def __init__(self, val=0, left=None, right=None):\n",
        "#         self.val = val\n",
        "#         self.left = left\n",
        "#         self.right = right\n",
        "\n",
        "\n",
        "class Solution:\n",
        "    def constructMaximumBinaryTree(self, nums: List[int]) -> Optional[TreeNode]:\n",
        "\n",
        "        # edge case\n",
        "        if not nums:\n",
        "            return None\n",
        "\n",
        "        # Time Complexity will be O(n)\n",
        "        # Space Complexity will be O(1)\n",
        "        # n = tree nodes\n",
        "        max_val = max(nums)\n",
        "        root = TreeNode(max_val)\n",
        "        \n",
        "        idx = nums.index(max_val)\n",
        "        root.left = self.constructMaximumBinaryTree(nums[0 : idx])\n",
        "        root.right = self.constructMaximumBinaryTree(nums[idx + 1 : ])\n",
        "\n",
        "        return root"
      ]
    }
  ]
}