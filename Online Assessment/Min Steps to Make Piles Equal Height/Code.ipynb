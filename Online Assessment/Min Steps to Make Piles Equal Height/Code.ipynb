{
  "nbformat": 4,
  "nbformat_minor": 0,
  "metadata": {
    "colab": {
      "name": "Code.ipynb",
      "provenance": [],
      "collapsed_sections": []
    },
    "kernelspec": {
      "name": "python3",
      "display_name": "Python 3"
    },
    "language_info": {
      "name": "python"
    }
  },
  "cells": [
    {
      "cell_type": "code",
      "execution_count": 5,
      "metadata": {
        "id": "hFD3gFKqbvee"
      },
      "outputs": [],
      "source": [
        "from typing import List\n",
        "\n",
        "def minStepsBalance(piles: List[int]) -> int:\n",
        "  # we will use sort method to make sure list values follow \n",
        "  # larger from smaller (we always want to select maximum value)\n",
        "  # Time Complexity will be O(nlogn)\n",
        "  # Space Complexity will be O(1)\n",
        "\n",
        "  n = len(piles)\n",
        "\n",
        "  # edge case\n",
        "  if n < 2:\n",
        "    return 0\n",
        "  \n",
        "  # sort list (larger to smaller)\n",
        "  piles = sorted(piles, reverse = True)\n",
        "\n",
        "  step = 0\n",
        "\n",
        "  for i in range(1, n):\n",
        "    if piles[i] != piles[i - 1]:\n",
        "      step = step + i\n",
        "    else:\n",
        "      step = step + 0\n",
        "  \n",
        "  return step\n",
        "\n",
        "if __name__ == \"__main__\":\n",
        "  print(minStepsBalance([50]) == 0)\n",
        "  print(minStepsBalance([10, 10]) == 0)\n",
        "  print(minStepsBalance([5, 2, 1]) == 3)\n",
        "  print(minStepsBalance([4, 2, 1]) == 3)\n",
        "  print(minStepsBalance([4, 5, 5, 4, 2]) == 6)\n",
        "  print(minStepsBalance([4, 8, 16, 32]) == 6)\n",
        "  print(minStepsBalance([4, 8, 8]) == 2)\n",
        "  print(minStepsBalance([4, 4, 8, 8]) == 2)\n",
        "  print(minStepsBalance([1, 2, 2, 3, 3, 4]) == 9)\n",
        "  print(minStepsBalance([1, 1, 2, 2, 2, 3, 3, 3, 4, 4]) == 15)"
      ]
    }
  ]
}