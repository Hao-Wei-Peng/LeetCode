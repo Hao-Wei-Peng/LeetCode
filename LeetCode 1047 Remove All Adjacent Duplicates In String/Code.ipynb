{
  "nbformat": 4,
  "nbformat_minor": 0,
  "metadata": {
    "colab": {
      "name": "Code.ipynb",
      "provenance": [],
      "collapsed_sections": []
    },
    "kernelspec": {
      "name": "python3",
      "display_name": "Python 3"
    },
    "language_info": {
      "name": "python"
    }
  },
  "cells": [
    {
      "cell_type": "code",
      "execution_count": null,
      "metadata": {
        "id": "hFD3gFKqbvee"
      },
      "outputs": [],
      "source": [
        "class Solution:\n",
        "    def removeDuplicates(self, s: str) -> str:\n",
        "\n",
        "        # Goal: duplicate removals (adjacent and equal letters)\n",
        "        ans = []\n",
        "\n",
        "        # Time Complexity will be O(n)\n",
        "        # Space Complexity will be O(n)\n",
        "        for lowercase in s:\n",
        "            if ans and ans[-1] == lowercase:\n",
        "                ans.pop()\n",
        "            else:\n",
        "                ans.append(lowercase)\n",
        "        \n",
        "        return \"\".join(ans)"
      ]
    }
  ]
}