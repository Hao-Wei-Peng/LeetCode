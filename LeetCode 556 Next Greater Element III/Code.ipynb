{
  "nbformat": 4,
  "nbformat_minor": 0,
  "metadata": {
    "colab": {
      "provenance": []
    },
    "kernelspec": {
      "name": "python3",
      "display_name": "Python 3"
    },
    "language_info": {
      "name": "python"
    }
  },
  "cells": [
    {
      "cell_type": "code",
      "execution_count": null,
      "metadata": {
        "id": "mMOA-ZhSJFOB"
      },
      "outputs": [],
      "source": [
        "class Solution:\n",
        "    def nextGreaterElement(self, n: int) -> int:\n",
        "\n",
        "        nums = list(str(n))\n",
        "        n = len(nums)\n",
        "\n",
        "        # find the first element not follow decreasing order behind the list\n",
        "        # 1234 | 9865\n",
        "        #        i\n",
        "        i = n - 1\n",
        "\n",
        "        while i - 1 >= 0 and nums[i - 1] >= nums[i]:\n",
        "            i -= 1\n",
        "        \n",
        "        # base case\n",
        "        if i == 0: \n",
        "            return -1\n",
        "        \n",
        "        else:\n",
        "            j = i \n",
        "\n",
        "            while j < n and nums[i - 1] < nums[j]:\n",
        "                j += 1\n",
        "            \n",
        "            j -= 1\n",
        "            nums[i - 1], nums[j] = nums[j], nums[i - 1]\n",
        "            nums[i : ] = sorted(nums[i : ])\n",
        "            ans = int(\"\".join(nums))\n",
        "\n",
        "            return -1 if ans > 2**31 - 1 else ans \n",
        "            \n"
      ]
    }
  ]
}