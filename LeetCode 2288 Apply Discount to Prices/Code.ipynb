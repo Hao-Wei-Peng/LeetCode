{
  "nbformat": 4,
  "nbformat_minor": 0,
  "metadata": {
    "colab": {
      "provenance": []
    },
    "kernelspec": {
      "name": "python3",
      "display_name": "Python 3"
    },
    "language_info": {
      "name": "python"
    }
  },
  "cells": [
    {
      "cell_type": "code",
      "execution_count": null,
      "metadata": {
        "id": "mMOA-ZhSJFOB"
      },
      "outputs": [],
      "source": [
        "class Solution:\n",
        "    def discountPrices(self, sentence: str, discount: int) -> str:\n",
        "\n",
        "        # base case\n",
        "        if not sentence:\n",
        "            return sentence\n",
        "        \n",
        "        # Time Complexity will be O(n)\n",
        "        # Space Complexity will be O(n)\n",
        "        # use string to deal with this problem\n",
        "        # there, are, $1, $2..., the, shop\n",
        "        SenTence = list(sentence.split(\" \"))\n",
        "\n",
        "        for idx, word in enumerate(SenTence):\n",
        "            # check whether the current word is a price\n",
        "            if word[0] == \"$\" and word[1 : ].isdigit():\n",
        "                price = float(word[1 : ]) * (100 - discount) / 100\n",
        "                price = \"%0.2f\" % price\n",
        "                SenTence[idx] = \"$\" + str(price)\n",
        "        return \" \".join(SenTence)\n"
      ]
    }
  ]
}