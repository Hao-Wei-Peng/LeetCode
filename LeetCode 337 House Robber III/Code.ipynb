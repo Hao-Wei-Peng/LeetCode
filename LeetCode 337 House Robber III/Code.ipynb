{
  "nbformat": 4,
  "nbformat_minor": 0,
  "metadata": {
    "colab": {
      "provenance": [],
      "collapsed_sections": []
    },
    "kernelspec": {
      "name": "python3",
      "display_name": "Python 3"
    },
    "language_info": {
      "name": "python"
    }
  },
  "cells": [
    {
      "cell_type": "code",
      "execution_count": null,
      "metadata": {
        "id": "hFD3gFKqbvee"
      },
      "outputs": [],
      "source": [
        "# Definition for a binary tree node.\n",
        "# class TreeNode:\n",
        "#     def __init__(self, val=0, left=None, right=None):\n",
        "#         self.val = val\n",
        "#         self.left = left\n",
        "#         self.right = right\n",
        "class Solution:\n",
        "    def rob(self, root: TreeNode) -> int:\n",
        "\n",
        "        # adjacent nodes cannot be robbed, therefore, \n",
        "        # we can follow same rules as 198, 213\n",
        "        dp = self.traversal(root)\n",
        "        return max(dp)\n",
        "\n",
        "    # we need to use postorder + dp to deal with this problem\n",
        "    # left, right, mid\n",
        "    def traversal(self, root):\n",
        "\n",
        "        # base case\n",
        "        if not root:\n",
        "            return (0, 0)\n",
        "        \n",
        "        left = self.traversal(root.left)\n",
        "        right = self.traversal(root.right)\n",
        "        \n",
        "        # not rob parent node, rob child nodes\n",
        "        val0 = max(left[0], left[1]) + max(right[0], right[1])\n",
        "\n",
        "        # rob parent node, not rob child nodes\n",
        "        val1 = root.val + left[0] + right[0]\n",
        "\n",
        "        return (val0, val1)"
      ]
    }
  ]
}