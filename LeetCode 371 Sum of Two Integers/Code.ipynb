{
  "nbformat": 4,
  "nbformat_minor": 0,
  "metadata": {
    "colab": {
      "provenance": [],
      "collapsed_sections": []
    },
    "kernelspec": {
      "name": "python3",
      "display_name": "Python 3"
    },
    "language_info": {
      "name": "python"
    }
  },
  "cells": [
    {
      "cell_type": "code",
      "execution_count": null,
      "metadata": {
        "id": "hFD3gFKqbvee"
      },
      "outputs": [],
      "source": [
        "class Solution:\n",
        "    def getSum(self, a: int, b: int) -> int:\n",
        "\n",
        "        # we can't use + or - operators\n",
        "        # a, b can be negative numbers\n",
        "\n",
        "        # we can use xor, and operation to deal with this problem\n",
        "        # we can use xor to compute value\n",
        "        # we can use and to compute carry (need shift left one position)\n",
        "\n",
        "        # maximum positive integer\n",
        "        mask = 0xffffffff\n",
        "\n",
        "        while b != 0:\n",
        "            carry = (a & b) << 1\n",
        "            xor = (a ^ b)\n",
        "\n",
        "            # ensure we are in 2^32 bits\n",
        "            a = xor & mask\n",
        "            b = carry & mask\n",
        "        \n",
        "        if a > mask // 2:\n",
        "            return ~(a ^ mask)\n",
        "        \n",
        "        else:\n",
        "            return a\n"
      ]
    }
  ]
}