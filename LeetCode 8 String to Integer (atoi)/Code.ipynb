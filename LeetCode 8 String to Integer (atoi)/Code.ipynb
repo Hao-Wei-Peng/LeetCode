{
  "nbformat": 4,
  "nbformat_minor": 0,
  "metadata": {
    "colab": {
      "provenance": [],
      "collapsed_sections": []
    },
    "kernelspec": {
      "name": "python3",
      "display_name": "Python 3"
    },
    "language_info": {
      "name": "python"
    }
  },
  "cells": [
    {
      "cell_type": "code",
      "execution_count": null,
      "metadata": {
        "id": "mMOA-ZhSJFOB"
      },
      "outputs": [],
      "source": [
        "class Solution:\n",
        "    def myAtoi(self, s: str) -> int:\n",
        "\n",
        "        # ignore any leading whitespace\n",
        "        # -, + two symboles\n",
        "        # ignore any leading or tailing zeros\n",
        "        # results should in bounded [-2**31, 2**31 - 1], \n",
        "        # otherwise, return -2**31 or 2**31 - 1\n",
        "\n",
        "        INT_MIN, INT_MAX = -2**31, 2**31 - 1\n",
        "        # remove whitespace\n",
        "        s = s.strip()\n",
        "\n",
        "        # base case\n",
        "        if not s:\n",
        "            return 0\n",
        "        \n",
        "        i, sign = 0, 1\n",
        "        ans = 0\n",
        "        n = len(s)\n",
        "\n",
        "        if s[0] in \"+-\":\n",
        "            sign = 1 if s[0] == \"+\" else -1\n",
        "            i += 1\n",
        "        \n",
        "        while i < n:\n",
        "            num = s[i]\n",
        "\n",
        "            if not num.isdigit():\n",
        "                break\n",
        "            \n",
        "            ans = ans * 10 + int(num)\n",
        "\n",
        "            if not INT_MIN <= sign * ans <= INT_MAX:\n",
        "                return INT_MIN if sign * ans < INT_MIN else INT_MAX\n",
        "\n",
        "            i += 1\n",
        "\n",
        "        return sign * ans\n"
      ]
    }
  ]
}