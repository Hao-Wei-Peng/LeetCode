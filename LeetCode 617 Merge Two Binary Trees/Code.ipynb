{
  "nbformat": 4,
  "nbformat_minor": 0,
  "metadata": {
    "colab": {
      "name": "Code.ipynb",
      "provenance": [],
      "collapsed_sections": []
    },
    "kernelspec": {
      "name": "python3",
      "display_name": "Python 3"
    },
    "language_info": {
      "name": "python"
    }
  },
  "cells": [
    {
      "cell_type": "code",
      "execution_count": null,
      "metadata": {
        "id": "hFD3gFKqbvee"
      },
      "outputs": [],
      "source": [
        "# Definition for a binary tree node.\n",
        "# class TreeNode:\n",
        "#     def __init__(self, val=0, left=None, right=None):\n",
        "#         self.val = val\n",
        "#         self.left = left\n",
        "#         self.right = right\n",
        "class Solution:\n",
        "    def mergeTrees(self, root1: Optional[TreeNode], root2: Optional[TreeNode]) -> Optional[TreeNode]:\n",
        "\n",
        "        # edge case\n",
        "        if not root1:\n",
        "            return root2\n",
        "        \n",
        "        if not root2:\n",
        "            return root1\n",
        "        \n",
        "        if not root1 or not root2:\n",
        "            return None\n",
        "\n",
        "        # Time Complexity will be O(n)\n",
        "        # Space Complexity will be O(n)\n",
        "        # n = tree nodes\n",
        "        root = TreeNode(root1.val + root2.val)\n",
        "        root.left = self.mergeTrees(root1.left, root2.left)\n",
        "        root.right = self.mergeTrees(root1.right, root2.right)\n",
        "\n",
        "        return root"
      ]
    }
  ]
}