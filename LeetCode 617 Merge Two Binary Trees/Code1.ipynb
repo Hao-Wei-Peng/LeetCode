{
  "nbformat": 4,
  "nbformat_minor": 0,
  "metadata": {
    "colab": {
      "name": "Code.ipynb",
      "provenance": [],
      "collapsed_sections": []
    },
    "kernelspec": {
      "name": "python3",
      "display_name": "Python 3"
    },
    "language_info": {
      "name": "python"
    }
  },
  "cells": [
    {
      "cell_type": "code",
      "execution_count": null,
      "metadata": {
        "id": "hFD3gFKqbvee"
      },
      "outputs": [],
      "source": [
        "# Definition for a binary tree node.\n",
        "# class TreeNode:\n",
        "#     def __init__(self, val=0, left=None, right=None):\n",
        "#         self.val = val\n",
        "#         self.left = left\n",
        "#         self.right = right\n",
        "class Solution:\n",
        "    def mergeTrees(self, root1: Optional[TreeNode], root2: Optional[TreeNode]) -> Optional[TreeNode]:\n",
        "\n",
        "        # edge case\n",
        "        if not root1:\n",
        "            return root2\n",
        "        \n",
        "        if not root2:\n",
        "            return root1\n",
        "\n",
        "        # Time Complexity will be O(n)\n",
        "        # Space Complexity will be O(n)\n",
        "        # n = tree nodes\n",
        "        queue = collections.deque([root1, root2])\n",
        "\n",
        "        while queue:\n",
        "            node1 = queue.popleft()\n",
        "            node2 = queue.popleft()\n",
        "\n",
        "            # when left child of both trees are not empty\n",
        "            # add elements to the queue\n",
        "            if node1.left and node2.left:\n",
        "                queue.append(node1.left)\n",
        "                queue.append(node2.left)\n",
        "            \n",
        "            # when right child of both trees are not empty\n",
        "            # add elements to the queue\n",
        "            if node1.right and node2.right:\n",
        "                queue.append(node1.right)\n",
        "                queue.append(node2.right)\n",
        "            \n",
        "            # in this step, we will update all nodes from both trees\n",
        "            # same position\n",
        "            node1.val = node1.val + node2.val\n",
        "\n",
        "            if not node1.left and node2.left:\n",
        "                node1.left = node2.left\n",
        "        \n",
        "            if not node1.right and node2.right:\n",
        "                node1.right = node2.right\n",
        "            \n",
        "        return root1"
      ]
    }
  ]
}