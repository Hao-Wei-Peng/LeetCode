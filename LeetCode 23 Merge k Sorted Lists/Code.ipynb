{
  "nbformat": 4,
  "nbformat_minor": 0,
  "metadata": {
    "colab": {
      "provenance": [],
      "collapsed_sections": []
    },
    "kernelspec": {
      "name": "python3",
      "display_name": "Python 3"
    },
    "language_info": {
      "name": "python"
    }
  },
  "cells": [
    {
      "cell_type": "code",
      "execution_count": null,
      "metadata": {
        "id": "mMOA-ZhSJFOB"
      },
      "outputs": [],
      "source": [
        "# Definition for singly-linked list.\n",
        "# class ListNode:\n",
        "#     def __init__(self, val=0, next=None):\n",
        "#         self.val = val\n",
        "#         self.next = next\n",
        "\n",
        "class ListNode:\n",
        "    def __init__(self, val = 0, next = None):\n",
        "        self.val = val\n",
        "        self.next = next\n",
        "\n",
        "class Solution:\n",
        "    def mergeKLists(self, lists: List[Optional[ListNode]]) -> Optional[ListNode]:\n",
        "        \n",
        "        # base case\n",
        "        if not lists or len(lists) == 0:\n",
        "            return None\n",
        "        \n",
        "        n = len(lists)\n",
        "\n",
        "        while n > 1:\n",
        "\n",
        "            CurMerge = []\n",
        "\n",
        "            for idx in range(0, n, 2):\n",
        "                L1 = lists[idx]\n",
        "                L2 = lists[idx + 1] if (idx + 1) < n else None\n",
        "                CurMerge.append(self.MergeTwoLists(L1, L2))\n",
        "            \n",
        "            lists = CurMerge\n",
        "            n = len(lists)\n",
        "        \n",
        "        return lists[0]\n",
        "    \n",
        "\n",
        "    def MergeTwoLists(self, L1, L2):\n",
        "\n",
        "        dummy = ListNode()\n",
        "\n",
        "        cur = dummy\n",
        "        first = L1\n",
        "        second = L2\n",
        "        \n",
        "        while first and second:\n",
        "            if first.val <= second.val:\n",
        "                cur.next = first\n",
        "                first = first.next\n",
        "            \n",
        "            elif first.val > second.val:\n",
        "                cur.next = second\n",
        "                second = second.next\n",
        "            \n",
        "            cur = cur.next\n",
        "\n",
        "        tail = cur\n",
        "\n",
        "        if first:\n",
        "            tail.next = first\n",
        "        \n",
        "        if second:\n",
        "            tail.next = second\n",
        "        \n",
        "\n",
        "        return dummy.next\n",
        "    "
      ]
    }
  ]
}