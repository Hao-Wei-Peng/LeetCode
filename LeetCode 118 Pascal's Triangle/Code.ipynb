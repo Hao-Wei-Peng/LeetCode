{
  "nbformat": 4,
  "nbformat_minor": 0,
  "metadata": {
    "colab": {
      "provenance": []
    },
    "kernelspec": {
      "name": "python3",
      "display_name": "Python 3"
    },
    "language_info": {
      "name": "python"
    }
  },
  "cells": [
    {
      "cell_type": "code",
      "execution_count": null,
      "metadata": {
        "id": "mMOA-ZhSJFOB"
      },
      "outputs": [],
      "source": [
        "class Solution:\n",
        "    def generate(self, numRows: int) -> List[List[int]]:\n",
        "\n",
        "        # base case\n",
        "        if not numRows:\n",
        "            return []\n",
        "\n",
        "        # Time Complexity will be O(n)\n",
        "        # Space Complexity will be O(n)\n",
        "        Pascal = [[1]] # base case\n",
        "\n",
        "        for i in range(0, numRows - 1):\n",
        "            current = []\n",
        "            temp = [0] + Pascal[-1] + [0]\n",
        "\n",
        "            for j in range(0, len(Pascal[-1]) + 1):\n",
        "                current.append(temp[j] + temp[j + 1])\n",
        "            \n",
        "            Pascal.append(current)\n",
        "        \n",
        "        return Pascal"
      ]
    }
  ]
}