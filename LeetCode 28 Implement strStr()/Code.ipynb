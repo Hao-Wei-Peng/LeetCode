{
  "nbformat": 4,
  "nbformat_minor": 0,
  "metadata": {
    "colab": {
      "provenance": []
    },
    "kernelspec": {
      "name": "python3",
      "display_name": "Python 3"
    },
    "language_info": {
      "name": "python"
    }
  },
  "cells": [
    {
      "cell_type": "code",
      "execution_count": null,
      "metadata": {
        "id": "mMOA-ZhSJFOB"
      },
      "outputs": [],
      "source": [
        "class Solution:\n",
        "    def strStr(self, haystack: str, needle: str) -> int:\n",
        "\n",
        "        m, n = len(haystack), len(needle)\n",
        "\n",
        "        # base case\n",
        "        if m < n:\n",
        "            return -1\n",
        "\n",
        "        p1, p2 = 0, 0\n",
        "\n",
        "        # Time Complexity will be O(m + n)\n",
        "        # Space Complexity will be O(1)\n",
        "        while p1 < m and p2 < n:\n",
        "            if haystack[p1] == needle[p2]:\n",
        "                p1 += 1\n",
        "                p2 += 1\n",
        "            \n",
        "            else:\n",
        "                # go back to the original position\n",
        "                p1 = p1 - (p2 - 1)\n",
        "                p2 = 0\n",
        "        \n",
        "        if p2 == n:\n",
        "            return p1 - p2\n",
        "        \n",
        "        return -1"
      ]
    }
  ]
}