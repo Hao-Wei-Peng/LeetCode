{
  "nbformat": 4,
  "nbformat_minor": 0,
  "metadata": {
    "colab": {
      "provenance": [],
      "collapsed_sections": []
    },
    "kernelspec": {
      "name": "python3",
      "display_name": "Python 3"
    },
    "language_info": {
      "name": "python"
    }
  },
  "cells": [
    {
      "cell_type": "code",
      "execution_count": null,
      "metadata": {
        "id": "mMOA-ZhSJFOB"
      },
      "outputs": [],
      "source": [
        "class Solution:\n",
        "    def findCheapestPrice(self, n: int, flights: List[List[int]], src: int, dst: int, k: int) -> int:\n",
        "\n",
        "        # base case\n",
        "        if not flights:\n",
        "            return -1\n",
        "\n",
        "        # Bellman-Ford algorithm (implement k + 1 times)\n",
        "        # Time Complexity will be O(E*K)\n",
        "        # every time iterate all edges\n",
        "        prices = [float(\"inf\")] * n\n",
        "        prices[src] = 0\n",
        "\n",
        "        for _ in range(0, k + 1):\n",
        "            # [0, inf, inf]\n",
        "            tempPrices = prices[:]\n",
        "\n",
        "            for start, end, price in flights:\n",
        "\n",
        "                if prices[start] == float(\"inf\"):\n",
        "                    continue\n",
        "\n",
        "                if prices[start] + price < tempPrices[end]:\n",
        "                    tempPrices[end] = prices[start] + price\n",
        "            # [0, 100, 500]\n",
        "            prices = tempPrices\n",
        "        \n",
        "\n",
        "        return -1 if prices[dst] == float(\"inf\") else prices[dst] "
      ]
    }
  ]
}