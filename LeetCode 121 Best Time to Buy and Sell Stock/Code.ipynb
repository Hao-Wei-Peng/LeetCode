{
  "nbformat": 4,
  "nbformat_minor": 0,
  "metadata": {
    "colab": {
      "name": "Code.ipynb",
      "provenance": [],
      "collapsed_sections": []
    },
    "kernelspec": {
      "name": "python3",
      "display_name": "Python 3"
    },
    "language_info": {
      "name": "python"
    }
  },
  "cells": [
    {
      "cell_type": "code",
      "execution_count": null,
      "metadata": {
        "id": "hFD3gFKqbvee"
      },
      "outputs": [],
      "source": [
        "class Solution:\n",
        "    def maxProfit(self, prices: List[int]) -> int:\n",
        "\n",
        "        n = len(prices)\n",
        "\n",
        "        # edge case\n",
        "        if n == 1:\n",
        "            return 0\n",
        "        \n",
        "        # we can use dynamic programming to deal with this problem\n",
        "        # dp[i][0] = minimum invest money at position i\n",
        "        # dp[i][1] = maximum profit at position i\n",
        "        dp = [[0] * 2 for _ in range(0, n)]\n",
        "\n",
        "        # initialization\n",
        "        dp[0][0] = prices[0]\n",
        "        dp[0][1] = 0\n",
        "\n",
        "        for i in range(1, n):\n",
        "            # find the minimum invest money\n",
        "            dp[i][0] = min(dp[i - 1][0], prices[i])\n",
        "            # compute maximum profit \n",
        "            dp[i][1] = max(dp[i - 1][1], prices[i] - dp[i][0])\n",
        "        \n",
        "        return dp[-1][1]\n"
      ]
    }
  ]
}