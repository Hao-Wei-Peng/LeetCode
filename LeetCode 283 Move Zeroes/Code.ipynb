{
  "nbformat": 4,
  "nbformat_minor": 0,
  "metadata": {
    "colab": {
      "name": "Code.ipynb",
      "provenance": [],
      "collapsed_sections": []
    },
    "kernelspec": {
      "name": "python3",
      "display_name": "Python 3"
    },
    "language_info": {
      "name": "python"
    }
  },
  "cells": [
    {
      "cell_type": "code",
      "execution_count": null,
      "metadata": {
        "id": "hFD3gFKqbvee"
      },
      "outputs": [],
      "source": [
        "class Solution:\n",
        "    def moveZeroes(self, nums: List[int]) -> None:\n",
        "        \"\"\"\n",
        "        Do not return anything, modify nums in-place instead.\n",
        "        \"\"\"\n",
        "\n",
        "        # Time Complexity will be O(n)\n",
        "        # Space Complexity will be O(1)\n",
        "\n",
        "        n = len(nums)\n",
        "\n",
        "        # edge case\n",
        "        if n == 1:\n",
        "            return nums[0]\n",
        "\n",
        "        slow, fast = 0, 0\n",
        "\n",
        "        while fast < n:\n",
        "            if nums[fast] != 0:\n",
        "                nums[slow], nums[fast] = nums[fast], nums[slow]\n",
        "                slow = slow + 1\n",
        "                fast = fast + 1\n",
        "            \n",
        "            else:\n",
        "                fast = fast + 1\n",
        "        \n",
        "        return nums"
      ]
    }
  ]
}