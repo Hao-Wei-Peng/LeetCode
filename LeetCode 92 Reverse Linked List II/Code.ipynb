{
  "nbformat": 4,
  "nbformat_minor": 0,
  "metadata": {
    "colab": {
      "provenance": []
    },
    "kernelspec": {
      "name": "python3",
      "display_name": "Python 3"
    },
    "language_info": {
      "name": "python"
    }
  },
  "cells": [
    {
      "cell_type": "code",
      "execution_count": null,
      "metadata": {
        "id": "mMOA-ZhSJFOB"
      },
      "outputs": [],
      "source": [
        "# Definition for singly-linked list.\n",
        "# class ListNode:\n",
        "#     def __init__(self, val=0, next=None):\n",
        "#         self.val = val\n",
        "#         self.next = next\n",
        "class Solution:\n",
        "    def reverseBetween(self, head: Optional[ListNode], left: int, right: int) -> Optional[ListNode]:\n",
        "\n",
        "        # create a dummy node\n",
        "        dummy = ListNode(0, head)\n",
        "        pre = dummy\n",
        "\n",
        "        # Time Complexity will be O(n)\n",
        "        # Space Complexity will be O(1)\n",
        "        # find the position in front of the left node\n",
        "        for _ in range(0, left - 1):\n",
        "            pre = pre.next\n",
        "        \n",
        "        cur = pre.next # node = 2\n",
        "\n",
        "        # reverse the linked list\n",
        "        # pre, cur pointer not change during iteration\n",
        "        for _ in range(0, right - left):\n",
        "            next = cur.next # node = 3\n",
        "            cur.next = next.next # node = 4\n",
        "            next.next = pre.next\n",
        "            pre.next = next\n",
        "\n",
        "        return dummy.next"
      ]
    }
  ]
}