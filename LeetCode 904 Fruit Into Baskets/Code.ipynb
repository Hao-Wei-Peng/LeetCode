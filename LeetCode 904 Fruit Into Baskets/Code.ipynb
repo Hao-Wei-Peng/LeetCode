{
  "nbformat": 4,
  "nbformat_minor": 0,
  "metadata": {
    "colab": {
      "name": "Code.ipynb",
      "provenance": [],
      "collapsed_sections": []
    },
    "kernelspec": {
      "name": "python3",
      "display_name": "Python 3"
    },
    "language_info": {
      "name": "python"
    }
  },
  "cells": [
    {
      "cell_type": "code",
      "execution_count": null,
      "metadata": {
        "id": "hFD3gFKqbvee"
      },
      "outputs": [],
      "source": [
        "class Solution:\n",
        "    def totalFruit(self, fruits: List[int]) -> int:\n",
        "\n",
        "        # fruits[i] = type of fruit the ith tree produces\n",
        "        # conditions:\n",
        "        # 1. two baskets, each basket can only hold a single type of fruit\n",
        "        # 2. starting from any tree, pick exactly one fruit from every tree\n",
        "        # return maximum number of fruits (pick how many fruit tree)\n",
        "\n",
        "        n = len(fruits)\n",
        "\n",
        "        # edge case\n",
        "        if n == 1:\n",
        "            return 1\n",
        "        \n",
        "        left, right = 0, 0\n",
        "        max_num = float(\"-inf\")\n",
        "        visited = collections.defaultdict(int)\n",
        "        count = 0\n",
        "\n",
        "        # Time Complexity will be O(n)\n",
        "        # Space Complexity will be O(n)\n",
        "        while right < n:\n",
        "            \n",
        "            # use dictionary to record frequenct of each tree\n",
        "            if visited[fruits[right]] == 0:\n",
        "                count = count + 1\n",
        "            visited[fruits[right]] += 1\n",
        "\n",
        "            # not satisfy conditions\n",
        "            while count > 2:\n",
        "\n",
        "                if visited[fruits[left]] == 1:\n",
        "                    count = count - 1\n",
        "                visited[fruits[left]] -= 1\n",
        "\n",
        "                left = left + 1\n",
        "\n",
        "            max_num = max(max_num, right - left + 1)\n",
        "            right = right + 1\n",
        "        \n",
        "        return max_num\n"
      ]
    }
  ]
}