{
  "nbformat": 4,
  "nbformat_minor": 0,
  "metadata": {
    "colab": {
      "provenance": []
    },
    "kernelspec": {
      "name": "python3",
      "display_name": "Python 3"
    },
    "language_info": {
      "name": "python"
    }
  },
  "cells": [
    {
      "cell_type": "code",
      "source": [
        "class Solution:\n",
        "    def IsConnected(self, bombs, a, b):\n",
        "        x1, y1, r1 = bombs[a]\n",
        "        x2, y2, r2 = bombs[b]\n",
        "\n",
        "        dist = math.sqrt((x1 - x2)**2 + (y1 - y2)**2)\n",
        "        return dist <= r1\n",
        "\n",
        "    def maximumDetonation(self, bombs: List[List[int]]) -> int:\n",
        "\n",
        "        # 1. establish the Graph\n",
        "        Graph = collections.defaultdict(list)\n",
        "        n = len(bombs)\n",
        "\n",
        "        for i in range(n):\n",
        "            for j in range(n):\n",
        "                if i != j:\n",
        "                    if not self.IsConnected(bombs, i, j):\n",
        "                        continue\n",
        "                    \n",
        "                    Graph[i].append(j)\n",
        "        \n",
        "        # 2. use BFS to deal with the problem\n",
        "        Queue = collections.deque()\n",
        "        maxCount = float(\"-inf\")\n",
        "\n",
        "        for node in range(n):\n",
        "            if not Graph[node]:\n",
        "                continue\n",
        "            \n",
        "            Queue.append(node)\n",
        "            visited = set()\n",
        "            visited.add(node)\n",
        "            count = 0\n",
        "\n",
        "            while Queue:\n",
        "                cur = Queue.popleft()\n",
        "                count += 1\n",
        "\n",
        "                for child in Graph[cur]:\n",
        "                    if child not in visited:\n",
        "                        visited.add(child)\n",
        "                        Queue.append(child)\n",
        "            \n",
        "            maxCount = max(maxCount, count)\n",
        "        \n",
        "        return maxCount if maxCount != float(\"-inf\") else 1"
      ],
      "metadata": {
        "id": "VQsRJ7yrQZxK"
      },
      "execution_count": null,
      "outputs": []
    }
  ]
}