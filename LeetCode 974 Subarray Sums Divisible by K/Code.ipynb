{
  "nbformat": 4,
  "nbformat_minor": 0,
  "metadata": {
    "colab": {
      "provenance": [],
      "collapsed_sections": []
    },
    "kernelspec": {
      "name": "python3",
      "display_name": "Python 3"
    },
    "language_info": {
      "name": "python"
    }
  },
  "cells": [
    {
      "cell_type": "code",
      "execution_count": null,
      "metadata": {
        "id": "mMOA-ZhSJFOB"
      },
      "outputs": [],
      "source": [
        "class Solution:\n",
        "    def subarraysDivByK(self, nums: List[int], k: int) -> int:\n",
        "\n",
        "        # base case\n",
        "        if not nums or k == 0:\n",
        "            return 0\n",
        "        \n",
        "        # Time Complexity will be O(n)\n",
        "        # Space Complexity will be O(1)\n",
        "\n",
        "        # [4, 5, 0, -2, -3, 1], k = 5\n",
        "        # [4, 9, 9, 7, 4, 5], k = 5\n",
        "        # [prefix[j] - prefix[i]] % k == 0, (j > i)\n",
        "        # prefix[j] % k = prefix[i] % k, (j > i)\n",
        "        n = len(nums)\n",
        "        Map = collections.defaultdict(int)\n",
        "        Map[0] = 1\n",
        "        Prefix = 0\n",
        "\n",
        "        for idx in range(0, n):\n",
        "            curnum = nums[idx]\n",
        "            Prefix += curnum\n",
        "            module = Prefix % k\n",
        "            \n",
        "            if module not in Map:\n",
        "                Map[module] = 1\n",
        "            else:\n",
        "                Map[module] += 1\n",
        "        \n",
        "        ans = 0\n",
        "\n",
        "        # combinations part\n",
        "        for val in Map.values():\n",
        "            ans += val * (val - 1) // 2\n",
        "        \n",
        "        return ans\n",
        "        "
      ]
    }
  ]
}