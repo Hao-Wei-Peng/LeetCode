{
  "nbformat": 4,
  "nbformat_minor": 0,
  "metadata": {
    "colab": {
      "name": "Code.ipynb",
      "provenance": [],
      "collapsed_sections": []
    },
    "kernelspec": {
      "name": "python3",
      "display_name": "Python 3"
    },
    "language_info": {
      "name": "python"
    }
  },
  "cells": [
    {
      "cell_type": "code",
      "execution_count": null,
      "metadata": {
        "id": "hFD3gFKqbvee"
      },
      "outputs": [],
      "source": [
        "class Solution:\n",
        "    def reverseWords(self, s: str) -> str:\n",
        "\n",
        "        # we want to deal with this problem with no any extra memory space\n",
        "        # Time Complexity will be O(n)\n",
        "        # Space Complexity will be O(1)\n",
        "\n",
        "        # we can use 3 steps as follows\n",
        "        # 1. remove any extra space from head and tail\n",
        "        # 2. reverse all string \n",
        "        # 3. reverse each word in string\n",
        "        list_s = self.remove_space(s)\n",
        "        self.reverse_string(list_s, 0, len(list_s) - 1)\n",
        "        self.reverse_word(list_s)\n",
        "\n",
        "        return \"\".join(list_s)\n",
        "\n",
        "    # step 1\n",
        "    def remove_space(self, s):\n",
        "        n = len(s)\n",
        "        left, right = 0, n - 1\n",
        "\n",
        "        # remove head space\n",
        "        while left <= right and s[left] == \" \":\n",
        "            left = left + 1\n",
        "        # remove tail space\n",
        "        while left <= right and s[right] == \" \":\n",
        "            right = right - 1\n",
        "        \n",
        "        re_const = []\n",
        "\n",
        "        while left <= right:\n",
        "            # if current is character, append character to list\n",
        "            if s[left] != \" \":\n",
        "                re_const.append(s[left])\n",
        "            # check whether list contains space, if not, append space to list\n",
        "            #                                    if yes, do not do anything\n",
        "            elif re_const[-1] != \" \":\n",
        "                re_const.append(s[left])\n",
        "            \n",
        "            left = left + 1\n",
        "        return re_const\n",
        "    \n",
        "    # step 2\n",
        "    def reverse_string(self, s, left, right):\n",
        "        while left <= right:\n",
        "            s[left], s[right] = s[right], s[left]\n",
        "            left = left + 1\n",
        "            right = right - 1\n",
        "        return None\n",
        "\n",
        "    # step 3\n",
        "    def reverse_word(self, s):\n",
        "        start = 0\n",
        "        end = 0\n",
        "        n = len(s)\n",
        "\n",
        "        while start < n:\n",
        "            while end < n and s[end] != \" \":\n",
        "                end = end + 1\n",
        "            self.reverse_string(s, start, end - 1)\n",
        "            start = end + 1\n",
        "            end = start\n",
        "\n",
        "        return None\n",
        "    "
      ]
    }
  ]
}