{
  "nbformat": 4,
  "nbformat_minor": 0,
  "metadata": {
    "colab": {
      "provenance": [],
      "collapsed_sections": []
    },
    "kernelspec": {
      "name": "python3",
      "display_name": "Python 3"
    },
    "language_info": {
      "name": "python"
    }
  },
  "cells": [
    {
      "cell_type": "code",
      "execution_count": null,
      "metadata": {
        "id": "mMOA-ZhSJFOB"
      },
      "outputs": [],
      "source": [
        "class TrieNode:\n",
        "    def __init__(self):\n",
        "        self.children = {}\n",
        "        self.endOfWord = False\n",
        "    \n",
        "class Trie:\n",
        "    def __init__(self):\n",
        "        self.root = TrieNode()\n",
        "\n",
        "    def insert(self, word):\n",
        "\n",
        "        cur = self.root\n",
        "\n",
        "        for c in word:\n",
        "            if c not in cur.children:\n",
        "                cur.children[c] = TrieNode()\n",
        "            \n",
        "            cur = cur.children[c]\n",
        "        cur.endOfWord = True\n",
        "    \n",
        "    def search(self, word):\n",
        "\n",
        "        # base case\n",
        "        if not word:\n",
        "            return True\n",
        "\n",
        "        cur = self.root\n",
        "\n",
        "        for idx, c in enumerate(word):\n",
        "            if c not in cur.children:\n",
        "                return False\n",
        "            \n",
        "            cur = cur.children[c]\n",
        "        \n",
        "            # we need to check whether it can concatenated other words\n",
        "            if cur.endOfWord:\n",
        "                # check other components\n",
        "                if self.search(word[idx + 1 : ]):\n",
        "                    return True\n",
        "        \n",
        "        return False\n",
        "\n",
        "            \n",
        "class Solution:\n",
        "    def findAllConcatenatedWordsInADict(self, words: List[str]) -> List[str]:\n",
        "        words = sorted(words, key = len)\n",
        "        tree, ans = Trie(), []\n",
        "\n",
        "        for word in words:\n",
        "            if not word:\n",
        "                continue\n",
        "            \n",
        "            if tree.search(word):\n",
        "                ans.append(word)\n",
        "            \n",
        "            else:\n",
        "                tree.insert(word)\n",
        "        \n",
        "        return ans\n"
      ]
    }
  ]
}