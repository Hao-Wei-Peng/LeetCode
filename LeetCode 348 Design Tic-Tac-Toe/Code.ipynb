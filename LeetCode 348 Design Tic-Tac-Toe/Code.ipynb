{
  "nbformat": 4,
  "nbformat_minor": 0,
  "metadata": {
    "colab": {
      "provenance": [],
      "collapsed_sections": []
    },
    "kernelspec": {
      "name": "python3",
      "display_name": "Python 3"
    },
    "language_info": {
      "name": "python"
    }
  },
  "cells": [
    {
      "cell_type": "code",
      "execution_count": 3,
      "metadata": {
        "id": "mMOA-ZhSJFOB"
      },
      "outputs": [],
      "source": [
        "class TicTacToe:\n",
        "\n",
        "    def __init__(self, n: int):\n",
        "      \"\"\"\n",
        "      Initialize your data structure here.\n",
        "      \"\"\"\n",
        "      # Time Complexity will be O(n)\n",
        "      self.Rows = [0] * n\n",
        "      self.Cols = [0] * n\n",
        "      self.Diagonal = 0\n",
        "      self.AntiDiagonal = 0\n",
        "      self.n = n \n",
        "\n",
        "\n",
        "    def move(self, row: int, col: int, player: int) -> int:\n",
        "      \"\"\"\n",
        "      Player {player} makes a move at ({row}, {col}).\n",
        "      @param row The row of the board.\n",
        "      @param col The column of the board.\n",
        "      @param player The player, can be either 1 or 2.\n",
        "      @return The current winning condition, can be either:\n",
        "              0: No one wins.\n",
        "              1: Player 1 wins.\n",
        "              2: Player 2 wins.\n",
        "      \"\"\"\n",
        "\n",
        "      if player == 1:\n",
        "\n",
        "        self.Rows[row] += 1\n",
        "        self.Cols[col] += 1\n",
        "\n",
        "        if row == col:\n",
        "          self.Diagonal += 1\n",
        "        \n",
        "        if row == self.n - col - 1:\n",
        "          self.AntiDiagonal += 1\n",
        "        \n",
        "        # achieve condition\n",
        "        if self.Rows[row] == self.n or self.Cols[col] == self.n or self.Diagonal == self.n or self.AntiDiagonal == self.n:\n",
        "          return 1\n",
        "\n",
        "\n",
        "      elif player == 2:\n",
        "\n",
        "        self.Rows[row] -= 1\n",
        "        self.Cols[col] -= 1\n",
        "\n",
        "        if row == col:\n",
        "          self.Diagonal -= 1\n",
        "        \n",
        "        if row == self.n - 1 - col:\n",
        "          self.AntiDiagonal -= 1\n",
        "\n",
        "        # achieve condition\n",
        "        if self.Rows[row] == -self.n or self.Cols[col] == -self.n or self.Diagonal == -self.n or self.AntiDiagonal == -self.n:\n",
        "          return 2\n",
        "      \n",
        "      return 0"
      ]
    },
    {
      "cell_type": "code",
      "source": [
        "OBJ = TicTacToe(3)\n",
        "# each step 1 -> \"O\", 2 -> \"X\"\n",
        "OBJ.move(0, 0, 1)\n",
        "OBJ.move(0, 2, 2)\n",
        "OBJ.move(2, 2, 1)\n",
        "OBJ.move(1, 1, 2)\n",
        "OBJ.move(2, 0, 1)\n",
        "OBJ.move(1, 0, 2)\n",
        "OBJ.move(2, 1, 1)"
      ],
      "metadata": {
        "colab": {
          "base_uri": "https://localhost:8080/"
        },
        "id": "qp3wo81cYLa0",
        "outputId": "e614e29e-3be1-4f51-e5a9-8d1cf14deb74"
      },
      "execution_count": 6,
      "outputs": [
        {
          "output_type": "execute_result",
          "data": {
            "text/plain": [
              "1"
            ]
          },
          "metadata": {},
          "execution_count": 6
        }
      ]
    }
  ]
}