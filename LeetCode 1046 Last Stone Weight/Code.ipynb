{
  "nbformat": 4,
  "nbformat_minor": 0,
  "metadata": {
    "colab": {
      "provenance": [],
      "collapsed_sections": []
    },
    "kernelspec": {
      "name": "python3",
      "display_name": "Python 3"
    },
    "language_info": {
      "name": "python"
    }
  },
  "cells": [
    {
      "cell_type": "code",
      "execution_count": null,
      "metadata": {
        "id": "mMOA-ZhSJFOB"
      },
      "outputs": [],
      "source": [
        "class Solution:\n",
        "    def lastStoneWeight(self, stones: List[int]) -> int:\n",
        "\n",
        "        # same weights, both stones are destroyed\n",
        "        # x != y, x is destroyed, y has new weight y - x\n",
        "\n",
        "        # base case\n",
        "        if not stones:\n",
        "            return 0\n",
        "        \n",
        "        # Time Complexity will be O(nlogn)\n",
        "        # Space Complexity will be O(n)\n",
        "\n",
        "        # max heap, negative values in heap structure\n",
        "        Heap = []\n",
        "\n",
        "        for stone in stones:\n",
        "            heapq.heappush(Heap, -stone)\n",
        "\n",
        "        while len(Heap) > 1:\n",
        "            # y\n",
        "            stone_one = -heapq.heappop(Heap)\n",
        "            # x\n",
        "            stone_two = -heapq.heappop(Heap)\n",
        "\n",
        "            if stone_one == stone_two:\n",
        "                continue\n",
        "            \n",
        "            new_weight = stone_one - stone_two\n",
        "            heapq.heappush(Heap, -new_weight)\n",
        "        \n",
        "        return 0 if not Heap else -Heap[0]\n",
        "        \n"
      ]
    }
  ]
}