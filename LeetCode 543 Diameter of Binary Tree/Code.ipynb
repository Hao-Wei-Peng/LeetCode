{
  "nbformat": 4,
  "nbformat_minor": 0,
  "metadata": {
    "colab": {
      "provenance": [],
      "collapsed_sections": []
    },
    "kernelspec": {
      "name": "python3",
      "display_name": "Python 3"
    },
    "language_info": {
      "name": "python"
    }
  },
  "cells": [
    {
      "cell_type": "code",
      "execution_count": null,
      "metadata": {
        "id": "mMOA-ZhSJFOB"
      },
      "outputs": [],
      "source": [
        "# Definition for a binary tree node.\n",
        "# class TreeNode:\n",
        "#     def __init__(self, val=0, left=None, right=None):\n",
        "#         self.val = val\n",
        "#         self.left = left\n",
        "#         self.right = right\n",
        "class Solution:\n",
        "    def __init__(self):\n",
        "        self.MaxLen = 0\n",
        "\n",
        "    def diameterOfBinaryTree(self, root: Optional[TreeNode]) -> int:\n",
        "\n",
        "        # base case\n",
        "        if not root:\n",
        "            return 0\n",
        "\n",
        "        if not root.left and not root.right:\n",
        "            return 0\n",
        "\n",
        "        self.DFS(root)\n",
        "        return self.MaxLen - 1\n",
        "    \n",
        "    def DFS(self, root):\n",
        "\n",
        "        # base case\n",
        "        if not root:\n",
        "            return 0\n",
        "        \n",
        "        root.left = self.DFS(root.left)\n",
        "        root.right = self.DFS(root.right)\n",
        "\n",
        "        if not root.left and not root.right:\n",
        "            return 1\n",
        "\n",
        "        # compute diameter at each node\n",
        "        diameter = root.left + root.right + 1\n",
        "        self.MaxLen = max(self.MaxLen, diameter)\n",
        "\n",
        "        return max(root.left, root.right) + 1"
      ]
    }
  ]
}