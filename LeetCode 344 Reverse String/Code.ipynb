{
  "nbformat": 4,
  "nbformat_minor": 0,
  "metadata": {
    "colab": {
      "name": "Code.ipynb",
      "provenance": [],
      "collapsed_sections": []
    },
    "kernelspec": {
      "name": "python3",
      "display_name": "Python 3"
    },
    "language_info": {
      "name": "python"
    }
  },
  "cells": [
    {
      "cell_type": "code",
      "execution_count": null,
      "metadata": {
        "id": "hFD3gFKqbvee"
      },
      "outputs": [],
      "source": [
        "class Solution:\n",
        "    def reverseString(self, s: List[str]) -> None:\n",
        "        \"\"\"\n",
        "        Do not return anything, modify s in-place instead.\n",
        "        \"\"\"\n",
        "\n",
        "        # Time Complexity will be O(n)\n",
        "        # Space Complexity will be O(1)\n",
        "\n",
        "        n = len(s)\n",
        "        left, right = 0, n - 1\n",
        "\n",
        "        while left <= right:\n",
        "            s[left], s[right] = s[right], s[left]\n",
        "            left = left + 1\n",
        "            right = right - 1\n"
      ]
    }
  ]
}