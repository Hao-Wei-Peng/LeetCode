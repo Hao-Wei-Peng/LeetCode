{
  "nbformat": 4,
  "nbformat_minor": 0,
  "metadata": {
    "colab": {
      "provenance": []
    },
    "kernelspec": {
      "name": "python3",
      "display_name": "Python 3"
    },
    "language_info": {
      "name": "python"
    }
  },
  "cells": [
    {
      "cell_type": "code",
      "execution_count": null,
      "metadata": {
        "id": "mMOA-ZhSJFOB"
      },
      "outputs": [],
      "source": [
        "# Definition for a binary tree node.\n",
        "# class TreeNode:\n",
        "#     def __init__(self, val=0, left=None, right=None):\n",
        "#         self.val = val\n",
        "#         self.left = left\n",
        "#         self.right = right\n",
        "class Solution:\n",
        "    def __init__(self):\n",
        "        self.x_parent, self.x_depth = None, None\n",
        "        self.y_parent, self.y_depth = None, None\n",
        "    \n",
        "    def isCousins(self, root: Optional[TreeNode], x: int, y: int) -> bool:\n",
        "\n",
        "        # base case\n",
        "        if not root:\n",
        "            return False\n",
        "\n",
        "        # Time Complexity will be O(n)\n",
        "        # Space Complexity will be O(n)\n",
        "        self.DFS(root, None, x, y, 0)\n",
        "        return self.x_depth == self.y_depth and self.x_parent != self.y_parent\n",
        "\n",
        "    def DFS(self, root, parent, x, y, depth):\n",
        "\n",
        "        # base case\n",
        "        if not root:\n",
        "            return \n",
        "        \n",
        "        # check whether satisfy the target\n",
        "        if root.val == x:\n",
        "            self.x_parent = parent\n",
        "            self.x_depth = depth\n",
        "        \n",
        "        if root.val == y:\n",
        "            self.y_parent = parent\n",
        "            self.y_depth = depth\n",
        "        \n",
        "        self.DFS(root.left, root, x, y, depth + 1)\n",
        "        self.DFS(root.right, root, x, y, depth + 1)"
      ]
    }
  ]
}