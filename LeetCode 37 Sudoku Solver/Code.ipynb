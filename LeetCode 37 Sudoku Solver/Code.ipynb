{
  "nbformat": 4,
  "nbformat_minor": 0,
  "metadata": {
    "colab": {
      "provenance": [],
      "collapsed_sections": []
    },
    "kernelspec": {
      "name": "python3",
      "display_name": "Python 3"
    },
    "language_info": {
      "name": "python"
    }
  },
  "cells": [
    {
      "cell_type": "code",
      "execution_count": null,
      "metadata": {
        "id": "hFD3gFKqbvee"
      },
      "outputs": [],
      "source": [
        "class Solution:\n",
        "    def solveSudoku(self, board: List[List[str]]) -> None:\n",
        "        \"\"\"\n",
        "        Do not return anything, modify board in-place instead.\n",
        "\n",
        "        \"\"\"\n",
        "\n",
        "        def isValid(row, col, num, board):\n",
        "            \n",
        "            # check column\n",
        "            for i in range(0, 9):\n",
        "                if board[row][i] == str(num):\n",
        "                    return False\n",
        "\n",
        "            # check row\n",
        "            for i in range(0, 9):\n",
        "                if board[i][col] == str(num):\n",
        "                    return False\n",
        "            \n",
        "            # check whether num exist in current 3*3 sub-boxes\n",
        "            start_pos = (row // 3) * 3\n",
        "            end_pos = (col // 3) * 3\n",
        "\n",
        "            for i in range(start_pos, start_pos + 3):\n",
        "                for j in range(end_pos, end_pos + 3):\n",
        "                    if board[i][j] == str(num):\n",
        "                        return False\n",
        "            \n",
        "            return True\n",
        "\n",
        "        def backtrack(board):\n",
        "\n",
        "            Rows = len(board)\n",
        "            Cols = len(board[0])\n",
        "\n",
        "            for r in range(0, Rows):\n",
        "                for c in range(0, Cols):\n",
        "                    if board[r][c] != \".\":\n",
        "                        continue\n",
        "                    \n",
        "                    for num in range(1, 10):\n",
        "                        if not isValid(r, c, num, board):\n",
        "                            continue\n",
        "\n",
        "                        board[r][c] = str(num)\n",
        "                        if backtrack(board):\n",
        "                            return True\n",
        "                        board[r][c] = \".\"\n",
        "                    \n",
        "                    # 1 - 9 can't fill in the board\n",
        "                    return False\n",
        "            \n",
        "            return True\n",
        "\n",
        "        return backtrack(board)\n"
      ]
    }
  ]
}