{
  "nbformat": 4,
  "nbformat_minor": 0,
  "metadata": {
    "colab": {
      "provenance": [],
      "collapsed_sections": []
    },
    "kernelspec": {
      "name": "python3",
      "display_name": "Python 3"
    },
    "language_info": {
      "name": "python"
    }
  },
  "cells": [
    {
      "cell_type": "code",
      "execution_count": null,
      "metadata": {
        "id": "hFD3gFKqbvee"
      },
      "outputs": [],
      "source": [
        "class Solution:\n",
        "    def hammingWeight(self, n: int) -> int:\n",
        "\n",
        "        # n = 11 -> 1011\n",
        "\n",
        "        cnt = 0\n",
        "\n",
        "        while n:\n",
        "            # 1011 and 0001\n",
        "            cnt += (n & 1)\n",
        "            n = n >> 1\n",
        "        \n",
        "        return cnt"
      ]
    }
  ]
}