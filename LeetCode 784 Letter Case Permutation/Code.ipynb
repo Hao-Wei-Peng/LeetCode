{
  "nbformat": 4,
  "nbformat_minor": 0,
  "metadata": {
    "colab": {
      "provenance": [],
      "collapsed_sections": []
    },
    "kernelspec": {
      "name": "python3",
      "display_name": "Python 3"
    },
    "language_info": {
      "name": "python"
    }
  },
  "cells": [
    {
      "cell_type": "code",
      "execution_count": null,
      "metadata": {
        "id": "mMOA-ZhSJFOB"
      },
      "outputs": [],
      "source": [
        "class Solution:\n",
        "    def letterCasePermutation(self, s: str) -> List[str]:\n",
        "\n",
        "        # base case\n",
        "        if not s:\n",
        "            return []\n",
        "        \n",
        "        LenS = len(s)\n",
        "        queue = collections.deque()\n",
        "        queue.append(\"\")\n",
        "        ans = []\n",
        "\n",
        "        # BFS\n",
        "        # Time Complexity will be O(n*2^n)\n",
        "        # Space Complexity will be O(n*2^n)\n",
        "        while queue:\n",
        "            # \" \"\n",
        "            cur = queue[0]\n",
        "            LenC = len(cur)\n",
        "\n",
        "            if LenC == LenS:\n",
        "                ans.append(cur)\n",
        "                queue.popleft()\n",
        "            \n",
        "            else:\n",
        "                # s[0] = a\n",
        "                if s[LenC].isalpha():\n",
        "                    # \"a\", \"A\"\n",
        "                    queue.append(cur + s[LenC].swapcase())\n",
        "                queue[0] += s[LenC]\n",
        "        return ans\n",
        "\n"
      ]
    }
  ]
}