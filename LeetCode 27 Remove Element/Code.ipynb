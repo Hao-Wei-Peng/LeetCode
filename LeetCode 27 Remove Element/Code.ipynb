{
  "nbformat": 4,
  "nbformat_minor": 0,
  "metadata": {
    "colab": {
      "name": "Code.ipynb",
      "provenance": [],
      "collapsed_sections": []
    },
    "kernelspec": {
      "name": "python3",
      "display_name": "Python 3"
    },
    "language_info": {
      "name": "python"
    }
  },
  "cells": [
    {
      "cell_type": "code",
      "execution_count": null,
      "metadata": {
        "id": "hFD3gFKqbvee"
      },
      "outputs": [],
      "source": [
        "class Solution:\n",
        "    def removeElement(self, nums: List[int], val: int) -> int:\n",
        "\n",
        "        # remove all occurrences of val\n",
        "        # Time Complexity will be O(n)\n",
        "        # Space Complexity will be O(1)\n",
        "        n = len(nums)\n",
        "        slow, fast = 0, 0\n",
        "\n",
        "        while fast < n:\n",
        "            if nums[fast] != val:\n",
        "                nums[slow] = nums[fast]\n",
        "                slow = slow + 1\n",
        "            \n",
        "            fast = fast + 1\n",
        "\n",
        "        return slow"
      ]
    }
  ]
}