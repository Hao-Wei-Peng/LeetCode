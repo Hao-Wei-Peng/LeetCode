{
  "nbformat": 4,
  "nbformat_minor": 0,
  "metadata": {
    "colab": {
      "provenance": [],
      "collapsed_sections": []
    },
    "kernelspec": {
      "name": "python3",
      "display_name": "Python 3"
    },
    "language_info": {
      "name": "python"
    }
  },
  "cells": [
    {
      "cell_type": "code",
      "execution_count": null,
      "metadata": {
        "id": "mMOA-ZhSJFOB"
      },
      "outputs": [],
      "source": [
        "class Solution:\n",
        "    def mergeTriplets(self, triplets: List[List[int]], target: List[int]) -> bool:\n",
        "\n",
        "        # base case\n",
        "        if not triplets:\n",
        "            return False\n",
        "        \n",
        "        t1, t2, t3 = target\n",
        "        x, y, z = 0, 0, 0\n",
        "\n",
        "        # Key Point: ceiling is target\n",
        "        for xi, yi, zi in triplets:\n",
        "            # current triplet smaller equal than target\n",
        "            if xi <= t1 and yi <= t2 and zi <= t3:\n",
        "                x, y, z = max(x, xi), max(y, yi), max(z, zi)\n",
        "        \n",
        "        return [x, y, z] == target"
      ]
    }
  ]
}