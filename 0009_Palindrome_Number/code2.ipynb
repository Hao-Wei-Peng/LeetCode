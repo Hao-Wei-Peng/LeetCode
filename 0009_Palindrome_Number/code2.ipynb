{
 "cells": [
  {
   "cell_type": "code",
   "execution_count": null,
   "metadata": {},
   "outputs": [],
   "source": [
    "class Solution:\n",
    "    def isPalindrome(self, x: int) -> bool:\n",
    "        #palindrome = 回文, double pointer\n",
    "\n",
    "        str_length = list(str(x))\n",
    "        left_pointer, right_pointer = 0, len(str_length) - 1\n",
    "\n",
    "        while left_pointer <= right_pointer:\n",
    "            if str_length[left_pointer] != str_length[right_pointer]:\n",
    "                return False\n",
    "            \n",
    "            left_pointer = left_pointer + 1\n",
    "            right_pointer = right_pointer - 1\n",
    "        \n",
    "        return True"
   ]
  }
 ],
 "metadata": {
  "kernelspec": {
   "display_name": "Python 3",
   "language": "python",
   "name": "python3"
  },
  "language_info": {
   "codemirror_mode": {
    "name": "ipython",
    "version": 3
   },
   "file_extension": ".py",
   "mimetype": "text/x-python",
   "name": "python",
   "nbconvert_exporter": "python",
   "pygments_lexer": "ipython3",
   "version": "3.8.3"
  }
 },
 "nbformat": 4,
 "nbformat_minor": 4
}
