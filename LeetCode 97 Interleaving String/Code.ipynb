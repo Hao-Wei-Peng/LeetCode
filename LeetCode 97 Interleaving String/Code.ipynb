{
  "nbformat": 4,
  "nbformat_minor": 0,
  "metadata": {
    "colab": {
      "provenance": [],
      "collapsed_sections": []
    },
    "kernelspec": {
      "name": "python3",
      "display_name": "Python 3"
    },
    "language_info": {
      "name": "python"
    }
  },
  "cells": [
    {
      "cell_type": "code",
      "execution_count": null,
      "metadata": {
        "id": "mMOA-ZhSJFOB"
      },
      "outputs": [],
      "source": [
        "class Solution:\n",
        "    def isInterleave(self, s1: str, s2: str, s3: str) -> bool:\n",
        "\n",
        "        # base case\n",
        "        m, n = len(s1), len(s2)\n",
        "        k = len(s3)\n",
        "\n",
        "        if m + n != k:\n",
        "            return False\n",
        "        \n",
        "        dp = [[False] * (n + 1) for _ in range(0, m + 1)]\n",
        "        dp[m][n] = True\n",
        "\n",
        "        # Time Complexity will be O(m * n)\n",
        "        # Space Complexity will be O(m * n)\n",
        "\n",
        "        # dp[i][j] = either dp[i + 1][j] or dp[i][j + 1]\n",
        "        for i in range(m, -1, -1):\n",
        "            for j in range(n, -1, -1):\n",
        "                if i < m and s1[i] == s3[i + j] and dp[i + 1][j] == True: \n",
        "                    dp[i][j] = True\n",
        "\n",
        "                if j < n and s2[j] == s3[i + j] and dp[i][j + 1] == True:\n",
        "                    dp[i][j] = True\n",
        "        \n",
        "        return dp[0][0]\n"
      ]
    }
  ]
}