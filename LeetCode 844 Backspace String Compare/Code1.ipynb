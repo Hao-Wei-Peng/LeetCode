{
  "nbformat": 4,
  "nbformat_minor": 0,
  "metadata": {
    "colab": {
      "name": "Code.ipynb",
      "provenance": [],
      "collapsed_sections": []
    },
    "kernelspec": {
      "name": "python3",
      "display_name": "Python 3"
    },
    "language_info": {
      "name": "python"
    }
  },
  "cells": [
    {
      "cell_type": "code",
      "execution_count": null,
      "metadata": {
        "id": "hFD3gFKqbvee"
      },
      "outputs": [],
      "source": [
        "class Solution:\n",
        "    def backspaceCompare(self, s: str, t: str) -> bool:\n",
        "\n",
        "        # we will type characters in s and t into empty text\n",
        "        # when we type \"#\" symbol, we will backspace one step\n",
        "\n",
        "        # Time Complexity will be O(m + n)\n",
        "        # Space Complexity will be O(1)\n",
        "\n",
        "        # we need to consider some situations (reverse traversal)\n",
        "        # 1. if we meet # symbol, we need to count 1\n",
        "        # 2. if we meet lowercase symbol, we need to check count whether larger than 0\n",
        "        #    if larger than 0, we don't need to consider current symbol (count minus 1)\n",
        "        #    else, we need to use current symbol\n",
        "\n",
        "        m = len(s)\n",
        "        n = len(t)\n",
        "\n",
        "        s_ptr, t_ptr = m - 1, n - 1\n",
        "        skip_s, skip_t = 0, 0\n",
        "\n",
        "        while s_ptr >= 0 or t_ptr >= 0:\n",
        "\n",
        "            # check str s\n",
        "            while s_ptr >= 0:\n",
        "                if s[s_ptr] == \"#\":\n",
        "                    skip_s += 1\n",
        "                    s_ptr -= 1\n",
        "                elif skip_s > 0:\n",
        "                    skip_s -= 1\n",
        "                    s_ptr -= 1\n",
        "                else:\n",
        "                    break\n",
        "            \n",
        "            # check str t\n",
        "            while t_ptr >= 0:\n",
        "                if t[t_ptr] == \"#\":\n",
        "                    skip_t += 1\n",
        "                    t_ptr -= 1\n",
        "                elif skip_t > 0:\n",
        "                    skip_t -= 1\n",
        "                    t_ptr -= 1\n",
        "                else:\n",
        "                    break\n",
        "            \n",
        "            print(s_ptr, t_ptr)\n",
        "            if s_ptr >= 0 and t_ptr >= 0:\n",
        "                if s[s_ptr] != t[t_ptr]:\n",
        "                    return False\n",
        "\n",
        "            elif s_ptr >= 0 or t_ptr >= 0:\n",
        "                return False\n",
        "            \n",
        "            s_ptr -= 1\n",
        "            t_ptr -= 1\n",
        "            \n",
        "        return True\n",
        "        "
      ]
    }
  ]
}