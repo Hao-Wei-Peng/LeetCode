{
  "nbformat": 4,
  "nbformat_minor": 0,
  "metadata": {
    "colab": {
      "name": "Code.ipynb",
      "provenance": [],
      "collapsed_sections": []
    },
    "kernelspec": {
      "name": "python3",
      "display_name": "Python 3"
    },
    "language_info": {
      "name": "python"
    }
  },
  "cells": [
    {
      "cell_type": "code",
      "execution_count": null,
      "metadata": {
        "id": "hFD3gFKqbvee"
      },
      "outputs": [],
      "source": [
        "class Solution:\n",
        "    def backspaceCompare(self, s: str, t: str) -> bool:\n",
        "\n",
        "        # we will type characters in s and t into empty text\n",
        "        # when we type \"#\" symbol, we will backspace one step\n",
        "\n",
        "        # Time Complexity will be O(m + n)\n",
        "        # Space Complexity will be O(m + n)\n",
        "\n",
        "        def establish_str(cur_str):\n",
        "\n",
        "            n = len(cur_str)\n",
        "\n",
        "            if n == 1:\n",
        "                return cur_str\n",
        "\n",
        "            stack = []\n",
        "            # example: a##c = c\n",
        "            for char in cur_str:\n",
        "                # if current character is not #, append to stack\n",
        "                if char != \"#\":\n",
        "                    stack.append(char)\n",
        "\n",
        "                # else, pop last element (stack should be not empty)\n",
        "                elif stack:\n",
        "                    stack.pop()\n",
        "\n",
        "            return \"\".join(stack)\n",
        "\n",
        "        return establish_str(s) == establish_str(t)"
      ]
    }
  ]
}