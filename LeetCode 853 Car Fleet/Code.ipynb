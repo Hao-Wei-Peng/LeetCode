{
  "nbformat": 4,
  "nbformat_minor": 0,
  "metadata": {
    "colab": {
      "provenance": [],
      "collapsed_sections": []
    },
    "kernelspec": {
      "name": "python3",
      "display_name": "Python 3"
    },
    "language_info": {
      "name": "python"
    }
  },
  "cells": [
    {
      "cell_type": "code",
      "execution_count": null,
      "metadata": {
        "id": "mMOA-ZhSJFOB"
      },
      "outputs": [],
      "source": [
        "class Solution:\n",
        "    def carFleet(self, target: int, position: List[int], speed: List[int]) -> int:\n",
        "\n",
        "        # Time Complexity will be O(nlogn)\n",
        "        # Space Complexity will be O(n)\n",
        "        if not position or not speed:\n",
        "            return 0\n",
        "        \n",
        "        pair = [[p, s] for p, s in zip(position, speed)]\n",
        "        stack = []\n",
        "\n",
        "        for p, s in sorted(pair)[::-1]: # Reverse Sorted Order\n",
        "            costHour = (target - p) / s # decimal\n",
        "            stack.append(costHour)\n",
        "\n",
        "            if len(stack) > 1 and stack[-1] <= stack[-2]:\n",
        "                stack.pop()\n",
        "        \n",
        "        return len(stack)"
      ]
    }
  ]
}