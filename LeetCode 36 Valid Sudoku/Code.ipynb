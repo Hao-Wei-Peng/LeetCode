{
  "nbformat": 4,
  "nbformat_minor": 0,
  "metadata": {
    "colab": {
      "provenance": [],
      "collapsed_sections": []
    },
    "kernelspec": {
      "name": "python3",
      "display_name": "Python 3"
    },
    "language_info": {
      "name": "python"
    }
  },
  "cells": [
    {
      "cell_type": "code",
      "execution_count": null,
      "metadata": {
        "id": "hFD3gFKqbvee"
      },
      "outputs": [],
      "source": [
        "class Solution:\n",
        "    def isValidSudoku(self, board: List[List[str]]) -> bool:\n",
        "\n",
        "        Rows = len(board)\n",
        "        Cols = len(board[0])\n",
        "\n",
        "        row, col, sub_box = defaultdict(set), defaultdict(set), defaultdict(set)\n",
        "\n",
        "        for r in range(0, Rows):\n",
        "            for c in range(0, Cols):\n",
        "                number = board[r][c]\n",
        "\n",
        "                # if current position is dot, do nothing\n",
        "                if number == \".\":\n",
        "                    continue\n",
        "                \n",
        "                # determine whether current number is at which sub-boxes\n",
        "                box = (r // 3) * 3 + (c // 3)\n",
        "\n",
        "                # check whether current number in same row, col, or in current sub-boxes\n",
        "                if number in row[r] or number in col[c] or number in sub_box[box]:\n",
        "                    return False\n",
        "\n",
        "                row[r].add(number)\n",
        "                col[c].add(number)\n",
        "                sub_box[box].add(number)\n",
        "        \n",
        "        return True"
      ]
    }
  ]
}