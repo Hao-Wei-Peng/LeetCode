{
  "nbformat": 4,
  "nbformat_minor": 0,
  "metadata": {
    "colab": {
      "provenance": [],
      "collapsed_sections": []
    },
    "kernelspec": {
      "name": "python3",
      "display_name": "Python 3"
    },
    "language_info": {
      "name": "python"
    }
  },
  "cells": [
    {
      "cell_type": "code",
      "execution_count": null,
      "metadata": {
        "id": "mMOA-ZhSJFOB"
      },
      "outputs": [],
      "source": [
        "# Definition for a binary tree node.\n",
        "# class TreeNode:\n",
        "#     def __init__(self, val=0, left=None, right=None):\n",
        "#         self.val = val\n",
        "#         self.left = left\n",
        "#         self.right = right\n",
        "class Solution:\n",
        "\n",
        "    def lcaDeepestLeaves(self, root: Optional[TreeNode]) -> Optional[TreeNode]:\n",
        "        tree = self.DFS(root)\n",
        "        return tree[0]\n",
        "    \n",
        "    def DFS(self, root):\n",
        "\n",
        "        # base case\n",
        "        # (node, depth)\n",
        "        if not root:\n",
        "            return (None, 0)\n",
        "        \n",
        "        Left = self.DFS(root.left)\n",
        "        Right = self.DFS(root.right)\n",
        "\n",
        "        # Key Point: determine depth\n",
        "        if Left[1] > Right[1]:\n",
        "            return (Left[0], Left[1] + 1)\n",
        "        \n",
        "        elif Left[1] < Right[1]:\n",
        "            return (Right[0], Right[1] + 1)\n",
        "        \n",
        "        else:\n",
        "            return (root, Left[1] + 1)\n",
        "        "
      ]
    }
  ]
}