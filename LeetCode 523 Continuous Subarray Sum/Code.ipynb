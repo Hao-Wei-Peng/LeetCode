{
  "nbformat": 4,
  "nbformat_minor": 0,
  "metadata": {
    "colab": {
      "provenance": [],
      "collapsed_sections": []
    },
    "kernelspec": {
      "name": "python3",
      "display_name": "Python 3"
    },
    "language_info": {
      "name": "python"
    }
  },
  "cells": [
    {
      "cell_type": "code",
      "execution_count": null,
      "metadata": {
        "id": "mMOA-ZhSJFOB"
      },
      "outputs": [],
      "source": [
        "class Solution:\n",
        "    def checkSubarraySum(self, nums: List[int], k: int) -> bool:\n",
        "\n",
        "        n = len(nums)\n",
        "\n",
        "        # base case\n",
        "        if n == 1:\n",
        "            return False\n",
        "\n",
        "        # we can use prefix to deal with this problem\n",
        "        # x = n * k\n",
        "\n",
        "        # prefix = 0, count = 1\n",
        "        prefix_dict = collections.defaultdict(int)\n",
        "        prefix_dict[0] = -1\n",
        "\n",
        "        prefixSums = 0\n",
        "\n",
        "        for idx in range(0, n):\n",
        "            prefixSums = prefixSums + nums[idx]\n",
        "            prefixSums = prefixSums % k\n",
        "\n",
        "            if prefixSums in prefix_dict:\n",
        "                if idx - prefix_dict[prefixSums] >= 2:\n",
        "                    print(idx, prefix_dict[prefixSums])\n",
        "                    return True\n",
        "\n",
        "            else:\n",
        "                prefix_dict[prefixSums] = idx\n",
        "\n",
        "        return False\n"
      ]
    }
  ]
}