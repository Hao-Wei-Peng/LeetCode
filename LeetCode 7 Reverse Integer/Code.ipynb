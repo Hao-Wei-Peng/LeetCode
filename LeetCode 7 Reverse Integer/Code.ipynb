{
  "nbformat": 4,
  "nbformat_minor": 0,
  "metadata": {
    "colab": {
      "provenance": []
    },
    "kernelspec": {
      "name": "python3",
      "display_name": "Python 3"
    },
    "language_info": {
      "name": "python"
    }
  },
  "cells": [
    {
      "cell_type": "code",
      "execution_count": null,
      "metadata": {
        "id": "mMOA-ZhSJFOB"
      },
      "outputs": [],
      "source": [
        "class Solution:\n",
        "    def reverse(self, x: int) -> int:\n",
        "\n",
        "        # base case\n",
        "        if not x:\n",
        "            return 0\n",
        "        \n",
        "        # Time Complexity will be O(n)\n",
        "        # Space Complexity will be O(n)\n",
        "        ans = 0\n",
        "        sign, reverse = 1, []\n",
        "\n",
        "        if x < 0:\n",
        "            x = abs(x)\n",
        "            sign = -1 # if current x is negative, sign = -1\n",
        "        \n",
        "        while x > 0:\n",
        "            module = x % 10\n",
        "            x = x // 10\n",
        "            reverse.append(module)\n",
        "        \n",
        "        LenR = len(reverse) - 1\n",
        "\n",
        "        # [3, 2, 1] -> ans = 321\n",
        "        for num in reverse:\n",
        "            ans += 10 ** LenR * num\n",
        "            LenR -= 1\n",
        "        \n",
        "        ans = sign * ans\n",
        "\n",
        "        if -2**31 <= ans <= 2**31 - 1:\n",
        "            return ans\n",
        "        else:\n",
        "            return 0\n"
      ]
    }
  ]
}