{
  "nbformat": 4,
  "nbformat_minor": 0,
  "metadata": {
    "colab": {
      "provenance": []
    },
    "kernelspec": {
      "name": "python3",
      "display_name": "Python 3"
    },
    "language_info": {
      "name": "python"
    }
  },
  "cells": [
    {
      "cell_type": "code",
      "execution_count": null,
      "metadata": {
        "id": "mMOA-ZhSJFOB"
      },
      "outputs": [],
      "source": [
        "# Definition for a binary tree node.\n",
        "# class TreeNode:\n",
        "#     def __init__(self, val=0, left=None, right=None):\n",
        "#         self.val = val\n",
        "#         self.left = left\n",
        "#         self.right = right\n",
        "class Solution:\n",
        "    def __init__(self):\n",
        "        self.start = []\n",
        "        self.end = []\n",
        "\n",
        "    def getDirections(self, root: Optional[TreeNode], startValue: int, destValue: int) -> str:\n",
        "\n",
        "        self.DFS(root, startValue, destValue)\n",
        "        \n",
        "        return \"\".join(self.start + self.end[::-1])\n",
        "    \n",
        "    def DFS(self, root, startValue, destValue):\n",
        "\n",
        "        # 4 status: 0: no, 1: only has start, 2: only has end, 3: has both start and end\n",
        "        # base case\n",
        "        if not root:\n",
        "            return 0\n",
        "        \n",
        "        val = 0\n",
        "\n",
        "        if root.val == startValue:\n",
        "            val += 1\n",
        "        \n",
        "        elif root.val == destValue:\n",
        "            val += 2\n",
        "        \n",
        "        L, R = self.DFS(root.left, startValue, destValue), self.DFS(root.right, startValue, destValue)\n",
        "\n",
        "        if L == 1:\n",
        "            self.start.append(\"U\")\n",
        "        \n",
        "        elif L == 2:\n",
        "            self.end.append(\"L\")\n",
        "        \n",
        "        if R == 1:\n",
        "            self.start.append(\"U\")\n",
        "        \n",
        "        elif R == 2:\n",
        "            self.end.append(\"R\")\n",
        "        \n",
        "        return L | R | val\n",
        "\n"
      ]
    }
  ]
}