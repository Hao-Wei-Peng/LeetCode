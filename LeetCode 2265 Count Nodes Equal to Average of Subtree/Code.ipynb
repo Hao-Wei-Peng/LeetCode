{
  "nbformat": 4,
  "nbformat_minor": 0,
  "metadata": {
    "colab": {
      "provenance": [],
      "collapsed_sections": []
    },
    "kernelspec": {
      "name": "python3",
      "display_name": "Python 3"
    },
    "language_info": {
      "name": "python"
    }
  },
  "cells": [
    {
      "cell_type": "code",
      "execution_count": null,
      "metadata": {
        "id": "mMOA-ZhSJFOB"
      },
      "outputs": [],
      "source": [
        "# Definition for a binary tree node.\n",
        "# class TreeNode:\n",
        "#     def __init__(self, val=0, left=None, right=None):\n",
        "#         self.val = val\n",
        "#         self.left = left\n",
        "#         self.right = right\n",
        "class Solution:\n",
        "    def __init__(self):\n",
        "        self.CntNode = 0\n",
        "\n",
        "    def averageOfSubtree(self, root: Optional[TreeNode]) -> int:\n",
        "        self.DFS(root)\n",
        "        return self.CntNode\n",
        "\n",
        "    def DFS(self, root):\n",
        "\n",
        "        # end condition (0 val, 0 node)\n",
        "        if not root:\n",
        "            return (0, 0)\n",
        "        \n",
        "        root.left = self.DFS(root.left)\n",
        "        root.right = self.DFS(root.right)\n",
        "        \n",
        "        # leaf node\n",
        "        if root.left[1] == 0 and root.right[1] == 0:\n",
        "            self.CntNode += 1\n",
        "            return (root.val, 1)\n",
        "        \n",
        "        # if we have children\n",
        "        elif root.left[1] or root.right[1]:\n",
        "            Total = root.val + root.left[0] + root.right[0]\n",
        "            Denom = 1 + root.left[1] + root.right[1]\n",
        "\n",
        "            if (Total // Denom) == root.val:\n",
        "                self.CntNode += 1\n",
        "            \n",
        "            return (Total, Denom)\n"
      ]
    }
  ]
}