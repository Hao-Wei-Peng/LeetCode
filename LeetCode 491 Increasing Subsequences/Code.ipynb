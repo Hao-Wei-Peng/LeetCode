{
  "nbformat": 4,
  "nbformat_minor": 0,
  "metadata": {
    "colab": {
      "name": "Code.ipynb",
      "provenance": [],
      "collapsed_sections": []
    },
    "kernelspec": {
      "name": "python3",
      "display_name": "Python 3"
    },
    "language_info": {
      "name": "python"
    }
  },
  "cells": [
    {
      "cell_type": "code",
      "execution_count": null,
      "metadata": {
        "id": "hFD3gFKqbvee"
      },
      "outputs": [],
      "source": [
        "class Solution:\n",
        "    def findSubsequences(self, nums: List[int]) -> List[List[int]]:\n",
        "\n",
        "        path = []\n",
        "        ans = []\n",
        "\n",
        "        def backtrack(start_idx):\n",
        "            # todo\n",
        "\n",
        "            # subsequence at least two elements\n",
        "            if len(path) >= 2:\n",
        "                ans.append(path[:])\n",
        "\n",
        "            # prune\n",
        "            if len(nums) == start_idx:\n",
        "                return\n",
        "\n",
        "            visited = set()\n",
        "\n",
        "            for idx in range(start_idx, len(nums)):\n",
        "                \n",
        "                # if current element smaller than previous\n",
        "                # or we have visited, pass current iteration\n",
        "                if (path and nums[idx] < path[-1]) or nums[idx] in visited:\n",
        "                    continue\n",
        "\n",
        "                element = nums[idx]\n",
        "                visited.add(element)\n",
        "                path.append(element)\n",
        "                backtrack(idx + 1)\n",
        "                path.pop()\n",
        "\n",
        "        backtrack(0)\n",
        "\n",
        "        return ans"
      ]
    }
  ]
}