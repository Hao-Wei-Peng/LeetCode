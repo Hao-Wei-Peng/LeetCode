{
  "nbformat": 4,
  "nbformat_minor": 0,
  "metadata": {
    "colab": {
      "provenance": [],
      "collapsed_sections": []
    },
    "kernelspec": {
      "name": "python3",
      "display_name": "Python 3"
    },
    "language_info": {
      "name": "python"
    }
  },
  "cells": [
    {
      "cell_type": "code",
      "execution_count": null,
      "metadata": {
        "id": "mMOA-ZhSJFOB"
      },
      "outputs": [],
      "source": [
        "class Solution:\n",
        "    def maxUncrossedLines(self, nums1: List[int], nums2: List[int]) -> int:\n",
        "\n",
        "        # we can use same principle (1143) to deal with this problem\n",
        "        m = len(nums1)\n",
        "        n = len(nums2)\n",
        "\n",
        "        dp = [[0] * (n + 1) for _ in range(0, m + 1)]\n",
        "        \n",
        "        for i in range(m - 1, -1, -1):\n",
        "            for j in range(n - 1, -1, -1):\n",
        "                if nums1[i] == nums2[j]:\n",
        "                    dp[i][j] = dp[i + 1][j + 1] + 1\n",
        "                \n",
        "                else:\n",
        "                    dp[i][j] = max(dp[i + 1][j], dp[i][j + 1])\n",
        "        \n",
        "        return dp[0][0]"
      ]
    }
  ]
}