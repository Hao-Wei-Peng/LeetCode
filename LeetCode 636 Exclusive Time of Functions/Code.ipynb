{
  "nbformat": 4,
  "nbformat_minor": 0,
  "metadata": {
    "colab": {
      "provenance": []
    },
    "kernelspec": {
      "name": "python3",
      "display_name": "Python 3"
    },
    "language_info": {
      "name": "python"
    }
  },
  "cells": [
    {
      "cell_type": "code",
      "execution_count": null,
      "metadata": {
        "id": "mMOA-ZhSJFOB"
      },
      "outputs": [],
      "source": [
        "class Solution:\n",
        "    def convertLog(self, log):\n",
        "        id, label, time = log.split(\":\")\n",
        "        return int(id), label, int(time)\n",
        "\n",
        "    def exclusiveTime(self, n: int, logs: List[str]) -> List[int]:\n",
        "\n",
        "        # base case\n",
        "        if not logs:\n",
        "            return logs\n",
        "        \n",
        "        stack, ans, total = [], [0] * n, 0\n",
        "\n",
        "        # Time Complexity will be O(n)\n",
        "        # Space Complexity will be O(n)\n",
        "        \n",
        "        for log in logs:\n",
        "            idx, isStart, time = self.convertLog(log)\n",
        "\n",
        "            if isStart == \"start\":\n",
        "                stack.append((idx, time, total)) # record idx, timestamp, current total time\n",
        "            \n",
        "            else:\n",
        "                _, t, s = stack.pop()\n",
        "                diff = time + 1 - t - (total - s) # time span - current total time \n",
        "                ans[idx] += diff\n",
        "                total += diff\n",
        "        \n",
        "        return ans\n"
      ]
    }
  ]
}