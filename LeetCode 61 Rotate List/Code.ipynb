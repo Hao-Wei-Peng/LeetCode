{
  "nbformat": 4,
  "nbformat_minor": 0,
  "metadata": {
    "colab": {
      "provenance": []
    },
    "kernelspec": {
      "name": "python3",
      "display_name": "Python 3"
    },
    "language_info": {
      "name": "python"
    }
  },
  "cells": [
    {
      "cell_type": "code",
      "execution_count": null,
      "metadata": {
        "id": "mMOA-ZhSJFOB"
      },
      "outputs": [],
      "source": [
        "# Definition for singly-linked list.\n",
        "# class ListNode:\n",
        "#     def __init__(self, val=0, next=None):\n",
        "#         self.val = val\n",
        "#         self.next = next\n",
        "class Solution:\n",
        "    def rotateRight(self, head: Optional[ListNode], k: int) -> Optional[ListNode]:\n",
        "        \n",
        "        # base case\n",
        "        if not head or not head.next or not k:\n",
        "            return head\n",
        "        \n",
        "        # count how many nodes in linked list\n",
        "        cur, cnt = head, 0\n",
        "\n",
        "        while cur:\n",
        "            cnt += 1\n",
        "            cur = cur.next\n",
        "\n",
        "        # Time Complexity will be O(n)\n",
        "        # Space Complexity will be O(1)\n",
        "        k = k % cnt # use module (more efficient)\n",
        "\n",
        "        # base case\n",
        "        if k == 0:\n",
        "            return head\n",
        "\n",
        "        slow, fast = head, head\n",
        "\n",
        "        # fast = 3\n",
        "        for _ in range(0, k):\n",
        "            fast = fast.next\n",
        "        \n",
        "        # slow = 3, fast = 5\n",
        "        while fast and fast.next:\n",
        "            slow = slow.next\n",
        "            fast = fast.next\n",
        "        \n",
        "        SecondPart = slow.next # ListNode(4)\n",
        "        slow.next = None\n",
        "        fast.next = head\n",
        "\n",
        "        return SecondPart\n"
      ]
    }
  ]
}