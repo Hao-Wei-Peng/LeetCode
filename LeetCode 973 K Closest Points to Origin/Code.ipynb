{
  "nbformat": 4,
  "nbformat_minor": 0,
  "metadata": {
    "colab": {
      "name": "Code.ipynb",
      "provenance": [],
      "collapsed_sections": []
    },
    "kernelspec": {
      "name": "python3",
      "display_name": "Python 3"
    },
    "language_info": {
      "name": "python"
    }
  },
  "cells": [
    {
      "cell_type": "code",
      "execution_count": null,
      "metadata": {
        "id": "hFD3gFKqbvee"
      },
      "outputs": [],
      "source": [
        "class Solution:\n",
        "    def kClosest(self, points: List[List[int]], k: int) -> List[List[int]]:\n",
        "\n",
        "        # we can use priority heap to deal with this problem\n",
        "        \n",
        "        prior_queue = []\n",
        "\n",
        "        # Time Complexity will be O(nlogk)\n",
        "        for point in points:\n",
        "            x = point[0]\n",
        "            y = point[1]\n",
        "            distance = x*x + y*y\n",
        "\n",
        "            if len(prior_queue) < k:\n",
        "                heapq.heappush(prior_queue, (-distance, point))\n",
        "            \n",
        "            else:\n",
        "                # if current coordinator is closest to the original point\n",
        "                # pop element in the priority queue and add current coordinator \n",
        "                # in the priority queue\n",
        "                if -distance > prior_queue[0][0]:\n",
        "                    heapq.heappop(prior_queue)\n",
        "                    heapq.heappush(prior_queue, (-distance, point))\n",
        "        \n",
        "        ans = []\n",
        "\n",
        "        for i in range(0, k):\n",
        "            coordinator = heapq.heappop(prior_queue)[1]\n",
        "            ans.append(coordinator)\n",
        "        \n",
        "        return ans"
      ]
    }
  ]
}