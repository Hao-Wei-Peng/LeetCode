{
  "nbformat": 4,
  "nbformat_minor": 0,
  "metadata": {
    "colab": {
      "provenance": []
    },
    "kernelspec": {
      "name": "python3",
      "display_name": "Python 3"
    },
    "language_info": {
      "name": "python"
    }
  },
  "cells": [
    {
      "cell_type": "code",
      "execution_count": null,
      "metadata": {
        "id": "mMOA-ZhSJFOB"
      },
      "outputs": [],
      "source": [
        "class Solution:\n",
        "    def finalPrices(self, prices: List[int]) -> List[int]:\n",
        "\n",
        "        # base case\n",
        "        if not prices:\n",
        "            return None\n",
        "        \n",
        "        n = len(prices)\n",
        "        stack = []\n",
        "\n",
        "        # Time Complexity will be O(n)\n",
        "        # Space Complexity will be O(n)\n",
        "        for idx in range(0, n):\n",
        "            cur_price = prices[idx]\n",
        "\n",
        "            while stack and cur_price <= stack[-1][0]:\n",
        "                prices[stack[-1][1]] -= prices[idx]\n",
        "                stack.pop()\n",
        "            \n",
        "            stack.append((cur_price, idx))\n",
        "        \n",
        "        return prices"
      ]
    }
  ]
}