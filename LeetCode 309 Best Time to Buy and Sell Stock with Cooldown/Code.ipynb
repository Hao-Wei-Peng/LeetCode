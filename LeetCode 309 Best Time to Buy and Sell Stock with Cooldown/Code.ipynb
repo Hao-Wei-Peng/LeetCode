{
  "nbformat": 4,
  "nbformat_minor": 0,
  "metadata": {
    "colab": {
      "provenance": [],
      "collapsed_sections": []
    },
    "kernelspec": {
      "name": "python3",
      "display_name": "Python 3"
    },
    "language_info": {
      "name": "python"
    }
  },
  "cells": [
    {
      "cell_type": "code",
      "execution_count": null,
      "metadata": {
        "id": "hFD3gFKqbvee"
      },
      "outputs": [],
      "source": [
        "class Solution:\n",
        "    def maxProfit(self, prices: List[int]) -> int:\n",
        "\n",
        "        n = len(prices)\n",
        "\n",
        "        # Time Complexity will be O(n)\n",
        "        # Space Complexity will be O(n)\n",
        "\n",
        "        if n == 1:\n",
        "            return 0\n",
        "\n",
        "        # we can use dynamic programming to deal with this problem\n",
        "        # dp[i][j] = at day i, largest profit at status j\n",
        "        # 4 status\n",
        "        # 1. buy stock\n",
        "        # 2. sell stock (maintain sell stock status)\n",
        "        # 3. sell stock (today)\n",
        "        # 4. cooldown\n",
        "        \n",
        "        dp = [[0] * 4 for _ in range(0, n)]\n",
        "        dp[0][0] = -prices[0]\n",
        "\n",
        "        for i in range(1, n):\n",
        "            dp[i][0] = max(dp[i - 1][0], dp[i - 1][1] - prices[i], dp[i - 1][3] - prices[i])\n",
        "            dp[i][1] = max(dp[i - 1][1], dp[i - 1][3])\n",
        "            dp[i][2] = dp[i - 1][0] + prices[i]\n",
        "            dp[i][3] = dp[i - 1][2]\n",
        "\n",
        "        return max(dp[-1][1], dp[-1][2], dp[-1][3])\n"
      ]
    }
  ]
}