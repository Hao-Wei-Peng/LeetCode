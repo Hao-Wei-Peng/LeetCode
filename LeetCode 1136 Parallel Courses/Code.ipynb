{
  "nbformat": 4,
  "nbformat_minor": 0,
  "metadata": {
    "colab": {
      "provenance": []
    },
    "kernelspec": {
      "name": "python3",
      "display_name": "Python 3"
    },
    "language_info": {
      "name": "python"
    }
  },
  "cells": [
    {
      "cell_type": "code",
      "source": [
        "class Solution:\n",
        "    def minimumSemesters(self, n: int, relations: List[List[int]]) -> int:\n",
        "\n",
        "        # base case\n",
        "        if not relations or not n:\n",
        "            return -1\n",
        "        \n",
        "        Graph = collections.defaultdict(list)\n",
        "        InDegree = [0] * (n + 1) # Space Complexity will be O(v), vertices\n",
        "\n",
        "        for pre, nxt in relations:\n",
        "            Graph[pre].append(nxt)\n",
        "            InDegree[nxt] += 1\n",
        "        \n",
        "        # we can use BFS + topological to deal with this problem\n",
        "        Queue = collections.deque()\n",
        "\n",
        "        for i in range(1, n + 1):\n",
        "            if InDegree[i] == 0:\n",
        "                Queue.append(i)\n",
        "        \n",
        "        course, semester = 0, 0\n",
        "\n",
        "        while Queue:\n",
        "\n",
        "            for _ in range(len(Queue)):\n",
        "                crs = Queue.popleft()\n",
        "                course += 1\n",
        "\n",
        "                for nxt in Graph[crs]:\n",
        "                    InDegree[nxt] -= 1\n",
        "\n",
        "                    if InDegree[nxt] == 0:\n",
        "                        Queue.append(nxt)\n",
        "\n",
        "            semester += 1\n",
        "        \n",
        "        return semester if n == course else -1"
      ],
      "metadata": {
        "id": "VQsRJ7yrQZxK"
      },
      "execution_count": null,
      "outputs": []
    }
  ]
}