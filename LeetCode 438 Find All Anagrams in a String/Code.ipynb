{
  "nbformat": 4,
  "nbformat_minor": 0,
  "metadata": {
    "colab": {
      "provenance": []
    },
    "kernelspec": {
      "name": "python3",
      "display_name": "Python 3"
    },
    "language_info": {
      "name": "python"
    }
  },
  "cells": [
    {
      "cell_type": "code",
      "execution_count": null,
      "metadata": {
        "id": "mMOA-ZhSJFOB"
      },
      "outputs": [],
      "source": [
        "class Solution:\n",
        "    def findAnagrams(self, s: str, p: str) -> List[int]:\n",
        "\n",
        "        # base case\n",
        "        if not s or not p:\n",
        "            return []\n",
        "\n",
        "        # m: 10, n: 3\n",
        "        m, n = len(s), len(p)\n",
        "\n",
        "        if m < n:\n",
        "            return []\n",
        "\n",
        "        C1, C2 = [0] * 26, [0] * 26\n",
        "\n",
        "        for idx in range(0, n):\n",
        "            curs, curp = s[idx], p[idx]\n",
        "            C1[ord(curs) - ord(\"a\")] += 1\n",
        "            C2[ord(curp) - ord(\"a\")] += 1\n",
        "        \n",
        "        ans, matches = [], 0\n",
        "\n",
        "        for idx in range(0, 26):\n",
        "            if C1[idx] == C2[idx]:\n",
        "                matches += 1\n",
        "        \n",
        "        if matches == 26:\n",
        "            ans.append(0)\n",
        "\n",
        "        L = 0\n",
        "        for R in range(n, m):\n",
        "\n",
        "            # right part\n",
        "            char = s[R]\n",
        "            index = ord(char) - ord(\"a\")\n",
        "            C1[index] += 1\n",
        "\n",
        "            if C2[index] + 1 == C1[index]:\n",
        "               matches -= 1\n",
        "            \n",
        "            elif C2[index] == C1[index]:\n",
        "                matches += 1\n",
        "\n",
        "            # left part\n",
        "            char = s[L]\n",
        "            index = ord(char) - ord(\"a\")\n",
        "            C1[index] -= 1\n",
        "\n",
        "            if C2[index] == C1[index]:\n",
        "                matches += 1\n",
        "            \n",
        "            elif C2[index] - 1 == C1[index]:\n",
        "                matches -= 1\n",
        "            \n",
        "            L += 1\n",
        "        \n",
        "            if matches == 26: ans.append(L)\n",
        "        \n",
        "        return ans"
      ]
    }
  ]
}