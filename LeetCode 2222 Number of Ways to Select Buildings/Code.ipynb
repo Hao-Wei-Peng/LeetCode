{
  "nbformat": 4,
  "nbformat_minor": 0,
  "metadata": {
    "colab": {
      "provenance": [],
      "collapsed_sections": []
    },
    "kernelspec": {
      "name": "python3",
      "display_name": "Python 3"
    },
    "language_info": {
      "name": "python"
    }
  },
  "cells": [
    {
      "cell_type": "code",
      "execution_count": null,
      "metadata": {
        "id": "mMOA-ZhSJFOB"
      },
      "outputs": [],
      "source": [
        "class Solution:\n",
        "    def numberOfWays(self, s: str) -> int:\n",
        "\n",
        "        # base case \n",
        "        if not s:\n",
        "            return 0\n",
        "        \n",
        "        # Time Complexity will be O(n)\n",
        "        # Space Complexity will be O(1)\n",
        "        # 2 types -> 010, 101\n",
        "        n = len(s)\n",
        "        n0 = s.count(\"0\")\n",
        "        n1 = n - n0\n",
        "\n",
        "        cnt0, cnt1 = 0, 0\n",
        "        ans = 0\n",
        "\n",
        "        for char in s:\n",
        "            if char == \"0\":\n",
        "                ans += cnt1 * (n1 - cnt1)\n",
        "                cnt0 += 1\n",
        "            \n",
        "            elif char == \"1\":\n",
        "                ans += cnt0 * (n0 - cnt0)\n",
        "                cnt1 += 1\n",
        "        \n",
        "        return ans"
      ]
    }
  ]
}