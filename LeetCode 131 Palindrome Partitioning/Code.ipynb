{
  "nbformat": 4,
  "nbformat_minor": 0,
  "metadata": {
    "colab": {
      "name": "Code.ipynb",
      "provenance": [],
      "collapsed_sections": []
    },
    "kernelspec": {
      "name": "python3",
      "display_name": "Python 3"
    },
    "language_info": {
      "name": "python"
    }
  },
  "cells": [
    {
      "cell_type": "code",
      "execution_count": null,
      "metadata": {
        "id": "hFD3gFKqbvee"
      },
      "outputs": [],
      "source": [
        "class Solution:\n",
        "    def partition(self, s: str) -> List[List[str]]:\n",
        "\n",
        "        ans = []\n",
        "        path = []\n",
        "\n",
        "        def check_palindrome(cur_str, start, end):\n",
        "\n",
        "            left = start\n",
        "            right = end\n",
        "\n",
        "            while left < right:\n",
        "                if cur_str[left] != cur_str[right]:\n",
        "                    return False\n",
        "                \n",
        "                left = left + 1\n",
        "                right = right - 1\n",
        "            \n",
        "            return True\n",
        "\n",
        "        def backtrack(s, start_idx):\n",
        "            # todo\n",
        "            if start_idx == len(s):\n",
        "                ans.append(path[:])\n",
        "                return\n",
        "\n",
        "            for idx in range(start_idx, len(s)): \n",
        "\n",
        "                # current string   \n",
        "                temp = s[start_idx : idx + 1]\n",
        "                # check whether it is palindrome\n",
        "                flag = check_palindrome(s, start_idx, idx)\n",
        "\n",
        "                if flag:\n",
        "                    path.append(temp)\n",
        "                    backtrack(s, idx + 1)\n",
        "                    path.pop()\n",
        "\n",
        "                else:\n",
        "                    continue\n",
        "\n",
        "        backtrack(s, 0)\n",
        "\n",
        "        return ans"
      ]
    }
  ]
}