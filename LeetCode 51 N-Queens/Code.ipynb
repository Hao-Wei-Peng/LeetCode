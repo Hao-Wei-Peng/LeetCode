{
  "nbformat": 4,
  "nbformat_minor": 0,
  "metadata": {
    "colab": {
      "name": "Code.ipynb",
      "provenance": [],
      "collapsed_sections": []
    },
    "kernelspec": {
      "name": "python3",
      "display_name": "Python 3"
    },
    "language_info": {
      "name": "python"
    }
  },
  "cells": [
    {
      "cell_type": "code",
      "execution_count": null,
      "metadata": {
        "id": "hFD3gFKqbvee"
      },
      "outputs": [],
      "source": [
        "class Solution:\n",
        "    def solveNQueens(self, n: int) -> List[List[str]]:\n",
        "\n",
        "        # Queen cannot at same column\n",
        "        # Queen cannot at same row\n",
        "        # Queen cannot at diagonal\n",
        "        board = [[\".\"] * n for _ in range(n)]\n",
        "        ans = []\n",
        "        # print(board)\n",
        "\n",
        "        def isValid(board, row, col):\n",
        "\n",
        "            # check whether the Queen in same row\n",
        "            Rows = len(board)\n",
        "\n",
        "            for m in range(0, Rows):\n",
        "                if board[m][col] == \"Q\":\n",
        "                    return False\n",
        "            \n",
        "            # check diagonal (135), left top\n",
        "            x = row - 1\n",
        "            y = col - 1\n",
        "\n",
        "            while x >= 0 and y >= 0:\n",
        "                if board[x][y] == \"Q\":\n",
        "                    return False\n",
        "                \n",
        "                x = x - 1\n",
        "                y = y - 1\n",
        "\n",
        "            # check diagonal (45), right top\n",
        "            x = row - 1\n",
        "            y = col + 1\n",
        "\n",
        "            while x >= 0 and y < Rows:\n",
        "                if board[x][y] == \"Q\":\n",
        "                    return False\n",
        "                \n",
        "                x = x - 1\n",
        "                y = y + 1\n",
        "\n",
        "            return True\n",
        "\n",
        "\n",
        "        def backtrack(row, n, board):\n",
        "            # todo\n",
        "            if row == n:\n",
        "                cur_ans = []\n",
        "\n",
        "                for char in board:\n",
        "                    cur_str = \"\".join(char)\n",
        "                    cur_ans.append(cur_str)\n",
        "                \n",
        "                ans.append(cur_ans)\n",
        "\n",
        "            # we need to ensure which position can put Queen\n",
        "            for col in range(0, n):\n",
        "                if not isValid(board, row, col):\n",
        "                    continue\n",
        "                \n",
        "                board[row][col] = \"Q\"\n",
        "                backtrack(row + 1, n, board)\n",
        "                board[row][col] = \".\"\n",
        "\n",
        "        backtrack(0, n, board)\n",
        "\n",
        "        return ans"
      ]
    }
  ]
}