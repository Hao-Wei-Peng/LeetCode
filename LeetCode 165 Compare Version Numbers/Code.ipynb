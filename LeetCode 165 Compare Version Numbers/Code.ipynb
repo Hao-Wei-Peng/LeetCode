{
  "nbformat": 4,
  "nbformat_minor": 0,
  "metadata": {
    "colab": {
      "provenance": []
    },
    "kernelspec": {
      "name": "python3",
      "display_name": "Python 3"
    },
    "language_info": {
      "name": "python"
    }
  },
  "cells": [
    {
      "cell_type": "code",
      "execution_count": null,
      "metadata": {
        "id": "mMOA-ZhSJFOB"
      },
      "outputs": [],
      "source": [
        "class Solution:\n",
        "    def compareVersion(self, v1: str, v2: str) -> int:\n",
        "\n",
        "        # may contain leading 0\n",
        "        # at least one character\n",
        "        # ignore leading zeros\n",
        "        m, n = len(v1), len(v2)\n",
        "        p1, p2 = 0, 0\n",
        "\n",
        "        # Time Complexity will be O(m + n)\n",
        "        # Space Complexity will be O(1)\n",
        "        while p1 < m or p2 < n:\n",
        "            num1, num2 = 0, 0\n",
        "\n",
        "            while p1 < m and v1[p1] != \".\":\n",
        "                num1 = 10 * num1 + int(v1[p1])\n",
        "                p1 += 1\n",
        "            \n",
        "            while p2 < n and v2[p2] != \".\":\n",
        "                num2 = 10 * num2 + int(v2[p2])\n",
        "                p2 += 1\n",
        "            \n",
        "            if num1 < num2:\n",
        "                return -1\n",
        "            elif num1 > num2:\n",
        "                return 1\n",
        "            \n",
        "            p1 += 1\n",
        "            p2 += 1\n",
        "\n",
        "        return 0"
      ]
    }
  ]
}