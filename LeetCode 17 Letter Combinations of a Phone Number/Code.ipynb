{
  "nbformat": 4,
  "nbformat_minor": 0,
  "metadata": {
    "colab": {
      "name": "Code.ipynb",
      "provenance": [],
      "collapsed_sections": []
    },
    "kernelspec": {
      "name": "python3",
      "display_name": "Python 3"
    },
    "language_info": {
      "name": "python"
    }
  },
  "cells": [
    {
      "cell_type": "code",
      "execution_count": null,
      "metadata": {
        "id": "hFD3gFKqbvee"
      },
      "outputs": [],
      "source": [
        "class Solution:\n",
        "    def letterCombinations(self, digits: str) -> List[str]:\n",
        "\n",
        "        if not digits:\n",
        "            return []\n",
        "\n",
        "        phoneMap = {\n",
        "            \"2\": \"abc\",\n",
        "            \"3\": \"def\",\n",
        "            \"4\": \"ghi\",\n",
        "            \"5\": \"jkl\",\n",
        "            \"6\": \"mno\",\n",
        "            \"7\": \"pqrs\",\n",
        "            \"8\": \"tuv\",\n",
        "            \"9\": \"wxyz\",\n",
        "        }\n",
        "\n",
        "        ans = []\n",
        "        path = []\n",
        "\n",
        "        def backtrack(index):\n",
        "\n",
        "            if index == len(digits):\n",
        "                ans.append(\"\".join(path))\n",
        "            \n",
        "            else:\n",
        "                digit = digits[index]\n",
        "                for letter in phoneMap[digit]:\n",
        "                    path.append(letter)\n",
        "                    backtrack(index + 1)\n",
        "                    path.pop()\n",
        "\n",
        "        backtrack(0)\n",
        "\n",
        "        return ans"
      ]
    }
  ]
}