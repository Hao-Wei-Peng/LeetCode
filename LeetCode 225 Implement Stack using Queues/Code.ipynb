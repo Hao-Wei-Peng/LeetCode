{
  "nbformat": 4,
  "nbformat_minor": 0,
  "metadata": {
    "colab": {
      "name": "Code.ipynb",
      "provenance": [],
      "collapsed_sections": []
    },
    "kernelspec": {
      "name": "python3",
      "display_name": "Python 3"
    },
    "language_info": {
      "name": "python"
    }
  },
  "cells": [
    {
      "cell_type": "code",
      "execution_count": null,
      "metadata": {
        "id": "hFD3gFKqbvee"
      },
      "outputs": [],
      "source": [
        "class MyStack:\n",
        "\n",
        "    def __init__(self):\n",
        "        self.InQueue = collections.deque()\n",
        "        self.OutQueue = collections.deque()\n",
        "\n",
        "    def push(self, x: int) -> None:\n",
        "        # append new element\n",
        "        self.InQueue.append(x)\n",
        "\n",
        "    def pop(self) -> int:\n",
        "        \n",
        "        if self.empty == True:\n",
        "            return None\n",
        "        # we need to pop elements (except last element) in InQueue and push them into QutQueue\n",
        "        # and change with each other and pop element from OutQueue in the end\n",
        "        for i in range(0, len(self.InQueue) - 1):\n",
        "            val = self.InQueue.popleft()\n",
        "            self.OutQueue.append(val)\n",
        "\n",
        "        self.InQueue, self.OutQueue = self.OutQueue, self.InQueue\n",
        "        return self.OutQueue.popleft()\n",
        "\n",
        "    def top(self) -> int:\n",
        "        \n",
        "        if self.empty == True:\n",
        "            return None\n",
        "        \n",
        "        return self.InQueue[-1]\n",
        "\n",
        "    def empty(self) -> bool:\n",
        "        if not self.InQueue and not self.OutQueue:\n",
        "            return True\n",
        "        else:\n",
        "            return False\n",
        "\n",
        "        \n",
        "\n",
        "\n",
        "# Your MyStack object will be instantiated and called as such:\n",
        "# obj = MyStack()\n",
        "# obj.push(x)\n",
        "# param_2 = obj.pop()\n",
        "# param_3 = obj.top()\n",
        "# param_4 = obj.empty()"
      ]
    }
  ]
}