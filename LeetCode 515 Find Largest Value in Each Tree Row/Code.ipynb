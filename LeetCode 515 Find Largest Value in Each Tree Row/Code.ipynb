{
  "nbformat": 4,
  "nbformat_minor": 0,
  "metadata": {
    "colab": {
      "name": "Code.ipynb",
      "provenance": [],
      "collapsed_sections": []
    },
    "kernelspec": {
      "name": "python3",
      "display_name": "Python 3"
    },
    "language_info": {
      "name": "python"
    }
  },
  "cells": [
    {
      "cell_type": "code",
      "execution_count": null,
      "metadata": {
        "id": "hFD3gFKqbvee"
      },
      "outputs": [],
      "source": [
        "# Definition for a binary tree node.\n",
        "# class TreeNode:\n",
        "#     def __init__(self, val=0, left=None, right=None):\n",
        "#         self.val = val\n",
        "#         self.left = left\n",
        "#         self.right = right\n",
        "class Solution:\n",
        "    def largestValues(self, root: Optional[TreeNode]) -> List[int]:\n",
        "\n",
        "        # edge case\n",
        "        if not root:\n",
        "            return []\n",
        "        \n",
        "        # Time Complexity will be O(n)\n",
        "        # Space Complexity will be O(n)\n",
        "        # n = tree nodes\n",
        "        queue = collections.deque([root])\n",
        "        ans = []\n",
        "\n",
        "        while queue:\n",
        "            LenQ = len(queue)\n",
        "            Level_Max = float(\"-inf\")\n",
        "\n",
        "            for i in range(0, LenQ):\n",
        "                node = queue.popleft()\n",
        "                Level_Max = max(Level_Max, node.val)\n",
        "\n",
        "                if node.left:\n",
        "                    queue.append(node.left)\n",
        "                \n",
        "                if node.right:\n",
        "                    queue.append(node.right)\n",
        "                \n",
        "            ans.append(Level_Max)\n",
        "        \n",
        "        return ans"
      ]
    }
  ]
}