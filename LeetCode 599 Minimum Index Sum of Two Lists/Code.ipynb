{
  "nbformat": 4,
  "nbformat_minor": 0,
  "metadata": {
    "colab": {
      "name": "Code.ipynb",
      "provenance": [],
      "collapsed_sections": []
    },
    "kernelspec": {
      "name": "python3",
      "display_name": "Python 3"
    },
    "language_info": {
      "name": "python"
    }
  },
  "cells": [
    {
      "cell_type": "code",
      "execution_count": null,
      "metadata": {
        "id": "hFD3gFKqbvee"
      },
      "outputs": [],
      "source": [
        "class Solution:\n",
        "    def findRestaurant(self, list1: List[str], list2: List[str]) -> List[str]:\n",
        "\n",
        "        # we can dictionary to record idx of list1\n",
        "        restaurant = {}\n",
        "        ans = []\n",
        "        minimum_idx = float(\"inf\")\n",
        "\n",
        "        for idx, name in enumerate(list1):\n",
        "            restaurant[name] = idx\n",
        "        \n",
        "        # Time Complexity will be O(m + n)\n",
        "        # Space Complexity will be O(m)\n",
        "        # we can search whether same restaurant in list2\n",
        "        # if exist, calculate minimum index\n",
        "        for idx, name in enumerate(list2):\n",
        "            if name in restaurant:\n",
        "                # todo\n",
        "                l1_idx = restaurant[name]\n",
        "                l2_idx = idx\n",
        "                cur_total = l1_idx + l2_idx\n",
        "\n",
        "                # two conditions on idx result\n",
        "                # 1. smaller than current minimum\n",
        "                # 2. equal to current minimum\n",
        "\n",
        "                if cur_total < minimum_idx:\n",
        "                    minimum_idx = cur_total\n",
        "                    ans = [name]\n",
        "                \n",
        "                elif cur_total == minimum_idx:\n",
        "                    ans.append(name)\n",
        "\n",
        "        return ans"
      ]
    }
  ]
}