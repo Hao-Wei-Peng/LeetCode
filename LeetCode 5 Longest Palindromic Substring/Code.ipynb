{
  "nbformat": 4,
  "nbformat_minor": 0,
  "metadata": {
    "colab": {
      "provenance": [],
      "collapsed_sections": []
    },
    "kernelspec": {
      "name": "python3",
      "display_name": "Python 3"
    },
    "language_info": {
      "name": "python"
    }
  },
  "cells": [
    {
      "cell_type": "code",
      "execution_count": null,
      "metadata": {
        "id": "mMOA-ZhSJFOB"
      },
      "outputs": [],
      "source": [
        "class Solution:\n",
        "    def longestPalindrome(self, s: str) -> str:\n",
        "\n",
        "        n = len(s)\n",
        "\n",
        "        if n == 1:\n",
        "            return s\n",
        "\n",
        "        # we can use dynamic programming to deal with this problem\n",
        "        # dp[i][j] = maximum length at index s[i : j]\n",
        "        dp = [[False] * n for _ in range(0, n)]\n",
        "\n",
        "        # initialization\n",
        "        for i in range(0, n):\n",
        "            dp[i][i] = True\n",
        "\n",
        "        MaxLen = 1\n",
        "        Start = 0\n",
        "\n",
        "        for i in range(n - 1, -1, -1):\n",
        "            for j in range(i + 1, n):\n",
        "                if s[i] == s[j] and (j - i < 2 or dp[i + 1][j - 1] == True):\n",
        "                    dp[i][j] = True\n",
        "                    CurLen = j - i + 1\n",
        "\n",
        "                    if dp[i][j]:\n",
        "                        if CurLen > MaxLen:\n",
        "                            MaxLen = CurLen\n",
        "                            Start = i\n",
        "\n",
        "        return s[Start : Start + MaxLen]        "
      ]
    }
  ]
}