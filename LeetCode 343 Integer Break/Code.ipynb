{
  "nbformat": 4,
  "nbformat_minor": 0,
  "metadata": {
    "colab": {
      "name": "Code.ipynb",
      "provenance": [],
      "collapsed_sections": []
    },
    "kernelspec": {
      "name": "python3",
      "display_name": "Python 3"
    },
    "language_info": {
      "name": "python"
    }
  },
  "cells": [
    {
      "cell_type": "code",
      "execution_count": null,
      "metadata": {
        "id": "hFD3gFKqbvee"
      },
      "outputs": [],
      "source": [
        "class Solution:\n",
        "    def integerBreak(self, n: int) -> int:\n",
        "\n",
        "        # k >= 2, sum of k integers will be integer n\n",
        "        # n = 2, [1 + 1], [2 + 0] -> mp = 1\n",
        "        # n = 3, [1 + 2], [1 + 1 + 1] -> mp = 2\n",
        "        # n = 4, [2 + 2], [1 + 1 + 2], [1 + 1 + 1 + 1] -> mp = 4\n",
        "\n",
        "        # obtain rule -> f(n) = max(1*f(n - 1), 2*f(n - 2), ..., (n - 1)*f(1))\n",
        "        # m = 1 ~ n - 1\n",
        "\n",
        "        # Time Complexity will be O(n^2)\n",
        "        # Space Complexity will be O(n)\n",
        "        # dp[i] = obtain maximum product when n divide by i components\n",
        "        dp = [0] * (n + 1)\n",
        "\n",
        "        # initialization\n",
        "        dp[2] = 1\n",
        "\n",
        "        for i in range(3, n + 1):\n",
        "            # m = 1 ~ i - 1\n",
        "            for m in range(1, i):\n",
        "                # divide into two parts\n",
        "                current = m * (i - m)\n",
        "                # (i - m) may still divide into a subpart\n",
        "                subpart = m * dp[i - m]\n",
        "                dp[i] = max(dp[i], current, subpart)\n",
        "\n",
        "        return dp[n]"
      ]
    }
  ]
}