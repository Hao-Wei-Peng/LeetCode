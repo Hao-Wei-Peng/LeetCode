{
  "nbformat": 4,
  "nbformat_minor": 0,
  "metadata": {
    "colab": {
      "provenance": []
    },
    "kernelspec": {
      "name": "python3",
      "display_name": "Python 3"
    },
    "language_info": {
      "name": "python"
    }
  },
  "cells": [
    {
      "cell_type": "code",
      "execution_count": null,
      "metadata": {
        "id": "mMOA-ZhSJFOB"
      },
      "outputs": [],
      "source": [
        "class Logger:\n",
        "\n",
        "    def __init__(self):\n",
        "        self.History = set() # set of past messages younger than 10 timestamps\n",
        "        self.Queue = [] # order list of messages younger than 10 timestamps\n",
        "\n",
        "    def shouldPrintMessage(self, timestamp: int, message: str) -> bool:\n",
        "\n",
        "        while self.Queue and self.Queue[0][0] <= timestamp - 10:\n",
        "            self.History.remove(self.Queue[0][1])\n",
        "            self.Queue.pop(0)\n",
        "\n",
        "        if message in self.History:\n",
        "            return False\n",
        "\n",
        "        else:\n",
        "            self.History.add(message)\n",
        "            self.Queue.append((timestamp, message)) \n",
        "            return True\n",
        "\n",
        "# Your Logger object will be instantiated and called as such:\n",
        "# obj = Logger()\n",
        "# param_1 = obj.shouldPrintMessage(timestamp,message)"
      ]
    }
  ]
}