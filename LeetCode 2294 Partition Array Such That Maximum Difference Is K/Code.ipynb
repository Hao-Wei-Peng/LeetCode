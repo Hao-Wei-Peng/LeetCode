{
  "nbformat": 4,
  "nbformat_minor": 0,
  "metadata": {
    "colab": {
      "provenance": []
    },
    "kernelspec": {
      "name": "python3",
      "display_name": "Python 3"
    },
    "language_info": {
      "name": "python"
    }
  },
  "cells": [
    {
      "cell_type": "code",
      "execution_count": null,
      "metadata": {
        "id": "mMOA-ZhSJFOB"
      },
      "outputs": [],
      "source": [
        "class Solution:\n",
        "    def partitionArray(self, nums: List[int], k: int) -> int:\n",
        "\n",
        "        # base case\n",
        "        if not nums:\n",
        "            return 0\n",
        "        \n",
        "        # Time Complexity will be O(nlogn)\n",
        "        # Space Complexity will be O(1)\n",
        "        nums = sorted(nums)\n",
        "        cut, last = 1, nums[0]\n",
        "\n",
        "        for num in nums:\n",
        "            if num - last > k:\n",
        "                last = num\n",
        "                cut += 1\n",
        "        \n",
        "        return cut"
      ]
    }
  ]
}