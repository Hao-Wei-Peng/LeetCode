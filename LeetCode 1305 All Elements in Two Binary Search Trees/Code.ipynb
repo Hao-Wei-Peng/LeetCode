{
  "nbformat": 4,
  "nbformat_minor": 0,
  "metadata": {
    "colab": {
      "provenance": [],
      "collapsed_sections": []
    },
    "kernelspec": {
      "name": "python3",
      "display_name": "Python 3"
    },
    "language_info": {
      "name": "python"
    }
  },
  "cells": [
    {
      "cell_type": "code",
      "execution_count": null,
      "metadata": {
        "id": "mMOA-ZhSJFOB"
      },
      "outputs": [],
      "source": [
        "# Definition for a binary tree node.\n",
        "# class TreeNode:\n",
        "#     def __init__(self, val=0, left=None, right=None):\n",
        "#         self.val = val\n",
        "#         self.left = left\n",
        "#         self.right = right\n",
        "class Solution:\n",
        "    def getAllElements(self, root1: TreeNode, root2: TreeNode) -> List[int]:\n",
        "\n",
        "        ans = []\n",
        "\n",
        "        # base case\n",
        "        if not root1 and not root2:\n",
        "            return ans\n",
        "\n",
        "        # both trees are binary search trees\n",
        "        List1 = self.InOrder(root1)\n",
        "        List2 = self.InOrder(root2)\n",
        "        ans = self.Ascending(List1, List2)\n",
        "        return ans\n",
        "\n",
        "    def InOrder(self, root):\n",
        "\n",
        "        ans = []\n",
        "\n",
        "        # base case\n",
        "        if not root:\n",
        "            return ans\n",
        "\n",
        "        stack = []\n",
        "        cur = root\n",
        "\n",
        "        while cur or stack:\n",
        "            while cur:\n",
        "                stack.append(cur)\n",
        "                cur = cur.left\n",
        "            \n",
        "            node = stack.pop()\n",
        "            ans.append(node.val)\n",
        "\n",
        "            cur = node.right\n",
        "        \n",
        "        return ans\n",
        "\n",
        "    \n",
        "    def Ascending(self, lst1, lst2):\n",
        "\n",
        "        ans = []\n",
        "        ptr1, ptr2 = 0, 0\n",
        "        Len1, Len2 = len(lst1), len(lst2)\n",
        "        \n",
        "        # two pointers to deal with this problem\n",
        "        while ptr1 < Len1 and ptr2 < Len2:\n",
        "\n",
        "            if lst1[ptr1] <= lst2[ptr2]:\n",
        "                ans.append(lst1[ptr1])\n",
        "                ptr1 += 1\n",
        "            \n",
        "            elif lst1[ptr1] > lst2[ptr2]:\n",
        "                ans.append(lst2[ptr2])\n",
        "                ptr2 += 1\n",
        "\n",
        "        if ptr1 < Len1:\n",
        "            ans += lst1[ptr1 : ]\n",
        "\n",
        "        if ptr2 < Len2:\n",
        "            ans += lst2[ptr2 : ]            \n",
        "\n",
        "        return ans"
      ]
    }
  ]
}