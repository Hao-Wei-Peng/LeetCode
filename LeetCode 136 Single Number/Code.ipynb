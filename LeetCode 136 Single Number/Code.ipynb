{
  "nbformat": 4,
  "nbformat_minor": 0,
  "metadata": {
    "colab": {
      "name": "Code.ipynb",
      "provenance": [],
      "collapsed_sections": []
    },
    "kernelspec": {
      "name": "python3",
      "display_name": "Python 3"
    },
    "language_info": {
      "name": "python"
    }
  },
  "cells": [
    {
      "cell_type": "code",
      "execution_count": null,
      "metadata": {
        "id": "hFD3gFKqbvee"
      },
      "outputs": [],
      "source": [
        "class Solution:\n",
        "    def singleNumber(self, nums: List[int]) -> int:\n",
        "\n",
        "        # Time Complexity will be O(n)\n",
        "        # Space Complexity will be O(1)\n",
        "        # bit manipulation\n",
        "        # same will be 0, otherwise 1\n",
        "\n",
        "        ans = nums[0]\n",
        "\n",
        "        for num in nums[1 : ]:\n",
        "            ans = ans ^ num\n",
        "        \n",
        "        return ans\n"
      ]
    }
  ]
}