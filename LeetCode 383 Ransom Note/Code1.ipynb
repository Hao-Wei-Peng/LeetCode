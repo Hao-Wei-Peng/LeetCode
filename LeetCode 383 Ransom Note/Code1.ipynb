{
  "nbformat": 4,
  "nbformat_minor": 0,
  "metadata": {
    "colab": {
      "name": "Code.ipynb",
      "provenance": [],
      "collapsed_sections": []
    },
    "kernelspec": {
      "name": "python3",
      "display_name": "Python 3"
    },
    "language_info": {
      "name": "python"
    }
  },
  "cells": [
    {
      "cell_type": "code",
      "execution_count": null,
      "metadata": {
        "id": "hFD3gFKqbvee"
      },
      "outputs": [],
      "source": [
        "class Solution:\n",
        "    def canConstruct(self, ransomNote: str, magazine: str) -> bool:\n",
        "\n",
        "        m = len(ransomNote)\n",
        "        n = len(magazine)\n",
        "\n",
        "        # edge case\n",
        "        if m > n:\n",
        "            return False\n",
        "        \n",
        "        # Time Complexity will be O(m + n)\n",
        "        # Space Complexity will be O(sigma), sigma = 26\n",
        "\n",
        "        # use hashmap array to record frequency of each lowercase alphabet\n",
        "        hashmap = [0] * 26\n",
        "\n",
        "        # count frequency of magazine\n",
        "        for char in magazine:\n",
        "            hashmap[ord(char) - ord(\"a\")] += 1\n",
        "        \n",
        "        # assign to ransomnote\n",
        "        for char in ransomNote:\n",
        "            if hashmap[ord(char) - ord(\"a\")] == 0:\n",
        "                return False\n",
        "            else:\n",
        "                hashmap[ord(char) - ord(\"a\")] -= 1\n",
        "        \n",
        "        return True"
      ]
    }
  ]
}