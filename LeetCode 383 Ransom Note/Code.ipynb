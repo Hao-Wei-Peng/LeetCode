{
  "nbformat": 4,
  "nbformat_minor": 0,
  "metadata": {
    "colab": {
      "name": "Code.ipynb",
      "provenance": [],
      "collapsed_sections": []
    },
    "kernelspec": {
      "name": "python3",
      "display_name": "Python 3"
    },
    "language_info": {
      "name": "python"
    }
  },
  "cells": [
    {
      "cell_type": "code",
      "execution_count": null,
      "metadata": {
        "id": "hFD3gFKqbvee"
      },
      "outputs": [],
      "source": [
        "class Solution:\n",
        "    def canConstruct(self, ransomNote: str, magazine: str) -> bool:\n",
        "\n",
        "        m = len(ransomNote)\n",
        "        n = len(magazine)\n",
        "\n",
        "        # edge case\n",
        "        if m > n:\n",
        "            return False\n",
        "        \n",
        "        fre_dict = collections.defaultdict(int)\n",
        "\n",
        "        # Time Complexity will be O(m + n)\n",
        "        # Space Complexity will be O(n)\n",
        "        for char in magazine:\n",
        "            if char in fre_dict:\n",
        "                fre_dict[char] += 1\n",
        "            else:\n",
        "                fre_dict[char] = 1\n",
        "        \n",
        "        # minus frequency\n",
        "        for char in ransomNote:\n",
        "            if char in fre_dict and fre_dict[char] > 0:\n",
        "                fre_dict[char] -= 1\n",
        "            else:\n",
        "                return False\n",
        "        \n",
        "        return True"
      ]
    }
  ]
}