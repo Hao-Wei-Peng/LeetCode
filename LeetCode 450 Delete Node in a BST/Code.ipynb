{
  "nbformat": 4,
  "nbformat_minor": 0,
  "metadata": {
    "colab": {
      "name": "Code.ipynb",
      "provenance": [],
      "collapsed_sections": []
    },
    "kernelspec": {
      "name": "python3",
      "display_name": "Python 3"
    },
    "language_info": {
      "name": "python"
    }
  },
  "cells": [
    {
      "cell_type": "code",
      "execution_count": null,
      "metadata": {
        "id": "hFD3gFKqbvee"
      },
      "outputs": [],
      "source": [
        "# Definition for a binary tree node.\n",
        "# class TreeNode:\n",
        "#     def __init__(self, val=0, left=None, right=None):\n",
        "#         self.val = val\n",
        "#         self.left = left\n",
        "#         self.right = right\n",
        "class Solution:\n",
        "    def deleteNode(self, root: Optional[TreeNode], key: int) -> Optional[TreeNode]:\n",
        "\n",
        "        # edge case\n",
        "        if not root:\n",
        "            return root\n",
        "        \n",
        "        # Time Complexity will be O(n)\n",
        "        # Space Complexity will be O(n)\n",
        "        # n = tree nodes\n",
        "        if key < root.val:\n",
        "            root.left = self.deleteNode(root.left, key)\n",
        "\n",
        "        elif key > root.val:\n",
        "            root.right = self.deleteNode(root.right, key)\n",
        "        \n",
        "        # we need to consider 5 situations\n",
        "        else:\n",
        "            # if left node is None, return right node\n",
        "            if not root.left:\n",
        "                return root.right\n",
        "            # if right node is None, return left node\n",
        "            if not root.right:\n",
        "                return root.left\n",
        "            \n",
        "            # if both left and right are None, return None\n",
        "            if not root.left and not root.right:\n",
        "                return None\n",
        "            \n",
        "            # if both left and right are not None\n",
        "            node = root.right\n",
        "\n",
        "            while node.left:\n",
        "                node = node.left\n",
        "            \n",
        "            node.left = root.left\n",
        "            root = root.right\n",
        "\n",
        "        return root\n"
      ]
    }
  ]
}