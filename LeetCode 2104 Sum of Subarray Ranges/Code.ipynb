{
  "nbformat": 4,
  "nbformat_minor": 0,
  "metadata": {
    "colab": {
      "provenance": [],
      "collapsed_sections": []
    },
    "kernelspec": {
      "name": "python3",
      "display_name": "Python 3"
    },
    "language_info": {
      "name": "python"
    }
  },
  "cells": [
    {
      "cell_type": "code",
      "execution_count": 3,
      "metadata": {
        "id": "mMOA-ZhSJFOB"
      },
      "outputs": [],
      "source": [
        "class Solution:\n",
        "    def subArrayRanges(self, nums: List[int]) -> int:\n",
        "\n",
        "        # base case\n",
        "        if not nums:\n",
        "            return 0\n",
        "        \n",
        "        n = len(nums)\n",
        "\n",
        "        # Time Complexity will be O(n)\n",
        "        # Space Complexity will be O(n)\n",
        "        \n",
        "        # Minimum Bounded\n",
        "        stackMin = []\n",
        "        LMin, RMin = [-1] * n, [n] * n\n",
        "\n",
        "        # LMin = [-1, 0, 1]\n",
        "        # RMin = [3, 3, 3]\n",
        "        for idx in range(0, n):\n",
        "            curnum = nums[idx]\n",
        "\n",
        "            while stackMin and curnum <= nums[stackMin[-1]]:\n",
        "                index = stackMin.pop()\n",
        "                RMin[index] = idx\n",
        "\n",
        "            if stackMin:\n",
        "                LMin[idx] = stackMin[-1]\n",
        "\n",
        "            stackMin.append(idx)\n",
        "\n",
        "        # Maximum Bounded\n",
        "        stackMax = []\n",
        "        LMax, RMax = [-1] * n, [n] * n\n",
        "\n",
        "        # LMax = [-1, -1, -1]\n",
        "        # RMax = [1, 2, 3]\n",
        "        for idx in range(n - 1, -1, -1):\n",
        "            curnum = nums[idx]\n",
        "\n",
        "            while stackMax and curnum >= nums[stackMax[-1]]:\n",
        "                index = stackMax.pop()\n",
        "                LMax[index] = idx\n",
        "\n",
        "            if stackMax:\n",
        "                RMax[idx] = stackMax[-1]\n",
        "            \n",
        "            stackMax.append(idx)\n",
        "\n",
        "        ans = 0\n",
        "\n",
        "        for idx in range(0, n):\n",
        "            curnum = nums[idx]\n",
        "\n",
        "            Lmin, Rmin = LMin[idx], RMin[idx]\n",
        "            Lmax, Rmax = LMax[idx], RMax[idx]\n",
        "\n",
        "            # maximum part, minimum part\n",
        "            Lx, Rx = idx - Lmax, Rmax - idx\n",
        "            Ln, Rn = idx - Lmin, Rmin - idx\n",
        "\n",
        "            # sumofMax - sumofMin\n",
        "            ans += curnum * ((Rx * Lx) - (Rn * Ln))\n",
        "\n",
        "        return ans \n"
      ]
    }
  ]
}