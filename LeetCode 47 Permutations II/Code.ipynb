{
  "nbformat": 4,
  "nbformat_minor": 0,
  "metadata": {
    "colab": {
      "name": "Code.ipynb",
      "provenance": [],
      "collapsed_sections": []
    },
    "kernelspec": {
      "name": "python3",
      "display_name": "Python 3"
    },
    "language_info": {
      "name": "python"
    }
  },
  "cells": [
    {
      "cell_type": "code",
      "execution_count": null,
      "metadata": {
        "id": "hFD3gFKqbvee"
      },
      "outputs": [],
      "source": [
        "class Solution:\n",
        "    def permuteUnique(self, nums: List[int]) -> List[List[int]]:\n",
        "\n",
        "        ans = []\n",
        "        path = []\n",
        "        nums = sorted(nums)\n",
        "        used = [False] * len(nums)\n",
        "\n",
        "        def backtrack(nums, used):\n",
        "            \n",
        "            if len(path) == len(nums):\n",
        "                ans.append(path[:])\n",
        "                return\n",
        "\n",
        "            for idx in range(0, len(nums)):\n",
        "                \n",
        "                if not used[idx]:\n",
        "                    if idx > 0 and nums[idx] == nums[idx - 1] and not used[idx - 1]:\n",
        "                        continue\n",
        "\n",
        "                    used[idx] = True\n",
        "                    element = nums[idx]\n",
        "                    path.append(element)\n",
        "                    backtrack(nums, used)\n",
        "                    path.pop()\n",
        "                    used[idx] = False\n",
        "\n",
        "        backtrack(nums, used)\n",
        "\n",
        "        return ans"
      ]
    }
  ]
}