{
  "nbformat": 4,
  "nbformat_minor": 0,
  "metadata": {
    "colab": {
      "provenance": [],
      "collapsed_sections": []
    },
    "kernelspec": {
      "name": "python3",
      "display_name": "Python 3"
    },
    "language_info": {
      "name": "python"
    }
  },
  "cells": [
    {
      "cell_type": "code",
      "execution_count": null,
      "metadata": {
        "id": "mMOA-ZhSJFOB"
      },
      "outputs": [],
      "source": [
        "class Solution:\n",
        "    def numIslands(self, grid: List[List[str]]) -> int:\n",
        "\n",
        "        Rows = len(grid)\n",
        "        Cols = len(grid[0])\n",
        "\n",
        "        def dfs(r, c):\n",
        "            \n",
        "            if r < 0 or c < 0 or r == Rows or c == Cols or grid[r][c] != \"1\":\n",
        "                return\n",
        "            \n",
        "            grid[r][c] = \"T\"\n",
        "            dfs(r + 1, c)\n",
        "            dfs(r - 1, c)\n",
        "            dfs(r, c + 1)\n",
        "            dfs(r, c - 1)\n",
        "\n",
        "\n",
        "        IsLand = 0\n",
        "\n",
        "        # we need to record every position that we have visited\n",
        "        for r in range(0, Rows):\n",
        "            for c in range(0, Cols):\n",
        "                if grid[r][c] != \"0\" and grid[r][c] != \"T\":\n",
        "                    dfs(r, c)\n",
        "                    IsLand += 1\n",
        "        \n",
        "        return IsLand"
      ]
    }
  ]
}