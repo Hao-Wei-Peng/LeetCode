{
  "nbformat": 4,
  "nbformat_minor": 0,
  "metadata": {
    "colab": {
      "name": "Code.ipynb",
      "provenance": [],
      "collapsed_sections": []
    },
    "kernelspec": {
      "name": "python3",
      "display_name": "Python 3"
    },
    "language_info": {
      "name": "python"
    }
  },
  "cells": [
    {
      "cell_type": "code",
      "execution_count": null,
      "metadata": {
        "id": "hFD3gFKqbvee"
      },
      "outputs": [],
      "source": [
        "class Solution:\n",
        "    def sortedSquares(self, nums: List[int]) -> List[int]:\n",
        "\n",
        "        n = len(nums)\n",
        "        # ascending order nums\n",
        "        # use two pointers method to deal with this problem\n",
        "        \n",
        "        # edge case\n",
        "        if n == 1:\n",
        "            return [nums[0]**2]\n",
        "        \n",
        "        # Time Complexity will be O(n)\n",
        "        # Space Complexity will be O(n)\n",
        "        left, right = 0, n - 1\n",
        "        # use pos pointer to record position of ans\n",
        "        pos = n - 1\n",
        "        ans = [-1] * n\n",
        "\n",
        "        while left <= right:\n",
        "            lm = nums[left]**2\n",
        "            rm = nums[right]**2\n",
        "\n",
        "            if lm < rm:\n",
        "                ans[pos] = rm\n",
        "                right = right - 1\n",
        "            else:\n",
        "                ans[pos] = lm\n",
        "                left = left + 1\n",
        "            pos = pos - 1\n",
        "        \n",
        "        return ans"
      ]
    }
  ]
}