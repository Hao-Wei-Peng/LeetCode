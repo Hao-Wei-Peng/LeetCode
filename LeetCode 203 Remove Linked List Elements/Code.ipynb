{
  "nbformat": 4,
  "nbformat_minor": 0,
  "metadata": {
    "colab": {
      "name": "Code.ipynb",
      "provenance": [],
      "collapsed_sections": []
    },
    "kernelspec": {
      "name": "python3",
      "display_name": "Python 3"
    },
    "language_info": {
      "name": "python"
    }
  },
  "cells": [
    {
      "cell_type": "code",
      "execution_count": null,
      "metadata": {
        "id": "hFD3gFKqbvee"
      },
      "outputs": [],
      "source": [
        "# Definition for singly-linked list.\n",
        "# class ListNode:\n",
        "#     def __init__(self, val=0, next=None):\n",
        "#         self.val = val\n",
        "#         self.next = next\n",
        "\n",
        "class ListNode:\n",
        "    def __init__(self, val = 0, next = None):\n",
        "        self.val = val\n",
        "        self.next = next\n",
        "\n",
        "class Solution:\n",
        "    def removeElements(self, head: ListNode, val: int) -> ListNode:\n",
        "\n",
        "        if not head:\n",
        "            return head\n",
        "\n",
        "        # we can use a dummy node\n",
        "        dummy = ListNode(0, head)\n",
        "        cur = dummy\n",
        "\n",
        "        # Time Complexity will be O(n)\n",
        "        # Space Complexity will be O(1)\n",
        "        # remove all the nodes of the linked list that Node.val == val\n",
        "        while cur.next:\n",
        "            # check whether satisfy conditions continuously\n",
        "            if cur.next.val == val:\n",
        "                cur.next = cur.next.next\n",
        "            else:\n",
        "                cur = cur.next\n",
        "        \n",
        "        return dummy.next"
      ]
    }
  ]
}