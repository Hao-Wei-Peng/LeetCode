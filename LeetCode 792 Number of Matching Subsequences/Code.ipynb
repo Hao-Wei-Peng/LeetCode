{
  "nbformat": 4,
  "nbformat_minor": 0,
  "metadata": {
    "colab": {
      "provenance": []
    },
    "kernelspec": {
      "name": "python3",
      "display_name": "Python 3"
    },
    "language_info": {
      "name": "python"
    }
  },
  "cells": [
    {
      "cell_type": "code",
      "execution_count": null,
      "metadata": {
        "id": "mMOA-ZhSJFOB"
      },
      "outputs": [],
      "source": [
        "class Solution:\n",
        "    def numMatchingSubseq(self, s: str, words: List[str]) -> int:\n",
        "\n",
        "        # base case\n",
        "        if not s or not words:\n",
        "            return 0\n",
        "        \n",
        "        ans = 0\n",
        "\n",
        "        for word in words:\n",
        "            num, pos = 0, -1\n",
        "\n",
        "            for char in word:\n",
        "                pos = s.find(char, pos + 1)\n",
        "\n",
        "                if pos == -1:\n",
        "                    break\n",
        "                \n",
        "                else:\n",
        "                    num += 1\n",
        "                \n",
        "                if num == len(word):\n",
        "                    ans += 1\n",
        "\n",
        "        return ans"
      ]
    }
  ]
}