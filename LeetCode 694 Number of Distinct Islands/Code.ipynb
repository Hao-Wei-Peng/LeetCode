{
  "nbformat": 4,
  "nbformat_minor": 0,
  "metadata": {
    "colab": {
      "provenance": []
    },
    "kernelspec": {
      "name": "python3",
      "display_name": "Python 3"
    },
    "language_info": {
      "name": "python"
    }
  },
  "cells": [
    {
      "cell_type": "code",
      "execution_count": null,
      "metadata": {
        "id": "mMOA-ZhSJFOB"
      },
      "outputs": [],
      "source": [
        "class Solution:\n",
        "    def __init__(self):\n",
        "        self.path = \"\"\n",
        "        self.directions = [(0, 1), (0, -1), (1, 0), (-1, 0)]\n",
        "\n",
        "    def numDistinctIslands(self, Grid: List[List[int]]) -> int:\n",
        "\n",
        "        # base case\n",
        "        if not Grid:\n",
        "            return 0\n",
        "        \n",
        "        # Time Complexity will be O(m * n)\n",
        "        # Space Complexity will be O(len(mode))\n",
        "        m, n = len(Grid), len(Grid[0])\n",
        "        mode = set() # record each pattern\n",
        "\n",
        "        for r in range(0, m):\n",
        "            for c in range(0, n):\n",
        "                if Grid[r][c] == 1:\n",
        "                    self.DFS(Grid, r, c)\n",
        "                    mode.add(self.path)\n",
        "                    self.path = \"\"\n",
        "\n",
        "        return len(mode)\n",
        "    \n",
        "    def DFS(self, Grid, r, c):\n",
        "\n",
        "        m, n = len(Grid), len(Grid[0])\n",
        "        Grid[r][c] = 0 # update the value\n",
        "\n",
        "        for idx, (x, y) in enumerate(self.directions):\n",
        "            nxt_r, nxt_c = r + x, c + y\n",
        "\n",
        "            self.path += str(idx) # if can visit, add to the path\n",
        "\n",
        "            if 0 <= nxt_r < m and 0 <= nxt_c < n and Grid[nxt_r][nxt_c] == 1:\n",
        "                self.DFS(Grid, nxt_r, nxt_c)\n"
      ]
    }
  ]
}