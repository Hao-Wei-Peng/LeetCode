{
  "nbformat": 4,
  "nbformat_minor": 0,
  "metadata": {
    "colab": {
      "name": "Code.ipynb",
      "provenance": [],
      "collapsed_sections": []
    },
    "kernelspec": {
      "name": "python3",
      "display_name": "Python 3"
    },
    "language_info": {
      "name": "python"
    }
  },
  "cells": [
    {
      "cell_type": "code",
      "execution_count": null,
      "metadata": {
        "id": "hFD3gFKqbvee"
      },
      "outputs": [],
      "source": [
        "class Solution:\n",
        "    def findTargetSumWays(self, nums: List[int], target: int) -> int:\n",
        "        \n",
        "        # all elements need to be selected\n",
        "        # calculate how many ways to achieve target\n",
        "        # sum of all positive = x\n",
        "        # sum of all negative = y\n",
        "        # x + abs(y) = total\n",
        "        # x - abs(y) = target\n",
        "        # (total + target) // 2 = Goal (we want to compute, Goal (x) is an integer)\n",
        "\n",
        "        total = sum(nums)\n",
        "        n = len(nums)\n",
        "\n",
        "        # target will be negative\n",
        "        target = abs(target)\n",
        "\n",
        "        # edge case\n",
        "        if target > total:\n",
        "            return 0\n",
        "\n",
        "        # if value is not even\n",
        "        if (target + total) % 2 == 1:\n",
        "            return 0\n",
        "\n",
        "        Goal = (total + target) // 2\n",
        "\n",
        "        # dp[i] = how many ways to achieve i  \n",
        "        dp = [0] * (Goal + 1)\n",
        "        \n",
        "        # initialization\n",
        "        dp[0] = 1\n",
        "        # dp[j - nums[i]]\n",
        "\n",
        "        # iterate each element\n",
        "        for i in range(0, n):\n",
        "            # check maximum afford value\n",
        "            for j in range(Goal, nums[i] - 1, -1):\n",
        "                dp[j] = dp[j] + dp[j - nums[i]]\n",
        "\n",
        "        return dp[Goal]\n"
      ]
    }
  ]
}