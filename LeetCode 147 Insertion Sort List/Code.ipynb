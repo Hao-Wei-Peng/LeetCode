{
  "nbformat": 4,
  "nbformat_minor": 0,
  "metadata": {
    "colab": {
      "provenance": [],
      "collapsed_sections": []
    },
    "kernelspec": {
      "name": "python3",
      "display_name": "Python 3"
    },
    "language_info": {
      "name": "python"
    }
  },
  "cells": [
    {
      "cell_type": "code",
      "execution_count": null,
      "metadata": {
        "id": "mMOA-ZhSJFOB"
      },
      "outputs": [],
      "source": [
        "# Definition for singly-linked list.\n",
        "# class ListNode:\n",
        "#     def __init__(self, val=0, next=None):\n",
        "#         self.val = val\n",
        "#         self.next = next\n",
        "class Solution:\n",
        "    def insertionSortList(self, head: ListNode) -> ListNode:\n",
        "        \n",
        "        # base case\n",
        "        if not head:\n",
        "            return head\n",
        "\n",
        "        dummy = ListNode(0, head)\n",
        "        pre, cur = head, head.next\n",
        "\n",
        "        while cur:\n",
        "\n",
        "            if pre.val <= cur.val:\n",
        "                pre = pre.next\n",
        "            \n",
        "            else:\n",
        "                newhead = dummy\n",
        "\n",
        "                while newhead.next.val <= cur.val:\n",
        "                    newhead = newhead.next\n",
        "\n",
        "                pre.next = cur.next\n",
        "                cur.next = newhead.next\n",
        "                newhead.next = cur\n",
        "\n",
        "            cur = pre.next\n",
        "        \n",
        "        return dummy.next"
      ]
    }
  ]
}