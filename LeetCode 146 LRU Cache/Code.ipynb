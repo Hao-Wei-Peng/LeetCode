{
  "nbformat": 4,
  "nbformat_minor": 0,
  "metadata": {
    "colab": {
      "provenance": [],
      "collapsed_sections": []
    },
    "kernelspec": {
      "name": "python3",
      "display_name": "Python 3"
    },
    "language_info": {
      "name": "python"
    }
  },
  "cells": [
    {
      "cell_type": "code",
      "execution_count": null,
      "metadata": {
        "id": "mMOA-ZhSJFOB"
      },
      "outputs": [],
      "source": [
        "class Node:\n",
        "    def __init__(self, key, val):\n",
        "        self.key, self.val = key, val\n",
        "        self.pre = self.next = None\n",
        "\n",
        "class LRUCache:\n",
        "    def __init__(self, capacity: int):\n",
        "        self.cap = capacity\n",
        "        self.cache = {} # map key to nodes\n",
        "        self.left = Node(0, 0)\n",
        "        self.right = Node(0, 0)\n",
        "        self.left.next, self.right.pre = self.right, self.left\n",
        "\n",
        "    def get(self, key: int) -> int:\n",
        "        if key in self.cache:\n",
        "            # ToDo: update most recent\n",
        "            # remove node and insert again (be most recent use)\n",
        "            self.remove(self.cache[key])\n",
        "            self.insert(self.cache[key])\n",
        "\n",
        "            return self.cache[key].val\n",
        "        return -1\n",
        "\n",
        "    def put(self, key: int, value: int) -> None:\n",
        "        # update value of key if key exists\n",
        "        if key in self.cache:\n",
        "            self.remove(self.cache[key])\n",
        "        # add key-value pair to cache\n",
        "        self.cache[key] = Node(key, value)\n",
        "        self.insert(self.cache[key])\n",
        "\n",
        "        if len(self.cache) > self.cap:\n",
        "            # remove from list and delete Least Recent Use from hashmap\n",
        "            lru = self.left.next\n",
        "            self.remove(lru)\n",
        "            del self.cache[lru.key]\n",
        "    \n",
        "    # remove node from list\n",
        "    def remove(self, node):\n",
        "        prev, nxt = node.pre, node.next\n",
        "        prev.next, nxt.pre = nxt, prev\n",
        "\n",
        "    # insert node from right\n",
        "    def insert(self, node):\n",
        "        prev, nxt = self.right.pre, self.right\n",
        "        prev.next, nxt.pre = node, node\n",
        "        node.next, node.pre = nxt, prev\n",
        "\n",
        "# Your LRUCache object will be instantiated and called as such:\n",
        "# obj = LRUCache(capacity)\n",
        "# param_1 = obj.get(key)\n",
        "# obj.put(key,value)"
      ]
    }
  ]
}