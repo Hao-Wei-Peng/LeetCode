{
  "nbformat": 4,
  "nbformat_minor": 0,
  "metadata": {
    "colab": {
      "provenance": [],
      "collapsed_sections": []
    },
    "kernelspec": {
      "name": "python3",
      "display_name": "Python 3"
    },
    "language_info": {
      "name": "python"
    }
  },
  "cells": [
    {
      "cell_type": "code",
      "execution_count": null,
      "metadata": {
        "id": "mMOA-ZhSJFOB"
      },
      "outputs": [],
      "source": [
        "class Solution:\n",
        "    def pacificAtlantic(self, heights: List[List[int]]) -> List[List[int]]:\n",
        "\n",
        "        Rows = len(heights)\n",
        "        Cols = len(heights[0])\n",
        "\n",
        "        # we can start at border positions, therefore, we can visit each position once time\n",
        "        # Time Complexity will be O(m * n)\n",
        "        Pacific, Atlantic = set(), set()\n",
        "\n",
        "        def dfs(r, c, visit, preHeight):\n",
        "\n",
        "            if ((r, c) in visit or r < 0 or c < 0 or r == Rows or c == Cols or heights[r][c] < preHeight):\n",
        "                return \n",
        "\n",
        "            visit.add((r, c))\n",
        "            dfs(r + 1, c, visit, heights[r][c])\n",
        "            dfs(r - 1, c, visit, heights[r][c])\n",
        "            dfs(r, c + 1, visit, heights[r][c])\n",
        "            dfs(r, c - 1, visit, heights[r][c]) \n",
        "\n",
        "        # left, top edges = Pacific Ocean\n",
        "        # right, bottom edges = Atlantic Ocean\n",
        "        for row in range(0, Rows):\n",
        "            # pacific\n",
        "            dfs(row, 0, Pacific, heights[row][0])\n",
        "            # atlantic\n",
        "            dfs(row, Cols - 1, Atlantic, heights[row][Cols - 1])\n",
        "\n",
        "        for col in range(0, Cols):\n",
        "            # pacific\n",
        "            dfs(0, col, Pacific, heights[0][col])\n",
        "            # atlantic\n",
        "            dfs(Rows - 1, col, Atlantic, heights[Rows - 1][col])\n",
        "\n",
        "        ans = []\n",
        "\n",
        "        for r in range(0, Rows):\n",
        "            for c in range(0, Cols):\n",
        "                if (r, c) in Pacific and (r, c) in Atlantic:\n",
        "                    ans.append([r, c])\n",
        "        \n",
        "        return ans\n"
      ]
    }
  ]
}