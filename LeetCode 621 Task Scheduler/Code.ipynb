{
  "nbformat": 4,
  "nbformat_minor": 0,
  "metadata": {
    "colab": {
      "provenance": [],
      "collapsed_sections": []
    },
    "kernelspec": {
      "name": "python3",
      "display_name": "Python 3"
    },
    "language_info": {
      "name": "python"
    }
  },
  "cells": [
    {
      "cell_type": "code",
      "execution_count": 7,
      "metadata": {
        "id": "mMOA-ZhSJFOB"
      },
      "outputs": [],
      "source": [
        "class Solution:\n",
        "    def leastInterval(self, tasks: List[str], n: int) -> int:\n",
        "        \n",
        "        # base case\n",
        "        if not tasks:\n",
        "            return 0\n",
        "\n",
        "        # tasks: CPU needs to do (all tasks should be visited)\n",
        "        # cooldown period: n        \n",
        "        count = collections.defaultdict(int)\n",
        "\n",
        "        for char in tasks:\n",
        "            if char not in count:\n",
        "                count[char] = 1\n",
        "            else:\n",
        "                count[char] += 1\n",
        "\n",
        "        maxHeap = [-cnt for cnt in count.values()]\n",
        "        heapq.heapify(maxHeap)\n",
        "\n",
        "        time = 0\n",
        "        queue = collections.deque()\n",
        "\n",
        "        while maxHeap or queue:\n",
        "            time += 1\n",
        "\n",
        "            if maxHeap:\n",
        "                cnt = heapq.heappop(maxHeap)\n",
        "                n_cnt = 1 + cnt\n",
        "\n",
        "                # if frequency is 0, do not need to append in queue\n",
        "                if n_cnt:\n",
        "                    queue.append([n_cnt, time + n])\n",
        "            \n",
        "            # after idle time, which CPU could be used\n",
        "            if queue and queue[0][1] == time:\n",
        "                p_cnt = queue.popleft()[0]\n",
        "                heapq.heappush(maxHeap, p_cnt)\n",
        "        \n",
        "        return time"
      ]
    }
  ]
}