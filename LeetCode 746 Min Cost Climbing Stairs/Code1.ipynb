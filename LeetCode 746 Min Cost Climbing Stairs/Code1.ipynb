{
  "nbformat": 4,
  "nbformat_minor": 0,
  "metadata": {
    "colab": {
      "name": "Code.ipynb",
      "provenance": [],
      "collapsed_sections": []
    },
    "kernelspec": {
      "name": "python3",
      "display_name": "Python 3"
    },
    "language_info": {
      "name": "python"
    }
  },
  "cells": [
    {
      "cell_type": "code",
      "execution_count": null,
      "metadata": {
        "id": "hFD3gFKqbvee"
      },
      "outputs": [],
      "source": [
        "class Solution:\n",
        "    def minCostClimbingStairs(self, cost: List[int]) -> int:\n",
        "\n",
        "        n = len(cost)\n",
        "\n",
        "        if n == 2:\n",
        "            return min(cost)\n",
        "\n",
        "        # Time Complexity will be O(n)\n",
        "        # Space Complexity will be O(1)\n",
        "        dp0 = cost[0]\n",
        "        dp1 = cost[1]\n",
        "\n",
        "        # pay cost, we can climb either one or two steps\n",
        "        for i in range(2, n):\n",
        "            curent = min(dp0, dp1) + cost[i]\n",
        "\n",
        "            dp0 = dp1\n",
        "            dp1 = curent\n",
        "        \n",
        "        # reach to the top\n",
        "        return min(dp0, dp1)"
      ]
    }
  ]
}