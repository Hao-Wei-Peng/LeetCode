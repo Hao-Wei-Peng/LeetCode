{
  "nbformat": 4,
  "nbformat_minor": 0,
  "metadata": {
    "colab": {
      "name": "Code.ipynb",
      "provenance": [],
      "collapsed_sections": []
    },
    "kernelspec": {
      "name": "python3",
      "display_name": "Python 3"
    },
    "language_info": {
      "name": "python"
    }
  },
  "cells": [
    {
      "cell_type": "code",
      "execution_count": null,
      "metadata": {
        "id": "hFD3gFKqbvee"
      },
      "outputs": [],
      "source": [
        "class Solution:\n",
        "    def minCostClimbingStairs(self, cost: List[int]) -> int:\n",
        "\n",
        "        n = len(cost)\n",
        "\n",
        "        if n == 2:\n",
        "            return min(cost)\n",
        "            \n",
        "        # Time Complexity will be O(n)\n",
        "        # Space Complexity will be O(n)\n",
        "        dp = [0] * n\n",
        "        dp[0] = cost[0]\n",
        "        dp[1] = cost[1]\n",
        "\n",
        "        # pay cost, we can climb either one or two steps\n",
        "        for i in range(2, n):\n",
        "            dp[i] = min(dp[i - 1], dp[i - 2]) + cost[i]\n",
        "        \n",
        "        # reach to the top\n",
        "        return min(dp[n - 1], dp[n - 2])"
      ]
    }
  ]
}