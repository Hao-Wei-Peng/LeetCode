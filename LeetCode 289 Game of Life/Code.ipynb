{
  "nbformat": 4,
  "nbformat_minor": 0,
  "metadata": {
    "colab": {
      "provenance": []
    },
    "kernelspec": {
      "name": "python3",
      "display_name": "Python 3"
    },
    "language_info": {
      "name": "python"
    }
  },
  "cells": [
    {
      "cell_type": "code",
      "execution_count": null,
      "metadata": {
        "id": "mMOA-ZhSJFOB"
      },
      "outputs": [],
      "source": [
        "class Solution:\n",
        "    def gameOfLife(self, board: List[List[int]]) -> None:\n",
        "        \"\"\"\n",
        "        Do not return anything, modify board in-place instead.\n",
        "        \"\"\"\n",
        "\n",
        "        # dead = 0, live = 1\n",
        "        # each cell interacts with its 8 neighbors\n",
        "\n",
        "        # Rules:\n",
        "        # 1: live with fewer than 2 live neighbors, dies\n",
        "        # 2: live with 2 or 3 live neighbors lives, lives\n",
        "        # 3: live with more than 3 live neighbors dies, dies\n",
        "        # 4: dead with exactly 3 live neighbors, lives\n",
        "\n",
        "        # Time Complexity will be O(m * n)\n",
        "        # Space Complexity will be O(1)\n",
        "        directions = [(0, 1), (0, -1), (1, 0), (-1, 0), (1, 1), (-1, -1), (1, -1), (-1, 1)]\n",
        "        m, n = len(board), len(board[0])\n",
        "\n",
        "        for r in range(0, m):\n",
        "            for c in range(0, n):\n",
        "\n",
        "                live_NB = 0 # record each position live cells\n",
        "\n",
        "                for x, y in directions:\n",
        "                    nxt_r, nxt_c = r + x, c + y\n",
        "\n",
        "                    if 0 <= nxt_r < m and 0 <= nxt_c < n and abs(board[nxt_r][nxt_c]) == 1:\n",
        "                        live_NB += 1\n",
        "\n",
        "                # rule 1 and rule 3, update the board = -1\n",
        "                if board[r][c] == 1 and (live_NB < 2 or live_NB > 3):\n",
        "                    board[r][c] = -1\n",
        "                \n",
        "                # rule 4\n",
        "                if board[r][c] == 0 and live_NB == 3:\n",
        "                    board[r][c] = 2\n",
        "\n",
        "        \n",
        "        for r in range(0, m):\n",
        "            for c in range(0, n):\n",
        "                if board[r][c] > 0:\n",
        "                    board[r][c] = 1\n",
        "                \n",
        "                else:\n",
        "                    board[r][c] = 0\n",
        "\n"
      ]
    }
  ]
}