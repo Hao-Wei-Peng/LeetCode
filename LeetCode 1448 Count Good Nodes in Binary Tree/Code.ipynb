{
  "nbformat": 4,
  "nbformat_minor": 0,
  "metadata": {
    "colab": {
      "name": "Code.ipynb",
      "provenance": [],
      "collapsed_sections": []
    },
    "kernelspec": {
      "name": "python3",
      "display_name": "Python 3"
    },
    "language_info": {
      "name": "python"
    }
  },
  "cells": [
    {
      "cell_type": "code",
      "execution_count": null,
      "metadata": {
        "id": "hFD3gFKqbvee"
      },
      "outputs": [],
      "source": [
        "# Definition for a binary tree node.\n",
        "# class TreeNode:\n",
        "#     def __init__(self, val=0, left=None, right=None):\n",
        "#         self.val = val\n",
        "#         self.left = left\n",
        "#         self.right = right\n",
        "class Solution:\n",
        "    def goodNodes(self, root: TreeNode) -> int:\n",
        "        \n",
        "        # Time Complexity will be O(n)\n",
        "        # Space Complexity will be O(n)\n",
        "        # n = tree nodes\n",
        "        \n",
        "        self.count = 0\n",
        "\n",
        "        def recursion(root, max_val):\n",
        "            # todo\n",
        "            if not root:\n",
        "                return None\n",
        "            \n",
        "            if root.val >= max_val:\n",
        "                self.count += 1\n",
        "            \n",
        "            max_val = max(max_val, root.val)\n",
        "            recursion(root.left, max_val)\n",
        "            recursion(root.right, max_val)\n",
        "\n",
        "        recursion(root, float(\"-inf\"))\n",
        "\n",
        "        return self.count"
      ]
    }
  ]
}