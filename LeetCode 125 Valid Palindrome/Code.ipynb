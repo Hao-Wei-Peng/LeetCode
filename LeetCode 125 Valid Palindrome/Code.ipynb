{
  "nbformat": 4,
  "nbformat_minor": 0,
  "metadata": {
    "colab": {
      "provenance": []
    },
    "kernelspec": {
      "name": "python3",
      "display_name": "Python 3"
    },
    "language_info": {
      "name": "python"
    }
  },
  "cells": [
    {
      "cell_type": "code",
      "source": [
        "class Solution:\n",
        "    def isPalindrome(self, s: str) -> bool:\n",
        "\n",
        "        n = len(s)\n",
        "        L, R = 0, n - 1\n",
        "\n",
        "        while L < R:\n",
        "\n",
        "            if not s[L].isalnum():\n",
        "                L += 1\n",
        "            \n",
        "            elif not s[R].isalnum():\n",
        "                R -= 1\n",
        "            \n",
        "            elif s[L].lower() != s[R].lower():\n",
        "                return False\n",
        "            \n",
        "            else:\n",
        "                L += 1\n",
        "                R -= 1\n",
        "        \n",
        "        return True"
      ],
      "metadata": {
        "id": "VQsRJ7yrQZxK"
      },
      "execution_count": null,
      "outputs": []
    }
  ]
}