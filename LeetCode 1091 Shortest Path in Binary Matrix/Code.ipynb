{
  "nbformat": 4,
  "nbformat_minor": 0,
  "metadata": {
    "colab": {
      "provenance": []
    },
    "kernelspec": {
      "name": "python3",
      "display_name": "Python 3"
    },
    "language_info": {
      "name": "python"
    }
  },
  "cells": [
    {
      "cell_type": "code",
      "execution_count": null,
      "metadata": {
        "id": "mMOA-ZhSJFOB"
      },
      "outputs": [],
      "source": [
        "class Solution:\n",
        "    def shortestPathBinaryMatrix(self, Grid: List[List[int]]) -> int:\n",
        "\n",
        "        # base case\n",
        "        if not Grid:\n",
        "            return 0\n",
        "        \n",
        "        # base case\n",
        "        if Grid[0][0] != 0:\n",
        "            return -1\n",
        "\n",
        "        n = len(Grid)\n",
        "        directions = [(0, 1), (0, -1), (1, 0), (-1, 0), (-1, -1), (1, 1), (-1, 1), (1, -1)]\n",
        "        Queue = collections.deque([(0, 0, 1)]) # start position, step\n",
        "        visited = set((0, 0))\n",
        "\n",
        "        while Queue:\n",
        "            cur_x, cur_y, step = Queue.popleft()\n",
        "\n",
        "            if [cur_x, cur_y] == [n - 1, n - 1]:\n",
        "                return step\n",
        "            \n",
        "            for x, y in directions:\n",
        "                nxt_x, nxt_y = cur_x + x, cur_y + y\n",
        "\n",
        "                if 0 <= nxt_x < n and 0 <= nxt_y < n and Grid[nxt_x][nxt_y] == 0 and (nxt_x, nxt_y) not in visited:\n",
        "                    visited.add((nxt_x, nxt_y))\n",
        "                    Queue.append((nxt_x, nxt_y, step + 1))\n",
        "        \n",
        "        return -1"
      ]
    }
  ]
}