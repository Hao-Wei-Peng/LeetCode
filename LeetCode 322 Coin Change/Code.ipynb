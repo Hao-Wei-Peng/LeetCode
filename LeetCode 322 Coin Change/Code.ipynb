{
  "nbformat": 4,
  "nbformat_minor": 0,
  "metadata": {
    "colab": {
      "name": "Code.ipynb",
      "provenance": [],
      "collapsed_sections": []
    },
    "kernelspec": {
      "name": "python3",
      "display_name": "Python 3"
    },
    "language_info": {
      "name": "python"
    }
  },
  "cells": [
    {
      "cell_type": "code",
      "execution_count": null,
      "metadata": {
        "id": "hFD3gFKqbvee"
      },
      "outputs": [],
      "source": [
        "class Solution:\n",
        "    def coinChange(self, coins: List[int], amount: int) -> int:\n",
        "\n",
        "        # denominations -> value\n",
        "        # our goal -> amount\n",
        "        # coins can use multiple times, need to achieve amount\n",
        "\n",
        "        # Time Complexity will be O(len(coins) * amount)\n",
        "        # Space Complexity will be O(amount)\n",
        "        # dp[j] = how many cominations of amount j (fewest coin element)\n",
        "\n",
        "        MAX_INT = sys.maxsize\n",
        "\n",
        "        dp = [MAX_INT] * (amount + 1)\n",
        "        dp[0] = 0\n",
        "\n",
        "        for coin in coins:\n",
        "            for j in range(coin, amount + 1):\n",
        "                # not select, dp[j]\n",
        "                # select, dp[j - coin] + 1 (current element)\n",
        "                dp[j] = min(dp[j], dp[j - coin] + 1)\n",
        "        \n",
        "        return -1 if dp[amount] == MAX_INT else dp[amount]  \n",
        "        \n",
        "                \n"
      ]
    }
  ]
}