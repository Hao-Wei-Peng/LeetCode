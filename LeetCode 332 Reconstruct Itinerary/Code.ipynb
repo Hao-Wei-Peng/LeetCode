{
  "nbformat": 4,
  "nbformat_minor": 0,
  "metadata": {
    "colab": {
      "name": "Code.ipynb",
      "provenance": [],
      "collapsed_sections": []
    },
    "kernelspec": {
      "name": "python3",
      "display_name": "Python 3"
    },
    "language_info": {
      "name": "python"
    }
  },
  "cells": [
    {
      "cell_type": "code",
      "execution_count": null,
      "metadata": {
        "id": "hFD3gFKqbvee"
      },
      "outputs": [],
      "source": [
        "class Solution:\n",
        "    def findItinerary(self, tickets: List[List[str]]) -> List[str]:\n",
        "\n",
        "        ticket_list = collections.defaultdict(list)\n",
        "\n",
        "        for item in tickets:\n",
        "            ticket_list[item[0]].append(item[1])\n",
        "        \n",
        "        # we will obtain results as follows\n",
        "        # {\"JFK\": [\"SFO\", \"ATL\"], \"SFO\": [\"ATL\"], \"ATL\": [\"JFK\", \"SFO\"]}\n",
        "\n",
        "        path = [\"JFK\"]\n",
        "\n",
        "        def backtrack(start_pos):\n",
        "\n",
        "            if len(tickets) + 1 == len(path):\n",
        "                return True\n",
        "        \n",
        "            ticket_list[start_pos].sort()\n",
        "\n",
        "            for _ in ticket_list[start_pos]:\n",
        "                end_pos = ticket_list[start_pos].pop(0)\n",
        "                path.append(end_pos)\n",
        "\n",
        "                if backtrack(end_pos):\n",
        "                    return True\n",
        "                \n",
        "                path.pop()\n",
        "                ticket_list[start_pos].append(end_pos)\n",
        "\n",
        "        backtrack(\"JFK\")\n",
        "\n",
        "        return path\n"
      ]
    }
  ]
}