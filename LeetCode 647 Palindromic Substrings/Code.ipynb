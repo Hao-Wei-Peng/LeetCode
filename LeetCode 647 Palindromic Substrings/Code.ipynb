{
  "nbformat": 4,
  "nbformat_minor": 0,
  "metadata": {
    "colab": {
      "provenance": [],
      "collapsed_sections": []
    },
    "kernelspec": {
      "name": "python3",
      "display_name": "Python 3"
    },
    "language_info": {
      "name": "python"
    }
  },
  "cells": [
    {
      "cell_type": "code",
      "execution_count": null,
      "metadata": {
        "id": "mMOA-ZhSJFOB"
      },
      "outputs": [],
      "source": [
        "class Solution:\n",
        "    def countSubstrings(self, s: str) -> int:\n",
        "\n",
        "        n = len(s)\n",
        "\n",
        "        # base case\n",
        "        if n == 1:\n",
        "            return 1\n",
        "        \n",
        "        # we can use dynamic programming to deal with this problem\n",
        "        # dp[i][j] = whether bounded [i : j] is a substring, if yes, True, otherwise, False\n",
        "        # three situations (when character are same)\n",
        "        # 1. check i + 1, j - 1 whether is True\n",
        "        # 2. if j - i == 0\n",
        "        # 3. if j - i == 1\n",
        "        dp = [[False] * n for _ in range(0, n)]\n",
        "        cnt = 0\n",
        "\n",
        "        # we need to ensure start from bottom to up, left to right\n",
        "        for i in range(n - 1, -1, -1):\n",
        "            for j in range(i, n):\n",
        "                if s[i] == s[j] and (j - i < 2 or dp[i + 1][j - 1] == True):    \n",
        "                    dp[i][j] = True\n",
        "                    cnt = cnt + 1\n",
        "\n",
        "        return cnt"
      ]
    }
  ]
}