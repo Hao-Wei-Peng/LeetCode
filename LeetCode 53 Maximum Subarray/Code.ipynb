{
  "nbformat": 4,
  "nbformat_minor": 0,
  "metadata": {
    "colab": {
      "provenance": [],
      "collapsed_sections": []
    },
    "kernelspec": {
      "name": "python3",
      "display_name": "Python 3"
    },
    "language_info": {
      "name": "python"
    }
  },
  "cells": [
    {
      "cell_type": "code",
      "execution_count": null,
      "metadata": {
        "id": "mMOA-ZhSJFOB"
      },
      "outputs": [],
      "source": [
        "class Solution:\n",
        "    def maxSubArray(self, nums: List[int]) -> int:\n",
        "\n",
        "        n = len(nums)\n",
        "         \n",
        "        # base case\n",
        "        if n < 2:\n",
        "            return nums[0]\n",
        "        \n",
        "        # Time Complexity will be O(n)\n",
        "        # Space Complexity will be O(n)\n",
        "        # dp[i] = maximum value at the index i\n",
        "        dp = [0] * n\n",
        "        dp[0] = nums[0]\n",
        "\n",
        "        for i in range(1, n):\n",
        "            if dp[i - 1] >= 0:\n",
        "                dp[i] = dp[i - 1] + nums[i]\n",
        "            else:\n",
        "                dp[i] = nums[i]\n",
        "        \n",
        "        return max(dp)"
      ]
    }
  ]
}