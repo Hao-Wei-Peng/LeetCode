{
  "nbformat": 4,
  "nbformat_minor": 0,
  "metadata": {
    "colab": {
      "provenance": []
    },
    "kernelspec": {
      "name": "python3",
      "display_name": "Python 3"
    },
    "language_info": {
      "name": "python"
    }
  },
  "cells": [
    {
      "cell_type": "code",
      "execution_count": null,
      "metadata": {
        "id": "mMOA-ZhSJFOB"
      },
      "outputs": [],
      "source": [
        "class Solution:\n",
        "    def singleNonDuplicate(self, nums: List[int]) -> int:\n",
        "\n",
        "        # base case\n",
        "        if not nums:\n",
        "            return 0\n",
        "        \n",
        "        # Time Complexity will be O(logn)\n",
        "        # Space Complexity will be O(1)\n",
        "        n = len(nums)\n",
        "        L, R = 0, n - 1\n",
        "\n",
        "        while L < R:\n",
        "            M = L + (R - L) // 2\n",
        "\n",
        "            if nums[M] == nums[M ^ 1]:\n",
        "                L = M + 1\n",
        "            \n",
        "            else:\n",
        "                R = M\n",
        "        \n",
        "        return nums[L]"
      ]
    }
  ]
}