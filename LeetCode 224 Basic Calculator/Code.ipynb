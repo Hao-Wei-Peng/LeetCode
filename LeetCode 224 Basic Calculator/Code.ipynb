{
  "nbformat": 4,
  "nbformat_minor": 0,
  "metadata": {
    "colab": {
      "provenance": [],
      "collapsed_sections": []
    },
    "kernelspec": {
      "name": "python3",
      "display_name": "Python 3"
    },
    "language_info": {
      "name": "python"
    }
  },
  "cells": [
    {
      "cell_type": "code",
      "execution_count": 3,
      "metadata": {
        "id": "mMOA-ZhSJFOB"
      },
      "outputs": [],
      "source": [
        "class Solution:\n",
        "    def calculate(self, s: str) -> int:\n",
        "\n",
        "        # base case\n",
        "        if not s:\n",
        "            return None\n",
        "        \n",
        "        ans, num, sign = 0, 0, 1\n",
        "        stack = []\n",
        "\n",
        "        for char in s:\n",
        "            if char.isdigit():\n",
        "                num = num * 10 + int(char)\n",
        "            \n",
        "            elif char == \"+\" or char == \"-\":\n",
        "                ans += sign * num\n",
        "                num = 0\n",
        "                sign = 1 if char == \"+\" else -1\n",
        "\n",
        "            elif char == \"(\":\n",
        "                stack.append(ans)\n",
        "                stack.append(sign)\n",
        "                ans = 0\n",
        "                sign = 1\n",
        "\n",
        "            elif char == \")\":\n",
        "                ans += sign * num\n",
        "                num = 0\n",
        "                ans *= stack.pop()\n",
        "                ans += stack.pop()\n",
        "            \n",
        "        ans += sign * num\n",
        "        \n",
        "        return ans"
      ]
    }
  ]
}