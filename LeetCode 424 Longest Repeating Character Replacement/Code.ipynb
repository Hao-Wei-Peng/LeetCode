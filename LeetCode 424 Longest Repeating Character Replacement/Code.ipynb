{
  "nbformat": 4,
  "nbformat_minor": 0,
  "metadata": {
    "colab": {
      "provenance": [],
      "collapsed_sections": []
    },
    "kernelspec": {
      "name": "python3",
      "display_name": "Python 3"
    },
    "language_info": {
      "name": "python"
    }
  },
  "cells": [
    {
      "cell_type": "code",
      "execution_count": null,
      "metadata": {
        "id": "mMOA-ZhSJFOB"
      },
      "outputs": [],
      "source": [
        "class Solution:\n",
        "    def characterReplacement(self, s: str, k: int) -> int:\n",
        "\n",
        "        # change any other uppercase English character\n",
        "        # at most k times\n",
        "\n",
        "        n = len(s)\n",
        "\n",
        "        # base case\n",
        "        if n == 1:\n",
        "            return 1\n",
        "        \n",
        "        left, right = 0, 0\n",
        "        Alphabet = [0] * 26\n",
        "        Max = 0\n",
        "\n",
        "        while right < n:\n",
        "\n",
        "            char = s[right]\n",
        "            Alphabet[ord(char) - ord(\"A\")] += 1\n",
        "            Max = max(Max, Alphabet[ord(char) - ord(\"A\")])\n",
        "\n",
        "            if right - left + 1 - Max > k:\n",
        "                pre_char = s[left]\n",
        "                Alphabet[ord(pre_char) - ord(\"A\")] -= 1\n",
        "                left = left + 1\n",
        "\n",
        "            right = right + 1\n",
        "\n",
        "        return right - left"
      ]
    }
  ]
}