{
  "nbformat": 4,
  "nbformat_minor": 0,
  "metadata": {
    "colab": {
      "provenance": [],
      "collapsed_sections": []
    },
    "kernelspec": {
      "name": "python3",
      "display_name": "Python 3"
    },
    "language_info": {
      "name": "python"
    }
  },
  "cells": [
    {
      "cell_type": "code",
      "execution_count": null,
      "metadata": {
        "id": "mMOA-ZhSJFOB"
      },
      "outputs": [],
      "source": [
        "class Solution:\n",
        "    def canJump(self, nums: List[int]) -> bool:\n",
        "\n",
        "        # we can use dynamic programming to deal with this problem\n",
        "        # dp[i] = largest value can achieve at nums[i]\n",
        "        n = len(nums)\n",
        "        \n",
        "        if n == 1:\n",
        "            return True\n",
        "        \n",
        "        dp = [0] * n\n",
        "        dp[0] = nums[0]\n",
        "\n",
        "        # start == end, no answer\n",
        "        if dp[0] == 0:\n",
        "            return False\n",
        "\n",
        "        for i in range(1, n - 1):\n",
        "            dp[i] = max(dp[i - 1], i + nums[i])\n",
        "\n",
        "            # in the process, if we encounter largest position that we achieve\n",
        "            # return False\n",
        "            if dp[i] == i:\n",
        "                return False\n",
        "        \n",
        "        return True\n"
      ]
    }
  ]
}