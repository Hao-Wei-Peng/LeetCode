{
  "nbformat": 4,
  "nbformat_minor": 0,
  "metadata": {
    "colab": {
      "name": "Code.ipynb",
      "provenance": [],
      "collapsed_sections": []
    },
    "kernelspec": {
      "name": "python3",
      "display_name": "Python 3"
    },
    "language_info": {
      "name": "python"
    }
  },
  "cells": [
    {
      "cell_type": "code",
      "execution_count": null,
      "metadata": {
        "id": "hFD3gFKqbvee"
      },
      "outputs": [],
      "source": [
        "class Solution:\n",
        "    def findKthLargest(self, nums: List[int], k: int) -> int:\n",
        "\n",
        "        # we can use priority queue to deal with this problem\n",
        "        # Time Complexity will be O(n)\n",
        "        # Space Complexity will be O(logn)\n",
        "        # heapify = O(n), push = O(logn), pop = O(logn)\n",
        "        prior_queue = [num for num in nums[0 : k]]\n",
        "        # O(k)\n",
        "        heapq.heapify(prior_queue)\n",
        "\n",
        "        # O(n - k)\n",
        "        for num in nums[k : ]:\n",
        "            heapq.heappush(prior_queue, num)\n",
        "            heapq.heappop(prior_queue)\n",
        "        \n",
        "        return prior_queue[0]        "
      ]
    }
  ]
}