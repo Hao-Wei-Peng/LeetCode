{
  "nbformat": 4,
  "nbformat_minor": 0,
  "metadata": {
    "colab": {
      "provenance": []
    },
    "kernelspec": {
      "name": "python3",
      "display_name": "Python 3"
    },
    "language_info": {
      "name": "python"
    }
  },
  "cells": [
    {
      "cell_type": "code",
      "execution_count": null,
      "metadata": {
        "id": "mMOA-ZhSJFOB"
      },
      "outputs": [],
      "source": [
        "class Solution:\n",
        "    def __init__(self):\n",
        "        self.Battleships = 0\n",
        "\n",
        "    def countBattleships(self, board: List[List[str]]) -> int:\n",
        "\n",
        "        # base case\n",
        "        if not board:\n",
        "            return 0\n",
        "\n",
        "        # Time Complexity will be O(Rows * Cols * 4 directions)\n",
        "        # Space Complexity will be O(1)    \n",
        "        Rows, Cols = len(board), len(board[0])\n",
        "        directions = [(0, 1), (0, -1), (1, 0), (-1, 0)]\n",
        "\n",
        "        for r in range(0, Rows):\n",
        "            for c in range(0, Cols):\n",
        "                if board[r][c] == \"X\":\n",
        "                    self.DFS(board, directions, r, c)\n",
        "                    self.Battleships += 1\n",
        "        \n",
        "        return self.Battleships\n",
        "\n",
        "    def DFS(self, board, directions, r, c):\n",
        "\n",
        "        Rows, Cols = len(board), len(board[0])\n",
        "\n",
        "        # end recursion\n",
        "        if r < 0 or c < 0 or r == Rows or c == Cols or board[r][c] == \".\":\n",
        "            return \n",
        "        \n",
        "        board[r][c] = \".\"\n",
        "        self.DFS(board, directions, r + 1, c)\n",
        "        self.DFS(board, directions, r - 1, c)\n",
        "        self.DFS(board, directions, r, c + 1)\n",
        "        self.DFS(board, directions, r, c - 1)\n"
      ]
    }
  ]
}