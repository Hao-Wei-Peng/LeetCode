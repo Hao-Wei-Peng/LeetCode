{
  "nbformat": 4,
  "nbformat_minor": 0,
  "metadata": {
    "colab": {
      "provenance": [],
      "collapsed_sections": []
    },
    "kernelspec": {
      "name": "python3",
      "display_name": "Python 3"
    },
    "language_info": {
      "name": "python"
    }
  },
  "cells": [
    {
      "cell_type": "code",
      "execution_count": null,
      "metadata": {
        "id": "mMOA-ZhSJFOB"
      },
      "outputs": [],
      "source": [
        "class Solution:\n",
        "    def slowestKey(self, releaseTimes: List[int], keysPressed: str) -> str:\n",
        "\n",
        "        # base case\n",
        "        if not keysPressed or not releaseTimes:\n",
        "            return \"\"\n",
        "\n",
        "        n = len(keysPressed)\n",
        "        m = len(releaseTimes)\n",
        "\n",
        "        if m != n:\n",
        "            return \"\"\n",
        "\n",
        "        # max: can use lexicographically\n",
        "        key = \"a\"\n",
        "        MaxDuration = 0\n",
        "\n",
        "        # Time Complexity will be O(n)\n",
        "        # Space Complexity will be O(1)\n",
        "        for idx in range(0, n):\n",
        "            pressedTime = releaseTimes[idx - 1] if idx > 0 else 0\n",
        "            CurDuration = releaseTimes[idx] - pressedTime\n",
        "\n",
        "            if CurDuration > MaxDuration:\n",
        "                MaxDuration = CurDuration\n",
        "                key = keysPressed[idx]\n",
        "\n",
        "            elif CurDuration == MaxDuration:\n",
        "                key = max(key, keysPressed[idx])\n",
        "        \n",
        "        return key\n"
      ]
    }
  ]
}