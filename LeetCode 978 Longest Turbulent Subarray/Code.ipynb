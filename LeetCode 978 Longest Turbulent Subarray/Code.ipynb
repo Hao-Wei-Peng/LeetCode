{
  "nbformat": 4,
  "nbformat_minor": 0,
  "metadata": {
    "colab": {
      "name": "Code.ipynb",
      "provenance": [],
      "collapsed_sections": []
    },
    "kernelspec": {
      "name": "python3",
      "display_name": "Python 3"
    },
    "language_info": {
      "name": "python"
    }
  },
  "cells": [
    {
      "cell_type": "code",
      "execution_count": null,
      "metadata": {
        "id": "hFD3gFKqbvee"
      },
      "outputs": [],
      "source": [
        "class Solution:\n",
        "    def maxTurbulenceSize(self, arr: List[int]) -> int:\n",
        "\n",
        "        # we will have two situations\n",
        "        # 1. high, low, high ...\n",
        "        # 2. low, high, low ...\n",
        "\n",
        "        # we will use dynamic programming to deal with this problem\n",
        "        # dp[i] = maximum size turbulent subarray at position i\n",
        "        n = len(arr)\n",
        "\n",
        "        # edge case\n",
        "        if n == 1:\n",
        "            return 1\n",
        "\n",
        "        up = [0] * n\n",
        "        down = [0] * n \n",
        "        ans = float(\"-inf\")\n",
        "\n",
        "        # initialization\n",
        "        up[0], down[0] = 1, 1\n",
        "\n",
        "        # Time Complexity will be O(n)\n",
        "        # Space Complexity will be O(n + n)\n",
        "        for idx in range(1, n):\n",
        "\n",
        "            # 1. if previous smaller than current (ascending)\n",
        "            if arr[idx - 1] < arr[idx]:\n",
        "                up[idx] = down[idx - 1] + 1\n",
        "                down[idx] = 1\n",
        "            \n",
        "            # 2. if previous larger than current (decreasing)\n",
        "            elif arr[idx - 1] > arr[idx]:\n",
        "                up[idx] = 1\n",
        "                down[idx] = up[idx - 1] + 1\n",
        "            \n",
        "            # 3. if previous equal to current (same)\n",
        "            else:\n",
        "                up[idx] = 1\n",
        "                down[idx] = 1\n",
        "            \n",
        "            ans = max(ans, up[idx], down[idx])\n",
        "\n",
        "        return ans"
      ]
    }
  ]
}