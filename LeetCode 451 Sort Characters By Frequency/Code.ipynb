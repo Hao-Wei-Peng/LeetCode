{
  "nbformat": 4,
  "nbformat_minor": 0,
  "metadata": {
    "colab": {
      "name": "Code.ipynb",
      "provenance": [],
      "collapsed_sections": []
    },
    "kernelspec": {
      "name": "python3",
      "display_name": "Python 3"
    },
    "language_info": {
      "name": "python"
    }
  },
  "cells": [
    {
      "cell_type": "code",
      "execution_count": null,
      "metadata": {
        "id": "hFD3gFKqbvee"
      },
      "outputs": [],
      "source": [
        "class Solution:\n",
        "    def frequencySort(self, s: str) -> str:\n",
        "\n",
        "        fre_dict = collections.defaultdict(int)\n",
        "\n",
        "        # use dictionary to record each character frequency\n",
        "        # Space Complexity will be O(n)\n",
        "        for ch in s:\n",
        "            if ch not in fre_dict:\n",
        "                fre_dict[ch] = 1\n",
        "            else:\n",
        "                fre_dict[ch] += 1\n",
        "        \n",
        "        # we can use priority queue to deal with this problem\n",
        "        prior_queue = []\n",
        "\n",
        "        # Time Complexity will be O(n)\n",
        "        for key, fre in fre_dict.items():\n",
        "            heapq.heappush(prior_queue, (-fre, key))\n",
        "        \n",
        "        n = len(prior_queue)\n",
        "        ans = \"\"\n",
        "\n",
        "        # pop elements and reconstruct results\n",
        "        for i in range(0, n):\n",
        "            tmp = heapq.heappop(prior_queue)\n",
        "            # 2 * \"e\" = \"ee\"\n",
        "            ans = ans + (-tmp[0]) * tmp[1]\n",
        "        return ans"
      ]
    }
  ]
}