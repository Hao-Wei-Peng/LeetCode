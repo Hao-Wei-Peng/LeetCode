{
  "nbformat": 4,
  "nbformat_minor": 0,
  "metadata": {
    "colab": {
      "name": "Code.ipynb",
      "provenance": [],
      "collapsed_sections": []
    },
    "kernelspec": {
      "name": "python3",
      "display_name": "Python 3"
    },
    "language_info": {
      "name": "python"
    }
  },
  "cells": [
    {
      "cell_type": "code",
      "execution_count": null,
      "metadata": {
        "id": "hFD3gFKqbvee"
      },
      "outputs": [],
      "source": [
        "# Definition for singly-linked list.\n",
        "# class ListNode:\n",
        "#     def __init__(self, x):\n",
        "#         self.val = x\n",
        "#         self.next = None\n",
        "\n",
        "class Solution:\n",
        "    def getIntersectionNode(self, headA: ListNode, headB: ListNode) -> ListNode:\n",
        "        \n",
        "        # we can use two pointers to deal with this problem\n",
        "        # when we finish traveling linked list A, we will travel linked list B\n",
        "        # same as linked list B\n",
        "\n",
        "        # edge case (no intersection)\n",
        "        if not headA or not headB:\n",
        "            return None\n",
        "\n",
        "        # Time Complexity will be O(m + n)\n",
        "        # Space Complexity will be O(1)\n",
        "        ptr_A = headA\n",
        "        ptr_B = headB\n",
        "\n",
        "        while ptr_A != ptr_B:\n",
        "            # finish A, go to B\n",
        "            if ptr_A:\n",
        "                ptr_A = ptr_A.next\n",
        "            else:\n",
        "                ptr_A = headB\n",
        "            \n",
        "            # finish B, go to A\n",
        "            if ptr_B:\n",
        "                ptr_B = ptr_B.next\n",
        "            else:\n",
        "                ptr_B = headA\n",
        "\n",
        "        return ptr_A\n"
      ]
    }
  ]
}