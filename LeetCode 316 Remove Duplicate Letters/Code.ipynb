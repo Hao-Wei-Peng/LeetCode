{
  "nbformat": 4,
  "nbformat_minor": 0,
  "metadata": {
    "colab": {
      "provenance": []
    },
    "kernelspec": {
      "name": "python3",
      "display_name": "Python 3"
    },
    "language_info": {
      "name": "python"
    }
  },
  "cells": [
    {
      "cell_type": "code",
      "execution_count": null,
      "metadata": {
        "id": "mMOA-ZhSJFOB"
      },
      "outputs": [],
      "source": [
        "class Solution:\n",
        "    def removeDuplicateLetters(self, s: str) -> str:\n",
        "\n",
        "        # base case\n",
        "        if not s:\n",
        "            return s\n",
        "        \n",
        "        # Time Complexity will be O(n)\n",
        "        # Space Complexity will be O(n)\n",
        "        # record each character frequency\n",
        "        Freq = collections.defaultdict(int)\n",
        "\n",
        "        for char in s:\n",
        "            Freq[char] = 1 + Freq.get(char, 0)\n",
        "        \n",
        "        stack = []\n",
        "\n",
        "        for char in s:\n",
        "            if char not in stack:\n",
        "                \n",
        "                while stack and char < stack[-1] and Freq[stack[-1]] > 0:\n",
        "                    stack.pop()\n",
        "\n",
        "                stack.append(char)\n",
        "\n",
        "            Freq[char] -= 1\n",
        "        \n",
        "        return \"\".join(stack)"
      ]
    }
  ]
}