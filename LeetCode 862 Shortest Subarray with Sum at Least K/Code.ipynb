{
  "nbformat": 4,
  "nbformat_minor": 0,
  "metadata": {
    "colab": {
      "provenance": [],
      "collapsed_sections": []
    },
    "kernelspec": {
      "name": "python3",
      "display_name": "Python 3"
    },
    "language_info": {
      "name": "python"
    }
  },
  "cells": [
    {
      "cell_type": "code",
      "execution_count": null,
      "metadata": {
        "id": "mMOA-ZhSJFOB"
      },
      "outputs": [],
      "source": [
        "class Solution:\n",
        "    def shortestSubarray(self, nums: List[int], k: int) -> int:\n",
        "\n",
        "        # base case\n",
        "        if not nums:\n",
        "            return -1\n",
        "        \n",
        "        n = len(nums)\n",
        "        prefixSum = [0]\n",
        "        curSum = 0\n",
        "\n",
        "        # prefixSum[i] + k = prefixSum[j], j > i\n",
        "        # prefixSum[j] - k = prefixSum[i]\n",
        "        # nums = [48, 99, 37, 4, -31]\n",
        "        # prefixSum = [0, 48, 147, 184, 188, 157]\n",
        "        Shortest = float(\"inf\")\n",
        "        queue = collections.deque()\n",
        "\n",
        "        for i in range(0, n):\n",
        "            curnum = nums[i]\n",
        "            curSum += curnum\n",
        "            prefixSum.append(curSum)\n",
        "\n",
        "        for idx, presum in enumerate(prefixSum):\n",
        "            \n",
        "            # k is larger than 0, so we need to ensure the queue maintain increasing\n",
        "            while queue and presum <= queue[-1][1]:\n",
        "                queue.pop()\n",
        "\n",
        "            # check whether queue satisfy the condition continuously\n",
        "            while queue and presum - queue[0][1] >= k:\n",
        "                pre_idx = queue.popleft()[0]\n",
        "                Shortest = min(Shortest, idx - pre_idx) \n",
        "            \n",
        "            queue.append((idx, presum))\n",
        "\n",
        "        return -1 if Shortest == float(\"inf\") else Shortest            \n"
      ]
    }
  ]
}