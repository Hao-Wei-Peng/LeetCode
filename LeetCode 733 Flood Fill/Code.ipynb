{
  "nbformat": 4,
  "nbformat_minor": 0,
  "metadata": {
    "colab": {
      "provenance": [],
      "collapsed_sections": []
    },
    "kernelspec": {
      "name": "python3",
      "display_name": "Python 3"
    },
    "language_info": {
      "name": "python"
    }
  },
  "cells": [
    {
      "cell_type": "code",
      "execution_count": null,
      "metadata": {
        "id": "mMOA-ZhSJFOB"
      },
      "outputs": [],
      "source": [
        "class Solution:\n",
        "    def floodFill(self, image: List[List[int]], sr: int, sc: int, color: int) -> List[List[int]]:\n",
        "        \n",
        "        target = image[sr][sc]\n",
        "        image[sr][sc] = color\n",
        "        Rows, Cols = len(image), len(image[0])\n",
        "        Queue = collections.deque([(sr, sc)])\n",
        "        directions = [(0, 1), (0, -1), (1, 0), (-1, 0)]\n",
        "        visited = set((sr, sc))\n",
        "\n",
        "        while Queue:\n",
        "            cur_r, cur_c = Queue.popleft()\n",
        "            \n",
        "            for r, c in directions:\n",
        "                nxt_r, nxt_c = cur_r + r, cur_c + c\n",
        "\n",
        "                if 0 <= nxt_r < Rows and 0 <= nxt_c < Cols and (nxt_r, nxt_c) not in visited and image[nxt_r][nxt_c] == target:\n",
        "                    image[nxt_r][nxt_c] = color\n",
        "                    visited.add((nxt_r, nxt_c))\n",
        "                    Queue.append((nxt_r, nxt_c))\n",
        "\n",
        "        return image                    \n",
        "        "
      ]
    }
  ]
}