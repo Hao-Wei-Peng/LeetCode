{
  "nbformat": 4,
  "nbformat_minor": 0,
  "metadata": {
    "colab": {
      "provenance": [],
      "collapsed_sections": []
    },
    "kernelspec": {
      "name": "python3",
      "display_name": "Python 3"
    },
    "language_info": {
      "name": "python"
    }
  },
  "cells": [
    {
      "cell_type": "code",
      "execution_count": null,
      "metadata": {
        "id": "mMOA-ZhSJFOB"
      },
      "outputs": [],
      "source": [
        "class Solution:\n",
        "    def insert(self, intervals: List[List[int]], newInterval: List[int]) -> List[List[int]]:\n",
        "\n",
        "        # base case\n",
        "        if not intervals:\n",
        "            return [newInterval]\n",
        "        \n",
        "        n = len(intervals)\n",
        "        ans = []\n",
        "\n",
        "        for idx in range(0, n):\n",
        "\n",
        "            # we need to consider three situations\n",
        "            # interval = [6, 9]\n",
        "            # newInterval = [2, 5]\n",
        "            if newInterval[1] < intervals[idx][0]:\n",
        "                ans.append(newInterval)\n",
        "                return ans + intervals[idx : ]\n",
        "\n",
        "            # interval = [6, 9]\n",
        "            # newInterval = [10, 15]\n",
        "            elif newInterval[0] > intervals[idx][1]:\n",
        "                ans.append(intervals[idx])\n",
        "            \n",
        "            # overlap\n",
        "            else:\n",
        "                LF = min(intervals[idx][0], newInterval[0]) \n",
        "                RT = max(intervals[idx][1], newInterval[1])\n",
        "                newInterval = [LF, RT]\n",
        "                \n",
        "        ans.append(newInterval)\n",
        "        return ans\n"
      ]
    }
  ]
}