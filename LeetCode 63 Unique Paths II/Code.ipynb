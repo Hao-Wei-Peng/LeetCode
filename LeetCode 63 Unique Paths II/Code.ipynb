{
  "nbformat": 4,
  "nbformat_minor": 0,
  "metadata": {
    "colab": {
      "name": "Code.ipynb",
      "provenance": [],
      "collapsed_sections": []
    },
    "kernelspec": {
      "name": "python3",
      "display_name": "Python 3"
    },
    "language_info": {
      "name": "python"
    }
  },
  "cells": [
    {
      "cell_type": "code",
      "execution_count": null,
      "metadata": {
        "id": "hFD3gFKqbvee"
      },
      "outputs": [],
      "source": [
        "class Solution:\n",
        "    def uniquePathsWithObstacles(self, obstacleGrid: List[List[int]]) -> int:\n",
        "\n",
        "        # we only can remove down or right in each position\n",
        "        # obstacle marked 1, space marked 0\n",
        "\n",
        "        Rows = len(obstacleGrid)\n",
        "        Cols = len(obstacleGrid[0])\n",
        "\n",
        "        # if final position is obstacle\n",
        "        # return 0, no path can achieve final\n",
        "        if obstacleGrid[Rows - 1][Cols - 1] == 1 or obstacleGrid[0][0] == 1:\n",
        "            return 0\n",
        "        \n",
        "        # Time Complexity will be O(m * n)\n",
        "        # Space Complexity will be O(m * n)\n",
        "        dp = [[0] * Cols for _ in range(0, Rows)]\n",
        "\n",
        "        # initialization (Rows, Cols)\n",
        "        # we need to consider whether there exist any obstacle in dp[i][0] or dp[0][j]\n",
        "        # if exist, the following step we can't arrive, therefore, the value will also be 0\n",
        "        \n",
        "        dp[0][0] = 1\n",
        "\n",
        "        # Rows\n",
        "        for i in range(1, Rows):\n",
        "            if obstacleGrid[i][0] == 1 or dp[i - 1][0] == 0:\n",
        "                dp[i][0] = 0\n",
        "            else:\n",
        "                dp[i][0] = 1\n",
        "\n",
        "        # Cols\n",
        "        for j in range(1, Cols):\n",
        "            if obstacleGrid[0][j] == 1 or dp[0][j - 1] == 0:\n",
        "                dp[0][j] = 0\n",
        "            else:\n",
        "                dp[0][j] = 1\n",
        "        \n",
        "        # calculate unique path\n",
        "        for i in range(1, Rows):\n",
        "            for j in range(1, Cols):\n",
        "                if obstacleGrid[i][j] == 1:\n",
        "                    continue\n",
        "                dp[i][j] = dp[i - 1][j] + dp[i][j - 1]\n",
        "        \n",
        "        return dp[Rows - 1][Cols - 1]"
      ]
    }
  ]
}