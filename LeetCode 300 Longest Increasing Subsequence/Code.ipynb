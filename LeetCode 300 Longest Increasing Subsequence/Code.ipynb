{
  "nbformat": 4,
  "nbformat_minor": 0,
  "metadata": {
    "colab": {
      "provenance": [],
      "collapsed_sections": []
    },
    "kernelspec": {
      "name": "python3",
      "display_name": "Python 3"
    },
    "language_info": {
      "name": "python"
    }
  },
  "cells": [
    {
      "cell_type": "code",
      "execution_count": null,
      "metadata": {
        "id": "hFD3gFKqbvee"
      },
      "outputs": [],
      "source": [
        "class Solution:\n",
        "    def lengthOfLIS(self, nums: List[int]) -> int:\n",
        "\n",
        "        # we can use dynamic programming to deal with this problem\n",
        "        # dp[i] = longest subsequence at the end of nums[i]\n",
        "\n",
        "        size = len(nums)\n",
        "\n",
        "        # base case\n",
        "        if size < 2:\n",
        "            return size\n",
        "        \n",
        "        dp = [1] * size\n",
        "\n",
        "        # Time Complexity will be O(n^2)\n",
        "        # Space Complexity will be O(n)\n",
        "        for i in range(1, size):\n",
        "            for j in range(0, i):\n",
        "                if nums[j] < nums[i]:\n",
        "                    dp[i] = max(dp[i], dp[j] + 1)\n",
        "        \n",
        "        return max(dp)"
      ]
    }
  ]
}