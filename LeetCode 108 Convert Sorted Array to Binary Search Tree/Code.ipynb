{
  "nbformat": 4,
  "nbformat_minor": 0,
  "metadata": {
    "colab": {
      "name": "Code.ipynb",
      "provenance": [],
      "collapsed_sections": []
    },
    "kernelspec": {
      "name": "python3",
      "display_name": "Python 3"
    },
    "language_info": {
      "name": "python"
    }
  },
  "cells": [
    {
      "cell_type": "code",
      "execution_count": null,
      "metadata": {
        "id": "hFD3gFKqbvee"
      },
      "outputs": [],
      "source": [
        "# Definition for a binary tree node.\n",
        "# class TreeNode:\n",
        "#     def __init__(self, val=0, left=None, right=None):\n",
        "#         self.val = val\n",
        "#         self.left = left\n",
        "#         self.right = right\n",
        "class Solution:\n",
        "    def sortedArrayToBST(self, nums: List[int]) -> Optional[TreeNode]:\n",
        "        # Time Complexity will be O(n)\n",
        "        # Space Complexity will be O(n)\n",
        "        # n = tree nodes\n",
        "        n = len(nums)\n",
        "        root = self.constructTree(nums, 0, n - 1)\n",
        "        return root\n",
        "    \n",
        "    def constructTree(self, nums, left, right):\n",
        "\n",
        "        if left > right:\n",
        "            return None\n",
        "\n",
        "        mid = (left + right) // 2\n",
        "\n",
        "        const_tree = TreeNode(nums[mid])\n",
        "        const_tree.left = self.constructTree(nums, left, mid - 1)\n",
        "        const_tree.right = self.constructTree(nums, mid + 1, right)\n",
        "\n",
        "        return const_tree"
      ]
    }
  ]
}