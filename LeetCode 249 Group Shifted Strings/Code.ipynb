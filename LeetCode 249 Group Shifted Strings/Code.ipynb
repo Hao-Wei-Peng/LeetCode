{
  "nbformat": 4,
  "nbformat_minor": 0,
  "metadata": {
    "colab": {
      "provenance": []
    },
    "kernelspec": {
      "name": "python3",
      "display_name": "Python 3"
    },
    "language_info": {
      "name": "python"
    }
  },
  "cells": [
    {
      "cell_type": "code",
      "execution_count": null,
      "metadata": {
        "id": "mMOA-ZhSJFOB"
      },
      "outputs": [],
      "source": [
        "class Solution:\n",
        "    def groupStrings(self, strings: List[str]) -> List[List[str]]:\n",
        "\n",
        "        # shift each of its letter to its successive letter\n",
        "        HashTable = collections.defaultdict(list)\n",
        "\n",
        "        # Time Complexity will be O(n)\n",
        "        # Space Complexity will be O(n)\n",
        "        for str in strings:\n",
        "            if str[0] == \"a\": # convert to a mode: start with a character\n",
        "                HashTable[str].append(str)\n",
        "            \n",
        "            else:\n",
        "                key = list(str)\n",
        "\n",
        "                # a = 0, b = 1, c = 2, ... z = 25\n",
        "                # z - a = 25\n",
        "\n",
        "                # bcd -> abc\n",
        "                for idx in range(0, len(str)):\n",
        "                    dist = ord(key[idx]) - ord(str[0])  \n",
        "                    char = chr((dist % 26) + ord(\"a\"))\n",
        "                    key[idx] = char\n",
        "\n",
        "                key = \"\".join(key)\n",
        "                HashTable[key].append(str)\n",
        "            \n",
        "        return list(HashTable.values())\n"
      ]
    }
  ]
}