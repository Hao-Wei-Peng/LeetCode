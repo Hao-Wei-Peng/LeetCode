{
  "nbformat": 4,
  "nbformat_minor": 0,
  "metadata": {
    "colab": {
      "provenance": [],
      "collapsed_sections": []
    },
    "kernelspec": {
      "name": "python3",
      "display_name": "Python 3"
    },
    "language_info": {
      "name": "python"
    }
  },
  "cells": [
    {
      "cell_type": "code",
      "execution_count": 4,
      "metadata": {
        "id": "mMOA-ZhSJFOB"
      },
      "outputs": [],
      "source": [
        "class Solution:\n",
        "    def twoSum(self, numbers: List[int], target: int) -> List[int]:\n",
        "\n",
        "        # base case\n",
        "        if not numbers:\n",
        "            return None\n",
        "        \n",
        "        n = len(numbers)\n",
        "\n",
        "        # Time Complexity will be O(n)\n",
        "        # Space Complexity will be O(1)\n",
        "\n",
        "        Low, High = 0, n - 1\n",
        "\n",
        "        while Low < High:\n",
        "            total = numbers[Low] + numbers[High]\n",
        "\n",
        "            if total == target:\n",
        "                return [Low + 1, High + 1]\n",
        "            \n",
        "            elif total > target:\n",
        "                High -= 1\n",
        "            \n",
        "            elif total < target:\n",
        "                Low += 1\n",
        "        \n",
        "        return [-1, -1]"
      ]
    }
  ]
}