{
  "nbformat": 4,
  "nbformat_minor": 0,
  "metadata": {
    "colab": {
      "provenance": []
    },
    "kernelspec": {
      "name": "python3",
      "display_name": "Python 3"
    },
    "language_info": {
      "name": "python"
    }
  },
  "cells": [
    {
      "cell_type": "code",
      "execution_count": null,
      "metadata": {
        "id": "mMOA-ZhSJFOB"
      },
      "outputs": [],
      "source": [
        "class Solution:\n",
        "    def canTransform(self, start: str, end: str) -> bool:\n",
        "\n",
        "        # XL -> LX\n",
        "        # RX -> XR\n",
        "        \n",
        "        # Time Complexity will be O(n)\n",
        "        # Space Complexity will be O(n)\n",
        "        n = len(start)\n",
        "        ords, orde, idxs, idxe = [], [], [], []\n",
        "\n",
        "        for i in range(0, n):\n",
        "            if start[i] != \"X\":\n",
        "                ords.append(start[i])\n",
        "                idxs.append(i)\n",
        "            \n",
        "            if end[i] != \"X\":\n",
        "                orde.append(end[i])\n",
        "                idxe.append(i)\n",
        "        \n",
        "        # base case\n",
        "        if ords != orde:\n",
        "            return False\n",
        "\n",
        "        # ['R', 'L', 'R', 'R', 'L'] [0, 3, 4, 6, 8]\n",
        "        # ['R', 'L', 'R', 'R', 'L'] [1, 2, 5, 6, 7]\n",
        "        m = len(ords)\n",
        "\n",
        "        for i in range(0, m):\n",
        "            if ords[i] == \"L\" and idxe[i] > idxs[i]:\n",
        "                return False\n",
        "            \n",
        "            if ords[i] == \"R\" and idxe[i] < idxs[i]:\n",
        "                return False\n",
        "\n",
        "        return True  "
      ]
    }
  ]
}