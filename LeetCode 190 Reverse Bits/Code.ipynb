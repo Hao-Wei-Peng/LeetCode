{
  "nbformat": 4,
  "nbformat_minor": 0,
  "metadata": {
    "colab": {
      "provenance": [],
      "collapsed_sections": []
    },
    "kernelspec": {
      "name": "python3",
      "display_name": "Python 3"
    },
    "language_info": {
      "name": "python"
    }
  },
  "cells": [
    {
      "cell_type": "code",
      "execution_count": null,
      "metadata": {
        "id": "hFD3gFKqbvee"
      },
      "outputs": [],
      "source": [
        "class Solution:\n",
        "    def reverseBits(self, n: int) -> int:\n",
        "\n",
        "        # we can use bit manipulations to deal with this problem\n",
        "\n",
        "        # Time Complexity will be O(1)\n",
        "        # Space Complexity will be O(1)\n",
        "        ans = 0\n",
        "\n",
        "        for bit in range(0, 32):\n",
        "            ans = (ans << 1) | (n & 1)\n",
        "            n = n >> 1\n",
        "\n",
        "        return ans"
      ]
    }
  ]
}