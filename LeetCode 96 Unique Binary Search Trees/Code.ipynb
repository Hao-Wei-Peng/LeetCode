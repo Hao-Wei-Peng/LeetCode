{
  "nbformat": 4,
  "nbformat_minor": 0,
  "metadata": {
    "colab": {
      "provenance": [],
      "collapsed_sections": []
    },
    "kernelspec": {
      "name": "python3",
      "display_name": "Python 3"
    },
    "language_info": {
      "name": "python"
    }
  },
  "cells": [
    {
      "cell_type": "code",
      "execution_count": null,
      "metadata": {
        "id": "hFD3gFKqbvee"
      },
      "outputs": [],
      "source": [
        "class Solution:\n",
        "    def numTrees(self, n: int) -> int:\n",
        "        \n",
        "        # dp[i] = largest number of trees at value i (total nodes)\n",
        "        # dp[3] = dp[0] * dp[2] + dp[1] * dp[1] + dp[2] * dp[0]\n",
        "\n",
        "        dp = [0] * (n + 1)\n",
        "        dp[0], dp[1] = 1, 1\n",
        "\n",
        "        for node in range(2, n + 1):\n",
        "            total = 0\n",
        "            for count in range(1, node + 1):\n",
        "                # left + right = node - 1\n",
        "                left = count - 1\n",
        "                right = node - count\n",
        "                total = total + (dp[left] * dp[right])\n",
        "            \n",
        "            dp[node] = total\n",
        "        \n",
        "        return dp[-1]"
      ]
    }
  ]
}