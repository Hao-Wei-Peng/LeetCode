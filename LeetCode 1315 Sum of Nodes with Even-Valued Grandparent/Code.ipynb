{
  "nbformat": 4,
  "nbformat_minor": 0,
  "metadata": {
    "colab": {
      "provenance": [],
      "collapsed_sections": []
    },
    "kernelspec": {
      "name": "python3",
      "display_name": "Python 3"
    },
    "language_info": {
      "name": "python"
    }
  },
  "cells": [
    {
      "cell_type": "code",
      "execution_count": null,
      "metadata": {
        "id": "mMOA-ZhSJFOB"
      },
      "outputs": [],
      "source": [
        "# Definition for a binary tree node.\n",
        "# class TreeNode:\n",
        "#     def __init__(self, val=0, left=None, right=None):\n",
        "#         self.val = val\n",
        "#         self.left = left\n",
        "#         self.right = right\n",
        "class Solution:\n",
        "    def __init__(self):\n",
        "        self.SumofNodes = 0\n",
        "\n",
        "    def sumEvenGrandparent(self, root: TreeNode) -> int:\n",
        "        GrandParent, Parent = TreeNode(), TreeNode()\n",
        "        self.DFS(GrandParent, Parent, root)\n",
        "        return self.SumofNodes\n",
        "\n",
        "    def DFS(self, GrandParent, Parent, root):  \n",
        "\n",
        "        if not root:\n",
        "            return \n",
        "        \n",
        "        if GrandParent.val != 0 and GrandParent.val % 2 == 0:\n",
        "            self.SumofNodes += root.val\n",
        "\n",
        "        # do the recursive of left and right children\n",
        "        self.DFS(Parent, root, root.left)\n",
        "        self.DFS(Parent, root, root.right)    "
      ]
    }
  ]
}