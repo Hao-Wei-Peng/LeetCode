{
  "nbformat": 4,
  "nbformat_minor": 0,
  "metadata": {
    "colab": {
      "provenance": [],
      "collapsed_sections": []
    },
    "kernelspec": {
      "name": "python3",
      "display_name": "Python 3"
    },
    "language_info": {
      "name": "python"
    }
  },
  "cells": [
    {
      "cell_type": "code",
      "execution_count": null,
      "metadata": {
        "id": "mMOA-ZhSJFOB"
      },
      "outputs": [],
      "source": [
        "class Solution:\n",
        "    def updateMatrix(self, board: List[List[int]]) -> List[List[int]]:\n",
        "\n",
        "        # base case\n",
        "        if not board:\n",
        "            return board\n",
        "        \n",
        "        # Time Complexity will be O(Rows * Cols)\n",
        "        # Space Complexity will be O(Rows * Cols)\n",
        "        Rows, Cols = len(board), len(board[0])\n",
        "        Dist = [[0] * Cols for _ in range(0, Rows)]\n",
        "        Queue = collections.deque()\n",
        "        directions = [(0, 1), (0, -1), (1, 0), (-1, 0)]\n",
        "        visited = set()\n",
        "\n",
        "        for r in range(0, Rows):\n",
        "            for c in range(0, Cols):\n",
        "                if board[r][c] == 0:\n",
        "                    Queue.append((r, c))\n",
        "                    visited.add((r, c))\n",
        "        \n",
        "        while Queue:\n",
        "            cur_x, cur_y = Queue.popleft()\n",
        "\n",
        "            for x, y in directions:\n",
        "                nxt_x, nxt_y = cur_x + x, cur_y + y\n",
        "\n",
        "                if 0 <= nxt_x < Rows and 0 <= nxt_y < Cols and (nxt_x, nxt_y) not in visited:\n",
        "                    Dist[nxt_x][nxt_y] = Dist[cur_x][cur_y] + 1\n",
        "                    Queue.append((nxt_x, nxt_y))\n",
        "                    visited.add((nxt_x, nxt_y))\n",
        "        \n",
        "        return Dist"
      ]
    }
  ]
}