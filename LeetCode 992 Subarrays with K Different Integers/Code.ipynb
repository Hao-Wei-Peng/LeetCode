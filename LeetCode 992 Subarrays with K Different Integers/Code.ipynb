{
  "nbformat": 4,
  "nbformat_minor": 0,
  "metadata": {
    "colab": {
      "provenance": []
    },
    "kernelspec": {
      "name": "python3",
      "display_name": "Python 3"
    },
    "language_info": {
      "name": "python"
    }
  },
  "cells": [
    {
      "cell_type": "code",
      "execution_count": null,
      "metadata": {
        "id": "mMOA-ZhSJFOB"
      },
      "outputs": [],
      "source": [
        "class Solution:\n",
        "    def subarraysWithKDistinct(self, nums: List[int], k: int) -> int:\n",
        "        \n",
        "        # base case\n",
        "        if not nums or not k:\n",
        "            return 0\n",
        "        \n",
        "        # Time Complexity will be O(n)\n",
        "        # Space Complexity will be O(k)\n",
        "        ans = self.atMostK(nums, k) - self.atMostK(nums, k - 1)\n",
        "        return ans\n",
        "    \n",
        "    def atMostK(self, nums, k):\n",
        "        \n",
        "        # if k == 2: include k = 1 and k = 2\n",
        "        Count = collections.defaultdict(int)\n",
        "        n = len(nums)\n",
        "        total, L = 0, 0\n",
        "        distinct = 0\n",
        "\n",
        "        for R in range(0, n):\n",
        "            curnum = nums[R]\n",
        "\n",
        "            if Count[curnum] == 0:\n",
        "                distinct += 1\n",
        "            \n",
        "            Count[curnum] += 1\n",
        "\n",
        "            # not satisfy condition\n",
        "            while distinct > k:\n",
        "                prenum = nums[L]\n",
        "\n",
        "                if Count[prenum] == 1:\n",
        "                    distinct -= 1\n",
        "                \n",
        "                Count[prenum] -= 1\n",
        "                L += 1\n",
        "\n",
        "            total += (R - L + 1)\n",
        "\n",
        "        return total\n"
      ]
    }
  ]
}