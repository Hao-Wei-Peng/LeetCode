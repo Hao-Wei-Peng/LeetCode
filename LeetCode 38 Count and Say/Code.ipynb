{
  "nbformat": 4,
  "nbformat_minor": 0,
  "metadata": {
    "colab": {
      "provenance": []
    },
    "kernelspec": {
      "name": "python3",
      "display_name": "Python 3"
    },
    "language_info": {
      "name": "python"
    }
  },
  "cells": [
    {
      "cell_type": "code",
      "execution_count": null,
      "metadata": {
        "id": "mMOA-ZhSJFOB"
      },
      "outputs": [],
      "source": [
        "class Solution:\n",
        "    def countAndSay(self, n: int) -> str:\n",
        "\n",
        "        # base case\n",
        "        pre = \"1\"\n",
        "\n",
        "        # obtain n -> need n - 1\n",
        "        # obtain n - 1 -> need n - 2\n",
        "        # ans so on\n",
        "        # Time Complexity will be O(n * m), n = number, m = length of each word\n",
        "        # Space Complexity will be O(m)\n",
        "        for i in range(0, n - 1):\n",
        "            cur, start, end = \"\", 0, 0\n",
        "\n",
        "            while end < len(pre):\n",
        "                while end < len(pre) and pre[start] == pre[end]:\n",
        "                    end += 1\n",
        "                \n",
        "                cur += str(end - start) + pre[start] # end - start = 2, pre[start] = 3\n",
        "                start = end\n",
        "            \n",
        "            pre = cur # update the result\n",
        "\n",
        "        return pre\n"
      ]
    }
  ]
}