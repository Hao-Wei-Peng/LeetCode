{
  "nbformat": 4,
  "nbformat_minor": 0,
  "metadata": {
    "colab": {
      "name": "Code.ipynb",
      "provenance": [],
      "collapsed_sections": []
    },
    "kernelspec": {
      "name": "python3",
      "display_name": "Python 3"
    },
    "language_info": {
      "name": "python"
    }
  },
  "cells": [
    {
      "cell_type": "code",
      "execution_count": null,
      "metadata": {
        "id": "hFD3gFKqbvee"
      },
      "outputs": [],
      "source": [
        "class Solution:\n",
        "    def subsets(self, nums: List[int]) -> List[List[int]]:\n",
        "\n",
        "        path = []\n",
        "        ans = []\n",
        "\n",
        "        def backtrack(start_idx):\n",
        "            # todo\n",
        "            ans.append(path[:])\n",
        "\n",
        "            if start_idx == len(nums):\n",
        "                return\n",
        "\n",
        "            for idx in range(start_idx, len(nums)):\n",
        "                path.append(nums[idx])\n",
        "                backtrack(idx + 1)\n",
        "                path.pop()\n",
        "\n",
        "        backtrack(0)\n",
        "\n",
        "        return ans"
      ]
    }
  ]
}