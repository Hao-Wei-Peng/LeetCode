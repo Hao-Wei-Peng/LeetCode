{
  "nbformat": 4,
  "nbformat_minor": 0,
  "metadata": {
    "colab": {
      "provenance": [],
      "collapsed_sections": []
    },
    "kernelspec": {
      "name": "python3",
      "display_name": "Python 3"
    },
    "language_info": {
      "name": "python"
    }
  },
  "cells": [
    {
      "cell_type": "code",
      "execution_count": null,
      "metadata": {
        "id": "mMOA-ZhSJFOB"
      },
      "outputs": [],
      "source": [
        "class Solution:\n",
        "    def checkInclusion(self, s1: str, s2: str) -> bool:\n",
        "\n",
        "        # our goal: check whether s2 contains a permutation of s1\n",
        "        # Time Complexity will be O(m)\n",
        "        # Space Complexity will be O(1)\n",
        "        n, m = len(s1), len(s2)\n",
        "\n",
        "        # base case\n",
        "        if n > m:\n",
        "            return False\n",
        "\n",
        "        left, right = 0, n - 1\n",
        "        C1 = collections.Counter(s1)\n",
        "        C2 = collections.Counter(s2[0 : right])\n",
        "\n",
        "        while right < m:\n",
        "\n",
        "            char = s2[right]\n",
        "            C2[char] += 1\n",
        "\n",
        "            # when both counters have same element with same frequency\n",
        "            if C1 == C2:\n",
        "                return True\n",
        "            \n",
        "            prechar = s2[left]\n",
        "            C2[prechar] -= 1\n",
        "\n",
        "            # if current lowercase with frequency 0, delete it\n",
        "            if C2[prechar] == 0:\n",
        "                del C2[prechar]\n",
        "\n",
        "            left += 1\n",
        "            right += 1\n",
        "\n",
        "        return False"
      ]
    }
  ]
}