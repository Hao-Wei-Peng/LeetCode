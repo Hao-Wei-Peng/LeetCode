{
  "nbformat": 4,
  "nbformat_minor": 0,
  "metadata": {
    "colab": {
      "name": "Code.ipynb",
      "provenance": [],
      "collapsed_sections": []
    },
    "kernelspec": {
      "name": "python3",
      "display_name": "Python 3"
    },
    "language_info": {
      "name": "python"
    }
  },
  "cells": [
    {
      "cell_type": "code",
      "execution_count": null,
      "metadata": {
        "id": "hFD3gFKqbvee"
      },
      "outputs": [],
      "source": [
        "\"\"\"\n",
        "# Definition for a Node.\n",
        "class Node:\n",
        "    def __init__(self, val=None, children=None):\n",
        "        self.val = val\n",
        "        self.children = children\n",
        "\"\"\"\n",
        "\n",
        "class Solution:\n",
        "    def preorder(self, root: 'Node') -> List[int]:\n",
        "\n",
        "        # Time Complexity will be O(n)\n",
        "        # Space Complexity will be O(n)\n",
        "        # n = tree nodes\n",
        "        ans = []\n",
        "\n",
        "        def recursion(root):\n",
        "\n",
        "            if not root:\n",
        "                return None\n",
        "\n",
        "            ans.append(root.val)\n",
        "\n",
        "            for child in root.children:\n",
        "                recursion(child)\n",
        "\n",
        "        recursion(root)\n",
        "\n",
        "        return ans"
      ]
    }
  ]
}