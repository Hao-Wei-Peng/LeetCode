{
  "nbformat": 4,
  "nbformat_minor": 0,
  "metadata": {
    "colab": {
      "provenance": []
    },
    "kernelspec": {
      "name": "python3",
      "display_name": "Python 3"
    },
    "language_info": {
      "name": "python"
    }
  },
  "cells": [
    {
      "cell_type": "code",
      "execution_count": null,
      "metadata": {
        "id": "mMOA-ZhSJFOB"
      },
      "outputs": [],
      "source": [
        "class Solution:\n",
        "    def angleClock(self, hour: int, minutes: int) -> float:\n",
        "\n",
        "        # minute move between 6 degree\n",
        "        # hour move between 30 degree\n",
        "        one_minute_angle = 360 // 60 # 6\n",
        "        one_hour_angle = 360 // 12 # 30\n",
        "\n",
        "        minute_move = one_minute_angle * minutes # 6 * 30 = 180\n",
        "        hour_move = (hour % 12 + minutes / 60) * one_hour_angle\n",
        "\n",
        "        diff = abs(hour_move - minute_move)\n",
        "\n",
        "        # minimum angle\n",
        "        return min(diff, 360 - diff)"
      ]
    }
  ]
}