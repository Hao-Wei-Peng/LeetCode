{
  "nbformat": 4,
  "nbformat_minor": 0,
  "metadata": {
    "colab": {
      "name": "Code.ipynb",
      "provenance": [],
      "collapsed_sections": []
    },
    "kernelspec": {
      "name": "python3",
      "display_name": "Python 3"
    },
    "language_info": {
      "name": "python"
    }
  },
  "cells": [
    {
      "cell_type": "code",
      "execution_count": null,
      "metadata": {
        "id": "hFD3gFKqbvee"
      },
      "outputs": [],
      "source": [
        "# Definition for a binary tree node.\n",
        "# class TreeNode:\n",
        "#     def __init__(self, val=0, left=None, right=None):\n",
        "#         self.val = val\n",
        "#         self.left = left\n",
        "#         self.right = right\n",
        "class Solution:\n",
        "    def buildTree(self, inorder: List[int], postorder: List[int]) -> TreeNode:\n",
        "\n",
        "        # Time Complexity will be O(n)\n",
        "        # Space Complexity will be O(1)\n",
        "        # n = tree nodes\n",
        "\n",
        "        # edge case\n",
        "        if not inorder or not postorder:\n",
        "            return None\n",
        "        \n",
        "        # find middle point\n",
        "        mid_point = postorder[-1]\n",
        "        root = TreeNode(mid_point)\n",
        "\n",
        "        # find index in inorder list\n",
        "        idx = inorder.index(mid_point)\n",
        "\n",
        "        root.left = self.buildTree(inorder[0 : idx], postorder[0 : idx])\n",
        "        root.right = self.buildTree(inorder[idx + 1 : ], postorder[idx : len(postorder) - 1])\n",
        "\n",
        "        return root\n"
      ]
    }
  ]
}