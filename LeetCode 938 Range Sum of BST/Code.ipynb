{
  "nbformat": 4,
  "nbformat_minor": 0,
  "metadata": {
    "colab": {
      "provenance": [],
      "collapsed_sections": []
    },
    "kernelspec": {
      "name": "python3",
      "display_name": "Python 3"
    },
    "language_info": {
      "name": "python"
    }
  },
  "cells": [
    {
      "cell_type": "code",
      "execution_count": null,
      "metadata": {
        "id": "mMOA-ZhSJFOB"
      },
      "outputs": [],
      "source": [
        "# Definition for a binary tree node.\n",
        "# class TreeNode:\n",
        "#     def __init__(self, val=0, left=None, right=None):\n",
        "#         self.val = val\n",
        "#         self.left = left\n",
        "#         self.right = right\n",
        "class Solution:\n",
        "\n",
        "    def __init__(self):\n",
        "        self.RangeSum = 0\n",
        "\n",
        "    def rangeSumBST(self, root: Optional[TreeNode], low: int, high: int) -> int:\n",
        "\n",
        "        # base case\n",
        "        if not root:\n",
        "            return 0\n",
        "\n",
        "        self.DFS(root, low, high)\n",
        "        return self.RangeSum\n",
        "    \n",
        "\n",
        "    def DFS(self, root, low, high):\n",
        "\n",
        "        # end condition\n",
        "        if not root:\n",
        "            return \n",
        "\n",
        "        if low <= root.val <= high:\n",
        "            self.RangeSum += root.val\n",
        "\n",
        "        self.DFS(root.left, low, high)\n",
        "        self.DFS(root.right, low, high)\n"
      ]
    }
  ]
}