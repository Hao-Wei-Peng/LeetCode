{
  "nbformat": 4,
  "nbformat_minor": 0,
  "metadata": {
    "colab": {
      "provenance": [],
      "collapsed_sections": []
    },
    "kernelspec": {
      "name": "python3",
      "display_name": "Python 3"
    },
    "language_info": {
      "name": "python"
    }
  },
  "cells": [
    {
      "cell_type": "code",
      "execution_count": null,
      "metadata": {
        "id": "mMOA-ZhSJFOB"
      },
      "outputs": [],
      "source": [
        "class Solution:\n",
        "    def countVowelStrings(self, n: int) -> int:\n",
        "\n",
        "        # we can use dp to deal with this problem\n",
        "        # at the end of alphabet a, b, c, d, e\n",
        "        a, e, i, o, u = 1, 1, 1, 1, 1\n",
        "\n",
        "        for _ in range(0, n - 1):\n",
        "            a = a\n",
        "            e = e + a\n",
        "            i = i + e\n",
        "            o = o + i\n",
        "            u = u + o\n",
        "        return a + e + i + o + u\n"
      ]
    }
  ]
}