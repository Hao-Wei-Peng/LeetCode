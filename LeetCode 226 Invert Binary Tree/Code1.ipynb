{
  "nbformat": 4,
  "nbformat_minor": 0,
  "metadata": {
    "colab": {
      "name": "Code.ipynb",
      "provenance": [],
      "collapsed_sections": []
    },
    "kernelspec": {
      "name": "python3",
      "display_name": "Python 3"
    },
    "language_info": {
      "name": "python"
    }
  },
  "cells": [
    {
      "cell_type": "code",
      "execution_count": null,
      "metadata": {
        "id": "hFD3gFKqbvee"
      },
      "outputs": [],
      "source": [
        "# Definition for a binary tree node.\n",
        "# class TreeNode:\n",
        "#     def __init__(self, val=0, left=None, right=None):\n",
        "#         self.val = val\n",
        "#         self.left = left\n",
        "#         self.right = right\n",
        "class Solution:\n",
        "    def invertTree(self, root: TreeNode) -> TreeNode:\n",
        "        \n",
        "        # edge case\n",
        "        if not root:\n",
        "            return None\n",
        "        \n",
        "        # Time Complexity will be O(n)\n",
        "        # Space Complexity will be O(n)\n",
        "        # n = tree nodes\n",
        "        stack = [root]\n",
        "\n",
        "        # preorder (mid, left, right)\n",
        "        while stack:\n",
        "            node = stack.pop()\n",
        "            node.left, node.right = node.right, node.left\n",
        "\n",
        "            if node.right:\n",
        "                stack.append(node.right)\n",
        "            \n",
        "            if node.left:\n",
        "                stack.append(node.left)\n",
        "        \n",
        "        return root\n",
        "\n"
      ]
    }
  ]
}