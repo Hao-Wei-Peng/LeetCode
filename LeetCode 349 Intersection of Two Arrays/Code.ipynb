{
  "nbformat": 4,
  "nbformat_minor": 0,
  "metadata": {
    "colab": {
      "provenance": []
    },
    "kernelspec": {
      "name": "python3",
      "display_name": "Python 3"
    },
    "language_info": {
      "name": "python"
    }
  },
  "cells": [
    {
      "cell_type": "code",
      "execution_count": null,
      "metadata": {
        "id": "mMOA-ZhSJFOB"
      },
      "outputs": [],
      "source": [
        "class Solution:\n",
        "    def __init__(self):\n",
        "        self.ans = []\n",
        "    \n",
        "    def intersection(self, nums1: List[int], nums2: List[int]) -> List[int]:\n",
        "\n",
        "        # base case\n",
        "        if not nums1 or not nums2:\n",
        "            return self.ans\n",
        "        \n",
        "        nums1, nums2 = set(nums1), set(nums2)\n",
        "\n",
        "        # ensure nums1 is smaller than nums2\n",
        "        if len(nums1) > len(nums2):\n",
        "            nums1, nums2 = nums2, nums1\n",
        "\n",
        "        # Time Complexity will be O(n)\n",
        "        # Space Complexity will be O(n)\n",
        "        for curnum in nums1:\n",
        "            if curnum in nums2:\n",
        "                self.ans.append(curnum)\n",
        "        \n",
        "        return self.ans"
      ]
    }
  ]
}