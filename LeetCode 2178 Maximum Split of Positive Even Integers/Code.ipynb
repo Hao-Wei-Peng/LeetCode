{
  "nbformat": 4,
  "nbformat_minor": 0,
  "metadata": {
    "colab": {
      "provenance": []
    },
    "kernelspec": {
      "name": "python3",
      "display_name": "Python 3"
    },
    "language_info": {
      "name": "python"
    }
  },
  "cells": [
    {
      "cell_type": "code",
      "execution_count": null,
      "metadata": {
        "id": "mMOA-ZhSJFOB"
      },
      "outputs": [],
      "source": [
        "class Solution:\n",
        "    def maximumEvenSplit(self, finalSum: int) -> List[int]:\n",
        "\n",
        "        # positive even integers\n",
        "        # use greedy method to deal with this problem\n",
        "        # Time Complexity will be O(sqrt(n))\n",
        "        ans, num = [], 2\n",
        "\n",
        "        if finalSum % 2 == 0:\n",
        "            while num <= finalSum:\n",
        "                ans.append(num)\n",
        "                finalSum -= num\n",
        "                num += 2\n",
        "            \n",
        "            ans[-1] += finalSum\n",
        "        \n",
        "        return ans"
      ]
    }
  ]
}