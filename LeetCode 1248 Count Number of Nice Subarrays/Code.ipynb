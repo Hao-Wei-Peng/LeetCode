{
  "nbformat": 4,
  "nbformat_minor": 0,
  "metadata": {
    "colab": {
      "provenance": [],
      "collapsed_sections": []
    },
    "kernelspec": {
      "name": "python3",
      "display_name": "Python 3"
    },
    "language_info": {
      "name": "python"
    }
  },
  "cells": [
    {
      "cell_type": "code",
      "execution_count": null,
      "metadata": {
        "id": "mMOA-ZhSJFOB"
      },
      "outputs": [],
      "source": [
        "class Solution:\n",
        "    def numberOfSubarrays(self, nums: List[int], k: int) -> int:\n",
        "\n",
        "        n = len(nums)\n",
        "\n",
        "        # we can use prefix to deal with this problem\n",
        "        count_map = collections.defaultdict(int)\n",
        "        # prefix = key, count = value (odd number)\n",
        "        count_map[0] = 1\n",
        "        ans, oddNums = 0, 0\n",
        "\n",
        "        for idx in range(0, n):\n",
        "            \n",
        "            if nums[idx] % 2 == 1:\n",
        "                oddNums += 1\n",
        "            \n",
        "            count_map[oddNums] += 1\n",
        "\n",
        "            if oddNums - k in count_map:\n",
        "                ans = ans + count_map[oddNums - k]\n",
        "        \n",
        "        return ans"
      ]
    }
  ]
}