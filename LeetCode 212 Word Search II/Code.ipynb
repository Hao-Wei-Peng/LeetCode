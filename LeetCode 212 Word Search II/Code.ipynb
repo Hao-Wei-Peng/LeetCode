{
  "nbformat": 4,
  "nbformat_minor": 0,
  "metadata": {
    "colab": {
      "provenance": [],
      "collapsed_sections": []
    },
    "kernelspec": {
      "name": "python3",
      "display_name": "Python 3"
    },
    "language_info": {
      "name": "python"
    }
  },
  "cells": [
    {
      "cell_type": "code",
      "execution_count": null,
      "metadata": {
        "id": "mMOA-ZhSJFOB"
      },
      "outputs": [],
      "source": [
        "class TrieNode:\n",
        "    def __init__(self):\n",
        "        self.children = {}\n",
        "        self.endOfWord = False\n",
        "    \n",
        "    def insert(self, word):\n",
        "\n",
        "        cur = self\n",
        "\n",
        "        for c in word:\n",
        "            if c not in cur.children:\n",
        "                cur.children[c] = TrieNode()\n",
        "\n",
        "            cur = cur.children[c]\n",
        "        cur.endOfWord = True\n",
        "\n",
        "\n",
        "class Solution:\n",
        "    def findWords(self, board: List[List[str]], words: List[str]) -> List[str]:\n",
        "\n",
        "        tree = TrieNode()\n",
        "\n",
        "        for w in words:\n",
        "            tree.insert(w)\n",
        "        \n",
        "        Rows, Cols = len(board), len(board[0])\n",
        "        ans, visited = set(), set()\n",
        "\n",
        "        def DFS(r, c, node, word):\n",
        "            # end condition\n",
        "            if r < 0 or c < 0 or r == Rows or c == Cols or (r, c) in visited or board[r][c] not in node.children:\n",
        "                return \n",
        "            \n",
        "            visited.add((r, c))\n",
        "            node = node.children[board[r][c]]\n",
        "            word += board[r][c]\n",
        "\n",
        "            # check current word whether exist in trie tree\n",
        "            if node.endOfWord:\n",
        "                ans.add(word)\n",
        "            \n",
        "            DFS(r + 1, c, node, word)\n",
        "            DFS(r - 1, c, node, word)\n",
        "            DFS(r, c + 1, node, word)\n",
        "            DFS(r, c - 1, node, word)\n",
        "            # backtrack\n",
        "            visited.remove((r, c))\n",
        "\n",
        "        for row in range(0, Rows):\n",
        "            for col in range(0, Cols):\n",
        "                # every position could be start position\n",
        "                DFS(row, col, tree, \"\")\n",
        "        \n",
        "        return list(ans)"
      ]
    }
  ]
}