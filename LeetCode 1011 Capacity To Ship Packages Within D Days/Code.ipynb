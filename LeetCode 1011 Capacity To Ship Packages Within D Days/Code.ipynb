{
  "nbformat": 4,
  "nbformat_minor": 0,
  "metadata": {
    "colab": {
      "provenance": [],
      "collapsed_sections": []
    },
    "kernelspec": {
      "name": "python3",
      "display_name": "Python 3"
    },
    "language_info": {
      "name": "python"
    }
  },
  "cells": [
    {
      "cell_type": "code",
      "execution_count": null,
      "metadata": {
        "id": "mMOA-ZhSJFOB"
      },
      "outputs": [],
      "source": [
        "class Solution:\n",
        "    def shipWithinDays(self, weights: List[int], days: int) -> int:\n",
        "\n",
        "        # ith package = weights[i]\n",
        "        # following order\n",
        "        total = sum(weights)\n",
        "        MaxWeight = max(weights)\n",
        "        left, right = MaxWeight, total\n",
        "\n",
        "        # bounded interval\n",
        "        while left <= right:\n",
        "\n",
        "            mid = left + (right - left) // 2\n",
        "            \n",
        "            if self.Condition(mid, weights, days):\n",
        "                MinCap = mid\n",
        "                right = mid - 1\n",
        "            \n",
        "            else:\n",
        "                left = mid + 1\n",
        "\n",
        "        return MinCap\n",
        "    \n",
        "    def Condition(self, wei, weights, days):\n",
        "\n",
        "        n = len(weights)\n",
        "        total, ship = 0, 1\n",
        "        ptr = 0\n",
        "\n",
        "        while ptr < n:\n",
        "            cur = weights[ptr]\n",
        "            total += cur\n",
        "\n",
        "            if total > wei:\n",
        "                ship += 1\n",
        "                total = cur\n",
        "            \n",
        "            ptr += 1\n",
        "        \n",
        "        return ship <= days"
      ]
    }
  ]
}