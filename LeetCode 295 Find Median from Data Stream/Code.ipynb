{
  "nbformat": 4,
  "nbformat_minor": 0,
  "metadata": {
    "colab": {
      "provenance": [],
      "collapsed_sections": []
    },
    "kernelspec": {
      "name": "python3",
      "display_name": "Python 3"
    },
    "language_info": {
      "name": "python"
    }
  },
  "cells": [
    {
      "cell_type": "code",
      "execution_count": null,
      "metadata": {
        "id": "mMOA-ZhSJFOB",
        "colab": {
          "base_uri": "https://localhost:8080/"
        },
        "outputId": "8e6b5ada-b783-4a92-ab64-13c5cb4b234e"
      },
      "outputs": [
        {
          "output_type": "stream",
          "name": "stdout",
          "text": [
            "[3, 4, 2, 1]\n"
          ]
        }
      ],
      "source": [
        "class MedianFinder:\n",
        "\n",
        "    def __init__(self):\n",
        "        # two heaps, large, small\n",
        "        # two heaps roughly same size\n",
        "        self.large, self.small = [], [] \n",
        "\n",
        "    def addNum(self, num: int) -> None:\n",
        "\n",
        "        heapq.heappush(self.small, -1 * num)\n",
        "\n",
        "        # make sure every num in small <= every num in large\n",
        "        if self.small and self.large and (-1 * self.small[0] > self.large[0]):\n",
        "            val = -1 *  heapq.heappop(self.small)\n",
        "            heapq.heappush(self.large, val)\n",
        "\n",
        "        # uneven size\n",
        "        if len(self.small) > len(self.large) + 1:\n",
        "            val = -1 * heapq.heappop(self.small)\n",
        "            heapq.heappush(self.large, val)\n",
        "\n",
        "        if len(self.large) > len(self.small) + 1:\n",
        "            val = heapq.heappop(self.large)\n",
        "            heapq.heappush(self.small, -1 * val) \n",
        "\n",
        "\n",
        "    def findMedian(self) -> float:\n",
        "\n",
        "        if len(self.small) > len(self.large):\n",
        "            return -1 * self.small[0]\n",
        "        \n",
        "        if len(self.large) > len(self.small):\n",
        "            return self.large[0]\n",
        "\n",
        "        return (-1 * self.small[0] + self.large[0]) / 2\n",
        "\n",
        "\n",
        "# Your MedianFinder object will be instantiated and called as such:\n",
        "# obj = MedianFinder()\n",
        "# obj.addNum(num)\n",
        "# param_2 = obj.findMedian()"
      ]
    }
  ]
}