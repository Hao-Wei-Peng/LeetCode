class Solution:
    def containsNearbyAlmostDuplicate(self, nums: List[int], k: int, t: int) -> bool:
        # two distinct indices
        # abs(nums[i] - nums[j]) <= t
        # abs(i - j) <= k
        n = len(nums)
        # 1. we can suppose that we have (t + 1) buckets
        # hashmap number -> number 0 ~ number t

        bucket = collections.defaultdict(int)

        # Time Complexity will be O(n)
        # Space Complexity will be O(min(n, k))

        # we will have three conditions
        # 1. current bucket number
        # 2. left neighbor bucket number
        # 3. right neighbor bucket number
        for i in range(0, n):
            number = nums[i] // (t + 1)

            # appear in same bucket
            if number in bucket:
                return True
            
            # check left
            if number - 1 in bucket and abs(nums[i] - bucket[number - 1]) <= t:
                return True
            
            # check right
            if number + 1 in bucket and abs(nums[i] - bucket[number + 1]) <= t:
                return True

            bucket[number] = nums[i]

            if i >= k:
                bucket.pop(nums[i - k] // (t + 1))
        return False

