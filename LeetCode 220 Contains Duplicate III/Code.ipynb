{
  "nbformat": 4,
  "nbformat_minor": 0,
  "metadata": {
    "colab": {
      "name": "Code.ipynb",
      "provenance": []
    },
    "kernelspec": {
      "name": "python3",
      "display_name": "Python 3"
    },
    "language_info": {
      "name": "python"
    }
  },
  "cells": [
    {
      "cell_type": "code",
      "execution_count": null,
      "metadata": {
        "id": "hFD3gFKqbvee"
      },
      "outputs": [],
      "source": [
        "class Solution:\n",
        "    def containsNearbyAlmostDuplicate(self, nums: List[int], k: int, t: int) -> bool:\n",
        "        # two distinct indices\n",
        "        # abs(nums[i] - nums[j]) <= t\n",
        "        # abs(i - j) <= k\n",
        "        n = len(nums)\n",
        "        # 1. we can suppose that we have (t + 1) buckets\n",
        "        # hashmap number -> number 0 ~ number t\n",
        "\n",
        "        bucket = collections.defaultdict(int)\n",
        "\n",
        "        # Time Complexity will be O(n)\n",
        "        # Space Complexity will be O(min(n, k))\n",
        "\n",
        "        # we will have three conditions\n",
        "        # 1. current bucket number\n",
        "        # 2. left neighbor bucket number\n",
        "        # 3. right neighbor bucket number\n",
        "        for i in range(0, n):\n",
        "            number = nums[i] // (t + 1)\n",
        "\n",
        "            # appear in same bucket\n",
        "            if number in bucket:\n",
        "                return True\n",
        "            \n",
        "            # check left\n",
        "            if number - 1 in bucket and abs(nums[i] - bucket[number - 1]) <= t:\n",
        "                return True\n",
        "            \n",
        "            # check right\n",
        "            if number + 1 in bucket and abs(nums[i] - bucket[number + 1]) <= t:\n",
        "                return True\n",
        "\n",
        "            bucket[number] = nums[i]\n",
        "\n",
        "            if i >= k:\n",
        "                bucket.pop(nums[i - k] // (t + 1))\n",
        "        return False\n"
      ]
    }
  ]
}