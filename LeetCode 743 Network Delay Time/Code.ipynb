{
  "nbformat": 4,
  "nbformat_minor": 0,
  "metadata": {
    "colab": {
      "provenance": [],
      "collapsed_sections": []
    },
    "kernelspec": {
      "name": "python3",
      "display_name": "Python 3"
    },
    "language_info": {
      "name": "python"
    }
  },
  "cells": [
    {
      "cell_type": "code",
      "execution_count": null,
      "metadata": {
        "id": "mMOA-ZhSJFOB"
      },
      "outputs": [],
      "source": [
        "class Solution:\n",
        "    def networkDelayTime(self, times: List[List[int]], n: int, k: int) -> int:\n",
        "\n",
        "        # base case\n",
        "        if not times:\n",
        "            return -1\n",
        "        \n",
        "        Graph = collections.defaultdict(list)\n",
        "\n",
        "        # establish the Graph and Degree\n",
        "        for start, end, time in times:\n",
        "            Graph[start].append([end, time])\n",
        "        \n",
        "        # start from node k\n",
        "        minHeap = [(0, k)]\n",
        "        visited = set()\n",
        "        cost = 0\n",
        "\n",
        "        # Time Complexity will be O(E*logV)\n",
        "        while minHeap:\n",
        "            w1, n1 = heapq.heappop(minHeap)\n",
        "\n",
        "            if n1 in visited:\n",
        "                continue\n",
        "            \n",
        "            visited.add(n1)\n",
        "            cost = max(cost, w1)\n",
        "\n",
        "            # update the total cost\n",
        "            for n2, w2 in Graph[n1]:\n",
        "                if n2 not in visited:\n",
        "                    heapq.heappush(minHeap, (w1 + w2, n2))\n",
        "\n",
        "        return cost if len(visited) == n else -1        \n"
      ]
    }
  ]
}