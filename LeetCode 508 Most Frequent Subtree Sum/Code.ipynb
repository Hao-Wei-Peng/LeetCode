{
  "nbformat": 4,
  "nbformat_minor": 0,
  "metadata": {
    "colab": {
      "provenance": [],
      "collapsed_sections": []
    },
    "kernelspec": {
      "name": "python3",
      "display_name": "Python 3"
    },
    "language_info": {
      "name": "python"
    }
  },
  "cells": [
    {
      "cell_type": "code",
      "execution_count": null,
      "metadata": {
        "id": "mMOA-ZhSJFOB"
      },
      "outputs": [],
      "source": [
        "# Definition for a binary tree node.\n",
        "# class TreeNode:\n",
        "#     def __init__(self, val=0, left=None, right=None):\n",
        "#         self.val = val\n",
        "#         self.left = left\n",
        "#         self.right = right\n",
        "class Solution:\n",
        "    def __init__(self):\n",
        "        self.MostFreqMap = collections.defaultdict(int)\n",
        "    \n",
        "    def findFrequentTreeSum(self, root: Optional[TreeNode]) -> List[int]:\n",
        "        self.DFS(root)\n",
        "        \n",
        "        MaxValue = float(\"-inf\")\n",
        "        ans = []\n",
        "\n",
        "        for key, val in self.MostFreqMap.items():\n",
        "            if val > MaxValue:\n",
        "                MaxValue = val\n",
        "                ans = [key]\n",
        "            \n",
        "            elif val == MaxValue:\n",
        "                ans += [key]\n",
        "\n",
        "        return ans\n",
        "    \n",
        "\n",
        "    def DFS(self, root):\n",
        "\n",
        "        # end condition\n",
        "        if not root:\n",
        "            return 0\n",
        "        \n",
        "        LeftSide = self.DFS(root.left)\n",
        "        RightSide = self.DFS(root.right)\n",
        "\n",
        "        # leaf nodes\n",
        "        if LeftSide == 0 and RightSide == 0:\n",
        "            self.MostFreqMap[root.val] += 1\n",
        "            return root.val\n",
        "        \n",
        "        elif LeftSide != 0 or RightSide != 0:\n",
        "            Total = root.val + LeftSide + RightSide\n",
        "            self.MostFreqMap[Total] += 1\n",
        "            return Total\n"
      ]
    }
  ]
}