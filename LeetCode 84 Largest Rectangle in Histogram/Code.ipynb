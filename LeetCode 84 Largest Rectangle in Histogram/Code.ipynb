{
  "nbformat": 4,
  "nbformat_minor": 0,
  "metadata": {
    "colab": {
      "provenance": [],
      "collapsed_sections": []
    },
    "kernelspec": {
      "name": "python3",
      "display_name": "Python 3"
    },
    "language_info": {
      "name": "python"
    }
  },
  "cells": [
    {
      "cell_type": "code",
      "execution_count": null,
      "metadata": {
        "id": "mMOA-ZhSJFOB"
      },
      "outputs": [],
      "source": [
        "class Solution:\n",
        "    def largestRectangleArea(self, heights: List[int]) -> int:\n",
        "\n",
        "        # base case\n",
        "        if not heights:\n",
        "            return 0\n",
        "        \n",
        "        # Time Complexity will be O(n)\n",
        "        # Space Complexity will be O(n)\n",
        "        n = len(heights)\n",
        "        maxArea = 0\n",
        "        stack = [] # pair = (index, height)\n",
        "\n",
        "        # forward part\n",
        "        for i, curHeight in enumerate(heights):\n",
        "            start = i\n",
        "\n",
        "            while stack and curHeight < stack[-1][1]:\n",
        "                index, height = stack.pop()\n",
        "                maxArea = max(maxArea, height * (i - index))\n",
        "                start = index\n",
        "            stack.append((start, curHeight))\n",
        "        \n",
        "        # back part\n",
        "        for i, curHeight in stack:\n",
        "            maxArea = max(maxArea, curHeight * (n - i))\n",
        "        \n",
        "        return maxArea"
      ]
    }
  ]
}