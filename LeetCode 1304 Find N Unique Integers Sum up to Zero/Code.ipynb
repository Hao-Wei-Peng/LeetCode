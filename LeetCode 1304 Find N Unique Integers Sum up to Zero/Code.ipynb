{
  "nbformat": 4,
  "nbformat_minor": 0,
  "metadata": {
    "colab": {
      "name": "Code.ipynb",
      "provenance": [],
      "collapsed_sections": []
    },
    "kernelspec": {
      "name": "python3",
      "display_name": "Python 3"
    },
    "language_info": {
      "name": "python"
    }
  },
  "cells": [
    {
      "cell_type": "code",
      "execution_count": null,
      "metadata": {
        "id": "hFD3gFKqbvee"
      },
      "outputs": [],
      "source": [
        "class Solution:\n",
        "  def sumZero(self, n: int) -> List[int]:\n",
        "\n",
        "    # we can use symmetric conception to deal problem\n",
        "    # if n is odd, we can plus 0 extra integer\n",
        "    # Time Complexity will be O(n)\n",
        "    # Space Complexity will be O(1)\n",
        "\n",
        "    pos = [i for i in range(1, n//2 + 1)] \n",
        "    neg = [-i for i in range(1, n//2 + 1)]\n",
        "\n",
        "    return pos + [0] + neg if n % 2 == 1 else pos + neg"
      ]
    }
  ]
}