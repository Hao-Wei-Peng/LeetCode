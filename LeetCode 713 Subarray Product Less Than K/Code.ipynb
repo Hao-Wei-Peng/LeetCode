{
  "nbformat": 4,
  "nbformat_minor": 0,
  "metadata": {
    "colab": {
      "provenance": [],
      "collapsed_sections": []
    },
    "kernelspec": {
      "name": "python3",
      "display_name": "Python 3"
    },
    "language_info": {
      "name": "python"
    }
  },
  "cells": [
    {
      "cell_type": "code",
      "execution_count": null,
      "metadata": {
        "id": "mMOA-ZhSJFOB"
      },
      "outputs": [],
      "source": [
        "class Solution:\n",
        "    def numSubarrayProductLessThanK(self, nums: List[int], k: int) -> int:\n",
        "\n",
        "        n = len(nums)\n",
        "\n",
        "        # we can use two pointers to deal with this problem\n",
        "        # Time Complexity will be O(n)\n",
        "        # Space Complexity will be O(1)\n",
        "        left, right = 0, 0\n",
        "        Product = 1\n",
        "        count = 0\n",
        "\n",
        "        while right < n:\n",
        "            Product = Product * nums[right]\n",
        "\n",
        "            while left <= right and Product >= k:\n",
        "                # todo\n",
        "                Product = Product // nums[left]\n",
        "                left = left + 1            \n",
        "            \n",
        "            count = count + (right - left + 1)\n",
        "            right = right + 1\n",
        "        \n",
        "        return count"
      ]
    }
  ]
}