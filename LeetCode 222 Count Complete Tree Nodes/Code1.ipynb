{
  "nbformat": 4,
  "nbformat_minor": 0,
  "metadata": {
    "colab": {
      "name": "Code.ipynb",
      "provenance": [],
      "collapsed_sections": []
    },
    "kernelspec": {
      "name": "python3",
      "display_name": "Python 3"
    },
    "language_info": {
      "name": "python"
    }
  },
  "cells": [
    {
      "cell_type": "code",
      "execution_count": null,
      "metadata": {
        "id": "hFD3gFKqbvee"
      },
      "outputs": [],
      "source": [
        "# Definition for a binary tree node.\n",
        "# class TreeNode:\n",
        "#     def __init__(self, val=0, left=None, right=None):\n",
        "#         self.val = val\n",
        "#         self.left = left\n",
        "#         self.right = right\n",
        "class Solution:\n",
        "    def countNodes(self, root: TreeNode) -> int:\n",
        "        return self.SumNodes(root)\n",
        "        \n",
        "    # Time Complexity will be O(n)\n",
        "    # Space Complexity will be O(n)\n",
        "    def SumNodes(self, root):\n",
        "        if not root:\n",
        "            return 0\n",
        "        \n",
        "        LeftSum = self.SumNodes(root.left)\n",
        "        RightSum = self.SumNodes(root.right)\n",
        "        Current = 1\n",
        "        TotalNodes = Current + LeftSum + RightSum\n",
        "\n",
        "        return TotalNodes"
      ]
    }
  ]
}