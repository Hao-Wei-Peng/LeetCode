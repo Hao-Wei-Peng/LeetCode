{
  "nbformat": 4,
  "nbformat_minor": 0,
  "metadata": {
    "colab": {
      "provenance": []
    },
    "kernelspec": {
      "name": "python3",
      "display_name": "Python 3"
    },
    "language_info": {
      "name": "python"
    }
  },
  "cells": [
    {
      "cell_type": "code",
      "execution_count": null,
      "metadata": {
        "id": "mMOA-ZhSJFOB"
      },
      "outputs": [],
      "source": [
        "import abc \n",
        "from abc import ABC, abstractmethod \n",
        "\"\"\"\n",
        "This is the interface for the expression tree Node.\n",
        "You should not remove it, and you can define some classes to implement it.\n",
        "\"\"\"\n",
        "\n",
        "class Node(ABC):\n",
        "    # define your fields here\n",
        "    def __init__(self, val):\n",
        "        self.val = val\n",
        "        self.left = None\n",
        "        self.right = None\n",
        "\n",
        "    def evaluate(self) -> int:\n",
        "        \n",
        "        if self.val.isnumeric():\n",
        "            return int(self.val)\n",
        "        \n",
        "        elif self.val == \"+\":\n",
        "            return self.left.evaluate() + self.right.evaluate()\n",
        "        \n",
        "        elif self.val == \"-\":\n",
        "            return self.left.evaluate() - self.right.evaluate()\n",
        "        \n",
        "        elif self.val == \"*\":\n",
        "            return self.left.evaluate() * self.right.evaluate()\n",
        "        \n",
        "        elif self.val == \"/\":\n",
        "            return self.left.evaluate() // self.right.evaluate()\n",
        "\n",
        "\"\"\"    \n",
        "This is the TreeBuilder class.\n",
        "You can treat it as the driver code that takes the postinfix input\n",
        "and returns the expression tree represnting it as a Node.\n",
        "\"\"\"\n",
        "\n",
        "class TreeBuilder(object):\n",
        "    def buildTree(self, postfix: List[str]) -> 'Node':\n",
        "\n",
        "        stack = []\n",
        "\n",
        "        # establish the tree\n",
        "        for char in postfix:\n",
        "            if char in \"+-*/\":\n",
        "                R, L = stack.pop(), stack.pop()\n",
        "                tree = Node(char)\n",
        "                tree.left, tree.right = L, R\n",
        "                stack.append(tree)\n",
        "            \n",
        "            else:\n",
        "                stack.append(Node(char))\n",
        "\t\t\n",
        "        return stack[0]\n",
        "\"\"\"\n",
        "Your TreeBuilder object will be instantiated and called as such:\n",
        "obj = TreeBuilder();\n",
        "expTree = obj.buildTree(postfix);\n",
        "ans = expTree.evaluate();\n",
        "\"\"\""
      ]
    }
  ]
}