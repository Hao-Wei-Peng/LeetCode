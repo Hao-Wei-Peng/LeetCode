{
  "nbformat": 4,
  "nbformat_minor": 0,
  "metadata": {
    "colab": {
      "provenance": [],
      "collapsed_sections": []
    },
    "kernelspec": {
      "name": "python3",
      "display_name": "Python 3"
    },
    "language_info": {
      "name": "python"
    }
  },
  "cells": [
    {
      "cell_type": "code",
      "execution_count": 35,
      "metadata": {
        "id": "mMOA-ZhSJFOB"
      },
      "outputs": [],
      "source": [
        "class Solution:\n",
        "    def __init__(self):\n",
        "      self.Path = []\n",
        "      self.Answer = []\n",
        "\n",
        "    def Backtrack(self, target, cursum, start_num):\n",
        "\n",
        "      # in fact, we can use sorted to do prune steps\n",
        "      # therefore, we can avoid choose same results\n",
        "\n",
        "      # base case\n",
        "      if cursum == target:\n",
        "        self.Answer.append(self.Path[:])\n",
        "        return\n",
        "\n",
        "      for num in range(start_num, target):\n",
        "        cursum = cursum + num\n",
        "\n",
        "        # prune\n",
        "        if cursum > target:\n",
        "          return \n",
        "\n",
        "        self.Path.append(num)\n",
        "        self.Backtrack(target, cursum, num)\n",
        "        cursum = cursum - num\n",
        "        self.Path.pop()\n",
        "\n",
        "\n",
        "    def All_Sums_Combinations(self, target):\n",
        "\n",
        "      # (target, cursum, start)\n",
        "      self.Backtrack(target, 0, 1)\n",
        "\n",
        "      return self.Answer"
      ]
    },
    {
      "cell_type": "code",
      "source": [
        "obj = Solution()\n",
        "obj.All_Sums_Combinations(5)"
      ],
      "metadata": {
        "colab": {
          "base_uri": "https://localhost:8080/"
        },
        "id": "iGMv5b6JVfnF",
        "outputId": "1007fffd-067b-41b0-d509-225349a42198"
      },
      "execution_count": 36,
      "outputs": [
        {
          "output_type": "execute_result",
          "data": {
            "text/plain": [
              "[[1, 1, 1, 1, 1], [1, 1, 1, 2], [1, 1, 3], [1, 2, 2], [1, 4], [2, 3]]"
            ]
          },
          "metadata": {},
          "execution_count": 36
        }
      ]
    }
  ]
}