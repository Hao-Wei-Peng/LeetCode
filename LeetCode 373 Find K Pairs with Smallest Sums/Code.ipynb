{
  "nbformat": 4,
  "nbformat_minor": 0,
  "metadata": {
    "colab": {
      "provenance": [],
      "collapsed_sections": []
    },
    "kernelspec": {
      "name": "python3",
      "display_name": "Python 3"
    },
    "language_info": {
      "name": "python"
    }
  },
  "cells": [
    {
      "cell_type": "code",
      "execution_count": null,
      "metadata": {
        "id": "mMOA-ZhSJFOB"
      },
      "outputs": [],
      "source": [
        "class Solution:\n",
        "    def kSmallestPairs(self, nums1: List[int], nums2: List[int], k: int) -> List[List[int]]:\n",
        "\n",
        "        prior_queue = []\n",
        "\n",
        "        # base case\n",
        "        if not nums1 or not nums2:\n",
        "            return prior_queue\n",
        "        \n",
        "        m, n = len(nums1), len(nums2)\n",
        "\n",
        "        # Time Complexity will be O(nlogn), m, n, k minimum \n",
        "        # push, pop -> O(logn)\n",
        "        # we push all combinations nums1[idx], nums2[0] in queue at first        \n",
        "        for idx in range(0, m):\n",
        "            cur = nums1[idx] + nums2[0]\n",
        "            heapq.heappush(prior_queue, (cur, idx, 0))\n",
        "        \n",
        "        ans = []\n",
        "\n",
        "        while prior_queue and k > 0:\n",
        "            \n",
        "            _, idx1, idx2 = heappop(prior_queue)\n",
        "            ans.append([nums1[idx1], nums2[idx2]])\n",
        "\n",
        "            if idx2 + 1 < n:\n",
        "                heapq.heappush(prior_queue, (nums1[idx1] + nums2[idx2 + 1], idx1, idx2 + 1))\n",
        "\n",
        "            k -= 1\n",
        "        return ans"
      ]
    }
  ]
}