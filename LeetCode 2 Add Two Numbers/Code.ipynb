{
  "nbformat": 4,
  "nbformat_minor": 0,
  "metadata": {
    "colab": {
      "provenance": []
    },
    "kernelspec": {
      "name": "python3",
      "display_name": "Python 3"
    },
    "language_info": {
      "name": "python"
    }
  },
  "cells": [
    {
      "cell_type": "code",
      "execution_count": null,
      "metadata": {
        "id": "mMOA-ZhSJFOB"
      },
      "outputs": [],
      "source": [
        "# Definition for singly-linked list.\n",
        "# class ListNode:\n",
        "#     def __init__(self, val=0, next=None):\n",
        "#         self.val = val\n",
        "#         self.next = next\n",
        "class Solution:\n",
        "    def addTwoNumbers(self, L1: Optional[ListNode], L2: Optional[ListNode]) -> Optional[ListNode]:\n",
        "\n",
        "        dummy = ListNode()\n",
        "        cur = dummy\n",
        "        carry = 0\n",
        "\n",
        "        while L1 or L2 or carry:\n",
        "            # 4 + 6 = 10\n",
        "            carry += (L1.val if L1 else 0) + (L2.val if L2 else 0)\n",
        "            # mod = 0\n",
        "            cur.next = ListNode(carry % 10)\n",
        "            cur = cur.next\n",
        "            # carry = 1, update the carry\n",
        "            carry = carry // 10\n",
        "\n",
        "            # move to next positions\n",
        "            L1 = L1.next if L1 else None\n",
        "            L2 = L2.next if L2 else None\n",
        "\n",
        "        return dummy.next"
      ]
    }
  ]
}