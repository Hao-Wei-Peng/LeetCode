{
  "nbformat": 4,
  "nbformat_minor": 0,
  "metadata": {
    "colab": {
      "provenance": []
    },
    "kernelspec": {
      "name": "python3",
      "display_name": "Python 3"
    },
    "language_info": {
      "name": "python"
    }
  },
  "cells": [
    {
      "cell_type": "code",
      "execution_count": null,
      "metadata": {
        "id": "mMOA-ZhSJFOB"
      },
      "outputs": [],
      "source": [
        "# Definition for a binary tree node.\n",
        "# class TreeNode:\n",
        "#     def __init__(self, x):\n",
        "#         self.val = x\n",
        "#         self.left = None\n",
        "#         self.right = None\n",
        "\n",
        "class Solution:\n",
        "    def lowestCommonAncestor(self, root: 'TreeNode', p: 'TreeNode', q: 'TreeNode') -> 'TreeNode':\n",
        "\n",
        "        cur = root\n",
        "\n",
        "        while cur:\n",
        "            if p.val > cur.val and q.val > cur.val:\n",
        "                cur = cur.right\n",
        "            \n",
        "            elif p.val < cur.val and q.val < cur.val:\n",
        "                cur = cur.left\n",
        "            \n",
        "            else:\n",
        "                return cur"
      ]
    }
  ]
}