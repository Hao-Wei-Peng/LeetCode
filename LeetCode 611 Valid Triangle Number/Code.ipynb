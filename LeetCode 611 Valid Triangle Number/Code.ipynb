{
  "nbformat": 4,
  "nbformat_minor": 0,
  "metadata": {
    "colab": {
      "provenance": [],
      "collapsed_sections": []
    },
    "kernelspec": {
      "name": "python3",
      "display_name": "Python 3"
    },
    "language_info": {
      "name": "python"
    }
  },
  "cells": [
    {
      "cell_type": "code",
      "execution_count": null,
      "metadata": {
        "id": "mMOA-ZhSJFOB"
      },
      "outputs": [],
      "source": [
        "class Solution:\n",
        "    def triangleNumber(self, nums: List[int]) -> int:\n",
        "\n",
        "        # 3 sums problem\n",
        "        if not nums:\n",
        "            return 0\n",
        "\n",
        "        # Time Complexity will be O(nlogn)\n",
        "        nums = sorted(nums)\n",
        "        n = len(nums)\n",
        "        count = 0\n",
        "\n",
        "        # [2, 2, 3, 4]\n",
        "\n",
        "        for i in range(n - 1, -1, -1):\n",
        "            left = 0\n",
        "            right = i - 1\n",
        "\n",
        "            while left < right:\n",
        "                if nums[left] + nums[right] > nums[i]:\n",
        "                    count += (right - left)\n",
        "                    right -= 1\n",
        "                else:\n",
        "                    left += 1\n",
        "\n",
        "        return count"
      ]
    }
  ]
}