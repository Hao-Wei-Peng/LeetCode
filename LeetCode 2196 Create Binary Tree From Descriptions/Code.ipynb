{
  "nbformat": 4,
  "nbformat_minor": 0,
  "metadata": {
    "colab": {
      "provenance": []
    },
    "kernelspec": {
      "name": "python3",
      "display_name": "Python 3"
    },
    "language_info": {
      "name": "python"
    }
  },
  "cells": [
    {
      "cell_type": "code",
      "execution_count": null,
      "metadata": {
        "id": "mMOA-ZhSJFOB"
      },
      "outputs": [],
      "source": [
        "# Definition for a binary tree node.\n",
        "# class TreeNode:\n",
        "#     def __init__(self, val=0, left=None, right=None):\n",
        "#         self.val = val\n",
        "#         self.left = left\n",
        "#         self.right = right\n",
        "class Solution:\n",
        "    def createBinaryTree(self, descriptions: List[List[int]]) -> Optional[TreeNode]:\n",
        "\n",
        "        # descriptions: [parent, child, isLeft]\n",
        "        # isLeft = 1, child is the left child of parent \n",
        "        # isLeft = 0, child is the right child of parent\n",
        "\n",
        "        # base case\n",
        "        if not descriptions:\n",
        "            return None\n",
        "        \n",
        "        Graph = collections.defaultdict(list)\n",
        "        visited = set()\n",
        "\n",
        "        # establish the graph\n",
        "        for parent, child, isLeft in descriptions:\n",
        "            Graph[parent].append((child, isLeft))\n",
        "            visited.add(child)\n",
        "        \n",
        "        root_val = None\n",
        "        for node in Graph:\n",
        "            if node not in visited:\n",
        "                root_val = node\n",
        "                break\n",
        "        \n",
        "        # use BFS to deal with this problem\n",
        "        # establish the tree\n",
        "        root = TreeNode(root_val)\n",
        "        Queue = collections.deque([root])\n",
        "\n",
        "        while Queue:\n",
        "\n",
        "            cur_node = Queue.popleft()\n",
        "\n",
        "            for nxt_val, isLeft in Graph[cur_node.val]:\n",
        "                # every val should establish a tree node\n",
        "                child = TreeNode(nxt_val)\n",
        "\n",
        "                if isLeft == 1:\n",
        "                    cur_node.left = child\n",
        "\n",
        "                elif isLeft == 0:\n",
        "                    cur_node.right = child\n",
        "                \n",
        "                Queue.append(child)\n",
        "        \n",
        "        return root\n"
      ]
    }
  ]
}