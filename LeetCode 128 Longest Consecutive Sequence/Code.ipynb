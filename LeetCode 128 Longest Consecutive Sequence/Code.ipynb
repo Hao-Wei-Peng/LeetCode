{
  "nbformat": 4,
  "nbformat_minor": 0,
  "metadata": {
    "colab": {
      "provenance": [],
      "collapsed_sections": []
    },
    "kernelspec": {
      "name": "python3",
      "display_name": "Python 3"
    },
    "language_info": {
      "name": "python"
    }
  },
  "cells": [
    {
      "cell_type": "code",
      "execution_count": null,
      "metadata": {
        "id": "mMOA-ZhSJFOB"
      },
      "outputs": [],
      "source": [
        "class Solution:\n",
        "    def longestConsecutive(self, nums: List[int]) -> int:\n",
        "        \n",
        "        n = len(nums)\n",
        "\n",
        "        # base case\n",
        "        if n == 0:\n",
        "            return 0\n",
        "\n",
        "        # Time Complexity will be O(n)\n",
        "        # Space Complexity will be O(n)\n",
        "\n",
        "        MaxLength = 0\n",
        "        visited = set(nums)\n",
        "\n",
        "        for num in nums:\n",
        "            # ensure current element is new start position\n",
        "            if (num - 1) not in visited:\n",
        "                CurLength = 1\n",
        "                CurNum = num\n",
        "\n",
        "                while (CurNum + 1) in visited:\n",
        "                    CurLength = CurLength + 1\n",
        "                    CurNum = CurNum + 1\n",
        "            \n",
        "                MaxLength = max(MaxLength, CurLength)\n",
        "        \n",
        "        return MaxLength"
      ]
    }
  ]
}