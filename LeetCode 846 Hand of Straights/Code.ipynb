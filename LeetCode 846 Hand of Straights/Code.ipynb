{
  "nbformat": 4,
  "nbformat_minor": 0,
  "metadata": {
    "colab": {
      "provenance": [],
      "collapsed_sections": []
    },
    "kernelspec": {
      "name": "python3",
      "display_name": "Python 3"
    },
    "language_info": {
      "name": "python"
    }
  },
  "cells": [
    {
      "cell_type": "code",
      "execution_count": null,
      "metadata": {
        "id": "mMOA-ZhSJFOB"
      },
      "outputs": [],
      "source": [
        "class Solution:\n",
        "    def isNStraightHand(self, hand: List[int], groupSize: int) -> bool:\n",
        "\n",
        "        # divide into groupSize classes\n",
        "        # each class contains consecutive cards\n",
        "        n = len(hand)\n",
        "\n",
        "        # not satisfy condition\n",
        "        if n % groupSize != 0:\n",
        "            return False\n",
        "        \n",
        "        Count = collections.defaultdict(int)\n",
        "        for card in hand:\n",
        "            Count[card] = 1 + Count.get(card, 0)\n",
        "        \n",
        "        # Time Complexity will be O(nlogn)\n",
        "        minHeap = list(Count.keys())\n",
        "        heapq.heapify(minHeap)\n",
        "\n",
        "        while minHeap:\n",
        "            first = minHeap[0]\n",
        "\n",
        "            for i in range(first, first + groupSize):\n",
        "                if i not in Count:\n",
        "                    return False\n",
        "\n",
        "                Count[i] -= 1\n",
        "        \n",
        "                if Count[i] == 0:\n",
        "                    heapq.heappop(minHeap)\n",
        "        \n",
        "        return True\n"
      ]
    }
  ]
}