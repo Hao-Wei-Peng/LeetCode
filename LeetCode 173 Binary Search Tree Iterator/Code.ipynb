{
  "nbformat": 4,
  "nbformat_minor": 0,
  "metadata": {
    "colab": {
      "provenance": []
    },
    "kernelspec": {
      "name": "python3",
      "display_name": "Python 3"
    },
    "language_info": {
      "name": "python"
    }
  },
  "cells": [
    {
      "cell_type": "code",
      "execution_count": null,
      "metadata": {
        "id": "mMOA-ZhSJFOB"
      },
      "outputs": [],
      "source": [
        "# Definition for a binary tree node.\n",
        "# class TreeNode:\n",
        "#     def __init__(self, val=0, left=None, right=None):\n",
        "#         self.val = val\n",
        "#         self.left = left\n",
        "#         self.right = right\n",
        "class BSTIterator:\n",
        "\n",
        "    def __init__(self, root: Optional[TreeNode]):\n",
        "        stack = []\n",
        "        cur = root\n",
        "        self.inorder = []\n",
        "        self.current = -1\n",
        "\n",
        "        # path 3,7,9,15,20\n",
        "        while cur or stack:\n",
        "            while cur:\n",
        "                stack.append(cur)\n",
        "                cur = cur.left\n",
        "            \n",
        "            node = stack.pop()\n",
        "            self.inorder.append(node.val)\n",
        "            cur = node.right\n",
        "\n",
        "    def next(self) -> int:\n",
        "        self.current += 1\n",
        "        return self.inorder[self.current]\n",
        "\n",
        "    def hasNext(self) -> bool:\n",
        "        \n",
        "        return self.current < len(self.inorder) - 1\n",
        "\n",
        "\n",
        "\n",
        "# Your BSTIterator object will be instantiated and called as such:\n",
        "# obj = BSTIterator(root)\n",
        "# param_1 = obj.next()\n",
        "# param_2 = obj.hasNext()"
      ]
    }
  ]
}