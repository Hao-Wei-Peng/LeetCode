{
  "nbformat": 4,
  "nbformat_minor": 0,
  "metadata": {
    "colab": {
      "provenance": [],
      "collapsed_sections": []
    },
    "kernelspec": {
      "name": "python3",
      "display_name": "Python 3"
    },
    "language_info": {
      "name": "python"
    }
  },
  "cells": [
    {
      "cell_type": "code",
      "execution_count": null,
      "metadata": {
        "id": "mMOA-ZhSJFOB"
      },
      "outputs": [],
      "source": [
        "class Solution:\n",
        "    def makesquare(self, matchsticks: List[int]) -> bool:\n",
        "\n",
        "        # base case\n",
        "        if not matchsticks:\n",
        "            return False\n",
        "        \n",
        "        total = sum(matchsticks)\n",
        "        n = len(matchsticks)\n",
        "\n",
        "        if total % 4 != 0:\n",
        "            return False\n",
        "\n",
        "        target = total // 4\n",
        "        matchsticks = sorted(matchsticks, reverse = True)\n",
        "        subset = [0] * 4\n",
        "\n",
        "        def Backtrack(idx):\n",
        "            if idx == n:\n",
        "                return True\n",
        "            \n",
        "            for cur_idx in range(0, 4):\n",
        "                if subset[cur_idx] < target and subset[cur_idx] + matchsticks[idx] <= target:\n",
        "                    subset[cur_idx] += matchsticks[idx]\n",
        "\n",
        "                    if Backtrack(idx + 1):\n",
        "                        return True\n",
        "\n",
        "                    subset[cur_idx] -= matchsticks[idx]\n",
        "\n",
        "            return False\n",
        "\n",
        "        return Backtrack(0)"
      ]
    }
  ]
}