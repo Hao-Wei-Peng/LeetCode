{
  "nbformat": 4,
  "nbformat_minor": 0,
  "metadata": {
    "colab": {
      "name": "Code.ipynb",
      "provenance": [],
      "collapsed_sections": []
    },
    "kernelspec": {
      "name": "python3",
      "display_name": "Python 3"
    },
    "language_info": {
      "name": "python"
    }
  },
  "cells": [
    {
      "cell_type": "code",
      "execution_count": null,
      "metadata": {
        "id": "hFD3gFKqbvee"
      },
      "outputs": [],
      "source": [
        "# Definition for a binary tree node.\n",
        "# class TreeNode:\n",
        "#     def __init__(self, val=0, left=None, right=None):\n",
        "#         self.val = val\n",
        "#         self.left = left\n",
        "#         self.right = right\n",
        "class Solution:\n",
        "    def isSameTree(self, p: Optional[TreeNode], q: Optional[TreeNode]) -> bool:\n",
        "        return self.CheckTree(p, q)\n",
        "    \n",
        "    # Time Complexity will be O(m + n)\n",
        "    # Space Complexity will be O(m + n)\n",
        "    # m, n = tree nodes\n",
        "    def CheckTree(self, p, q):\n",
        "\n",
        "        # 1. both trees are empty (Null)\n",
        "        if not p and not q:\n",
        "            return True\n",
        "        \n",
        "        # 2. if one of tree node is empty (Null)\n",
        "        elif not p or not q:\n",
        "            return False\n",
        "        \n",
        "        # exclude above conditions, we can do recursion step\n",
        "        LeftSide = self.CheckTree(p.left, q.left)\n",
        "        RightSide = self.CheckTree(p.right, q.right)\n",
        "        Same = LeftSide and RightSide and p.val == q.val\n",
        "\n",
        "        return Same\n"
      ]
    }
  ]
}