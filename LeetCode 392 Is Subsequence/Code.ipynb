{
  "nbformat": 4,
  "nbformat_minor": 0,
  "metadata": {
    "colab": {
      "provenance": [],
      "collapsed_sections": []
    },
    "kernelspec": {
      "name": "python3",
      "display_name": "Python 3"
    },
    "language_info": {
      "name": "python"
    }
  },
  "cells": [
    {
      "cell_type": "code",
      "execution_count": null,
      "metadata": {
        "id": "mMOA-ZhSJFOB"
      },
      "outputs": [],
      "source": [
        "class Solution:\n",
        "    def isSubsequence(self, s: str, t: str) -> bool:\n",
        "\n",
        "        # we can use dynamic programming to deal with this problem\n",
        "        m, n = len(s), len(t)\n",
        "\n",
        "        # base case\n",
        "        if not m:\n",
        "            return True\n",
        "        \n",
        "        if not n:\n",
        "            return False\n",
        "        \n",
        "        dp = [[0] * (n + 1) for _ in range(0, m + 1)]\n",
        "\n",
        "        for i in range(m - 1, -1, -1):\n",
        "            for j in range(n - 1, -1, -1):\n",
        "                if s[i] == t[j]:\n",
        "                    dp[i][j] = dp[i + 1][j + 1] + 1\n",
        "                \n",
        "                else:\n",
        "                    dp[i][j] = max(dp[i + 1][j], dp[i][j + 1])\n",
        "        \n",
        "        return dp[0][0] == m"
      ]
    }
  ]
}