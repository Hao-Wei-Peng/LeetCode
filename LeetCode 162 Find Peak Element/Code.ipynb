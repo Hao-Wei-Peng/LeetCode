{
  "nbformat": 4,
  "nbformat_minor": 0,
  "metadata": {
    "colab": {
      "provenance": [],
      "collapsed_sections": []
    },
    "kernelspec": {
      "name": "python3",
      "display_name": "Python 3"
    },
    "language_info": {
      "name": "python"
    }
  },
  "cells": [
    {
      "cell_type": "code",
      "execution_count": null,
      "metadata": {
        "id": "mMOA-ZhSJFOB"
      },
      "outputs": [],
      "source": [
        "class Solution:\n",
        "    def findPeakElement(self, nums: List[int]) -> int:\n",
        "\n",
        "        # base case\n",
        "        if not nums:\n",
        "            return -1\n",
        "\n",
        "        # Time Complexity will be O(logn)\n",
        "        # Space Complexity will be O(1)\n",
        "        # nums[-1] = nums[n] = infinite\n",
        "\n",
        "        n = len(nums)\n",
        "        left, right = 0, n - 1\n",
        "\n",
        "        while left < right:\n",
        "\n",
        "            mid = left + (right - left) // 2\n",
        "\n",
        "            if nums[mid] < nums[mid + 1]:\n",
        "                left = mid + 1\n",
        "            \n",
        "            else:\n",
        "                right = mid \n",
        "\n",
        "        return left\n"
      ]
    }
  ]
}