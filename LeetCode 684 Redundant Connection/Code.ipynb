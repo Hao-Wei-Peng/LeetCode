{
  "nbformat": 4,
  "nbformat_minor": 0,
  "metadata": {
    "colab": {
      "provenance": [],
      "collapsed_sections": []
    },
    "kernelspec": {
      "name": "python3",
      "display_name": "Python 3"
    },
    "language_info": {
      "name": "python"
    }
  },
  "cells": [
    {
      "cell_type": "code",
      "execution_count": null,
      "metadata": {
        "id": "mMOA-ZhSJFOB"
      },
      "outputs": [],
      "source": [
        "class DisJoint:\n",
        "    def __init__(self):\n",
        "        self.parent = {} # record parent of current node\n",
        "        self.weight = {} # record height of tree\n",
        "    \n",
        "    def build(self, node):\n",
        "        if node not in self.parent:\n",
        "            self.parent[node] = node\n",
        "            self.weight[node] = 1\n",
        "    \n",
        "    def findParent(self, node):\n",
        "        # Time Complexity will be O(1)\n",
        "        # worse case: O(logn)\n",
        "        if self.parent[node] == node:\n",
        "            return node\n",
        "        \n",
        "        # climb stairs\n",
        "        self.parent[node] = self.findParent(self.parent[node])\n",
        "        return self.parent[node]\n",
        "\n",
        "    def union(self, node1, node2):\n",
        "        p1, p2 = self.findParent(node1), self.findParent(node2)\n",
        "\n",
        "        if p1 == p2:\n",
        "            return \n",
        "        \n",
        "        if self.weight[p1] < self.weight[p2]:\n",
        "            self.parent[p1] = p2\n",
        "        \n",
        "        elif self.weight[p1] > self.weight[p2]:\n",
        "            self.parent[p2] = p1\n",
        "\n",
        "        else:\n",
        "            # if height are equal, plus one extra height\n",
        "            self.parent[p1] = p2\n",
        "            self.weight[p2] += 1\n",
        "        \n",
        "class Solution:\n",
        "    def findRedundantConnection(self, edges: List[List[int]]) -> List[int]:\n",
        "\n",
        "        # base case\n",
        "        if not edges:\n",
        "            return edges\n",
        "        \n",
        "        ds = DisJoint()\n",
        "\n",
        "        for node1, node2 in edges:\n",
        "            # build the node\n",
        "            ds.build(node1)\n",
        "            ds.build(node2)\n",
        "\n",
        "            # if they belong to the same groups\n",
        "            if ds.findParent(node1) == ds.findParent(node2):\n",
        "                return [node1, node2]\n",
        "            \n",
        "            # union two groups\n",
        "            ds.union(node1, node2)\n",
        "        \n",
        "        return [-1, -1]"
      ]
    }
  ]
}