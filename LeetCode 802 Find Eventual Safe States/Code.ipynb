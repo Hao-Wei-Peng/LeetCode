{
  "nbformat": 4,
  "nbformat_minor": 0,
  "metadata": {
    "colab": {
      "provenance": []
    },
    "kernelspec": {
      "name": "python3",
      "display_name": "Python 3"
    },
    "language_info": {
      "name": "python"
    }
  },
  "cells": [
    {
      "cell_type": "code",
      "execution_count": null,
      "metadata": {
        "id": "mMOA-ZhSJFOB"
      },
      "outputs": [],
      "source": [
        "class Solution:\n",
        "    def eventualSafeNodes(self, Graph: List[List[int]]) -> List[int]:\n",
        "\n",
        "        # base case\n",
        "        if not Graph:\n",
        "            return Graph\n",
        "        \n",
        "        # label from 0 ~ n - 1\n",
        "        # we can use BFS (topological) to deal with this problem\n",
        "        n = len(Graph)\n",
        "        Route = collections.defaultdict(list)\n",
        "        OutDegree = [0] * n\n",
        "\n",
        "        for label, nodes in enumerate(Graph):\n",
        "            for node in nodes:\n",
        "                Route[node].append(label)\n",
        "                OutDegree[label] += 1\n",
        "        \n",
        "        Queue = collections.deque()\n",
        "\n",
        "        # when the out of degree is equal to zero, append to the queue\n",
        "        for label in range(0, n):\n",
        "            # label: 5, 6\n",
        "            if OutDegree[label] == 0:\n",
        "                Queue.append(label)\n",
        "        \n",
        "        while Queue:\n",
        "            current = Queue.popleft()\n",
        "\n",
        "            for next in Route[current]:\n",
        "                OutDegree[next] -= 1\n",
        "\n",
        "                if OutDegree[next] == 0:\n",
        "                    Queue.append(next)\n",
        "\n",
        "        return [i for i in range(0, n) if OutDegree[i] == 0]"
      ]
    }
  ]
}