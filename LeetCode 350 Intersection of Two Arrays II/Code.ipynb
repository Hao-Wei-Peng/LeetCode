{
  "nbformat": 4,
  "nbformat_minor": 0,
  "metadata": {
    "colab": {
      "name": "Code.ipynb",
      "provenance": [],
      "collapsed_sections": []
    },
    "kernelspec": {
      "name": "python3",
      "display_name": "Python 3"
    },
    "language_info": {
      "name": "python"
    }
  },
  "cells": [
    {
      "cell_type": "code",
      "execution_count": null,
      "metadata": {
        "id": "hFD3gFKqbvee"
      },
      "outputs": [],
      "source": [
        "class Solution:\n",
        "    def intersect(self, nums1: List[int], nums2: List[int]) -> List[int]:\n",
        "\n",
        "        # we will use hashmap to deal with this problem\n",
        "        # we will compare length of nums1, nums2 and use smaller length to record frequency of each element\n",
        "        m = len(nums1)\n",
        "        n = len(nums2)\n",
        "\n",
        "        if m > n:\n",
        "            self.intersect(nums2, nums1)\n",
        "        \n",
        "        # Space Complexity will be O(min(m, n))\n",
        "        fre_num = collections.defaultdict(int)\n",
        "\n",
        "        # Time Complexity will be O(m + n)\n",
        "        # record frequency\n",
        "        for num in nums1:\n",
        "            if num in fre_num:\n",
        "                fre_num[num] += 1\n",
        "            else:\n",
        "                fre_num[num] = 1\n",
        "        \n",
        "        ans = []\n",
        "\n",
        "        # append result\n",
        "        for num in nums2:\n",
        "            if num in fre_num and fre_num[num] > 0:\n",
        "                ans.append(num)\n",
        "                fre_num[num] -= 1\n",
        "        \n",
        "        return ans"
      ]
    }
  ]
}