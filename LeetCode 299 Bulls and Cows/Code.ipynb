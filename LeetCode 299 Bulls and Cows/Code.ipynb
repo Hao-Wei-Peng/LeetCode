{
  "nbformat": 4,
  "nbformat_minor": 0,
  "metadata": {
    "colab": {
      "provenance": []
    },
    "kernelspec": {
      "name": "python3",
      "display_name": "Python 3"
    },
    "language_info": {
      "name": "python"
    }
  },
  "cells": [
    {
      "cell_type": "code",
      "execution_count": null,
      "metadata": {
        "id": "mMOA-ZhSJFOB"
      },
      "outputs": [],
      "source": [
        "class Solution:\n",
        "    def getHint(self, secret: str, guess: str) -> str:\n",
        "\n",
        "        # hint\n",
        "        # number of bulls, digit in the currect position\n",
        "        # number of cows, digit in the secret number but in the wrong position\n",
        "\n",
        "        # we can use hashmap to deal with this problem\n",
        "        # Time Complexity will be O(n)\n",
        "        # Space Complexity will be O(n)\n",
        "        # n = len(secret), len(guess)\n",
        "        CntS, CntG = collections.defaultdict(int), collections.defaultdict(int)\n",
        "        Bull = 0\n",
        "\n",
        "        for idx, char in enumerate(secret):\n",
        "\n",
        "            # bull condition\n",
        "            if guess[idx] == char:\n",
        "                Bull += 1\n",
        "            \n",
        "            else:\n",
        "                CntS[char] += 1\n",
        "                CntG[guess[idx]] += 1\n",
        "        \n",
        "        Cow = 0\n",
        "\n",
        "        for key in CntS.keys():\n",
        "            Cow += min(CntS[key], CntG[key])\n",
        "        \n",
        "        return str(Bull) + \"A\" + str(Cow) + \"B\"\n",
        "        "
      ]
    }
  ]
}