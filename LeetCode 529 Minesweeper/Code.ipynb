{
  "nbformat": 4,
  "nbformat_minor": 0,
  "metadata": {
    "colab": {
      "provenance": []
    },
    "kernelspec": {
      "name": "python3",
      "display_name": "Python 3"
    },
    "language_info": {
      "name": "python"
    }
  },
  "cells": [
    {
      "cell_type": "code",
      "execution_count": null,
      "metadata": {
        "id": "mMOA-ZhSJFOB"
      },
      "outputs": [],
      "source": [
        "class Solution:\n",
        "    def updateBoard(self, board: List[List[str]], click: List[int]) -> List[List[str]]:\n",
        "\n",
        "        # base case\n",
        "        if not board:\n",
        "            return board\n",
        "        \n",
        "        x, y = click\n",
        "\n",
        "        # if the current click is a Mine, update to the X and return\n",
        "        if board[x][y] == \"M\":\n",
        "            board[x][y] = \"X\"\n",
        "            return board\n",
        "        \n",
        "        Rows, Cols = len(board), len(board[0])\n",
        "        directions = [(1, 0), (-1, 0), (0, 1), (0, -1), (1, 1), (-1, 1), (1, -1), (-1, -1)]\n",
        "\n",
        "        def countMine(i, j):\n",
        "            count = 0\n",
        "\n",
        "            for x, y in directions:\n",
        "                nxt_x, nxt_y = i + x, j + y\n",
        "\n",
        "                if 0 <= nxt_x < Rows and 0 <= nxt_y < Cols and board[nxt_x][nxt_y] == \"M\":\n",
        "                    count += 1\n",
        "            \n",
        "            return count\n",
        "\n",
        "        def DFS(i, j):\n",
        "            count = countMine(i, j)\n",
        "\n",
        "            # blank position\n",
        "            if count == 0:\n",
        "                board[i][j] = \"B\"\n",
        "\n",
        "                for x, y in directions:\n",
        "                    nxt_x, nxt_y = i + x, j + y\n",
        "\n",
        "                    # if we still have empty position, we need to check it and calculate how many mines near current position\n",
        "                    if 0 <= nxt_x < Rows and 0 <= nxt_y < Cols and board[nxt_x][nxt_y] == \"E\":\n",
        "                        DFS(nxt_x, nxt_y)\n",
        "\n",
        "            else:\n",
        "                board[i][j] = str(count)\n",
        "\n",
        "        DFS(x, y)\n",
        "\n",
        "        return board"
      ]
    }
  ]
}