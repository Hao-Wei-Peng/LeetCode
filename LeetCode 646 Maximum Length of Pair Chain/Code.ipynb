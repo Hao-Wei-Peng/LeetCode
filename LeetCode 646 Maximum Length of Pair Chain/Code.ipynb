{
  "nbformat": 4,
  "nbformat_minor": 0,
  "metadata": {
    "colab": {
      "provenance": [],
      "collapsed_sections": []
    },
    "kernelspec": {
      "name": "python3",
      "display_name": "Python 3"
    },
    "language_info": {
      "name": "python"
    }
  },
  "cells": [
    {
      "cell_type": "code",
      "execution_count": null,
      "metadata": {
        "id": "hFD3gFKqbvee"
      },
      "outputs": [],
      "source": [
        "class Solution:\n",
        "    def findLongestChain(self, pairs: List[List[int]]) -> int:\n",
        "\n",
        "        # we can use dynamic programming to deal with this problem\n",
        "        # dp[i] = maximum length at position i (pairs[i])\n",
        "        n = len(pairs)\n",
        "\n",
        "        # edge case\n",
        "        if n < 2:\n",
        "            return n\n",
        "        \n",
        "        # Time Complexity will be O(n^2)\n",
        "        # Space Complexity will be O(n)\n",
        "\n",
        "        pairs = sorted(pairs, key = lambda nums: nums[0])\n",
        "\n",
        "        dp = [1] * n\n",
        "\n",
        "        for i in range(1, n):\n",
        "            for j in range(0, i):\n",
        "                if pairs[j][1] < pairs[i][0]:\n",
        "                    dp[i] = max(dp[i], dp[j] + 1)\n",
        "\n",
        "        return dp[-1]"
      ]
    }
  ]
}