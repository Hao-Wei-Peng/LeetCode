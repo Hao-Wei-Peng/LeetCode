{
  "nbformat": 4,
  "nbformat_minor": 0,
  "metadata": {
    "colab": {
      "provenance": []
    },
    "kernelspec": {
      "name": "python3",
      "display_name": "Python 3"
    },
    "language_info": {
      "name": "python"
    }
  },
  "cells": [
    {
      "cell_type": "code",
      "execution_count": null,
      "metadata": {
        "id": "mMOA-ZhSJFOB"
      },
      "outputs": [],
      "source": [
        "class Solution:\n",
        "    def Prev(self, num):\n",
        "        return \"9\" if num == \"0\" else str(int(num) - 1)\n",
        "\n",
        "    def Next(self, num):\n",
        "        return \"0\" if num == \"9\" else str(int(num) + 1)\n",
        "\n",
        "    def Get(self, status):\n",
        "        s = list(status)\n",
        "\n",
        "        for i in range(0, len(s)):\n",
        "            num = s[i]\n",
        "            s[i] = self.Prev(num)\n",
        "            yield \"\".join(s)\n",
        "            s[i] = self.Next(num)\n",
        "            yield \"\".join(s)\n",
        "            s[i] = num\n",
        "\n",
        "\n",
        "    def openLock(self, deadends: List[str], target: str) -> int:\n",
        "\n",
        "        dead = set(deadends)\n",
        "\n",
        "        # base case\n",
        "        if target == \"0000\":\n",
        "            return 0\n",
        "        \n",
        "        if \"0000\" in dead:\n",
        "            return -1\n",
        "        \n",
        "        Queue = collections.deque([(\"0000\", 0)]) # current number, step\n",
        "        visited = {\"0000\"}\n",
        "\n",
        "        while Queue:\n",
        "            status, step = Queue.popleft()\n",
        "\n",
        "            for next_status in self.Get(status):\n",
        "                if next_status not in visited and next_status not in dead:\n",
        "                    if next_status == target:\n",
        "                        return step + 1\n",
        "                    \n",
        "                    Queue.append((next_status, step + 1))\n",
        "                    visited.add((next_status))\n",
        "\n",
        "        return -1\n"
      ]
    }
  ]
}