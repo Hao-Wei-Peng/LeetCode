{
  "nbformat": 4,
  "nbformat_minor": 0,
  "metadata": {
    "colab": {
      "provenance": [],
      "collapsed_sections": []
    },
    "kernelspec": {
      "name": "python3",
      "display_name": "Python 3"
    },
    "language_info": {
      "name": "python"
    }
  },
  "cells": [
    {
      "cell_type": "code",
      "execution_count": null,
      "metadata": {
        "id": "mMOA-ZhSJFOB"
      },
      "outputs": [],
      "source": [
        "class Solution:\n",
        "    def findMaxLength(self, nums: List[int]) -> int:\n",
        "\n",
        "        n = len(nums)\n",
        "\n",
        "        # base case\n",
        "        if n == 1:\n",
        "            return 0\n",
        "        \n",
        "        prefixSums = 0\n",
        "        index_map = collections.defaultdict(int)\n",
        "        index_map[0] = -1\n",
        "        ans = 0\n",
        "\n",
        "        for idx in range(0, n):\n",
        "            cur_val = nums[idx]\n",
        "\n",
        "            if cur_val == 0:\n",
        "                prefixSums = prefixSums - 1\n",
        "            \n",
        "            else:\n",
        "                prefixSums = prefixSums + 1\n",
        "            \n",
        "            if prefixSums in index_map:\n",
        "                ans = max(ans, idx - index_map[prefixSums])    \n",
        "            \n",
        "            else:\n",
        "                index_map[prefixSums] = idx\n",
        "        \n",
        "        return ans"
      ]
    }
  ]
}