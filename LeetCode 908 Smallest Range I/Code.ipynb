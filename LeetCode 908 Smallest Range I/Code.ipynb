{
  "nbformat": 4,
  "nbformat_minor": 0,
  "metadata": {
    "colab": {
      "provenance": [],
      "collapsed_sections": []
    },
    "kernelspec": {
      "name": "python3",
      "display_name": "Python 3"
    },
    "language_info": {
      "name": "python"
    }
  },
  "cells": [
    {
      "cell_type": "code",
      "execution_count": null,
      "metadata": {
        "id": "mMOA-ZhSJFOB"
      },
      "outputs": [],
      "source": [
        "class Solution:\n",
        "    def smallestRangeI(self, nums: List[int], k: int) -> int:\n",
        "\n",
        "        n = len(nums)\n",
        "\n",
        "        # base case\n",
        "        if not nums:\n",
        "            return 0\n",
        "\n",
        "        # choose any index i, 0 <= i < n\n",
        "        # return minimum score of nums\n",
        "\n",
        "        # Time Complexity will be O(n)\n",
        "        # Space Complexity will be O(1)\n",
        "        Max = max(nums)\n",
        "        Min = min(nums)\n",
        "\n",
        "        if Max - Min > 2 * k:\n",
        "            return Max - Min - 2 * k\n",
        "        \n",
        "        return 0"
      ]
    }
  ]
}