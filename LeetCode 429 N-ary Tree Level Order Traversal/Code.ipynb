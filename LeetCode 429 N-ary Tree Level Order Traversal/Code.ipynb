{
  "nbformat": 4,
  "nbformat_minor": 0,
  "metadata": {
    "colab": {
      "name": "Code.ipynb",
      "provenance": [],
      "collapsed_sections": []
    },
    "kernelspec": {
      "name": "python3",
      "display_name": "Python 3"
    },
    "language_info": {
      "name": "python"
    }
  },
  "cells": [
    {
      "cell_type": "code",
      "execution_count": null,
      "metadata": {
        "id": "hFD3gFKqbvee"
      },
      "outputs": [],
      "source": [
        "\"\"\"\n",
        "# Definition for a Node.\n",
        "class Node:\n",
        "    def __init__(self, val=None, children=None):\n",
        "        self.val = val\n",
        "        self.children = children\n",
        "\"\"\"\n",
        "\n",
        "class Solution:\n",
        "    def levelOrder(self, root: 'Node') -> List[List[int]]:\n",
        "        \n",
        "        # edge case\n",
        "        if not root:\n",
        "            return []\n",
        "        \n",
        "        # Time Complexity will be O(n)\n",
        "        # Space Complexity will be O(n)\n",
        "        # n = tree nodes\n",
        "        queue = collections.deque([root])\n",
        "        ans = []\n",
        "\n",
        "        while queue:\n",
        "            LenQ = len(queue)\n",
        "            level = []\n",
        "\n",
        "            for i in range(0, LenQ):\n",
        "                node = queue.popleft()\n",
        "                level.append(node.val)\n",
        "\n",
        "                if node.children:\n",
        "                    for child in node.children:\n",
        "                        queue.append(child)\n",
        "            ans.append(level)\n",
        "        \n",
        "        return ans\n"
      ]
    }
  ]
}