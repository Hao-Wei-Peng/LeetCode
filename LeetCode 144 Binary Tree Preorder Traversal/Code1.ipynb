{
  "nbformat": 4,
  "nbformat_minor": 0,
  "metadata": {
    "colab": {
      "name": "Code.ipynb",
      "provenance": [],
      "collapsed_sections": []
    },
    "kernelspec": {
      "name": "python3",
      "display_name": "Python 3"
    },
    "language_info": {
      "name": "python"
    }
  },
  "cells": [
    {
      "cell_type": "code",
      "execution_count": null,
      "metadata": {
        "id": "hFD3gFKqbvee"
      },
      "outputs": [],
      "source": [
        "# Definition for a binary tree node.\n",
        "# class TreeNode:\n",
        "#     def __init__(self, val=0, left=None, right=None):\n",
        "#         self.val = val\n",
        "#         self.left = left\n",
        "#         self.right = right\n",
        "class Solution:\n",
        "    def preorderTraversal(self, root: Optional[TreeNode]) -> List[int]:\n",
        "\n",
        "        # Time Complexity will be O(n)\n",
        "        # Space Complexity will be O(n)\n",
        "        \n",
        "        # edge case\n",
        "        if not root:\n",
        "            return []\n",
        "        \n",
        "        stack = [root]\n",
        "        ans = []\n",
        "\n",
        "        while stack:\n",
        "            node = stack.pop()\n",
        "            ans.append(node.val)\n",
        "\n",
        "            if node.right:\n",
        "                stack.append(node.right)\n",
        "\n",
        "            if node.left:\n",
        "                stack.append(node.left)\n",
        "\n",
        "        return ans"
      ]
    }
  ]
}