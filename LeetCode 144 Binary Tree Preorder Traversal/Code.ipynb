{
  "nbformat": 4,
  "nbformat_minor": 0,
  "metadata": {
    "colab": {
      "name": "Code.ipynb",
      "provenance": [],
      "collapsed_sections": []
    },
    "kernelspec": {
      "name": "python3",
      "display_name": "Python 3"
    },
    "language_info": {
      "name": "python"
    }
  },
  "cells": [
    {
      "cell_type": "code",
      "execution_count": null,
      "metadata": {
        "id": "hFD3gFKqbvee"
      },
      "outputs": [],
      "source": [
        "# Definition for a binary tree node.\n",
        "# class TreeNode:\n",
        "#     def __init__(self, val=0, left=None, right=None):\n",
        "#         self.val = val\n",
        "#         self.left = left\n",
        "#         self.right = right\n",
        "class Solution:\n",
        "    def preorderTraversal(self, root: Optional[TreeNode]) -> List[int]:\n",
        "        \n",
        "        ans = []\n",
        "\n",
        "        # Time Complexity will be O(n)\n",
        "        # Space Complexity will be O(n)\n",
        "        def preorder(root):\n",
        "\n",
        "            # stop condition\n",
        "            if not root:\n",
        "                return root\n",
        "            # mid\n",
        "            ans.append(root.val)\n",
        "            # left\n",
        "            preorder(root.left)\n",
        "            # right\n",
        "            preorder(root.right)\n",
        "\n",
        "        preorder(root)\n",
        "        \n",
        "        return ans"
      ]
    }
  ]
}