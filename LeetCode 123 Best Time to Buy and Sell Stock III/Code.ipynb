{
  "nbformat": 4,
  "nbformat_minor": 0,
  "metadata": {
    "colab": {
      "provenance": [],
      "collapsed_sections": []
    },
    "kernelspec": {
      "name": "python3",
      "display_name": "Python 3"
    },
    "language_info": {
      "name": "python"
    }
  },
  "cells": [
    {
      "cell_type": "code",
      "execution_count": null,
      "metadata": {
        "id": "hFD3gFKqbvee"
      },
      "outputs": [],
      "source": [
        "class Solution:\n",
        "    def maxProfit(self, prices: List[int]) -> int:\n",
        "\n",
        "        n = len(prices)\n",
        "\n",
        "        # Time Complexity will be O(n)\n",
        "        # Space Complexity will be O(n)\n",
        "\n",
        "        if n == 1:\n",
        "            return 0\n",
        "        \n",
        "        # we can use dynamic programming to deal with this problem\n",
        "        # one day contains 5 status, \n",
        "        # 1. no operation\n",
        "        # 2. buy stock (first)\n",
        "        # 3. sell stock \n",
        "        # 4. buy stock (second)\n",
        "        # 5. sell stock\n",
        "\n",
        "        # dp[i][j] = at day i, largest profit at status j\n",
        "        dp = [[0] * 5 for _ in range(n)]\n",
        "        dp[0][1] = -prices[0]\n",
        "        dp[0][3] = -prices[0]\n",
        "\n",
        "        for i in range(1, n):\n",
        "            dp[i][0] = dp[i - 1][0]\n",
        "            dp[i][1] = max(dp[i - 1][1], dp[i][0] - prices[i])\n",
        "            dp[i][2] = max(dp[i - 1][2], dp[i][1] + prices[i])\n",
        "            dp[i][3] = max(dp[i - 1][3], dp[i][2] - prices[i])\n",
        "            dp[i][4] = max(dp[i - 1][4], dp[i][3] + prices[i])\n",
        "            \n",
        "        return dp[-1][4]\n"
      ]
    }
  ]
}