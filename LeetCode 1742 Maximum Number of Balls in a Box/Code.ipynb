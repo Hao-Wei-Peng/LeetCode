{
  "nbformat": 4,
  "nbformat_minor": 0,
  "metadata": {
    "colab": {
      "provenance": []
    },
    "kernelspec": {
      "name": "python3",
      "display_name": "Python 3"
    },
    "language_info": {
      "name": "python"
    }
  },
  "cells": [
    {
      "cell_type": "code",
      "execution_count": null,
      "metadata": {
        "id": "mMOA-ZhSJFOB"
      },
      "outputs": [],
      "source": [
        "class Solution:\n",
        "    def countBalls(self, lowLimit: int, highLimit: int) -> int:\n",
        "\n",
        "        # base case\n",
        "        if not lowLimit or not highLimit:\n",
        "            return 0\n",
        "\n",
        "        Box = collections.defaultdict(int) # record: Ball Count\n",
        "        \n",
        "        # range: [lowLimit, highLimit]\n",
        "        # ex: [5, 15]\n",
        "        for limit in range(lowLimit, highLimit + 1):\n",
        "            num = 0\n",
        "            # convert to string\n",
        "            char = str(limit)\n",
        "\n",
        "            for i in char:\n",
        "                num += int(i)\n",
        "            \n",
        "            Box[num] += 1\n",
        "        \n",
        "        return max(Box.values())"
      ]
    }
  ]
}