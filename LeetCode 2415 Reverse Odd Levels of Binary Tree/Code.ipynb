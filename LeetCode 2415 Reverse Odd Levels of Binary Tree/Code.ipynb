{
  "nbformat": 4,
  "nbformat_minor": 0,
  "metadata": {
    "colab": {
      "provenance": [],
      "collapsed_sections": []
    },
    "kernelspec": {
      "name": "python3",
      "display_name": "Python 3"
    },
    "language_info": {
      "name": "python"
    }
  },
  "cells": [
    {
      "cell_type": "code",
      "execution_count": null,
      "metadata": {
        "id": "mMOA-ZhSJFOB"
      },
      "outputs": [],
      "source": [
        "# Definition for a binary tree node.\n",
        "# class TreeNode:\n",
        "#     def __init__(self, val=0, left=None, right=None):\n",
        "#         self.val = val\n",
        "#         self.left = left\n",
        "#         self.right = right\n",
        "class Solution:\n",
        "    def reverseOddLevels(self, root: Optional[TreeNode]) -> Optional[TreeNode]:\n",
        "        self.DFS(root.left, root.right, 1)\n",
        "        return root\n",
        "    \n",
        "\n",
        "    def DFS(self, node1, node2, depth):\n",
        "\n",
        "        # base case \n",
        "        if not node1 or not node2:\n",
        "            return \n",
        "        \n",
        "        if depth % 2 == 1:\n",
        "            node1.val, node2.val = node2.val, node1.val\n",
        "\n",
        "        # follow symmetric tree leetcode 101\n",
        "        self.DFS(node1.left, node2.right, depth + 1)\n",
        "        self.DFS(node2.left, node1.right, depth + 1) "
      ]
    }
  ]
}