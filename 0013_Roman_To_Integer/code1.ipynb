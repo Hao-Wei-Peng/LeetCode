{
 "cells": [
  {
   "cell_type": "code",
   "execution_count": null,
   "metadata": {},
   "outputs": [],
   "source": [
    "class Solution:\n",
    "    def romanToInt(self, s: str) -> int:\n",
    "        #O(n)\n",
    "        RomanSymbol = {'I': 1, 'V': 5, 'X': 10, 'L': 50, 'C': 100, 'D': 500, 'M': 1000} #dictionary\n",
    "\n",
    "        #six special situation(left smaller than right) => IV = 4, IX = 9, XL = 40, XC = 90, CD = 400, CM = 900\n",
    "        answer = 0\n",
    "        number = len(s)\n",
    "\n",
    "        #if str[i] < str[i + 1] => minus str[i]\n",
    "        for i in range(0, number - 1):\n",
    "            if RomanSymbol[s[i]] < RomanSymbol[s[i + 1]]:\n",
    "                answer = answer - RomanSymbol[s[i]]\n",
    "            else:\n",
    "                answer = answer + RomanSymbol[s[i]]\n",
    "        \n",
    "        return answer + RomanSymbol[s[number - 1]] #add the value of last position"
   ]
  }
 ],
 "metadata": {
  "kernelspec": {
   "display_name": "Python 3",
   "language": "python",
   "name": "python3"
  },
  "language_info": {
   "codemirror_mode": {
    "name": "ipython",
    "version": 3
   },
   "file_extension": ".py",
   "mimetype": "text/x-python",
   "name": "python",
   "nbconvert_exporter": "python",
   "pygments_lexer": "ipython3",
   "version": "3.8.3"
  }
 },
 "nbformat": 4,
 "nbformat_minor": 4
}
