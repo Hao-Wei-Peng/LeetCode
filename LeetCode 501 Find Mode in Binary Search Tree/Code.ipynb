{
  "nbformat": 4,
  "nbformat_minor": 0,
  "metadata": {
    "colab": {
      "name": "Code.ipynb",
      "provenance": [],
      "collapsed_sections": []
    },
    "kernelspec": {
      "name": "python3",
      "display_name": "Python 3"
    },
    "language_info": {
      "name": "python"
    }
  },
  "cells": [
    {
      "cell_type": "code",
      "execution_count": null,
      "metadata": {
        "id": "hFD3gFKqbvee"
      },
      "outputs": [],
      "source": [
        "# Definition for a binary tree node.\n",
        "# class TreeNode:\n",
        "#     def __init__(self, val=0, left=None, right=None):\n",
        "#         self.val = val\n",
        "#         self.left = left\n",
        "#         self.right = right\n",
        "class Solution:\n",
        "    def findMode(self, root: Optional[TreeNode]) -> List[int]:\n",
        "\n",
        "        # Time Complexity will be O(n)\n",
        "        # Space Complexity will be O(1)\n",
        "        # n = tree nodes\n",
        "\n",
        "        stack = []\n",
        "        cur = root\n",
        "        pre = None\n",
        "        MaxFreq, freq = 0, 0\n",
        "        ans = []\n",
        "\n",
        "        while cur or stack:\n",
        "            while cur:\n",
        "                stack.append(cur)\n",
        "                cur = cur.left\n",
        "            \n",
        "            cur = stack.pop()\n",
        "\n",
        "            # first node\n",
        "            if pre == None:\n",
        "                freq = 1\n",
        "            \n",
        "            # if values are same with previous node\n",
        "            elif pre.val == cur.val:\n",
        "                freq += 1\n",
        "            \n",
        "            else:\n",
        "                freq = 1\n",
        "            \n",
        "            if freq == MaxFreq:\n",
        "                ans.append(cur.val)\n",
        "            \n",
        "            if freq > MaxFreq:\n",
        "                MaxFreq = freq\n",
        "                ans.clear()\n",
        "                ans.append(cur.val)\n",
        "            \n",
        "            pre = cur\n",
        "            cur = cur.right\n",
        "\n",
        "        return ans\n"
      ]
    }
  ]
}