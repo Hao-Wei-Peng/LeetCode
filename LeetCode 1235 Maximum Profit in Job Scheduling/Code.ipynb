{
  "nbformat": 4,
  "nbformat_minor": 0,
  "metadata": {
    "colab": {
      "provenance": [],
      "collapsed_sections": []
    },
    "kernelspec": {
      "name": "python3",
      "display_name": "Python 3"
    },
    "language_info": {
      "name": "python"
    }
  },
  "cells": [
    {
      "cell_type": "code",
      "execution_count": null,
      "metadata": {
        "id": "mMOA-ZhSJFOB"
      },
      "outputs": [],
      "source": [
        "class Solution:\n",
        "    def jobScheduling(self, startTime: List[int], endTime: List[int], profit: List[int]) -> int:\n",
        "\n",
        "        # base case \n",
        "        if not startTime or not endTime:\n",
        "            return 0\n",
        "\n",
        "        n = len(profit)        \n",
        "        jobs = [[0, 0, 0]]\n",
        "        jobs += [[s, e, p] for s, e, p in zip(startTime, endTime, profit)]\n",
        "        # sorted the endTime (follow the order)\n",
        "        # Time Complexity will be O(nlogn)\n",
        "        jobs = sorted(jobs, key = lambda a: a[1])\n",
        "\n",
        "        dp = [0] * (n + 1)\n",
        "        maxProfit = 0\n",
        "        \n",
        "        for i in range(1, n + 1):\n",
        "\n",
        "            s, e, p = jobs[i][0], jobs[i][1], jobs[i][2]\n",
        "            # not select the job, previous i max profit\n",
        "            dp[i] = dp[i - 1]\n",
        "\n",
        "            # select the job, previous j max profit + current profit[i]\n",
        "            L, R = 0, i - 1\n",
        "\n",
        "            while L < R:\n",
        "                mid = (L + R + 1) // 2\n",
        "\n",
        "                # end time smaller equal to start time\n",
        "                if jobs[mid][1] <= s:\n",
        "                    L = mid \n",
        "                \n",
        "                else:\n",
        "                    R = mid - 1\n",
        "                \n",
        "            dp[i] = max(dp[i], dp[R] + p)\n",
        "            maxProfit = max(maxProfit, dp[i])\n",
        "        \n",
        "        return maxProfit\n"
      ]
    }
  ]
}