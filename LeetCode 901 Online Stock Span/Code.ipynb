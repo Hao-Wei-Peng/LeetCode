{
  "nbformat": 4,
  "nbformat_minor": 0,
  "metadata": {
    "colab": {
      "provenance": []
    },
    "kernelspec": {
      "name": "python3",
      "display_name": "Python 3"
    },
    "language_info": {
      "name": "python"
    }
  },
  "cells": [
    {
      "cell_type": "code",
      "execution_count": null,
      "metadata": {
        "id": "mMOA-ZhSJFOB"
      },
      "outputs": [],
      "source": [
        "class StockSpanner:\n",
        "\n",
        "    def __init__(self):\n",
        "        # use a stack to record how many span of the current position (monotone stack)\n",
        "        self.stack = [(float(\"inf\"), -1)] # value, idx\n",
        "        self.current = -1\n",
        "\n",
        "    def next(self, price: int) -> int:\n",
        "        \n",
        "        # Time Complexity will be O(1)\n",
        "        # Space Complexity will be O(n)\n",
        "        self.current += 1\n",
        "\n",
        "        while price >= self.stack[-1][0]:\n",
        "            self.stack.pop()\n",
        "\n",
        "        self.stack.append((price, self.current))\n",
        "        return self.current - self.stack[-2][1]\n",
        "\n",
        "# Your StockSpanner object will be instantiated and called as such:\n",
        "# obj = StockSpanner()\n",
        "# param_1 = obj.next(price)"
      ]
    }
  ]
}