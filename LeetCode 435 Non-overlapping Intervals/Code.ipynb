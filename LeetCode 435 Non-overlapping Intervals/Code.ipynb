{
  "nbformat": 4,
  "nbformat_minor": 0,
  "metadata": {
    "colab": {
      "provenance": [],
      "collapsed_sections": []
    },
    "kernelspec": {
      "name": "python3",
      "display_name": "Python 3"
    },
    "language_info": {
      "name": "python"
    }
  },
  "cells": [
    {
      "cell_type": "code",
      "execution_count": null,
      "metadata": {
        "id": "mMOA-ZhSJFOB"
      },
      "outputs": [],
      "source": [
        "class Solution:\n",
        "    def eraseOverlapIntervals(self, intervals: List[List[int]]) -> int:\n",
        "\n",
        "        intervals = sorted(intervals, key = lambda a : a[0])\n",
        "        output = [intervals[0]]\n",
        "        elapse = 0\n",
        "\n",
        "        for start, end in intervals[1 : ]:\n",
        "            LastEnd = output[-1][1]\n",
        "\n",
        "            if start < LastEnd:\n",
        "                output[-1][1] = min(LastEnd, end)\n",
        "                elapse = elapse + 1\n",
        "\n",
        "            else:\n",
        "                output.append([start, end])\n",
        "        \n",
        "        return elapse"
      ]
    }
  ]
}