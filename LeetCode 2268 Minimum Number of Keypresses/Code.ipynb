{
  "nbformat": 4,
  "nbformat_minor": 0,
  "metadata": {
    "colab": {
      "provenance": []
    },
    "kernelspec": {
      "name": "python3",
      "display_name": "Python 3"
    },
    "language_info": {
      "name": "python"
    }
  },
  "cells": [
    {
      "cell_type": "code",
      "execution_count": null,
      "metadata": {
        "id": "mMOA-ZhSJFOB"
      },
      "outputs": [],
      "source": [
        "class Solution:\n",
        "    def minimumKeypresses(self, s: str) -> int:\n",
        "\n",
        "        # base case\n",
        "        if not s:\n",
        "            return 0\n",
        "        \n",
        "        Freq = [0] * 26 # word frequency\n",
        "\n",
        "        for char in s:\n",
        "            Freq[ord(char) - ord(\"a\")] += 1\n",
        "        \n",
        "        # use Greedy conception to deal with this problem\n",
        "        # Time Complexity will be O(n)\n",
        "        # Space Complexity will be O(26)\n",
        "        Freq.sort(reverse = True)\n",
        "\n",
        "        ans, cnt = 0, 0\n",
        "\n",
        "        for f in Freq:\n",
        "            if cnt <= 8:\n",
        "                cnt += 1\n",
        "                ans += f\n",
        "            \n",
        "            else:\n",
        "                if cnt <= 17:\n",
        "                    cnt += 1\n",
        "                    ans += 2 * f\n",
        "                else:\n",
        "                    cnt += 1\n",
        "                    ans += 3 * f\n",
        "        \n",
        "        return ans"
      ]
    }
  ]
}