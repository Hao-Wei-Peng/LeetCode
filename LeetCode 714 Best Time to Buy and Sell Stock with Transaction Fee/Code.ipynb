{
  "nbformat": 4,
  "nbformat_minor": 0,
  "metadata": {
    "colab": {
      "provenance": [],
      "collapsed_sections": []
    },
    "kernelspec": {
      "name": "python3",
      "display_name": "Python 3"
    },
    "language_info": {
      "name": "python"
    }
  },
  "cells": [
    {
      "cell_type": "code",
      "execution_count": null,
      "metadata": {
        "id": "hFD3gFKqbvee"
      },
      "outputs": [],
      "source": [
        "class Solution:\n",
        "    def maxProfit(self, prices: List[int], fee: int) -> int:\n",
        "\n",
        "        n = len(prices)\n",
        "\n",
        "        # Time Complexity will be O(n)\n",
        "        # Space Complexity will be O(n)\n",
        "\n",
        "        if n == 1:\n",
        "            return 0\n",
        "        \n",
        "        # dp[i][j] = at day i, largest profit at status j\n",
        "        # can't buy, sell at the same day\n",
        "        dp = [[0] * 2 for _ in range(n)]\n",
        "        dp[0][0] = -prices[0]\n",
        "\n",
        "        for i in range(1, n):\n",
        "            dp[i][0] = max(dp[i - 1][0], dp[i - 1][1] - prices[i]) \n",
        "            dp[i][1] = max(dp[i - 1][1], dp[i - 1][0] + prices[i] - fee) \n",
        "\n",
        "        return dp[-1][1]"
      ]
    }
  ]
}